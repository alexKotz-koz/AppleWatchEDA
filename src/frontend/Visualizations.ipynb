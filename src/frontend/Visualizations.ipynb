{
 "cells": [
  {
   "cell_type": "code",
   "execution_count": 6,
   "metadata": {},
   "outputs": [],
   "source": [
    "import pandas as pd\n",
    "import numpy as np\n",
    "import json\n",
    "import matplotlib.pyplot as plt\n",
    "import matplotlib.dates as mdates\n",
    "from datetime import datetime\n",
    "import cufflinks as cf\n",
    "from plotly.offline import download_plotlyjs, init_notebook_mode, plot, iplot\n",
    "import plotly.express as px\n",
    "import chart_studio.plotly as py\n",
    "import plotly.graph_objects as go\n",
    "import warnings\n",
    "warnings.filterwarnings('ignore')"
   ]
  },
  {
   "cell_type": "code",
   "execution_count": 7,
   "metadata": {},
   "outputs": [
    {
     "data": {
      "text/html": [
       "        <script type=\"text/javascript\">\n",
       "        window.PlotlyConfig = {MathJaxConfig: 'local'};\n",
       "        if (window.MathJax && window.MathJax.Hub && window.MathJax.Hub.Config) {window.MathJax.Hub.Config({SVG: {font: \"STIX-Web\"}});}\n",
       "        if (typeof require !== 'undefined') {\n",
       "        require.undef(\"plotly\");\n",
       "        requirejs.config({\n",
       "            paths: {\n",
       "                'plotly': ['https://cdn.plot.ly/plotly-2.27.0.min']\n",
       "            }\n",
       "        });\n",
       "        require(['plotly'], function(Plotly) {\n",
       "            window._Plotly = Plotly;\n",
       "        });\n",
       "        }\n",
       "        </script>\n",
       "        "
      ]
     },
     "metadata": {},
     "output_type": "display_data"
    },
    {
     "data": {
      "text/html": [
       "        <script type=\"text/javascript\">\n",
       "        window.PlotlyConfig = {MathJaxConfig: 'local'};\n",
       "        if (window.MathJax && window.MathJax.Hub && window.MathJax.Hub.Config) {window.MathJax.Hub.Config({SVG: {font: \"STIX-Web\"}});}\n",
       "        if (typeof require !== 'undefined') {\n",
       "        require.undef(\"plotly\");\n",
       "        requirejs.config({\n",
       "            paths: {\n",
       "                'plotly': ['https://cdn.plot.ly/plotly-2.27.0.min']\n",
       "            }\n",
       "        });\n",
       "        require(['plotly'], function(Plotly) {\n",
       "            window._Plotly = Plotly;\n",
       "        });\n",
       "        }\n",
       "        </script>\n",
       "        "
      ]
     },
     "metadata": {},
     "output_type": "display_data"
    }
   ],
   "source": [
    "\n",
    "# connect js to notebook\n",
    "init_notebook_mode(connected=True)\n",
    "\n",
    "cf.go_offline()\n"
   ]
  },
  {
   "cell_type": "markdown",
   "metadata": {},
   "source": [
    "### Heart Rate 3 Days - Box"
   ]
  },
  {
   "cell_type": "code",
   "execution_count": 9,
   "metadata": {},
   "outputs": [
    {
     "data": {
      "application/vnd.plotly.v1+json": {
       "config": {
        "plotlyServerURL": "https://plot.ly"
       },
       "data": [
        {
         "base": [
          64,
          59,
          60,
          71,
          62,
          64,
          66,
          70,
          67,
          71,
          72,
          68.7317,
          60,
          60
         ],
         "customdata": [
          77,
          72,
          92,
          87,
          105,
          83,
          77,
          86,
          99,
          98,
          84,
          71,
          74,
          76
         ],
         "hovertemplate": "<b>Hour</b>: %{x}<br><b>Min Heart Rate</b>: %{base}<br><b>Max Heart Rate</b>: %{customdata}<br><b>Range</b>: %{y}<extra></extra>",
         "marker": {
          "color": "red"
         },
         "name": "2023-01-03",
         "type": "bar",
         "x": [
          "10:00",
          "11:00",
          "12:00",
          "13:00",
          "14:00",
          "15:00",
          "16:00",
          "17:00",
          "18:00",
          "19:00",
          "20:00",
          "7:00",
          "8:00",
          "9:00"
         ],
         "xaxis": "x",
         "y": [
          13,
          13,
          32,
          16,
          43,
          19,
          11,
          16,
          32,
          27,
          12,
          2.2682999999999964,
          14,
          16
         ],
         "yaxis": "y"
        },
        {
         "base": [
          64,
          63,
          60,
          64,
          62,
          91,
          72,
          73,
          68,
          78,
          80,
          62,
          60,
          56
         ],
         "customdata": [
          72,
          85,
          81,
          83,
          109,
          99,
          95,
          82,
          107,
          98,
          91,
          77,
          74,
          87
         ],
         "hovertemplate": "<b>Hour</b>: %{x}<br><b>Min Heart Rate</b>: %{base}<br><b>Max Heart Rate</b>: %{customdata}<br><b>Range</b>: %{y}<extra></extra>",
         "marker": {
          "color": "blue"
         },
         "name": "2023-01-04",
         "type": "bar",
         "x": [
          "10:00",
          "11:00",
          "12:00",
          "13:00",
          "14:00",
          "15:00",
          "16:00",
          "17:00",
          "18:00",
          "19:00",
          "20:00",
          "7:00",
          "8:00",
          "9:00"
         ],
         "xaxis": "x2",
         "y": [
          8,
          22,
          21,
          19,
          47,
          8,
          23,
          9,
          39,
          20,
          11,
          15,
          14,
          31
         ],
         "yaxis": "y2"
        },
        {
         "base": [
          59,
          63,
          57,
          66,
          59,
          69,
          64,
          63,
          64,
          72,
          68,
          60,
          55,
          59,
          65
         ],
         "customdata": [
          74,
          73,
          86,
          75,
          118,
          84,
          87,
          90,
          92,
          102,
          100,
          128,
          71,
          90,
          80
         ],
         "hovertemplate": "<b>Hour</b>: %{x}<br><b>Min Heart Rate</b>: %{base}<br><b>Max Heart Rate</b>: %{customdata}<br><b>Range</b>: %{y}<extra></extra>",
         "marker": {
          "color": "green"
         },
         "name": "2023-01-05",
         "type": "bar",
         "x": [
          "10:00",
          "11:00",
          "12:00",
          "13:00",
          "14:00",
          "15:00",
          "16:00",
          "17:00",
          "18:00",
          "19:00",
          "20:00",
          "6:00",
          "7:00",
          "8:00",
          "9:00"
         ],
         "xaxis": "x3",
         "y": [
          15,
          10,
          29,
          9,
          59,
          15,
          23,
          27,
          28,
          30,
          32,
          68,
          16,
          31,
          15
         ],
         "yaxis": "y3"
        }
       ],
       "layout": {
        "annotations": [
         {
          "font": {
           "size": 16
          },
          "showarrow": false,
          "text": "2023-01-03",
          "x": 0.14444444444444446,
          "xanchor": "center",
          "xref": "paper",
          "y": 1,
          "yanchor": "bottom",
          "yref": "paper"
         },
         {
          "font": {
           "size": 16
          },
          "showarrow": false,
          "text": "2023-01-04",
          "x": 0.5,
          "xanchor": "center",
          "xref": "paper",
          "y": 1,
          "yanchor": "bottom",
          "yref": "paper"
         },
         {
          "font": {
           "size": 16
          },
          "showarrow": false,
          "text": "2023-01-05",
          "x": 0.8555555555555556,
          "xanchor": "center",
          "xref": "paper",
          "y": 1,
          "yanchor": "bottom",
          "yref": "paper"
         }
        ],
        "template": {
         "data": {
          "bar": [
           {
            "error_x": {
             "color": "#2a3f5f"
            },
            "error_y": {
             "color": "#2a3f5f"
            },
            "marker": {
             "line": {
              "color": "#E5ECF6",
              "width": 0.5
             },
             "pattern": {
              "fillmode": "overlay",
              "size": 10,
              "solidity": 0.2
             }
            },
            "type": "bar"
           }
          ],
          "barpolar": [
           {
            "marker": {
             "line": {
              "color": "#E5ECF6",
              "width": 0.5
             },
             "pattern": {
              "fillmode": "overlay",
              "size": 10,
              "solidity": 0.2
             }
            },
            "type": "barpolar"
           }
          ],
          "carpet": [
           {
            "aaxis": {
             "endlinecolor": "#2a3f5f",
             "gridcolor": "white",
             "linecolor": "white",
             "minorgridcolor": "white",
             "startlinecolor": "#2a3f5f"
            },
            "baxis": {
             "endlinecolor": "#2a3f5f",
             "gridcolor": "white",
             "linecolor": "white",
             "minorgridcolor": "white",
             "startlinecolor": "#2a3f5f"
            },
            "type": "carpet"
           }
          ],
          "choropleth": [
           {
            "colorbar": {
             "outlinewidth": 0,
             "ticks": ""
            },
            "type": "choropleth"
           }
          ],
          "contour": [
           {
            "colorbar": {
             "outlinewidth": 0,
             "ticks": ""
            },
            "colorscale": [
             [
              0,
              "#0d0887"
             ],
             [
              0.1111111111111111,
              "#46039f"
             ],
             [
              0.2222222222222222,
              "#7201a8"
             ],
             [
              0.3333333333333333,
              "#9c179e"
             ],
             [
              0.4444444444444444,
              "#bd3786"
             ],
             [
              0.5555555555555556,
              "#d8576b"
             ],
             [
              0.6666666666666666,
              "#ed7953"
             ],
             [
              0.7777777777777778,
              "#fb9f3a"
             ],
             [
              0.8888888888888888,
              "#fdca26"
             ],
             [
              1,
              "#f0f921"
             ]
            ],
            "type": "contour"
           }
          ],
          "contourcarpet": [
           {
            "colorbar": {
             "outlinewidth": 0,
             "ticks": ""
            },
            "type": "contourcarpet"
           }
          ],
          "heatmap": [
           {
            "colorbar": {
             "outlinewidth": 0,
             "ticks": ""
            },
            "colorscale": [
             [
              0,
              "#0d0887"
             ],
             [
              0.1111111111111111,
              "#46039f"
             ],
             [
              0.2222222222222222,
              "#7201a8"
             ],
             [
              0.3333333333333333,
              "#9c179e"
             ],
             [
              0.4444444444444444,
              "#bd3786"
             ],
             [
              0.5555555555555556,
              "#d8576b"
             ],
             [
              0.6666666666666666,
              "#ed7953"
             ],
             [
              0.7777777777777778,
              "#fb9f3a"
             ],
             [
              0.8888888888888888,
              "#fdca26"
             ],
             [
              1,
              "#f0f921"
             ]
            ],
            "type": "heatmap"
           }
          ],
          "heatmapgl": [
           {
            "colorbar": {
             "outlinewidth": 0,
             "ticks": ""
            },
            "colorscale": [
             [
              0,
              "#0d0887"
             ],
             [
              0.1111111111111111,
              "#46039f"
             ],
             [
              0.2222222222222222,
              "#7201a8"
             ],
             [
              0.3333333333333333,
              "#9c179e"
             ],
             [
              0.4444444444444444,
              "#bd3786"
             ],
             [
              0.5555555555555556,
              "#d8576b"
             ],
             [
              0.6666666666666666,
              "#ed7953"
             ],
             [
              0.7777777777777778,
              "#fb9f3a"
             ],
             [
              0.8888888888888888,
              "#fdca26"
             ],
             [
              1,
              "#f0f921"
             ]
            ],
            "type": "heatmapgl"
           }
          ],
          "histogram": [
           {
            "marker": {
             "pattern": {
              "fillmode": "overlay",
              "size": 10,
              "solidity": 0.2
             }
            },
            "type": "histogram"
           }
          ],
          "histogram2d": [
           {
            "colorbar": {
             "outlinewidth": 0,
             "ticks": ""
            },
            "colorscale": [
             [
              0,
              "#0d0887"
             ],
             [
              0.1111111111111111,
              "#46039f"
             ],
             [
              0.2222222222222222,
              "#7201a8"
             ],
             [
              0.3333333333333333,
              "#9c179e"
             ],
             [
              0.4444444444444444,
              "#bd3786"
             ],
             [
              0.5555555555555556,
              "#d8576b"
             ],
             [
              0.6666666666666666,
              "#ed7953"
             ],
             [
              0.7777777777777778,
              "#fb9f3a"
             ],
             [
              0.8888888888888888,
              "#fdca26"
             ],
             [
              1,
              "#f0f921"
             ]
            ],
            "type": "histogram2d"
           }
          ],
          "histogram2dcontour": [
           {
            "colorbar": {
             "outlinewidth": 0,
             "ticks": ""
            },
            "colorscale": [
             [
              0,
              "#0d0887"
             ],
             [
              0.1111111111111111,
              "#46039f"
             ],
             [
              0.2222222222222222,
              "#7201a8"
             ],
             [
              0.3333333333333333,
              "#9c179e"
             ],
             [
              0.4444444444444444,
              "#bd3786"
             ],
             [
              0.5555555555555556,
              "#d8576b"
             ],
             [
              0.6666666666666666,
              "#ed7953"
             ],
             [
              0.7777777777777778,
              "#fb9f3a"
             ],
             [
              0.8888888888888888,
              "#fdca26"
             ],
             [
              1,
              "#f0f921"
             ]
            ],
            "type": "histogram2dcontour"
           }
          ],
          "mesh3d": [
           {
            "colorbar": {
             "outlinewidth": 0,
             "ticks": ""
            },
            "type": "mesh3d"
           }
          ],
          "parcoords": [
           {
            "line": {
             "colorbar": {
              "outlinewidth": 0,
              "ticks": ""
             }
            },
            "type": "parcoords"
           }
          ],
          "pie": [
           {
            "automargin": true,
            "type": "pie"
           }
          ],
          "scatter": [
           {
            "fillpattern": {
             "fillmode": "overlay",
             "size": 10,
             "solidity": 0.2
            },
            "type": "scatter"
           }
          ],
          "scatter3d": [
           {
            "line": {
             "colorbar": {
              "outlinewidth": 0,
              "ticks": ""
             }
            },
            "marker": {
             "colorbar": {
              "outlinewidth": 0,
              "ticks": ""
             }
            },
            "type": "scatter3d"
           }
          ],
          "scattercarpet": [
           {
            "marker": {
             "colorbar": {
              "outlinewidth": 0,
              "ticks": ""
             }
            },
            "type": "scattercarpet"
           }
          ],
          "scattergeo": [
           {
            "marker": {
             "colorbar": {
              "outlinewidth": 0,
              "ticks": ""
             }
            },
            "type": "scattergeo"
           }
          ],
          "scattergl": [
           {
            "marker": {
             "colorbar": {
              "outlinewidth": 0,
              "ticks": ""
             }
            },
            "type": "scattergl"
           }
          ],
          "scattermapbox": [
           {
            "marker": {
             "colorbar": {
              "outlinewidth": 0,
              "ticks": ""
             }
            },
            "type": "scattermapbox"
           }
          ],
          "scatterpolar": [
           {
            "marker": {
             "colorbar": {
              "outlinewidth": 0,
              "ticks": ""
             }
            },
            "type": "scatterpolar"
           }
          ],
          "scatterpolargl": [
           {
            "marker": {
             "colorbar": {
              "outlinewidth": 0,
              "ticks": ""
             }
            },
            "type": "scatterpolargl"
           }
          ],
          "scatterternary": [
           {
            "marker": {
             "colorbar": {
              "outlinewidth": 0,
              "ticks": ""
             }
            },
            "type": "scatterternary"
           }
          ],
          "surface": [
           {
            "colorbar": {
             "outlinewidth": 0,
             "ticks": ""
            },
            "colorscale": [
             [
              0,
              "#0d0887"
             ],
             [
              0.1111111111111111,
              "#46039f"
             ],
             [
              0.2222222222222222,
              "#7201a8"
             ],
             [
              0.3333333333333333,
              "#9c179e"
             ],
             [
              0.4444444444444444,
              "#bd3786"
             ],
             [
              0.5555555555555556,
              "#d8576b"
             ],
             [
              0.6666666666666666,
              "#ed7953"
             ],
             [
              0.7777777777777778,
              "#fb9f3a"
             ],
             [
              0.8888888888888888,
              "#fdca26"
             ],
             [
              1,
              "#f0f921"
             ]
            ],
            "type": "surface"
           }
          ],
          "table": [
           {
            "cells": {
             "fill": {
              "color": "#EBF0F8"
             },
             "line": {
              "color": "white"
             }
            },
            "header": {
             "fill": {
              "color": "#C8D4E3"
             },
             "line": {
              "color": "white"
             }
            },
            "type": "table"
           }
          ]
         },
         "layout": {
          "annotationdefaults": {
           "arrowcolor": "#2a3f5f",
           "arrowhead": 0,
           "arrowwidth": 1
          },
          "autotypenumbers": "strict",
          "coloraxis": {
           "colorbar": {
            "outlinewidth": 0,
            "ticks": ""
           }
          },
          "colorscale": {
           "diverging": [
            [
             0,
             "#8e0152"
            ],
            [
             0.1,
             "#c51b7d"
            ],
            [
             0.2,
             "#de77ae"
            ],
            [
             0.3,
             "#f1b6da"
            ],
            [
             0.4,
             "#fde0ef"
            ],
            [
             0.5,
             "#f7f7f7"
            ],
            [
             0.6,
             "#e6f5d0"
            ],
            [
             0.7,
             "#b8e186"
            ],
            [
             0.8,
             "#7fbc41"
            ],
            [
             0.9,
             "#4d9221"
            ],
            [
             1,
             "#276419"
            ]
           ],
           "sequential": [
            [
             0,
             "#0d0887"
            ],
            [
             0.1111111111111111,
             "#46039f"
            ],
            [
             0.2222222222222222,
             "#7201a8"
            ],
            [
             0.3333333333333333,
             "#9c179e"
            ],
            [
             0.4444444444444444,
             "#bd3786"
            ],
            [
             0.5555555555555556,
             "#d8576b"
            ],
            [
             0.6666666666666666,
             "#ed7953"
            ],
            [
             0.7777777777777778,
             "#fb9f3a"
            ],
            [
             0.8888888888888888,
             "#fdca26"
            ],
            [
             1,
             "#f0f921"
            ]
           ],
           "sequentialminus": [
            [
             0,
             "#0d0887"
            ],
            [
             0.1111111111111111,
             "#46039f"
            ],
            [
             0.2222222222222222,
             "#7201a8"
            ],
            [
             0.3333333333333333,
             "#9c179e"
            ],
            [
             0.4444444444444444,
             "#bd3786"
            ],
            [
             0.5555555555555556,
             "#d8576b"
            ],
            [
             0.6666666666666666,
             "#ed7953"
            ],
            [
             0.7777777777777778,
             "#fb9f3a"
            ],
            [
             0.8888888888888888,
             "#fdca26"
            ],
            [
             1,
             "#f0f921"
            ]
           ]
          },
          "colorway": [
           "#636efa",
           "#EF553B",
           "#00cc96",
           "#ab63fa",
           "#FFA15A",
           "#19d3f3",
           "#FF6692",
           "#B6E880",
           "#FF97FF",
           "#FECB52"
          ],
          "font": {
           "color": "#2a3f5f"
          },
          "geo": {
           "bgcolor": "white",
           "lakecolor": "white",
           "landcolor": "#E5ECF6",
           "showlakes": true,
           "showland": true,
           "subunitcolor": "white"
          },
          "hoverlabel": {
           "align": "left"
          },
          "hovermode": "closest",
          "mapbox": {
           "style": "light"
          },
          "paper_bgcolor": "white",
          "plot_bgcolor": "#E5ECF6",
          "polar": {
           "angularaxis": {
            "gridcolor": "white",
            "linecolor": "white",
            "ticks": ""
           },
           "bgcolor": "#E5ECF6",
           "radialaxis": {
            "gridcolor": "white",
            "linecolor": "white",
            "ticks": ""
           }
          },
          "scene": {
           "xaxis": {
            "backgroundcolor": "#E5ECF6",
            "gridcolor": "white",
            "gridwidth": 2,
            "linecolor": "white",
            "showbackground": true,
            "ticks": "",
            "zerolinecolor": "white"
           },
           "yaxis": {
            "backgroundcolor": "#E5ECF6",
            "gridcolor": "white",
            "gridwidth": 2,
            "linecolor": "white",
            "showbackground": true,
            "ticks": "",
            "zerolinecolor": "white"
           },
           "zaxis": {
            "backgroundcolor": "#E5ECF6",
            "gridcolor": "white",
            "gridwidth": 2,
            "linecolor": "white",
            "showbackground": true,
            "ticks": "",
            "zerolinecolor": "white"
           }
          },
          "shapedefaults": {
           "line": {
            "color": "#2a3f5f"
           }
          },
          "ternary": {
           "aaxis": {
            "gridcolor": "white",
            "linecolor": "white",
            "ticks": ""
           },
           "baxis": {
            "gridcolor": "white",
            "linecolor": "white",
            "ticks": ""
           },
           "bgcolor": "#E5ECF6",
           "caxis": {
            "gridcolor": "white",
            "linecolor": "white",
            "ticks": ""
           }
          },
          "title": {
           "x": 0.05
          },
          "xaxis": {
           "automargin": true,
           "gridcolor": "white",
           "linecolor": "white",
           "ticks": "",
           "title": {
            "standoff": 15
           },
           "zerolinecolor": "white",
           "zerolinewidth": 2
          },
          "yaxis": {
           "automargin": true,
           "gridcolor": "white",
           "linecolor": "white",
           "ticks": "",
           "title": {
            "standoff": 15
           },
           "zerolinecolor": "white",
           "zerolinewidth": 2
          }
         }
        },
        "title": {
         "text": "<b>Heart Rate Range per Hour | Three Days</b>",
         "x": 0.5
        },
        "xaxis": {
         "anchor": "y",
         "domain": [
          0,
          0.2888888888888889
         ]
        },
        "xaxis2": {
         "anchor": "y2",
         "domain": [
          0.35555555555555557,
          0.6444444444444445
         ],
         "title": {
          "text": "Time"
         }
        },
        "xaxis3": {
         "anchor": "y3",
         "domain": [
          0.7111111111111111,
          1
         ]
        },
        "yaxis": {
         "anchor": "x",
         "domain": [
          0,
          1
         ],
         "title": {
          "text": "Mean Heart Rate"
         }
        },
        "yaxis2": {
         "anchor": "x2",
         "domain": [
          0,
          1
         ]
        },
        "yaxis3": {
         "anchor": "x3",
         "domain": [
          0,
          1
         ]
        }
       }
      },
      "text/html": [
       "<div>                            <div id=\"bde3aa3c-bb05-423f-aa35-453391681727\" class=\"plotly-graph-div\" style=\"height:525px; width:100%;\"></div>            <script type=\"text/javascript\">                require([\"plotly\"], function(Plotly) {                    window.PLOTLYENV=window.PLOTLYENV || {};                                    if (document.getElementById(\"bde3aa3c-bb05-423f-aa35-453391681727\")) {                    Plotly.newPlot(                        \"bde3aa3c-bb05-423f-aa35-453391681727\",                        [{\"base\":[64.0,59.0,60.0,71.0,62.0,64.0,66.0,70.0,67.0,71.0,72.0,68.7317,60.0,60.0],\"customdata\":[77.0,72.0,92.0,87.0,105.0,83.0,77.0,86.0,99.0,98.0,84.0,71.0,74.0,76.0],\"hovertemplate\":\"\\u003cb\\u003eHour\\u003c\\u002fb\\u003e: %{x}\\u003cbr\\u003e\\u003cb\\u003eMin Heart Rate\\u003c\\u002fb\\u003e: %{base}\\u003cbr\\u003e\\u003cb\\u003eMax Heart Rate\\u003c\\u002fb\\u003e: %{customdata}\\u003cbr\\u003e\\u003cb\\u003eRange\\u003c\\u002fb\\u003e: %{y}\\u003cextra\\u003e\\u003c\\u002fextra\\u003e\",\"marker\":{\"color\":\"red\"},\"name\":\"2023-01-03\",\"x\":[\"10:00\",\"11:00\",\"12:00\",\"13:00\",\"14:00\",\"15:00\",\"16:00\",\"17:00\",\"18:00\",\"19:00\",\"20:00\",\"7:00\",\"8:00\",\"9:00\"],\"y\":[13.0,13.0,32.0,16.0,43.0,19.0,11.0,16.0,32.0,27.0,12.0,2.2682999999999964,14.0,16.0],\"type\":\"bar\",\"xaxis\":\"x\",\"yaxis\":\"y\"},{\"base\":[64.0,63.0,60.0,64.0,62.0,91.0,72.0,73.0,68.0,78.0,80.0,62.0,60.0,56.0],\"customdata\":[72.0,85.0,81.0,83.0,109.0,99.0,95.0,82.0,107.0,98.0,91.0,77.0,74.0,87.0],\"hovertemplate\":\"\\u003cb\\u003eHour\\u003c\\u002fb\\u003e: %{x}\\u003cbr\\u003e\\u003cb\\u003eMin Heart Rate\\u003c\\u002fb\\u003e: %{base}\\u003cbr\\u003e\\u003cb\\u003eMax Heart Rate\\u003c\\u002fb\\u003e: %{customdata}\\u003cbr\\u003e\\u003cb\\u003eRange\\u003c\\u002fb\\u003e: %{y}\\u003cextra\\u003e\\u003c\\u002fextra\\u003e\",\"marker\":{\"color\":\"blue\"},\"name\":\"2023-01-04\",\"x\":[\"10:00\",\"11:00\",\"12:00\",\"13:00\",\"14:00\",\"15:00\",\"16:00\",\"17:00\",\"18:00\",\"19:00\",\"20:00\",\"7:00\",\"8:00\",\"9:00\"],\"y\":[8.0,22.0,21.0,19.0,47.0,8.0,23.0,9.0,39.0,20.0,11.0,15.0,14.0,31.0],\"type\":\"bar\",\"xaxis\":\"x2\",\"yaxis\":\"y2\"},{\"base\":[59.0,63.0,57.0,66.0,59.0,69.0,64.0,63.0,64.0,72.0,68.0,60.0,55.0,59.0,65.0],\"customdata\":[74.0,73.0,86.0,75.0,118.0,84.0,87.0,90.0,92.0,102.0,100.0,128.0,71.0,90.0,80.0],\"hovertemplate\":\"\\u003cb\\u003eHour\\u003c\\u002fb\\u003e: %{x}\\u003cbr\\u003e\\u003cb\\u003eMin Heart Rate\\u003c\\u002fb\\u003e: %{base}\\u003cbr\\u003e\\u003cb\\u003eMax Heart Rate\\u003c\\u002fb\\u003e: %{customdata}\\u003cbr\\u003e\\u003cb\\u003eRange\\u003c\\u002fb\\u003e: %{y}\\u003cextra\\u003e\\u003c\\u002fextra\\u003e\",\"marker\":{\"color\":\"green\"},\"name\":\"2023-01-05\",\"x\":[\"10:00\",\"11:00\",\"12:00\",\"13:00\",\"14:00\",\"15:00\",\"16:00\",\"17:00\",\"18:00\",\"19:00\",\"20:00\",\"6:00\",\"7:00\",\"8:00\",\"9:00\"],\"y\":[15.0,10.0,29.0,9.0,59.0,15.0,23.0,27.0,28.0,30.0,32.0,68.0,16.0,31.0,15.0],\"type\":\"bar\",\"xaxis\":\"x3\",\"yaxis\":\"y3\"}],                        {\"template\":{\"data\":{\"histogram2dcontour\":[{\"type\":\"histogram2dcontour\",\"colorbar\":{\"outlinewidth\":0,\"ticks\":\"\"},\"colorscale\":[[0.0,\"#0d0887\"],[0.1111111111111111,\"#46039f\"],[0.2222222222222222,\"#7201a8\"],[0.3333333333333333,\"#9c179e\"],[0.4444444444444444,\"#bd3786\"],[0.5555555555555556,\"#d8576b\"],[0.6666666666666666,\"#ed7953\"],[0.7777777777777778,\"#fb9f3a\"],[0.8888888888888888,\"#fdca26\"],[1.0,\"#f0f921\"]]}],\"choropleth\":[{\"type\":\"choropleth\",\"colorbar\":{\"outlinewidth\":0,\"ticks\":\"\"}}],\"histogram2d\":[{\"type\":\"histogram2d\",\"colorbar\":{\"outlinewidth\":0,\"ticks\":\"\"},\"colorscale\":[[0.0,\"#0d0887\"],[0.1111111111111111,\"#46039f\"],[0.2222222222222222,\"#7201a8\"],[0.3333333333333333,\"#9c179e\"],[0.4444444444444444,\"#bd3786\"],[0.5555555555555556,\"#d8576b\"],[0.6666666666666666,\"#ed7953\"],[0.7777777777777778,\"#fb9f3a\"],[0.8888888888888888,\"#fdca26\"],[1.0,\"#f0f921\"]]}],\"heatmap\":[{\"type\":\"heatmap\",\"colorbar\":{\"outlinewidth\":0,\"ticks\":\"\"},\"colorscale\":[[0.0,\"#0d0887\"],[0.1111111111111111,\"#46039f\"],[0.2222222222222222,\"#7201a8\"],[0.3333333333333333,\"#9c179e\"],[0.4444444444444444,\"#bd3786\"],[0.5555555555555556,\"#d8576b\"],[0.6666666666666666,\"#ed7953\"],[0.7777777777777778,\"#fb9f3a\"],[0.8888888888888888,\"#fdca26\"],[1.0,\"#f0f921\"]]}],\"heatmapgl\":[{\"type\":\"heatmapgl\",\"colorbar\":{\"outlinewidth\":0,\"ticks\":\"\"},\"colorscale\":[[0.0,\"#0d0887\"],[0.1111111111111111,\"#46039f\"],[0.2222222222222222,\"#7201a8\"],[0.3333333333333333,\"#9c179e\"],[0.4444444444444444,\"#bd3786\"],[0.5555555555555556,\"#d8576b\"],[0.6666666666666666,\"#ed7953\"],[0.7777777777777778,\"#fb9f3a\"],[0.8888888888888888,\"#fdca26\"],[1.0,\"#f0f921\"]]}],\"contourcarpet\":[{\"type\":\"contourcarpet\",\"colorbar\":{\"outlinewidth\":0,\"ticks\":\"\"}}],\"contour\":[{\"type\":\"contour\",\"colorbar\":{\"outlinewidth\":0,\"ticks\":\"\"},\"colorscale\":[[0.0,\"#0d0887\"],[0.1111111111111111,\"#46039f\"],[0.2222222222222222,\"#7201a8\"],[0.3333333333333333,\"#9c179e\"],[0.4444444444444444,\"#bd3786\"],[0.5555555555555556,\"#d8576b\"],[0.6666666666666666,\"#ed7953\"],[0.7777777777777778,\"#fb9f3a\"],[0.8888888888888888,\"#fdca26\"],[1.0,\"#f0f921\"]]}],\"surface\":[{\"type\":\"surface\",\"colorbar\":{\"outlinewidth\":0,\"ticks\":\"\"},\"colorscale\":[[0.0,\"#0d0887\"],[0.1111111111111111,\"#46039f\"],[0.2222222222222222,\"#7201a8\"],[0.3333333333333333,\"#9c179e\"],[0.4444444444444444,\"#bd3786\"],[0.5555555555555556,\"#d8576b\"],[0.6666666666666666,\"#ed7953\"],[0.7777777777777778,\"#fb9f3a\"],[0.8888888888888888,\"#fdca26\"],[1.0,\"#f0f921\"]]}],\"mesh3d\":[{\"type\":\"mesh3d\",\"colorbar\":{\"outlinewidth\":0,\"ticks\":\"\"}}],\"scatter\":[{\"fillpattern\":{\"fillmode\":\"overlay\",\"size\":10,\"solidity\":0.2},\"type\":\"scatter\"}],\"parcoords\":[{\"type\":\"parcoords\",\"line\":{\"colorbar\":{\"outlinewidth\":0,\"ticks\":\"\"}}}],\"scatterpolargl\":[{\"type\":\"scatterpolargl\",\"marker\":{\"colorbar\":{\"outlinewidth\":0,\"ticks\":\"\"}}}],\"bar\":[{\"error_x\":{\"color\":\"#2a3f5f\"},\"error_y\":{\"color\":\"#2a3f5f\"},\"marker\":{\"line\":{\"color\":\"#E5ECF6\",\"width\":0.5},\"pattern\":{\"fillmode\":\"overlay\",\"size\":10,\"solidity\":0.2}},\"type\":\"bar\"}],\"scattergeo\":[{\"type\":\"scattergeo\",\"marker\":{\"colorbar\":{\"outlinewidth\":0,\"ticks\":\"\"}}}],\"scatterpolar\":[{\"type\":\"scatterpolar\",\"marker\":{\"colorbar\":{\"outlinewidth\":0,\"ticks\":\"\"}}}],\"histogram\":[{\"marker\":{\"pattern\":{\"fillmode\":\"overlay\",\"size\":10,\"solidity\":0.2}},\"type\":\"histogram\"}],\"scattergl\":[{\"type\":\"scattergl\",\"marker\":{\"colorbar\":{\"outlinewidth\":0,\"ticks\":\"\"}}}],\"scatter3d\":[{\"type\":\"scatter3d\",\"line\":{\"colorbar\":{\"outlinewidth\":0,\"ticks\":\"\"}},\"marker\":{\"colorbar\":{\"outlinewidth\":0,\"ticks\":\"\"}}}],\"scattermapbox\":[{\"type\":\"scattermapbox\",\"marker\":{\"colorbar\":{\"outlinewidth\":0,\"ticks\":\"\"}}}],\"scatterternary\":[{\"type\":\"scatterternary\",\"marker\":{\"colorbar\":{\"outlinewidth\":0,\"ticks\":\"\"}}}],\"scattercarpet\":[{\"type\":\"scattercarpet\",\"marker\":{\"colorbar\":{\"outlinewidth\":0,\"ticks\":\"\"}}}],\"carpet\":[{\"aaxis\":{\"endlinecolor\":\"#2a3f5f\",\"gridcolor\":\"white\",\"linecolor\":\"white\",\"minorgridcolor\":\"white\",\"startlinecolor\":\"#2a3f5f\"},\"baxis\":{\"endlinecolor\":\"#2a3f5f\",\"gridcolor\":\"white\",\"linecolor\":\"white\",\"minorgridcolor\":\"white\",\"startlinecolor\":\"#2a3f5f\"},\"type\":\"carpet\"}],\"table\":[{\"cells\":{\"fill\":{\"color\":\"#EBF0F8\"},\"line\":{\"color\":\"white\"}},\"header\":{\"fill\":{\"color\":\"#C8D4E3\"},\"line\":{\"color\":\"white\"}},\"type\":\"table\"}],\"barpolar\":[{\"marker\":{\"line\":{\"color\":\"#E5ECF6\",\"width\":0.5},\"pattern\":{\"fillmode\":\"overlay\",\"size\":10,\"solidity\":0.2}},\"type\":\"barpolar\"}],\"pie\":[{\"automargin\":true,\"type\":\"pie\"}]},\"layout\":{\"autotypenumbers\":\"strict\",\"colorway\":[\"#636efa\",\"#EF553B\",\"#00cc96\",\"#ab63fa\",\"#FFA15A\",\"#19d3f3\",\"#FF6692\",\"#B6E880\",\"#FF97FF\",\"#FECB52\"],\"font\":{\"color\":\"#2a3f5f\"},\"hovermode\":\"closest\",\"hoverlabel\":{\"align\":\"left\"},\"paper_bgcolor\":\"white\",\"plot_bgcolor\":\"#E5ECF6\",\"polar\":{\"bgcolor\":\"#E5ECF6\",\"angularaxis\":{\"gridcolor\":\"white\",\"linecolor\":\"white\",\"ticks\":\"\"},\"radialaxis\":{\"gridcolor\":\"white\",\"linecolor\":\"white\",\"ticks\":\"\"}},\"ternary\":{\"bgcolor\":\"#E5ECF6\",\"aaxis\":{\"gridcolor\":\"white\",\"linecolor\":\"white\",\"ticks\":\"\"},\"baxis\":{\"gridcolor\":\"white\",\"linecolor\":\"white\",\"ticks\":\"\"},\"caxis\":{\"gridcolor\":\"white\",\"linecolor\":\"white\",\"ticks\":\"\"}},\"coloraxis\":{\"colorbar\":{\"outlinewidth\":0,\"ticks\":\"\"}},\"colorscale\":{\"sequential\":[[0.0,\"#0d0887\"],[0.1111111111111111,\"#46039f\"],[0.2222222222222222,\"#7201a8\"],[0.3333333333333333,\"#9c179e\"],[0.4444444444444444,\"#bd3786\"],[0.5555555555555556,\"#d8576b\"],[0.6666666666666666,\"#ed7953\"],[0.7777777777777778,\"#fb9f3a\"],[0.8888888888888888,\"#fdca26\"],[1.0,\"#f0f921\"]],\"sequentialminus\":[[0.0,\"#0d0887\"],[0.1111111111111111,\"#46039f\"],[0.2222222222222222,\"#7201a8\"],[0.3333333333333333,\"#9c179e\"],[0.4444444444444444,\"#bd3786\"],[0.5555555555555556,\"#d8576b\"],[0.6666666666666666,\"#ed7953\"],[0.7777777777777778,\"#fb9f3a\"],[0.8888888888888888,\"#fdca26\"],[1.0,\"#f0f921\"]],\"diverging\":[[0,\"#8e0152\"],[0.1,\"#c51b7d\"],[0.2,\"#de77ae\"],[0.3,\"#f1b6da\"],[0.4,\"#fde0ef\"],[0.5,\"#f7f7f7\"],[0.6,\"#e6f5d0\"],[0.7,\"#b8e186\"],[0.8,\"#7fbc41\"],[0.9,\"#4d9221\"],[1,\"#276419\"]]},\"xaxis\":{\"gridcolor\":\"white\",\"linecolor\":\"white\",\"ticks\":\"\",\"title\":{\"standoff\":15},\"zerolinecolor\":\"white\",\"automargin\":true,\"zerolinewidth\":2},\"yaxis\":{\"gridcolor\":\"white\",\"linecolor\":\"white\",\"ticks\":\"\",\"title\":{\"standoff\":15},\"zerolinecolor\":\"white\",\"automargin\":true,\"zerolinewidth\":2},\"scene\":{\"xaxis\":{\"backgroundcolor\":\"#E5ECF6\",\"gridcolor\":\"white\",\"linecolor\":\"white\",\"showbackground\":true,\"ticks\":\"\",\"zerolinecolor\":\"white\",\"gridwidth\":2},\"yaxis\":{\"backgroundcolor\":\"#E5ECF6\",\"gridcolor\":\"white\",\"linecolor\":\"white\",\"showbackground\":true,\"ticks\":\"\",\"zerolinecolor\":\"white\",\"gridwidth\":2},\"zaxis\":{\"backgroundcolor\":\"#E5ECF6\",\"gridcolor\":\"white\",\"linecolor\":\"white\",\"showbackground\":true,\"ticks\":\"\",\"zerolinecolor\":\"white\",\"gridwidth\":2}},\"shapedefaults\":{\"line\":{\"color\":\"#2a3f5f\"}},\"annotationdefaults\":{\"arrowcolor\":\"#2a3f5f\",\"arrowhead\":0,\"arrowwidth\":1},\"geo\":{\"bgcolor\":\"white\",\"landcolor\":\"#E5ECF6\",\"subunitcolor\":\"white\",\"showland\":true,\"showlakes\":true,\"lakecolor\":\"white\"},\"title\":{\"x\":0.05},\"mapbox\":{\"style\":\"light\"}}},\"xaxis\":{\"anchor\":\"y\",\"domain\":[0.0,0.2888888888888889]},\"yaxis\":{\"anchor\":\"x\",\"domain\":[0.0,1.0],\"title\":{\"text\":\"Mean Heart Rate\"}},\"xaxis2\":{\"anchor\":\"y2\",\"domain\":[0.35555555555555557,0.6444444444444445],\"title\":{\"text\":\"Time\"}},\"yaxis2\":{\"anchor\":\"x2\",\"domain\":[0.0,1.0]},\"xaxis3\":{\"anchor\":\"y3\",\"domain\":[0.7111111111111111,1.0]},\"yaxis3\":{\"anchor\":\"x3\",\"domain\":[0.0,1.0]},\"annotations\":[{\"font\":{\"size\":16},\"showarrow\":false,\"text\":\"2023-01-03\",\"x\":0.14444444444444446,\"xanchor\":\"center\",\"xref\":\"paper\",\"y\":1.0,\"yanchor\":\"bottom\",\"yref\":\"paper\"},{\"font\":{\"size\":16},\"showarrow\":false,\"text\":\"2023-01-04\",\"x\":0.5,\"xanchor\":\"center\",\"xref\":\"paper\",\"y\":1.0,\"yanchor\":\"bottom\",\"yref\":\"paper\"},{\"font\":{\"size\":16},\"showarrow\":false,\"text\":\"2023-01-05\",\"x\":0.8555555555555556,\"xanchor\":\"center\",\"xref\":\"paper\",\"y\":1.0,\"yanchor\":\"bottom\",\"yref\":\"paper\"}],\"title\":{\"text\":\"\\u003cb\\u003eHeart Rate Range per Hour | Three Days\\u003c\\u002fb\\u003e\",\"x\":0.5}},                        {\"responsive\": true}                    ).then(function(){\n",
       "                            \n",
       "var gd = document.getElementById('bde3aa3c-bb05-423f-aa35-453391681727');\n",
       "var x = new MutationObserver(function (mutations, observer) {{\n",
       "        var display = window.getComputedStyle(gd).display;\n",
       "        if (!display || display === 'none') {{\n",
       "            console.log([gd, 'removed!']);\n",
       "            Plotly.purge(gd);\n",
       "            observer.disconnect();\n",
       "        }}\n",
       "}});\n",
       "\n",
       "// Listen for the removal of the full notebook cells\n",
       "var notebookContainer = gd.closest('#notebook-container');\n",
       "if (notebookContainer) {{\n",
       "    x.observe(notebookContainer, {childList: true});\n",
       "}}\n",
       "\n",
       "// Listen for the clearing of the current output cell\n",
       "var outputEl = gd.closest('.output');\n",
       "if (outputEl) {{\n",
       "    x.observe(outputEl, {childList: true});\n",
       "}}\n",
       "\n",
       "                        })                };                });            </script>        </div>"
      ]
     },
     "metadata": {},
     "output_type": "display_data"
    }
   ],
   "source": [
    "import pandas as pd\n",
    "import plotly.graph_objects as go\n",
    "from plotly.subplots import make_subplots\n",
    "\n",
    "# Read the CSV file\n",
    "meanDF = pd.read_csv('../data/descriptive_statistics/mean_heart_rate_three_days.csv')\n",
    "dates = meanDF['date'].unique()\n",
    "colors = ['red', 'blue', 'green']\n",
    "\n",
    "# Create subplots: one row, three columns\n",
    "fig = make_subplots(rows=1, cols=3, subplot_titles=dates)\n",
    "\n",
    "# Loop over unique dates\n",
    "for i, date in enumerate(dates):\n",
    "    # Filter DataFrame for the current date\n",
    "    dfDate = meanDF[meanDF['date'] == date].sort_values('hour')\n",
    "\n",
    "    # Convert 'hour' to string and append \":00\"\n",
    "    dfDate['hour'] = dfDate['hour'].astype(str) + \":00\"\n",
    "    \n",
    "    # Calculate min and max heart rate for each hour\n",
    "    dfDate = dfDate.groupby('hour')['heartRate'].agg(['min', 'max']).reset_index()\n",
    "\n",
    "    # Calculate the range and max heart rate\n",
    "    dfDate['range'] = dfDate['max'] - dfDate['min']\n",
    "    dfDate['maxHeartRate'] = dfDate['min'] + dfDate['range']\n",
    "\n",
    "\n",
    "    # Add trace range of heart rates for the current date\n",
    "    fig.add_trace(go.Bar(\n",
    "        x=dfDate['hour'],\n",
    "        y=dfDate['max'] - dfDate['min'],  # Height of bar is range of heart rates\n",
    "        base=dfDate['min'],  # Bottom of bar is min heart rate\n",
    "        name=date,\n",
    "        marker_color=colors[i % len(colors)],  # Cycle through colors\n",
    "                hovertemplate=\n",
    "            '<b>Hour</b>: %{x}<br>' +\n",
    "            '<b>Min Heart Rate</b>: %{base}<br>' +\n",
    "            '<b>Max Heart Rate</b>: %{customdata}<br>' +\n",
    "            '<b>Range</b>: %{y}<extra></extra>',\n",
    "            customdata=dfDate['maxHeartRate']\n",
    "\n",
    "    ), row=1, col=i+1)  # Add this trace to the i-th subplot\n",
    "\n",
    "    # Update yaxis labels\n",
    "fig.update_yaxes(title_text='Mean Heart Rate', row=1, col=1)\n",
    "fig.update_xaxes(title_text='Time', row=1, col=2)\n",
    "\n",
    "# Add title\n",
    "fig.update_layout(\n",
    "    title_text='<b>Heart Rate Range per Hour | Three Days</b>',\n",
    "    title_x=.5,\n",
    ")\n",
    "\n",
    "fig.show()"
   ]
  },
  {
   "cell_type": "markdown",
   "metadata": {},
   "source": [
    "### Steps 3 Days - Box"
   ]
  },
  {
   "cell_type": "code",
   "execution_count": 10,
   "metadata": {},
   "outputs": [
    {
     "data": {
      "application/vnd.plotly.v1+json": {
       "config": {
        "plotlyServerURL": "https://plot.ly"
       },
       "data": [
        {
         "base": [
          4,
          18,
          14,
          91,
          8,
          57,
          16,
          3,
          50,
          64,
          44,
          8,
          160,
          47
         ],
         "customdata": [
          4,
          98,
          120,
          174,
          123,
          111,
          187,
          124,
          90,
          64,
          44,
          105,
          160,
          47
         ],
         "hovertemplate": "<b>Hour</b>: %{x}<br><b>Min Steps</b>: %{base}<br><b>Max Steps</b>: %{customdata}<br><b>Range</b>: %{y}<extra></extra>",
         "marker": {
          "color": "red"
         },
         "name": "2023-01-03",
         "type": "bar",
         "x": [
          "10:00",
          "11:00",
          "12:00",
          "14:00",
          "15:00",
          "16:00",
          "17:00",
          "18:00",
          "19:00",
          "20:00",
          "6:00",
          "7:00",
          "8:00",
          "9:00"
         ],
         "xaxis": "x",
         "y": [
          0,
          80,
          106,
          83,
          115,
          54,
          171,
          121,
          40,
          0,
          0,
          97,
          0,
          0
         ],
         "yaxis": "y"
        },
        {
         "base": [
          46,
          94,
          114,
          10,
          11,
          6,
          10,
          25,
          26,
          8,
          60,
          13,
          4,
          64,
          16
         ],
         "customdata": [
          46,
          145,
          173,
          66,
          292,
          71,
          45,
          120,
          297,
          46,
          84,
          174,
          94,
          187,
          16
         ],
         "hovertemplate": "<b>Hour</b>: %{x}<br><b>Min Steps</b>: %{base}<br><b>Max Steps</b>: %{customdata}<br><b>Range</b>: %{y}<extra></extra>",
         "marker": {
          "color": "blue"
         },
         "name": "2023-01-04",
         "type": "bar",
         "x": [
          "10:00",
          "11:00",
          "12:00",
          "13:00",
          "14:00",
          "15:00",
          "16:00",
          "17:00",
          "18:00",
          "19:00",
          "20:00",
          "6:00",
          "7:00",
          "8:00",
          "9:00"
         ],
         "xaxis": "x2",
         "y": [
          0,
          51,
          59,
          56,
          281,
          65,
          35,
          95,
          271,
          38,
          24,
          161,
          90,
          123,
          0
         ],
         "yaxis": "y2"
        },
        {
         "base": [
          10,
          10,
          38,
          58,
          93,
          12,
          5,
          30,
          16,
          51,
          9,
          18
         ],
         "customdata": [
          10,
          180,
          130,
          595,
          298,
          113,
          232,
          89,
          41,
          62,
          151,
          140
         ],
         "hovertemplate": "<b>Hour</b>: %{x}<br><b>Min Steps</b>: %{base}<br><b>Max Steps</b>: %{customdata}<br><b>Range</b>: %{y}<extra></extra>",
         "marker": {
          "color": "green"
         },
         "name": "2023-01-05",
         "type": "bar",
         "x": [
          "10:00",
          "11:00",
          "12:00",
          "14:00",
          "15:00",
          "16:00",
          "17:00",
          "18:00",
          "19:00",
          "20:00",
          "6:00",
          "8:00"
         ],
         "xaxis": "x3",
         "y": [
          0,
          170,
          92,
          537,
          205,
          101,
          227,
          59,
          25,
          11,
          142,
          122
         ],
         "yaxis": "y3"
        }
       ],
       "layout": {
        "annotations": [
         {
          "font": {
           "size": 16
          },
          "showarrow": false,
          "text": "2023-01-03",
          "x": 0.14444444444444446,
          "xanchor": "center",
          "xref": "paper",
          "y": 1,
          "yanchor": "bottom",
          "yref": "paper"
         },
         {
          "font": {
           "size": 16
          },
          "showarrow": false,
          "text": "2023-01-04",
          "x": 0.5,
          "xanchor": "center",
          "xref": "paper",
          "y": 1,
          "yanchor": "bottom",
          "yref": "paper"
         },
         {
          "font": {
           "size": 16
          },
          "showarrow": false,
          "text": "2023-01-05",
          "x": 0.8555555555555556,
          "xanchor": "center",
          "xref": "paper",
          "y": 1,
          "yanchor": "bottom",
          "yref": "paper"
         }
        ],
        "template": {
         "data": {
          "bar": [
           {
            "error_x": {
             "color": "#2a3f5f"
            },
            "error_y": {
             "color": "#2a3f5f"
            },
            "marker": {
             "line": {
              "color": "#E5ECF6",
              "width": 0.5
             },
             "pattern": {
              "fillmode": "overlay",
              "size": 10,
              "solidity": 0.2
             }
            },
            "type": "bar"
           }
          ],
          "barpolar": [
           {
            "marker": {
             "line": {
              "color": "#E5ECF6",
              "width": 0.5
             },
             "pattern": {
              "fillmode": "overlay",
              "size": 10,
              "solidity": 0.2
             }
            },
            "type": "barpolar"
           }
          ],
          "carpet": [
           {
            "aaxis": {
             "endlinecolor": "#2a3f5f",
             "gridcolor": "white",
             "linecolor": "white",
             "minorgridcolor": "white",
             "startlinecolor": "#2a3f5f"
            },
            "baxis": {
             "endlinecolor": "#2a3f5f",
             "gridcolor": "white",
             "linecolor": "white",
             "minorgridcolor": "white",
             "startlinecolor": "#2a3f5f"
            },
            "type": "carpet"
           }
          ],
          "choropleth": [
           {
            "colorbar": {
             "outlinewidth": 0,
             "ticks": ""
            },
            "type": "choropleth"
           }
          ],
          "contour": [
           {
            "colorbar": {
             "outlinewidth": 0,
             "ticks": ""
            },
            "colorscale": [
             [
              0,
              "#0d0887"
             ],
             [
              0.1111111111111111,
              "#46039f"
             ],
             [
              0.2222222222222222,
              "#7201a8"
             ],
             [
              0.3333333333333333,
              "#9c179e"
             ],
             [
              0.4444444444444444,
              "#bd3786"
             ],
             [
              0.5555555555555556,
              "#d8576b"
             ],
             [
              0.6666666666666666,
              "#ed7953"
             ],
             [
              0.7777777777777778,
              "#fb9f3a"
             ],
             [
              0.8888888888888888,
              "#fdca26"
             ],
             [
              1,
              "#f0f921"
             ]
            ],
            "type": "contour"
           }
          ],
          "contourcarpet": [
           {
            "colorbar": {
             "outlinewidth": 0,
             "ticks": ""
            },
            "type": "contourcarpet"
           }
          ],
          "heatmap": [
           {
            "colorbar": {
             "outlinewidth": 0,
             "ticks": ""
            },
            "colorscale": [
             [
              0,
              "#0d0887"
             ],
             [
              0.1111111111111111,
              "#46039f"
             ],
             [
              0.2222222222222222,
              "#7201a8"
             ],
             [
              0.3333333333333333,
              "#9c179e"
             ],
             [
              0.4444444444444444,
              "#bd3786"
             ],
             [
              0.5555555555555556,
              "#d8576b"
             ],
             [
              0.6666666666666666,
              "#ed7953"
             ],
             [
              0.7777777777777778,
              "#fb9f3a"
             ],
             [
              0.8888888888888888,
              "#fdca26"
             ],
             [
              1,
              "#f0f921"
             ]
            ],
            "type": "heatmap"
           }
          ],
          "heatmapgl": [
           {
            "colorbar": {
             "outlinewidth": 0,
             "ticks": ""
            },
            "colorscale": [
             [
              0,
              "#0d0887"
             ],
             [
              0.1111111111111111,
              "#46039f"
             ],
             [
              0.2222222222222222,
              "#7201a8"
             ],
             [
              0.3333333333333333,
              "#9c179e"
             ],
             [
              0.4444444444444444,
              "#bd3786"
             ],
             [
              0.5555555555555556,
              "#d8576b"
             ],
             [
              0.6666666666666666,
              "#ed7953"
             ],
             [
              0.7777777777777778,
              "#fb9f3a"
             ],
             [
              0.8888888888888888,
              "#fdca26"
             ],
             [
              1,
              "#f0f921"
             ]
            ],
            "type": "heatmapgl"
           }
          ],
          "histogram": [
           {
            "marker": {
             "pattern": {
              "fillmode": "overlay",
              "size": 10,
              "solidity": 0.2
             }
            },
            "type": "histogram"
           }
          ],
          "histogram2d": [
           {
            "colorbar": {
             "outlinewidth": 0,
             "ticks": ""
            },
            "colorscale": [
             [
              0,
              "#0d0887"
             ],
             [
              0.1111111111111111,
              "#46039f"
             ],
             [
              0.2222222222222222,
              "#7201a8"
             ],
             [
              0.3333333333333333,
              "#9c179e"
             ],
             [
              0.4444444444444444,
              "#bd3786"
             ],
             [
              0.5555555555555556,
              "#d8576b"
             ],
             [
              0.6666666666666666,
              "#ed7953"
             ],
             [
              0.7777777777777778,
              "#fb9f3a"
             ],
             [
              0.8888888888888888,
              "#fdca26"
             ],
             [
              1,
              "#f0f921"
             ]
            ],
            "type": "histogram2d"
           }
          ],
          "histogram2dcontour": [
           {
            "colorbar": {
             "outlinewidth": 0,
             "ticks": ""
            },
            "colorscale": [
             [
              0,
              "#0d0887"
             ],
             [
              0.1111111111111111,
              "#46039f"
             ],
             [
              0.2222222222222222,
              "#7201a8"
             ],
             [
              0.3333333333333333,
              "#9c179e"
             ],
             [
              0.4444444444444444,
              "#bd3786"
             ],
             [
              0.5555555555555556,
              "#d8576b"
             ],
             [
              0.6666666666666666,
              "#ed7953"
             ],
             [
              0.7777777777777778,
              "#fb9f3a"
             ],
             [
              0.8888888888888888,
              "#fdca26"
             ],
             [
              1,
              "#f0f921"
             ]
            ],
            "type": "histogram2dcontour"
           }
          ],
          "mesh3d": [
           {
            "colorbar": {
             "outlinewidth": 0,
             "ticks": ""
            },
            "type": "mesh3d"
           }
          ],
          "parcoords": [
           {
            "line": {
             "colorbar": {
              "outlinewidth": 0,
              "ticks": ""
             }
            },
            "type": "parcoords"
           }
          ],
          "pie": [
           {
            "automargin": true,
            "type": "pie"
           }
          ],
          "scatter": [
           {
            "fillpattern": {
             "fillmode": "overlay",
             "size": 10,
             "solidity": 0.2
            },
            "type": "scatter"
           }
          ],
          "scatter3d": [
           {
            "line": {
             "colorbar": {
              "outlinewidth": 0,
              "ticks": ""
             }
            },
            "marker": {
             "colorbar": {
              "outlinewidth": 0,
              "ticks": ""
             }
            },
            "type": "scatter3d"
           }
          ],
          "scattercarpet": [
           {
            "marker": {
             "colorbar": {
              "outlinewidth": 0,
              "ticks": ""
             }
            },
            "type": "scattercarpet"
           }
          ],
          "scattergeo": [
           {
            "marker": {
             "colorbar": {
              "outlinewidth": 0,
              "ticks": ""
             }
            },
            "type": "scattergeo"
           }
          ],
          "scattergl": [
           {
            "marker": {
             "colorbar": {
              "outlinewidth": 0,
              "ticks": ""
             }
            },
            "type": "scattergl"
           }
          ],
          "scattermapbox": [
           {
            "marker": {
             "colorbar": {
              "outlinewidth": 0,
              "ticks": ""
             }
            },
            "type": "scattermapbox"
           }
          ],
          "scatterpolar": [
           {
            "marker": {
             "colorbar": {
              "outlinewidth": 0,
              "ticks": ""
             }
            },
            "type": "scatterpolar"
           }
          ],
          "scatterpolargl": [
           {
            "marker": {
             "colorbar": {
              "outlinewidth": 0,
              "ticks": ""
             }
            },
            "type": "scatterpolargl"
           }
          ],
          "scatterternary": [
           {
            "marker": {
             "colorbar": {
              "outlinewidth": 0,
              "ticks": ""
             }
            },
            "type": "scatterternary"
           }
          ],
          "surface": [
           {
            "colorbar": {
             "outlinewidth": 0,
             "ticks": ""
            },
            "colorscale": [
             [
              0,
              "#0d0887"
             ],
             [
              0.1111111111111111,
              "#46039f"
             ],
             [
              0.2222222222222222,
              "#7201a8"
             ],
             [
              0.3333333333333333,
              "#9c179e"
             ],
             [
              0.4444444444444444,
              "#bd3786"
             ],
             [
              0.5555555555555556,
              "#d8576b"
             ],
             [
              0.6666666666666666,
              "#ed7953"
             ],
             [
              0.7777777777777778,
              "#fb9f3a"
             ],
             [
              0.8888888888888888,
              "#fdca26"
             ],
             [
              1,
              "#f0f921"
             ]
            ],
            "type": "surface"
           }
          ],
          "table": [
           {
            "cells": {
             "fill": {
              "color": "#EBF0F8"
             },
             "line": {
              "color": "white"
             }
            },
            "header": {
             "fill": {
              "color": "#C8D4E3"
             },
             "line": {
              "color": "white"
             }
            },
            "type": "table"
           }
          ]
         },
         "layout": {
          "annotationdefaults": {
           "arrowcolor": "#2a3f5f",
           "arrowhead": 0,
           "arrowwidth": 1
          },
          "autotypenumbers": "strict",
          "coloraxis": {
           "colorbar": {
            "outlinewidth": 0,
            "ticks": ""
           }
          },
          "colorscale": {
           "diverging": [
            [
             0,
             "#8e0152"
            ],
            [
             0.1,
             "#c51b7d"
            ],
            [
             0.2,
             "#de77ae"
            ],
            [
             0.3,
             "#f1b6da"
            ],
            [
             0.4,
             "#fde0ef"
            ],
            [
             0.5,
             "#f7f7f7"
            ],
            [
             0.6,
             "#e6f5d0"
            ],
            [
             0.7,
             "#b8e186"
            ],
            [
             0.8,
             "#7fbc41"
            ],
            [
             0.9,
             "#4d9221"
            ],
            [
             1,
             "#276419"
            ]
           ],
           "sequential": [
            [
             0,
             "#0d0887"
            ],
            [
             0.1111111111111111,
             "#46039f"
            ],
            [
             0.2222222222222222,
             "#7201a8"
            ],
            [
             0.3333333333333333,
             "#9c179e"
            ],
            [
             0.4444444444444444,
             "#bd3786"
            ],
            [
             0.5555555555555556,
             "#d8576b"
            ],
            [
             0.6666666666666666,
             "#ed7953"
            ],
            [
             0.7777777777777778,
             "#fb9f3a"
            ],
            [
             0.8888888888888888,
             "#fdca26"
            ],
            [
             1,
             "#f0f921"
            ]
           ],
           "sequentialminus": [
            [
             0,
             "#0d0887"
            ],
            [
             0.1111111111111111,
             "#46039f"
            ],
            [
             0.2222222222222222,
             "#7201a8"
            ],
            [
             0.3333333333333333,
             "#9c179e"
            ],
            [
             0.4444444444444444,
             "#bd3786"
            ],
            [
             0.5555555555555556,
             "#d8576b"
            ],
            [
             0.6666666666666666,
             "#ed7953"
            ],
            [
             0.7777777777777778,
             "#fb9f3a"
            ],
            [
             0.8888888888888888,
             "#fdca26"
            ],
            [
             1,
             "#f0f921"
            ]
           ]
          },
          "colorway": [
           "#636efa",
           "#EF553B",
           "#00cc96",
           "#ab63fa",
           "#FFA15A",
           "#19d3f3",
           "#FF6692",
           "#B6E880",
           "#FF97FF",
           "#FECB52"
          ],
          "font": {
           "color": "#2a3f5f"
          },
          "geo": {
           "bgcolor": "white",
           "lakecolor": "white",
           "landcolor": "#E5ECF6",
           "showlakes": true,
           "showland": true,
           "subunitcolor": "white"
          },
          "hoverlabel": {
           "align": "left"
          },
          "hovermode": "closest",
          "mapbox": {
           "style": "light"
          },
          "paper_bgcolor": "white",
          "plot_bgcolor": "#E5ECF6",
          "polar": {
           "angularaxis": {
            "gridcolor": "white",
            "linecolor": "white",
            "ticks": ""
           },
           "bgcolor": "#E5ECF6",
           "radialaxis": {
            "gridcolor": "white",
            "linecolor": "white",
            "ticks": ""
           }
          },
          "scene": {
           "xaxis": {
            "backgroundcolor": "#E5ECF6",
            "gridcolor": "white",
            "gridwidth": 2,
            "linecolor": "white",
            "showbackground": true,
            "ticks": "",
            "zerolinecolor": "white"
           },
           "yaxis": {
            "backgroundcolor": "#E5ECF6",
            "gridcolor": "white",
            "gridwidth": 2,
            "linecolor": "white",
            "showbackground": true,
            "ticks": "",
            "zerolinecolor": "white"
           },
           "zaxis": {
            "backgroundcolor": "#E5ECF6",
            "gridcolor": "white",
            "gridwidth": 2,
            "linecolor": "white",
            "showbackground": true,
            "ticks": "",
            "zerolinecolor": "white"
           }
          },
          "shapedefaults": {
           "line": {
            "color": "#2a3f5f"
           }
          },
          "ternary": {
           "aaxis": {
            "gridcolor": "white",
            "linecolor": "white",
            "ticks": ""
           },
           "baxis": {
            "gridcolor": "white",
            "linecolor": "white",
            "ticks": ""
           },
           "bgcolor": "#E5ECF6",
           "caxis": {
            "gridcolor": "white",
            "linecolor": "white",
            "ticks": ""
           }
          },
          "title": {
           "x": 0.05
          },
          "xaxis": {
           "automargin": true,
           "gridcolor": "white",
           "linecolor": "white",
           "ticks": "",
           "title": {
            "standoff": 15
           },
           "zerolinecolor": "white",
           "zerolinewidth": 2
          },
          "yaxis": {
           "automargin": true,
           "gridcolor": "white",
           "linecolor": "white",
           "ticks": "",
           "title": {
            "standoff": 15
           },
           "zerolinecolor": "white",
           "zerolinewidth": 2
          }
         }
        },
        "title": {
         "text": "<b>Steps Range per Hour | Three Days</b>",
         "x": 0.5
        },
        "xaxis": {
         "anchor": "y",
         "domain": [
          0,
          0.2888888888888889
         ]
        },
        "xaxis2": {
         "anchor": "y2",
         "domain": [
          0.35555555555555557,
          0.6444444444444445
         ],
         "title": {
          "text": "Time"
         }
        },
        "xaxis3": {
         "anchor": "y3",
         "domain": [
          0.7111111111111111,
          1
         ]
        },
        "yaxis": {
         "anchor": "x",
         "domain": [
          0,
          1
         ],
         "title": {
          "text": "Mean Steps"
         }
        },
        "yaxis2": {
         "anchor": "x2",
         "domain": [
          0,
          1
         ]
        },
        "yaxis3": {
         "anchor": "x3",
         "domain": [
          0,
          1
         ]
        }
       }
      },
      "text/html": [
       "<div>                            <div id=\"0604e338-b935-41b4-85c5-166e3891d176\" class=\"plotly-graph-div\" style=\"height:525px; width:100%;\"></div>            <script type=\"text/javascript\">                require([\"plotly\"], function(Plotly) {                    window.PLOTLYENV=window.PLOTLYENV || {};                                    if (document.getElementById(\"0604e338-b935-41b4-85c5-166e3891d176\")) {                    Plotly.newPlot(                        \"0604e338-b935-41b4-85c5-166e3891d176\",                        [{\"base\":[4,18,14,91,8,57,16,3,50,64,44,8,160,47],\"customdata\":[4,98,120,174,123,111,187,124,90,64,44,105,160,47],\"hovertemplate\":\"\\u003cb\\u003eHour\\u003c\\u002fb\\u003e: %{x}\\u003cbr\\u003e\\u003cb\\u003eMin Steps\\u003c\\u002fb\\u003e: %{base}\\u003cbr\\u003e\\u003cb\\u003eMax Steps\\u003c\\u002fb\\u003e: %{customdata}\\u003cbr\\u003e\\u003cb\\u003eRange\\u003c\\u002fb\\u003e: %{y}\\u003cextra\\u003e\\u003c\\u002fextra\\u003e\",\"marker\":{\"color\":\"red\"},\"name\":\"2023-01-03\",\"x\":[\"10:00\",\"11:00\",\"12:00\",\"14:00\",\"15:00\",\"16:00\",\"17:00\",\"18:00\",\"19:00\",\"20:00\",\"6:00\",\"7:00\",\"8:00\",\"9:00\"],\"y\":[0,80,106,83,115,54,171,121,40,0,0,97,0,0],\"type\":\"bar\",\"xaxis\":\"x\",\"yaxis\":\"y\"},{\"base\":[46,94,114,10,11,6,10,25,26,8,60,13,4,64,16],\"customdata\":[46,145,173,66,292,71,45,120,297,46,84,174,94,187,16],\"hovertemplate\":\"\\u003cb\\u003eHour\\u003c\\u002fb\\u003e: %{x}\\u003cbr\\u003e\\u003cb\\u003eMin Steps\\u003c\\u002fb\\u003e: %{base}\\u003cbr\\u003e\\u003cb\\u003eMax Steps\\u003c\\u002fb\\u003e: %{customdata}\\u003cbr\\u003e\\u003cb\\u003eRange\\u003c\\u002fb\\u003e: %{y}\\u003cextra\\u003e\\u003c\\u002fextra\\u003e\",\"marker\":{\"color\":\"blue\"},\"name\":\"2023-01-04\",\"x\":[\"10:00\",\"11:00\",\"12:00\",\"13:00\",\"14:00\",\"15:00\",\"16:00\",\"17:00\",\"18:00\",\"19:00\",\"20:00\",\"6:00\",\"7:00\",\"8:00\",\"9:00\"],\"y\":[0,51,59,56,281,65,35,95,271,38,24,161,90,123,0],\"type\":\"bar\",\"xaxis\":\"x2\",\"yaxis\":\"y2\"},{\"base\":[10,10,38,58,93,12,5,30,16,51,9,18],\"customdata\":[10,180,130,595,298,113,232,89,41,62,151,140],\"hovertemplate\":\"\\u003cb\\u003eHour\\u003c\\u002fb\\u003e: %{x}\\u003cbr\\u003e\\u003cb\\u003eMin Steps\\u003c\\u002fb\\u003e: %{base}\\u003cbr\\u003e\\u003cb\\u003eMax Steps\\u003c\\u002fb\\u003e: %{customdata}\\u003cbr\\u003e\\u003cb\\u003eRange\\u003c\\u002fb\\u003e: %{y}\\u003cextra\\u003e\\u003c\\u002fextra\\u003e\",\"marker\":{\"color\":\"green\"},\"name\":\"2023-01-05\",\"x\":[\"10:00\",\"11:00\",\"12:00\",\"14:00\",\"15:00\",\"16:00\",\"17:00\",\"18:00\",\"19:00\",\"20:00\",\"6:00\",\"8:00\"],\"y\":[0,170,92,537,205,101,227,59,25,11,142,122],\"type\":\"bar\",\"xaxis\":\"x3\",\"yaxis\":\"y3\"}],                        {\"template\":{\"data\":{\"histogram2dcontour\":[{\"type\":\"histogram2dcontour\",\"colorbar\":{\"outlinewidth\":0,\"ticks\":\"\"},\"colorscale\":[[0.0,\"#0d0887\"],[0.1111111111111111,\"#46039f\"],[0.2222222222222222,\"#7201a8\"],[0.3333333333333333,\"#9c179e\"],[0.4444444444444444,\"#bd3786\"],[0.5555555555555556,\"#d8576b\"],[0.6666666666666666,\"#ed7953\"],[0.7777777777777778,\"#fb9f3a\"],[0.8888888888888888,\"#fdca26\"],[1.0,\"#f0f921\"]]}],\"choropleth\":[{\"type\":\"choropleth\",\"colorbar\":{\"outlinewidth\":0,\"ticks\":\"\"}}],\"histogram2d\":[{\"type\":\"histogram2d\",\"colorbar\":{\"outlinewidth\":0,\"ticks\":\"\"},\"colorscale\":[[0.0,\"#0d0887\"],[0.1111111111111111,\"#46039f\"],[0.2222222222222222,\"#7201a8\"],[0.3333333333333333,\"#9c179e\"],[0.4444444444444444,\"#bd3786\"],[0.5555555555555556,\"#d8576b\"],[0.6666666666666666,\"#ed7953\"],[0.7777777777777778,\"#fb9f3a\"],[0.8888888888888888,\"#fdca26\"],[1.0,\"#f0f921\"]]}],\"heatmap\":[{\"type\":\"heatmap\",\"colorbar\":{\"outlinewidth\":0,\"ticks\":\"\"},\"colorscale\":[[0.0,\"#0d0887\"],[0.1111111111111111,\"#46039f\"],[0.2222222222222222,\"#7201a8\"],[0.3333333333333333,\"#9c179e\"],[0.4444444444444444,\"#bd3786\"],[0.5555555555555556,\"#d8576b\"],[0.6666666666666666,\"#ed7953\"],[0.7777777777777778,\"#fb9f3a\"],[0.8888888888888888,\"#fdca26\"],[1.0,\"#f0f921\"]]}],\"heatmapgl\":[{\"type\":\"heatmapgl\",\"colorbar\":{\"outlinewidth\":0,\"ticks\":\"\"},\"colorscale\":[[0.0,\"#0d0887\"],[0.1111111111111111,\"#46039f\"],[0.2222222222222222,\"#7201a8\"],[0.3333333333333333,\"#9c179e\"],[0.4444444444444444,\"#bd3786\"],[0.5555555555555556,\"#d8576b\"],[0.6666666666666666,\"#ed7953\"],[0.7777777777777778,\"#fb9f3a\"],[0.8888888888888888,\"#fdca26\"],[1.0,\"#f0f921\"]]}],\"contourcarpet\":[{\"type\":\"contourcarpet\",\"colorbar\":{\"outlinewidth\":0,\"ticks\":\"\"}}],\"contour\":[{\"type\":\"contour\",\"colorbar\":{\"outlinewidth\":0,\"ticks\":\"\"},\"colorscale\":[[0.0,\"#0d0887\"],[0.1111111111111111,\"#46039f\"],[0.2222222222222222,\"#7201a8\"],[0.3333333333333333,\"#9c179e\"],[0.4444444444444444,\"#bd3786\"],[0.5555555555555556,\"#d8576b\"],[0.6666666666666666,\"#ed7953\"],[0.7777777777777778,\"#fb9f3a\"],[0.8888888888888888,\"#fdca26\"],[1.0,\"#f0f921\"]]}],\"surface\":[{\"type\":\"surface\",\"colorbar\":{\"outlinewidth\":0,\"ticks\":\"\"},\"colorscale\":[[0.0,\"#0d0887\"],[0.1111111111111111,\"#46039f\"],[0.2222222222222222,\"#7201a8\"],[0.3333333333333333,\"#9c179e\"],[0.4444444444444444,\"#bd3786\"],[0.5555555555555556,\"#d8576b\"],[0.6666666666666666,\"#ed7953\"],[0.7777777777777778,\"#fb9f3a\"],[0.8888888888888888,\"#fdca26\"],[1.0,\"#f0f921\"]]}],\"mesh3d\":[{\"type\":\"mesh3d\",\"colorbar\":{\"outlinewidth\":0,\"ticks\":\"\"}}],\"scatter\":[{\"fillpattern\":{\"fillmode\":\"overlay\",\"size\":10,\"solidity\":0.2},\"type\":\"scatter\"}],\"parcoords\":[{\"type\":\"parcoords\",\"line\":{\"colorbar\":{\"outlinewidth\":0,\"ticks\":\"\"}}}],\"scatterpolargl\":[{\"type\":\"scatterpolargl\",\"marker\":{\"colorbar\":{\"outlinewidth\":0,\"ticks\":\"\"}}}],\"bar\":[{\"error_x\":{\"color\":\"#2a3f5f\"},\"error_y\":{\"color\":\"#2a3f5f\"},\"marker\":{\"line\":{\"color\":\"#E5ECF6\",\"width\":0.5},\"pattern\":{\"fillmode\":\"overlay\",\"size\":10,\"solidity\":0.2}},\"type\":\"bar\"}],\"scattergeo\":[{\"type\":\"scattergeo\",\"marker\":{\"colorbar\":{\"outlinewidth\":0,\"ticks\":\"\"}}}],\"scatterpolar\":[{\"type\":\"scatterpolar\",\"marker\":{\"colorbar\":{\"outlinewidth\":0,\"ticks\":\"\"}}}],\"histogram\":[{\"marker\":{\"pattern\":{\"fillmode\":\"overlay\",\"size\":10,\"solidity\":0.2}},\"type\":\"histogram\"}],\"scattergl\":[{\"type\":\"scattergl\",\"marker\":{\"colorbar\":{\"outlinewidth\":0,\"ticks\":\"\"}}}],\"scatter3d\":[{\"type\":\"scatter3d\",\"line\":{\"colorbar\":{\"outlinewidth\":0,\"ticks\":\"\"}},\"marker\":{\"colorbar\":{\"outlinewidth\":0,\"ticks\":\"\"}}}],\"scattermapbox\":[{\"type\":\"scattermapbox\",\"marker\":{\"colorbar\":{\"outlinewidth\":0,\"ticks\":\"\"}}}],\"scatterternary\":[{\"type\":\"scatterternary\",\"marker\":{\"colorbar\":{\"outlinewidth\":0,\"ticks\":\"\"}}}],\"scattercarpet\":[{\"type\":\"scattercarpet\",\"marker\":{\"colorbar\":{\"outlinewidth\":0,\"ticks\":\"\"}}}],\"carpet\":[{\"aaxis\":{\"endlinecolor\":\"#2a3f5f\",\"gridcolor\":\"white\",\"linecolor\":\"white\",\"minorgridcolor\":\"white\",\"startlinecolor\":\"#2a3f5f\"},\"baxis\":{\"endlinecolor\":\"#2a3f5f\",\"gridcolor\":\"white\",\"linecolor\":\"white\",\"minorgridcolor\":\"white\",\"startlinecolor\":\"#2a3f5f\"},\"type\":\"carpet\"}],\"table\":[{\"cells\":{\"fill\":{\"color\":\"#EBF0F8\"},\"line\":{\"color\":\"white\"}},\"header\":{\"fill\":{\"color\":\"#C8D4E3\"},\"line\":{\"color\":\"white\"}},\"type\":\"table\"}],\"barpolar\":[{\"marker\":{\"line\":{\"color\":\"#E5ECF6\",\"width\":0.5},\"pattern\":{\"fillmode\":\"overlay\",\"size\":10,\"solidity\":0.2}},\"type\":\"barpolar\"}],\"pie\":[{\"automargin\":true,\"type\":\"pie\"}]},\"layout\":{\"autotypenumbers\":\"strict\",\"colorway\":[\"#636efa\",\"#EF553B\",\"#00cc96\",\"#ab63fa\",\"#FFA15A\",\"#19d3f3\",\"#FF6692\",\"#B6E880\",\"#FF97FF\",\"#FECB52\"],\"font\":{\"color\":\"#2a3f5f\"},\"hovermode\":\"closest\",\"hoverlabel\":{\"align\":\"left\"},\"paper_bgcolor\":\"white\",\"plot_bgcolor\":\"#E5ECF6\",\"polar\":{\"bgcolor\":\"#E5ECF6\",\"angularaxis\":{\"gridcolor\":\"white\",\"linecolor\":\"white\",\"ticks\":\"\"},\"radialaxis\":{\"gridcolor\":\"white\",\"linecolor\":\"white\",\"ticks\":\"\"}},\"ternary\":{\"bgcolor\":\"#E5ECF6\",\"aaxis\":{\"gridcolor\":\"white\",\"linecolor\":\"white\",\"ticks\":\"\"},\"baxis\":{\"gridcolor\":\"white\",\"linecolor\":\"white\",\"ticks\":\"\"},\"caxis\":{\"gridcolor\":\"white\",\"linecolor\":\"white\",\"ticks\":\"\"}},\"coloraxis\":{\"colorbar\":{\"outlinewidth\":0,\"ticks\":\"\"}},\"colorscale\":{\"sequential\":[[0.0,\"#0d0887\"],[0.1111111111111111,\"#46039f\"],[0.2222222222222222,\"#7201a8\"],[0.3333333333333333,\"#9c179e\"],[0.4444444444444444,\"#bd3786\"],[0.5555555555555556,\"#d8576b\"],[0.6666666666666666,\"#ed7953\"],[0.7777777777777778,\"#fb9f3a\"],[0.8888888888888888,\"#fdca26\"],[1.0,\"#f0f921\"]],\"sequentialminus\":[[0.0,\"#0d0887\"],[0.1111111111111111,\"#46039f\"],[0.2222222222222222,\"#7201a8\"],[0.3333333333333333,\"#9c179e\"],[0.4444444444444444,\"#bd3786\"],[0.5555555555555556,\"#d8576b\"],[0.6666666666666666,\"#ed7953\"],[0.7777777777777778,\"#fb9f3a\"],[0.8888888888888888,\"#fdca26\"],[1.0,\"#f0f921\"]],\"diverging\":[[0,\"#8e0152\"],[0.1,\"#c51b7d\"],[0.2,\"#de77ae\"],[0.3,\"#f1b6da\"],[0.4,\"#fde0ef\"],[0.5,\"#f7f7f7\"],[0.6,\"#e6f5d0\"],[0.7,\"#b8e186\"],[0.8,\"#7fbc41\"],[0.9,\"#4d9221\"],[1,\"#276419\"]]},\"xaxis\":{\"gridcolor\":\"white\",\"linecolor\":\"white\",\"ticks\":\"\",\"title\":{\"standoff\":15},\"zerolinecolor\":\"white\",\"automargin\":true,\"zerolinewidth\":2},\"yaxis\":{\"gridcolor\":\"white\",\"linecolor\":\"white\",\"ticks\":\"\",\"title\":{\"standoff\":15},\"zerolinecolor\":\"white\",\"automargin\":true,\"zerolinewidth\":2},\"scene\":{\"xaxis\":{\"backgroundcolor\":\"#E5ECF6\",\"gridcolor\":\"white\",\"linecolor\":\"white\",\"showbackground\":true,\"ticks\":\"\",\"zerolinecolor\":\"white\",\"gridwidth\":2},\"yaxis\":{\"backgroundcolor\":\"#E5ECF6\",\"gridcolor\":\"white\",\"linecolor\":\"white\",\"showbackground\":true,\"ticks\":\"\",\"zerolinecolor\":\"white\",\"gridwidth\":2},\"zaxis\":{\"backgroundcolor\":\"#E5ECF6\",\"gridcolor\":\"white\",\"linecolor\":\"white\",\"showbackground\":true,\"ticks\":\"\",\"zerolinecolor\":\"white\",\"gridwidth\":2}},\"shapedefaults\":{\"line\":{\"color\":\"#2a3f5f\"}},\"annotationdefaults\":{\"arrowcolor\":\"#2a3f5f\",\"arrowhead\":0,\"arrowwidth\":1},\"geo\":{\"bgcolor\":\"white\",\"landcolor\":\"#E5ECF6\",\"subunitcolor\":\"white\",\"showland\":true,\"showlakes\":true,\"lakecolor\":\"white\"},\"title\":{\"x\":0.05},\"mapbox\":{\"style\":\"light\"}}},\"xaxis\":{\"anchor\":\"y\",\"domain\":[0.0,0.2888888888888889]},\"yaxis\":{\"anchor\":\"x\",\"domain\":[0.0,1.0],\"title\":{\"text\":\"Mean Steps\"}},\"xaxis2\":{\"anchor\":\"y2\",\"domain\":[0.35555555555555557,0.6444444444444445],\"title\":{\"text\":\"Time\"}},\"yaxis2\":{\"anchor\":\"x2\",\"domain\":[0.0,1.0]},\"xaxis3\":{\"anchor\":\"y3\",\"domain\":[0.7111111111111111,1.0]},\"yaxis3\":{\"anchor\":\"x3\",\"domain\":[0.0,1.0]},\"annotations\":[{\"font\":{\"size\":16},\"showarrow\":false,\"text\":\"2023-01-03\",\"x\":0.14444444444444446,\"xanchor\":\"center\",\"xref\":\"paper\",\"y\":1.0,\"yanchor\":\"bottom\",\"yref\":\"paper\"},{\"font\":{\"size\":16},\"showarrow\":false,\"text\":\"2023-01-04\",\"x\":0.5,\"xanchor\":\"center\",\"xref\":\"paper\",\"y\":1.0,\"yanchor\":\"bottom\",\"yref\":\"paper\"},{\"font\":{\"size\":16},\"showarrow\":false,\"text\":\"2023-01-05\",\"x\":0.8555555555555556,\"xanchor\":\"center\",\"xref\":\"paper\",\"y\":1.0,\"yanchor\":\"bottom\",\"yref\":\"paper\"}],\"title\":{\"text\":\"\\u003cb\\u003eSteps Range per Hour | Three Days\\u003c\\u002fb\\u003e\",\"x\":0.5}},                        {\"responsive\": true}                    ).then(function(){\n",
       "                            \n",
       "var gd = document.getElementById('0604e338-b935-41b4-85c5-166e3891d176');\n",
       "var x = new MutationObserver(function (mutations, observer) {{\n",
       "        var display = window.getComputedStyle(gd).display;\n",
       "        if (!display || display === 'none') {{\n",
       "            console.log([gd, 'removed!']);\n",
       "            Plotly.purge(gd);\n",
       "            observer.disconnect();\n",
       "        }}\n",
       "}});\n",
       "\n",
       "// Listen for the removal of the full notebook cells\n",
       "var notebookContainer = gd.closest('#notebook-container');\n",
       "if (notebookContainer) {{\n",
       "    x.observe(notebookContainer, {childList: true});\n",
       "}}\n",
       "\n",
       "// Listen for the clearing of the current output cell\n",
       "var outputEl = gd.closest('.output');\n",
       "if (outputEl) {{\n",
       "    x.observe(outputEl, {childList: true});\n",
       "}}\n",
       "\n",
       "                        })                };                });            </script>        </div>"
      ]
     },
     "metadata": {},
     "output_type": "display_data"
    }
   ],
   "source": [
    "import pandas as pd\n",
    "import plotly.graph_objects as go\n",
    "from plotly.subplots import make_subplots\n",
    "\n",
    "# Read the CSV file\n",
    "meanDF = pd.read_csv('../data/descriptive_statistics/mean_steps_three_days.csv')\n",
    "dates = meanDF['date'].unique()\n",
    "colors = ['red', 'blue', 'green']\n",
    "\n",
    "# Create subplots: one row, three columns\n",
    "fig = make_subplots(rows=1, cols=3, subplot_titles=dates)\n",
    "\n",
    "# Loop over unique dates\n",
    "for i, date in enumerate(dates):\n",
    "    # Filter DataFrame for the current date\n",
    "    dfDate = meanDF[meanDF['date'] == date].sort_values('hour')\n",
    "\n",
    "    # Convert 'hour' to string and append \":00\"\n",
    "    dfDate['hour'] = dfDate['hour'].astype(str) + \":00\"\n",
    "    \n",
    "    # Calculate min and max heart rate for each hour\n",
    "    dfDate = dfDate.groupby('hour')['steps'].agg(['min', 'max']).reset_index()\n",
    "\n",
    "    # Calculate the range and max heart rate\n",
    "    dfDate['range'] = dfDate['max'] - dfDate['min']\n",
    "    dfDate['maxSteps'] = dfDate['min'] + dfDate['range']\n",
    "\n",
    "\n",
    "    # Add a bar for the range of heart rates for the current date\n",
    "    fig.add_trace(go.Bar(\n",
    "        x=dfDate['hour'],\n",
    "        y=dfDate['max'] - dfDate['min'],  # Height of bar is range of heart rates\n",
    "        base=dfDate['min'],  # Bottom of bar is min heart rate\n",
    "        name=date,\n",
    "        marker_color=colors[i % len(colors)],  # Cycle through colors\n",
    "                hovertemplate=\n",
    "            '<b>Hour</b>: %{x}<br>' +\n",
    "            '<b>Min Steps</b>: %{base}<br>' +\n",
    "            '<b>Max Steps</b>: %{customdata}<br>' +\n",
    "            '<b>Range</b>: %{y}<extra></extra>',\n",
    "            customdata=dfDate['maxSteps']\n",
    "\n",
    "    ), row=1, col=i+1)  # Add this trace to the i-th subplot\n",
    "\n",
    "    # Update yaxis labels\n",
    "fig.update_yaxes(title_text='Mean Steps', row=1, col=1)\n",
    "fig.update_xaxes(title_text='Time', row=1, col=2)\n",
    "\n",
    "# Add title\n",
    "fig.update_layout(\n",
    "    title_text='<b>Steps Range per Hour | Three Days</b>',\n",
    "    title_x=.5,\n",
    ")\n",
    "\n",
    "fig.show()"
   ]
  },
  {
   "cell_type": "markdown",
   "metadata": {},
   "source": [
    "### SpO2 Three Days - Box"
   ]
  },
  {
   "cell_type": "code",
   "execution_count": 11,
   "metadata": {},
   "outputs": [
    {
     "data": {
      "application/vnd.plotly.v1+json": {
       "config": {
        "plotlyServerURL": "https://plot.ly"
       },
       "data": [
        {
         "line": {
          "color": "red"
         },
         "mode": "lines+markers",
         "name": "2023-01-03",
         "type": "scatter",
         "x": [
          "7:00",
          "8:00",
          "10:00",
          "12:00",
          "15:00",
          "16:00",
          "16:00",
          "18:00"
         ],
         "xaxis": "x",
         "y": [
          0.95,
          0.93,
          0.96,
          0.95,
          0.93,
          0.97,
          0.99,
          0.96
         ],
         "yaxis": "y"
        },
        {
         "line": {
          "color": "blue"
         },
         "mode": "lines+markers",
         "name": "2023-01-04",
         "type": "scatter",
         "x": [
          "7:00",
          "8:00",
          "9:00",
          "12:00",
          "15:00",
          "16:00",
          "16:00",
          "19:00",
          "20:00"
         ],
         "xaxis": "x2",
         "y": [
          0.86,
          0.95,
          0.95,
          0.97,
          0.96,
          0.97,
          1,
          0.97,
          0.95
         ],
         "yaxis": "y2"
        },
        {
         "line": {
          "color": "green"
         },
         "mode": "lines+markers",
         "name": "2023-01-05",
         "type": "scatter",
         "x": [
          "6:00",
          "8:00",
          "8:00",
          "10:00",
          "12:00",
          "12:00",
          "13:00",
          "14:00",
          "17:00",
          "19:00",
          "20:00"
         ],
         "xaxis": "x3",
         "y": [
          0.95,
          0.97,
          0.95,
          0.95,
          0.95,
          0.94,
          0.96,
          0.95,
          0.95,
          0.94,
          0.95
         ],
         "yaxis": "y3"
        }
       ],
       "layout": {
        "annotations": [
         {
          "font": {
           "size": 16
          },
          "showarrow": false,
          "text": "2023-01-03",
          "x": 0.14444444444444446,
          "xanchor": "center",
          "xref": "paper",
          "y": 1,
          "yanchor": "bottom",
          "yref": "paper"
         },
         {
          "font": {
           "size": 16
          },
          "showarrow": false,
          "text": "2023-01-04",
          "x": 0.5,
          "xanchor": "center",
          "xref": "paper",
          "y": 1,
          "yanchor": "bottom",
          "yref": "paper"
         },
         {
          "font": {
           "size": 16
          },
          "showarrow": false,
          "text": "2023-01-05",
          "x": 0.8555555555555556,
          "xanchor": "center",
          "xref": "paper",
          "y": 1,
          "yanchor": "bottom",
          "yref": "paper"
         }
        ],
        "template": {
         "data": {
          "bar": [
           {
            "error_x": {
             "color": "#2a3f5f"
            },
            "error_y": {
             "color": "#2a3f5f"
            },
            "marker": {
             "line": {
              "color": "#E5ECF6",
              "width": 0.5
             },
             "pattern": {
              "fillmode": "overlay",
              "size": 10,
              "solidity": 0.2
             }
            },
            "type": "bar"
           }
          ],
          "barpolar": [
           {
            "marker": {
             "line": {
              "color": "#E5ECF6",
              "width": 0.5
             },
             "pattern": {
              "fillmode": "overlay",
              "size": 10,
              "solidity": 0.2
             }
            },
            "type": "barpolar"
           }
          ],
          "carpet": [
           {
            "aaxis": {
             "endlinecolor": "#2a3f5f",
             "gridcolor": "white",
             "linecolor": "white",
             "minorgridcolor": "white",
             "startlinecolor": "#2a3f5f"
            },
            "baxis": {
             "endlinecolor": "#2a3f5f",
             "gridcolor": "white",
             "linecolor": "white",
             "minorgridcolor": "white",
             "startlinecolor": "#2a3f5f"
            },
            "type": "carpet"
           }
          ],
          "choropleth": [
           {
            "colorbar": {
             "outlinewidth": 0,
             "ticks": ""
            },
            "type": "choropleth"
           }
          ],
          "contour": [
           {
            "colorbar": {
             "outlinewidth": 0,
             "ticks": ""
            },
            "colorscale": [
             [
              0,
              "#0d0887"
             ],
             [
              0.1111111111111111,
              "#46039f"
             ],
             [
              0.2222222222222222,
              "#7201a8"
             ],
             [
              0.3333333333333333,
              "#9c179e"
             ],
             [
              0.4444444444444444,
              "#bd3786"
             ],
             [
              0.5555555555555556,
              "#d8576b"
             ],
             [
              0.6666666666666666,
              "#ed7953"
             ],
             [
              0.7777777777777778,
              "#fb9f3a"
             ],
             [
              0.8888888888888888,
              "#fdca26"
             ],
             [
              1,
              "#f0f921"
             ]
            ],
            "type": "contour"
           }
          ],
          "contourcarpet": [
           {
            "colorbar": {
             "outlinewidth": 0,
             "ticks": ""
            },
            "type": "contourcarpet"
           }
          ],
          "heatmap": [
           {
            "colorbar": {
             "outlinewidth": 0,
             "ticks": ""
            },
            "colorscale": [
             [
              0,
              "#0d0887"
             ],
             [
              0.1111111111111111,
              "#46039f"
             ],
             [
              0.2222222222222222,
              "#7201a8"
             ],
             [
              0.3333333333333333,
              "#9c179e"
             ],
             [
              0.4444444444444444,
              "#bd3786"
             ],
             [
              0.5555555555555556,
              "#d8576b"
             ],
             [
              0.6666666666666666,
              "#ed7953"
             ],
             [
              0.7777777777777778,
              "#fb9f3a"
             ],
             [
              0.8888888888888888,
              "#fdca26"
             ],
             [
              1,
              "#f0f921"
             ]
            ],
            "type": "heatmap"
           }
          ],
          "heatmapgl": [
           {
            "colorbar": {
             "outlinewidth": 0,
             "ticks": ""
            },
            "colorscale": [
             [
              0,
              "#0d0887"
             ],
             [
              0.1111111111111111,
              "#46039f"
             ],
             [
              0.2222222222222222,
              "#7201a8"
             ],
             [
              0.3333333333333333,
              "#9c179e"
             ],
             [
              0.4444444444444444,
              "#bd3786"
             ],
             [
              0.5555555555555556,
              "#d8576b"
             ],
             [
              0.6666666666666666,
              "#ed7953"
             ],
             [
              0.7777777777777778,
              "#fb9f3a"
             ],
             [
              0.8888888888888888,
              "#fdca26"
             ],
             [
              1,
              "#f0f921"
             ]
            ],
            "type": "heatmapgl"
           }
          ],
          "histogram": [
           {
            "marker": {
             "pattern": {
              "fillmode": "overlay",
              "size": 10,
              "solidity": 0.2
             }
            },
            "type": "histogram"
           }
          ],
          "histogram2d": [
           {
            "colorbar": {
             "outlinewidth": 0,
             "ticks": ""
            },
            "colorscale": [
             [
              0,
              "#0d0887"
             ],
             [
              0.1111111111111111,
              "#46039f"
             ],
             [
              0.2222222222222222,
              "#7201a8"
             ],
             [
              0.3333333333333333,
              "#9c179e"
             ],
             [
              0.4444444444444444,
              "#bd3786"
             ],
             [
              0.5555555555555556,
              "#d8576b"
             ],
             [
              0.6666666666666666,
              "#ed7953"
             ],
             [
              0.7777777777777778,
              "#fb9f3a"
             ],
             [
              0.8888888888888888,
              "#fdca26"
             ],
             [
              1,
              "#f0f921"
             ]
            ],
            "type": "histogram2d"
           }
          ],
          "histogram2dcontour": [
           {
            "colorbar": {
             "outlinewidth": 0,
             "ticks": ""
            },
            "colorscale": [
             [
              0,
              "#0d0887"
             ],
             [
              0.1111111111111111,
              "#46039f"
             ],
             [
              0.2222222222222222,
              "#7201a8"
             ],
             [
              0.3333333333333333,
              "#9c179e"
             ],
             [
              0.4444444444444444,
              "#bd3786"
             ],
             [
              0.5555555555555556,
              "#d8576b"
             ],
             [
              0.6666666666666666,
              "#ed7953"
             ],
             [
              0.7777777777777778,
              "#fb9f3a"
             ],
             [
              0.8888888888888888,
              "#fdca26"
             ],
             [
              1,
              "#f0f921"
             ]
            ],
            "type": "histogram2dcontour"
           }
          ],
          "mesh3d": [
           {
            "colorbar": {
             "outlinewidth": 0,
             "ticks": ""
            },
            "type": "mesh3d"
           }
          ],
          "parcoords": [
           {
            "line": {
             "colorbar": {
              "outlinewidth": 0,
              "ticks": ""
             }
            },
            "type": "parcoords"
           }
          ],
          "pie": [
           {
            "automargin": true,
            "type": "pie"
           }
          ],
          "scatter": [
           {
            "fillpattern": {
             "fillmode": "overlay",
             "size": 10,
             "solidity": 0.2
            },
            "type": "scatter"
           }
          ],
          "scatter3d": [
           {
            "line": {
             "colorbar": {
              "outlinewidth": 0,
              "ticks": ""
             }
            },
            "marker": {
             "colorbar": {
              "outlinewidth": 0,
              "ticks": ""
             }
            },
            "type": "scatter3d"
           }
          ],
          "scattercarpet": [
           {
            "marker": {
             "colorbar": {
              "outlinewidth": 0,
              "ticks": ""
             }
            },
            "type": "scattercarpet"
           }
          ],
          "scattergeo": [
           {
            "marker": {
             "colorbar": {
              "outlinewidth": 0,
              "ticks": ""
             }
            },
            "type": "scattergeo"
           }
          ],
          "scattergl": [
           {
            "marker": {
             "colorbar": {
              "outlinewidth": 0,
              "ticks": ""
             }
            },
            "type": "scattergl"
           }
          ],
          "scattermapbox": [
           {
            "marker": {
             "colorbar": {
              "outlinewidth": 0,
              "ticks": ""
             }
            },
            "type": "scattermapbox"
           }
          ],
          "scatterpolar": [
           {
            "marker": {
             "colorbar": {
              "outlinewidth": 0,
              "ticks": ""
             }
            },
            "type": "scatterpolar"
           }
          ],
          "scatterpolargl": [
           {
            "marker": {
             "colorbar": {
              "outlinewidth": 0,
              "ticks": ""
             }
            },
            "type": "scatterpolargl"
           }
          ],
          "scatterternary": [
           {
            "marker": {
             "colorbar": {
              "outlinewidth": 0,
              "ticks": ""
             }
            },
            "type": "scatterternary"
           }
          ],
          "surface": [
           {
            "colorbar": {
             "outlinewidth": 0,
             "ticks": ""
            },
            "colorscale": [
             [
              0,
              "#0d0887"
             ],
             [
              0.1111111111111111,
              "#46039f"
             ],
             [
              0.2222222222222222,
              "#7201a8"
             ],
             [
              0.3333333333333333,
              "#9c179e"
             ],
             [
              0.4444444444444444,
              "#bd3786"
             ],
             [
              0.5555555555555556,
              "#d8576b"
             ],
             [
              0.6666666666666666,
              "#ed7953"
             ],
             [
              0.7777777777777778,
              "#fb9f3a"
             ],
             [
              0.8888888888888888,
              "#fdca26"
             ],
             [
              1,
              "#f0f921"
             ]
            ],
            "type": "surface"
           }
          ],
          "table": [
           {
            "cells": {
             "fill": {
              "color": "#EBF0F8"
             },
             "line": {
              "color": "white"
             }
            },
            "header": {
             "fill": {
              "color": "#C8D4E3"
             },
             "line": {
              "color": "white"
             }
            },
            "type": "table"
           }
          ]
         },
         "layout": {
          "annotationdefaults": {
           "arrowcolor": "#2a3f5f",
           "arrowhead": 0,
           "arrowwidth": 1
          },
          "autotypenumbers": "strict",
          "coloraxis": {
           "colorbar": {
            "outlinewidth": 0,
            "ticks": ""
           }
          },
          "colorscale": {
           "diverging": [
            [
             0,
             "#8e0152"
            ],
            [
             0.1,
             "#c51b7d"
            ],
            [
             0.2,
             "#de77ae"
            ],
            [
             0.3,
             "#f1b6da"
            ],
            [
             0.4,
             "#fde0ef"
            ],
            [
             0.5,
             "#f7f7f7"
            ],
            [
             0.6,
             "#e6f5d0"
            ],
            [
             0.7,
             "#b8e186"
            ],
            [
             0.8,
             "#7fbc41"
            ],
            [
             0.9,
             "#4d9221"
            ],
            [
             1,
             "#276419"
            ]
           ],
           "sequential": [
            [
             0,
             "#0d0887"
            ],
            [
             0.1111111111111111,
             "#46039f"
            ],
            [
             0.2222222222222222,
             "#7201a8"
            ],
            [
             0.3333333333333333,
             "#9c179e"
            ],
            [
             0.4444444444444444,
             "#bd3786"
            ],
            [
             0.5555555555555556,
             "#d8576b"
            ],
            [
             0.6666666666666666,
             "#ed7953"
            ],
            [
             0.7777777777777778,
             "#fb9f3a"
            ],
            [
             0.8888888888888888,
             "#fdca26"
            ],
            [
             1,
             "#f0f921"
            ]
           ],
           "sequentialminus": [
            [
             0,
             "#0d0887"
            ],
            [
             0.1111111111111111,
             "#46039f"
            ],
            [
             0.2222222222222222,
             "#7201a8"
            ],
            [
             0.3333333333333333,
             "#9c179e"
            ],
            [
             0.4444444444444444,
             "#bd3786"
            ],
            [
             0.5555555555555556,
             "#d8576b"
            ],
            [
             0.6666666666666666,
             "#ed7953"
            ],
            [
             0.7777777777777778,
             "#fb9f3a"
            ],
            [
             0.8888888888888888,
             "#fdca26"
            ],
            [
             1,
             "#f0f921"
            ]
           ]
          },
          "colorway": [
           "#636efa",
           "#EF553B",
           "#00cc96",
           "#ab63fa",
           "#FFA15A",
           "#19d3f3",
           "#FF6692",
           "#B6E880",
           "#FF97FF",
           "#FECB52"
          ],
          "font": {
           "color": "#2a3f5f"
          },
          "geo": {
           "bgcolor": "white",
           "lakecolor": "white",
           "landcolor": "#E5ECF6",
           "showlakes": true,
           "showland": true,
           "subunitcolor": "white"
          },
          "hoverlabel": {
           "align": "left"
          },
          "hovermode": "closest",
          "mapbox": {
           "style": "light"
          },
          "paper_bgcolor": "white",
          "plot_bgcolor": "#E5ECF6",
          "polar": {
           "angularaxis": {
            "gridcolor": "white",
            "linecolor": "white",
            "ticks": ""
           },
           "bgcolor": "#E5ECF6",
           "radialaxis": {
            "gridcolor": "white",
            "linecolor": "white",
            "ticks": ""
           }
          },
          "scene": {
           "xaxis": {
            "backgroundcolor": "#E5ECF6",
            "gridcolor": "white",
            "gridwidth": 2,
            "linecolor": "white",
            "showbackground": true,
            "ticks": "",
            "zerolinecolor": "white"
           },
           "yaxis": {
            "backgroundcolor": "#E5ECF6",
            "gridcolor": "white",
            "gridwidth": 2,
            "linecolor": "white",
            "showbackground": true,
            "ticks": "",
            "zerolinecolor": "white"
           },
           "zaxis": {
            "backgroundcolor": "#E5ECF6",
            "gridcolor": "white",
            "gridwidth": 2,
            "linecolor": "white",
            "showbackground": true,
            "ticks": "",
            "zerolinecolor": "white"
           }
          },
          "shapedefaults": {
           "line": {
            "color": "#2a3f5f"
           }
          },
          "ternary": {
           "aaxis": {
            "gridcolor": "white",
            "linecolor": "white",
            "ticks": ""
           },
           "baxis": {
            "gridcolor": "white",
            "linecolor": "white",
            "ticks": ""
           },
           "bgcolor": "#E5ECF6",
           "caxis": {
            "gridcolor": "white",
            "linecolor": "white",
            "ticks": ""
           }
          },
          "title": {
           "x": 0.05
          },
          "xaxis": {
           "automargin": true,
           "gridcolor": "white",
           "linecolor": "white",
           "ticks": "",
           "title": {
            "standoff": 15
           },
           "zerolinecolor": "white",
           "zerolinewidth": 2
          },
          "yaxis": {
           "automargin": true,
           "gridcolor": "white",
           "linecolor": "white",
           "ticks": "",
           "title": {
            "standoff": 15
           },
           "zerolinecolor": "white",
           "zerolinewidth": 2
          }
         }
        },
        "title": {
         "text": "Mean SpO2 per Hour | Three Days"
        },
        "xaxis": {
         "anchor": "y",
         "domain": [
          0,
          0.2888888888888889
         ],
         "tickangle": 45,
         "title": {
          "text": "Hour"
         }
        },
        "xaxis2": {
         "anchor": "y2",
         "domain": [
          0.35555555555555557,
          0.6444444444444445
         ],
         "tickangle": 45,
         "title": {
          "text": "Hour"
         }
        },
        "xaxis3": {
         "anchor": "y3",
         "domain": [
          0.7111111111111111,
          1
         ],
         "tickangle": 45,
         "title": {
          "text": "Hour"
         }
        },
        "yaxis": {
         "anchor": "x",
         "domain": [
          0,
          1
         ],
         "title": {
          "text": "Mean Oxygen Saturation"
         }
        },
        "yaxis2": {
         "anchor": "x2",
         "domain": [
          0,
          1
         ]
        },
        "yaxis3": {
         "anchor": "x3",
         "domain": [
          0,
          1
         ]
        }
       }
      },
      "text/html": [
       "<div>                            <div id=\"1ef4ed20-7f29-473a-92d6-73b7a27d81c2\" class=\"plotly-graph-div\" style=\"height:525px; width:100%;\"></div>            <script type=\"text/javascript\">                require([\"plotly\"], function(Plotly) {                    window.PLOTLYENV=window.PLOTLYENV || {};                                    if (document.getElementById(\"1ef4ed20-7f29-473a-92d6-73b7a27d81c2\")) {                    Plotly.newPlot(                        \"1ef4ed20-7f29-473a-92d6-73b7a27d81c2\",                        [{\"line\":{\"color\":\"red\"},\"mode\":\"lines+markers\",\"name\":\"2023-01-03\",\"x\":[\"7:00\",\"8:00\",\"10:00\",\"12:00\",\"15:00\",\"16:00\",\"16:00\",\"18:00\"],\"y\":[0.95,0.93,0.96,0.95,0.93,0.97,0.99,0.96],\"type\":\"scatter\",\"xaxis\":\"x\",\"yaxis\":\"y\"},{\"line\":{\"color\":\"blue\"},\"mode\":\"lines+markers\",\"name\":\"2023-01-04\",\"x\":[\"7:00\",\"8:00\",\"9:00\",\"12:00\",\"15:00\",\"16:00\",\"16:00\",\"19:00\",\"20:00\"],\"y\":[0.86,0.95,0.95,0.97,0.96,0.97,1.0,0.97,0.95],\"type\":\"scatter\",\"xaxis\":\"x2\",\"yaxis\":\"y2\"},{\"line\":{\"color\":\"green\"},\"mode\":\"lines+markers\",\"name\":\"2023-01-05\",\"x\":[\"6:00\",\"8:00\",\"8:00\",\"10:00\",\"12:00\",\"12:00\",\"13:00\",\"14:00\",\"17:00\",\"19:00\",\"20:00\"],\"y\":[0.95,0.97,0.95,0.95,0.95,0.94,0.96,0.95,0.95,0.94,0.95],\"type\":\"scatter\",\"xaxis\":\"x3\",\"yaxis\":\"y3\"}],                        {\"template\":{\"data\":{\"histogram2dcontour\":[{\"type\":\"histogram2dcontour\",\"colorbar\":{\"outlinewidth\":0,\"ticks\":\"\"},\"colorscale\":[[0.0,\"#0d0887\"],[0.1111111111111111,\"#46039f\"],[0.2222222222222222,\"#7201a8\"],[0.3333333333333333,\"#9c179e\"],[0.4444444444444444,\"#bd3786\"],[0.5555555555555556,\"#d8576b\"],[0.6666666666666666,\"#ed7953\"],[0.7777777777777778,\"#fb9f3a\"],[0.8888888888888888,\"#fdca26\"],[1.0,\"#f0f921\"]]}],\"choropleth\":[{\"type\":\"choropleth\",\"colorbar\":{\"outlinewidth\":0,\"ticks\":\"\"}}],\"histogram2d\":[{\"type\":\"histogram2d\",\"colorbar\":{\"outlinewidth\":0,\"ticks\":\"\"},\"colorscale\":[[0.0,\"#0d0887\"],[0.1111111111111111,\"#46039f\"],[0.2222222222222222,\"#7201a8\"],[0.3333333333333333,\"#9c179e\"],[0.4444444444444444,\"#bd3786\"],[0.5555555555555556,\"#d8576b\"],[0.6666666666666666,\"#ed7953\"],[0.7777777777777778,\"#fb9f3a\"],[0.8888888888888888,\"#fdca26\"],[1.0,\"#f0f921\"]]}],\"heatmap\":[{\"type\":\"heatmap\",\"colorbar\":{\"outlinewidth\":0,\"ticks\":\"\"},\"colorscale\":[[0.0,\"#0d0887\"],[0.1111111111111111,\"#46039f\"],[0.2222222222222222,\"#7201a8\"],[0.3333333333333333,\"#9c179e\"],[0.4444444444444444,\"#bd3786\"],[0.5555555555555556,\"#d8576b\"],[0.6666666666666666,\"#ed7953\"],[0.7777777777777778,\"#fb9f3a\"],[0.8888888888888888,\"#fdca26\"],[1.0,\"#f0f921\"]]}],\"heatmapgl\":[{\"type\":\"heatmapgl\",\"colorbar\":{\"outlinewidth\":0,\"ticks\":\"\"},\"colorscale\":[[0.0,\"#0d0887\"],[0.1111111111111111,\"#46039f\"],[0.2222222222222222,\"#7201a8\"],[0.3333333333333333,\"#9c179e\"],[0.4444444444444444,\"#bd3786\"],[0.5555555555555556,\"#d8576b\"],[0.6666666666666666,\"#ed7953\"],[0.7777777777777778,\"#fb9f3a\"],[0.8888888888888888,\"#fdca26\"],[1.0,\"#f0f921\"]]}],\"contourcarpet\":[{\"type\":\"contourcarpet\",\"colorbar\":{\"outlinewidth\":0,\"ticks\":\"\"}}],\"contour\":[{\"type\":\"contour\",\"colorbar\":{\"outlinewidth\":0,\"ticks\":\"\"},\"colorscale\":[[0.0,\"#0d0887\"],[0.1111111111111111,\"#46039f\"],[0.2222222222222222,\"#7201a8\"],[0.3333333333333333,\"#9c179e\"],[0.4444444444444444,\"#bd3786\"],[0.5555555555555556,\"#d8576b\"],[0.6666666666666666,\"#ed7953\"],[0.7777777777777778,\"#fb9f3a\"],[0.8888888888888888,\"#fdca26\"],[1.0,\"#f0f921\"]]}],\"surface\":[{\"type\":\"surface\",\"colorbar\":{\"outlinewidth\":0,\"ticks\":\"\"},\"colorscale\":[[0.0,\"#0d0887\"],[0.1111111111111111,\"#46039f\"],[0.2222222222222222,\"#7201a8\"],[0.3333333333333333,\"#9c179e\"],[0.4444444444444444,\"#bd3786\"],[0.5555555555555556,\"#d8576b\"],[0.6666666666666666,\"#ed7953\"],[0.7777777777777778,\"#fb9f3a\"],[0.8888888888888888,\"#fdca26\"],[1.0,\"#f0f921\"]]}],\"mesh3d\":[{\"type\":\"mesh3d\",\"colorbar\":{\"outlinewidth\":0,\"ticks\":\"\"}}],\"scatter\":[{\"fillpattern\":{\"fillmode\":\"overlay\",\"size\":10,\"solidity\":0.2},\"type\":\"scatter\"}],\"parcoords\":[{\"type\":\"parcoords\",\"line\":{\"colorbar\":{\"outlinewidth\":0,\"ticks\":\"\"}}}],\"scatterpolargl\":[{\"type\":\"scatterpolargl\",\"marker\":{\"colorbar\":{\"outlinewidth\":0,\"ticks\":\"\"}}}],\"bar\":[{\"error_x\":{\"color\":\"#2a3f5f\"},\"error_y\":{\"color\":\"#2a3f5f\"},\"marker\":{\"line\":{\"color\":\"#E5ECF6\",\"width\":0.5},\"pattern\":{\"fillmode\":\"overlay\",\"size\":10,\"solidity\":0.2}},\"type\":\"bar\"}],\"scattergeo\":[{\"type\":\"scattergeo\",\"marker\":{\"colorbar\":{\"outlinewidth\":0,\"ticks\":\"\"}}}],\"scatterpolar\":[{\"type\":\"scatterpolar\",\"marker\":{\"colorbar\":{\"outlinewidth\":0,\"ticks\":\"\"}}}],\"histogram\":[{\"marker\":{\"pattern\":{\"fillmode\":\"overlay\",\"size\":10,\"solidity\":0.2}},\"type\":\"histogram\"}],\"scattergl\":[{\"type\":\"scattergl\",\"marker\":{\"colorbar\":{\"outlinewidth\":0,\"ticks\":\"\"}}}],\"scatter3d\":[{\"type\":\"scatter3d\",\"line\":{\"colorbar\":{\"outlinewidth\":0,\"ticks\":\"\"}},\"marker\":{\"colorbar\":{\"outlinewidth\":0,\"ticks\":\"\"}}}],\"scattermapbox\":[{\"type\":\"scattermapbox\",\"marker\":{\"colorbar\":{\"outlinewidth\":0,\"ticks\":\"\"}}}],\"scatterternary\":[{\"type\":\"scatterternary\",\"marker\":{\"colorbar\":{\"outlinewidth\":0,\"ticks\":\"\"}}}],\"scattercarpet\":[{\"type\":\"scattercarpet\",\"marker\":{\"colorbar\":{\"outlinewidth\":0,\"ticks\":\"\"}}}],\"carpet\":[{\"aaxis\":{\"endlinecolor\":\"#2a3f5f\",\"gridcolor\":\"white\",\"linecolor\":\"white\",\"minorgridcolor\":\"white\",\"startlinecolor\":\"#2a3f5f\"},\"baxis\":{\"endlinecolor\":\"#2a3f5f\",\"gridcolor\":\"white\",\"linecolor\":\"white\",\"minorgridcolor\":\"white\",\"startlinecolor\":\"#2a3f5f\"},\"type\":\"carpet\"}],\"table\":[{\"cells\":{\"fill\":{\"color\":\"#EBF0F8\"},\"line\":{\"color\":\"white\"}},\"header\":{\"fill\":{\"color\":\"#C8D4E3\"},\"line\":{\"color\":\"white\"}},\"type\":\"table\"}],\"barpolar\":[{\"marker\":{\"line\":{\"color\":\"#E5ECF6\",\"width\":0.5},\"pattern\":{\"fillmode\":\"overlay\",\"size\":10,\"solidity\":0.2}},\"type\":\"barpolar\"}],\"pie\":[{\"automargin\":true,\"type\":\"pie\"}]},\"layout\":{\"autotypenumbers\":\"strict\",\"colorway\":[\"#636efa\",\"#EF553B\",\"#00cc96\",\"#ab63fa\",\"#FFA15A\",\"#19d3f3\",\"#FF6692\",\"#B6E880\",\"#FF97FF\",\"#FECB52\"],\"font\":{\"color\":\"#2a3f5f\"},\"hovermode\":\"closest\",\"hoverlabel\":{\"align\":\"left\"},\"paper_bgcolor\":\"white\",\"plot_bgcolor\":\"#E5ECF6\",\"polar\":{\"bgcolor\":\"#E5ECF6\",\"angularaxis\":{\"gridcolor\":\"white\",\"linecolor\":\"white\",\"ticks\":\"\"},\"radialaxis\":{\"gridcolor\":\"white\",\"linecolor\":\"white\",\"ticks\":\"\"}},\"ternary\":{\"bgcolor\":\"#E5ECF6\",\"aaxis\":{\"gridcolor\":\"white\",\"linecolor\":\"white\",\"ticks\":\"\"},\"baxis\":{\"gridcolor\":\"white\",\"linecolor\":\"white\",\"ticks\":\"\"},\"caxis\":{\"gridcolor\":\"white\",\"linecolor\":\"white\",\"ticks\":\"\"}},\"coloraxis\":{\"colorbar\":{\"outlinewidth\":0,\"ticks\":\"\"}},\"colorscale\":{\"sequential\":[[0.0,\"#0d0887\"],[0.1111111111111111,\"#46039f\"],[0.2222222222222222,\"#7201a8\"],[0.3333333333333333,\"#9c179e\"],[0.4444444444444444,\"#bd3786\"],[0.5555555555555556,\"#d8576b\"],[0.6666666666666666,\"#ed7953\"],[0.7777777777777778,\"#fb9f3a\"],[0.8888888888888888,\"#fdca26\"],[1.0,\"#f0f921\"]],\"sequentialminus\":[[0.0,\"#0d0887\"],[0.1111111111111111,\"#46039f\"],[0.2222222222222222,\"#7201a8\"],[0.3333333333333333,\"#9c179e\"],[0.4444444444444444,\"#bd3786\"],[0.5555555555555556,\"#d8576b\"],[0.6666666666666666,\"#ed7953\"],[0.7777777777777778,\"#fb9f3a\"],[0.8888888888888888,\"#fdca26\"],[1.0,\"#f0f921\"]],\"diverging\":[[0,\"#8e0152\"],[0.1,\"#c51b7d\"],[0.2,\"#de77ae\"],[0.3,\"#f1b6da\"],[0.4,\"#fde0ef\"],[0.5,\"#f7f7f7\"],[0.6,\"#e6f5d0\"],[0.7,\"#b8e186\"],[0.8,\"#7fbc41\"],[0.9,\"#4d9221\"],[1,\"#276419\"]]},\"xaxis\":{\"gridcolor\":\"white\",\"linecolor\":\"white\",\"ticks\":\"\",\"title\":{\"standoff\":15},\"zerolinecolor\":\"white\",\"automargin\":true,\"zerolinewidth\":2},\"yaxis\":{\"gridcolor\":\"white\",\"linecolor\":\"white\",\"ticks\":\"\",\"title\":{\"standoff\":15},\"zerolinecolor\":\"white\",\"automargin\":true,\"zerolinewidth\":2},\"scene\":{\"xaxis\":{\"backgroundcolor\":\"#E5ECF6\",\"gridcolor\":\"white\",\"linecolor\":\"white\",\"showbackground\":true,\"ticks\":\"\",\"zerolinecolor\":\"white\",\"gridwidth\":2},\"yaxis\":{\"backgroundcolor\":\"#E5ECF6\",\"gridcolor\":\"white\",\"linecolor\":\"white\",\"showbackground\":true,\"ticks\":\"\",\"zerolinecolor\":\"white\",\"gridwidth\":2},\"zaxis\":{\"backgroundcolor\":\"#E5ECF6\",\"gridcolor\":\"white\",\"linecolor\":\"white\",\"showbackground\":true,\"ticks\":\"\",\"zerolinecolor\":\"white\",\"gridwidth\":2}},\"shapedefaults\":{\"line\":{\"color\":\"#2a3f5f\"}},\"annotationdefaults\":{\"arrowcolor\":\"#2a3f5f\",\"arrowhead\":0,\"arrowwidth\":1},\"geo\":{\"bgcolor\":\"white\",\"landcolor\":\"#E5ECF6\",\"subunitcolor\":\"white\",\"showland\":true,\"showlakes\":true,\"lakecolor\":\"white\"},\"title\":{\"x\":0.05},\"mapbox\":{\"style\":\"light\"}}},\"xaxis\":{\"anchor\":\"y\",\"domain\":[0.0,0.2888888888888889],\"title\":{\"text\":\"Hour\"},\"tickangle\":45},\"yaxis\":{\"anchor\":\"x\",\"domain\":[0.0,1.0],\"title\":{\"text\":\"Mean Oxygen Saturation\"}},\"xaxis2\":{\"anchor\":\"y2\",\"domain\":[0.35555555555555557,0.6444444444444445],\"title\":{\"text\":\"Hour\"},\"tickangle\":45},\"yaxis2\":{\"anchor\":\"x2\",\"domain\":[0.0,1.0]},\"xaxis3\":{\"anchor\":\"y3\",\"domain\":[0.7111111111111111,1.0],\"title\":{\"text\":\"Hour\"},\"tickangle\":45},\"yaxis3\":{\"anchor\":\"x3\",\"domain\":[0.0,1.0]},\"annotations\":[{\"font\":{\"size\":16},\"showarrow\":false,\"text\":\"2023-01-03\",\"x\":0.14444444444444446,\"xanchor\":\"center\",\"xref\":\"paper\",\"y\":1.0,\"yanchor\":\"bottom\",\"yref\":\"paper\"},{\"font\":{\"size\":16},\"showarrow\":false,\"text\":\"2023-01-04\",\"x\":0.5,\"xanchor\":\"center\",\"xref\":\"paper\",\"y\":1.0,\"yanchor\":\"bottom\",\"yref\":\"paper\"},{\"font\":{\"size\":16},\"showarrow\":false,\"text\":\"2023-01-05\",\"x\":0.8555555555555556,\"xanchor\":\"center\",\"xref\":\"paper\",\"y\":1.0,\"yanchor\":\"bottom\",\"yref\":\"paper\"}],\"title\":{\"text\":\"Mean SpO2 per Hour | Three Days\"}},                        {\"responsive\": true}                    ).then(function(){\n",
       "                            \n",
       "var gd = document.getElementById('1ef4ed20-7f29-473a-92d6-73b7a27d81c2');\n",
       "var x = new MutationObserver(function (mutations, observer) {{\n",
       "        var display = window.getComputedStyle(gd).display;\n",
       "        if (!display || display === 'none') {{\n",
       "            console.log([gd, 'removed!']);\n",
       "            Plotly.purge(gd);\n",
       "            observer.disconnect();\n",
       "        }}\n",
       "}});\n",
       "\n",
       "// Listen for the removal of the full notebook cells\n",
       "var notebookContainer = gd.closest('#notebook-container');\n",
       "if (notebookContainer) {{\n",
       "    x.observe(notebookContainer, {childList: true});\n",
       "}}\n",
       "\n",
       "// Listen for the clearing of the current output cell\n",
       "var outputEl = gd.closest('.output');\n",
       "if (outputEl) {{\n",
       "    x.observe(outputEl, {childList: true});\n",
       "}}\n",
       "\n",
       "                        })                };                });            </script>        </div>"
      ]
     },
     "metadata": {},
     "output_type": "display_data"
    }
   ],
   "source": [
    "import pandas as pd\n",
    "import plotly.graph_objects as go\n",
    "from plotly.subplots import make_subplots\n",
    "# Read the CSV file\n",
    "meanDF = pd.read_csv('../data/descriptive_statistics/mean_spo2_three_days.csv')\n",
    "\n",
    "dates = meanDF['date'].unique()\n",
    "colors = ['red', 'blue', 'green']\n",
    "\n",
    "fig = make_subplots(rows=1, cols=3, subplot_titles=dates)\n",
    "\n",
    "# Loop over unique dates\n",
    "for i, date in enumerate(dates):\n",
    "    # Filter DataFrame for the current date\n",
    "    dfDate = meanDF[meanDF['date'] == date].sort_values('hour')\n",
    "    # Convert 'hour' to string and append \":00\"\n",
    "    dfDate['hour'] = dfDate['hour'].astype(str) + \":00\"\n",
    "\n",
    "    # Add a trace for the current date\n",
    "    fig.add_trace(go.Scatter(\n",
    "        x=dfDate['hour'],\n",
    "        y=dfDate['SpO2'],\n",
    "        mode='lines+markers',\n",
    "        name=date,\n",
    "        line=dict(color=colors[i % len(colors)])  # Cycle through colors\n",
    "    ), row=1, col=i+1)\n",
    "\n",
    "    # Update x-axis labels for each subplot\n",
    "    fig.update_xaxes(title_text='Hour', tickangle=45, row=1, col=i+1)\n",
    "\n",
    "fig.update_yaxes(title_text='Mean Oxygen Saturation', row=1, col=1)\n",
    "# Add title and move legend to top right\n",
    "fig.update_layout(\n",
    "    title_text='Mean SpO2 per Hour | Three Days'\n",
    ")\n",
    "\n",
    "\n",
    "\n",
    "fig.show()"
   ]
  },
  {
   "cell_type": "markdown",
   "metadata": {},
   "source": [
    "### Heart Rate and Steps 3 Days - Box"
   ]
  },
  {
   "cell_type": "code",
   "execution_count": 12,
   "metadata": {},
   "outputs": [
    {
     "data": {
      "application/vnd.plotly.v1+json": {
       "config": {
        "plotlyServerURL": "https://plot.ly"
       },
       "data": [
        {
         "base": [
          64,
          59,
          60,
          71,
          62,
          64,
          66,
          70,
          67,
          71,
          72,
          68.7317,
          60,
          60
         ],
         "customdata": [
          77,
          72,
          92,
          87,
          105,
          83,
          77,
          86,
          99,
          98,
          84,
          71,
          74,
          76
         ],
         "hovertemplate": "<b>Hour</b>: %{x}<br><b>Min Heart Rate</b>: %{base}<br><b>Max Heart Rate</b>: %{customdata}<br><b>Range</b>: %{y}<extra></extra>",
         "marker": {
          "color": "red"
         },
         "name": "2023-01-03",
         "type": "bar",
         "x": [
          "10:00",
          "11:00",
          "12:00",
          "13:00",
          "14:00",
          "15:00",
          "16:00",
          "17:00",
          "18:00",
          "19:00",
          "20:00",
          "7:00",
          "8:00",
          "9:00"
         ],
         "xaxis": "x",
         "y": [
          13,
          13,
          32,
          16,
          43,
          19,
          11,
          16,
          32,
          27,
          12,
          2.2682999999999964,
          14,
          16
         ],
         "yaxis": "y"
        },
        {
         "base": [
          4,
          18,
          14,
          91,
          8,
          57,
          16,
          3,
          50,
          64,
          44,
          8,
          160,
          47
         ],
         "customdata": [
          4,
          98,
          120,
          174,
          123,
          111,
          187,
          124,
          90,
          64,
          44,
          105,
          160,
          47
         ],
         "hovertemplate": "<b>Hour</b>: %{x}<br><b>Min Steps</b>: %{base}<br><b>Max Steps</b>: %{customdata}<br><b>Range</b>: %{y}<extra></extra>",
         "marker": {
          "color": "red"
         },
         "name": "2023-01-03",
         "showlegend": false,
         "type": "bar",
         "x": [
          "10:00",
          "11:00",
          "12:00",
          "14:00",
          "15:00",
          "16:00",
          "17:00",
          "18:00",
          "19:00",
          "20:00",
          "6:00",
          "7:00",
          "8:00",
          "9:00"
         ],
         "xaxis": "x4",
         "y": [
          0,
          80,
          106,
          83,
          115,
          54,
          171,
          121,
          40,
          0,
          0,
          97,
          0,
          0
         ],
         "yaxis": "y4"
        },
        {
         "base": [
          64,
          63,
          60,
          64,
          62,
          91,
          72,
          73,
          68,
          78,
          80,
          62,
          60,
          56
         ],
         "customdata": [
          72,
          85,
          81,
          83,
          109,
          99,
          95,
          82,
          107,
          98,
          91,
          77,
          74,
          87
         ],
         "hovertemplate": "<b>Hour</b>: %{x}<br><b>Min Heart Rate</b>: %{base}<br><b>Max Heart Rate</b>: %{customdata}<br><b>Range</b>: %{y}<extra></extra>",
         "marker": {
          "color": "blue"
         },
         "name": "2023-01-04",
         "type": "bar",
         "x": [
          "10:00",
          "11:00",
          "12:00",
          "13:00",
          "14:00",
          "15:00",
          "16:00",
          "17:00",
          "18:00",
          "19:00",
          "20:00",
          "7:00",
          "8:00",
          "9:00"
         ],
         "xaxis": "x2",
         "y": [
          8,
          22,
          21,
          19,
          47,
          8,
          23,
          9,
          39,
          20,
          11,
          15,
          14,
          31
         ],
         "yaxis": "y2"
        },
        {
         "base": [
          46,
          94,
          114,
          10,
          11,
          6,
          10,
          25,
          26,
          8,
          60,
          13,
          4,
          64,
          16
         ],
         "customdata": [
          46,
          145,
          173,
          66,
          292,
          71,
          45,
          120,
          297,
          46,
          84,
          174,
          94,
          187,
          16
         ],
         "hovertemplate": "<b>Hour</b>: %{x}<br><b>Min Steps</b>: %{base}<br><b>Max Steps</b>: %{customdata}<br><b>Range</b>: %{y}<extra></extra>",
         "marker": {
          "color": "blue"
         },
         "name": "2023-01-04",
         "showlegend": false,
         "type": "bar",
         "x": [
          "10:00",
          "11:00",
          "12:00",
          "13:00",
          "14:00",
          "15:00",
          "16:00",
          "17:00",
          "18:00",
          "19:00",
          "20:00",
          "6:00",
          "7:00",
          "8:00",
          "9:00"
         ],
         "xaxis": "x5",
         "y": [
          0,
          51,
          59,
          56,
          281,
          65,
          35,
          95,
          271,
          38,
          24,
          161,
          90,
          123,
          0
         ],
         "yaxis": "y5"
        },
        {
         "base": [
          59,
          63,
          57,
          66,
          59,
          69,
          64,
          63,
          64,
          72,
          68,
          60,
          55,
          59,
          65
         ],
         "customdata": [
          74,
          73,
          86,
          75,
          118,
          84,
          87,
          90,
          92,
          102,
          100,
          128,
          71,
          90,
          80
         ],
         "hovertemplate": "<b>Hour</b>: %{x}<br><b>Min Heart Rate</b>: %{base}<br><b>Max Heart Rate</b>: %{customdata}<br><b>Range</b>: %{y}<extra></extra>",
         "marker": {
          "color": "green"
         },
         "name": "2023-01-05",
         "type": "bar",
         "x": [
          "10:00",
          "11:00",
          "12:00",
          "13:00",
          "14:00",
          "15:00",
          "16:00",
          "17:00",
          "18:00",
          "19:00",
          "20:00",
          "6:00",
          "7:00",
          "8:00",
          "9:00"
         ],
         "xaxis": "x3",
         "y": [
          15,
          10,
          29,
          9,
          59,
          15,
          23,
          27,
          28,
          30,
          32,
          68,
          16,
          31,
          15
         ],
         "yaxis": "y3"
        },
        {
         "base": [
          10,
          10,
          38,
          58,
          93,
          12,
          5,
          30,
          16,
          51,
          9,
          18
         ],
         "customdata": [
          10,
          180,
          130,
          595,
          298,
          113,
          232,
          89,
          41,
          62,
          151,
          140
         ],
         "hovertemplate": "<b>Hour</b>: %{x}<br><b>Min Steps</b>: %{base}<br><b>Max Steps</b>: %{customdata}<br><b>Range</b>: %{y}<extra></extra>",
         "marker": {
          "color": "green"
         },
         "name": "2023-01-05",
         "showlegend": false,
         "type": "bar",
         "x": [
          "10:00",
          "11:00",
          "12:00",
          "14:00",
          "15:00",
          "16:00",
          "17:00",
          "18:00",
          "19:00",
          "20:00",
          "6:00",
          "8:00"
         ],
         "xaxis": "x6",
         "y": [
          0,
          170,
          92,
          537,
          205,
          101,
          227,
          59,
          25,
          11,
          142,
          122
         ],
         "yaxis": "y6"
        }
       ],
       "layout": {
        "annotations": [
         {
          "font": {
           "size": 16
          },
          "showarrow": false,
          "text": "Heart Rate 2023-01-03",
          "x": 0.14444444444444446,
          "xanchor": "center",
          "xref": "paper",
          "y": 1,
          "yanchor": "bottom",
          "yref": "paper"
         },
         {
          "font": {
           "size": 16
          },
          "showarrow": false,
          "text": "Heart Rate 2023-01-04",
          "x": 0.5,
          "xanchor": "center",
          "xref": "paper",
          "y": 1,
          "yanchor": "bottom",
          "yref": "paper"
         },
         {
          "font": {
           "size": 16
          },
          "showarrow": false,
          "text": "Heart Rate 2023-01-05",
          "x": 0.8555555555555556,
          "xanchor": "center",
          "xref": "paper",
          "y": 1,
          "yanchor": "bottom",
          "yref": "paper"
         },
         {
          "font": {
           "size": 16
          },
          "showarrow": false,
          "text": "Steps 2023-01-03",
          "x": 0.14444444444444446,
          "xanchor": "center",
          "xref": "paper",
          "y": 0.375,
          "yanchor": "bottom",
          "yref": "paper"
         },
         {
          "font": {
           "size": 16
          },
          "showarrow": false,
          "text": "Steps 2023-01-04",
          "x": 0.5,
          "xanchor": "center",
          "xref": "paper",
          "y": 0.375,
          "yanchor": "bottom",
          "yref": "paper"
         },
         {
          "font": {
           "size": 16
          },
          "showarrow": false,
          "text": "Steps 2023-01-05",
          "x": 0.8555555555555556,
          "xanchor": "center",
          "xref": "paper",
          "y": 0.375,
          "yanchor": "bottom",
          "yref": "paper"
         }
        ],
        "height": 800,
        "template": {
         "data": {
          "bar": [
           {
            "error_x": {
             "color": "#2a3f5f"
            },
            "error_y": {
             "color": "#2a3f5f"
            },
            "marker": {
             "line": {
              "color": "#E5ECF6",
              "width": 0.5
             },
             "pattern": {
              "fillmode": "overlay",
              "size": 10,
              "solidity": 0.2
             }
            },
            "type": "bar"
           }
          ],
          "barpolar": [
           {
            "marker": {
             "line": {
              "color": "#E5ECF6",
              "width": 0.5
             },
             "pattern": {
              "fillmode": "overlay",
              "size": 10,
              "solidity": 0.2
             }
            },
            "type": "barpolar"
           }
          ],
          "carpet": [
           {
            "aaxis": {
             "endlinecolor": "#2a3f5f",
             "gridcolor": "white",
             "linecolor": "white",
             "minorgridcolor": "white",
             "startlinecolor": "#2a3f5f"
            },
            "baxis": {
             "endlinecolor": "#2a3f5f",
             "gridcolor": "white",
             "linecolor": "white",
             "minorgridcolor": "white",
             "startlinecolor": "#2a3f5f"
            },
            "type": "carpet"
           }
          ],
          "choropleth": [
           {
            "colorbar": {
             "outlinewidth": 0,
             "ticks": ""
            },
            "type": "choropleth"
           }
          ],
          "contour": [
           {
            "colorbar": {
             "outlinewidth": 0,
             "ticks": ""
            },
            "colorscale": [
             [
              0,
              "#0d0887"
             ],
             [
              0.1111111111111111,
              "#46039f"
             ],
             [
              0.2222222222222222,
              "#7201a8"
             ],
             [
              0.3333333333333333,
              "#9c179e"
             ],
             [
              0.4444444444444444,
              "#bd3786"
             ],
             [
              0.5555555555555556,
              "#d8576b"
             ],
             [
              0.6666666666666666,
              "#ed7953"
             ],
             [
              0.7777777777777778,
              "#fb9f3a"
             ],
             [
              0.8888888888888888,
              "#fdca26"
             ],
             [
              1,
              "#f0f921"
             ]
            ],
            "type": "contour"
           }
          ],
          "contourcarpet": [
           {
            "colorbar": {
             "outlinewidth": 0,
             "ticks": ""
            },
            "type": "contourcarpet"
           }
          ],
          "heatmap": [
           {
            "colorbar": {
             "outlinewidth": 0,
             "ticks": ""
            },
            "colorscale": [
             [
              0,
              "#0d0887"
             ],
             [
              0.1111111111111111,
              "#46039f"
             ],
             [
              0.2222222222222222,
              "#7201a8"
             ],
             [
              0.3333333333333333,
              "#9c179e"
             ],
             [
              0.4444444444444444,
              "#bd3786"
             ],
             [
              0.5555555555555556,
              "#d8576b"
             ],
             [
              0.6666666666666666,
              "#ed7953"
             ],
             [
              0.7777777777777778,
              "#fb9f3a"
             ],
             [
              0.8888888888888888,
              "#fdca26"
             ],
             [
              1,
              "#f0f921"
             ]
            ],
            "type": "heatmap"
           }
          ],
          "heatmapgl": [
           {
            "colorbar": {
             "outlinewidth": 0,
             "ticks": ""
            },
            "colorscale": [
             [
              0,
              "#0d0887"
             ],
             [
              0.1111111111111111,
              "#46039f"
             ],
             [
              0.2222222222222222,
              "#7201a8"
             ],
             [
              0.3333333333333333,
              "#9c179e"
             ],
             [
              0.4444444444444444,
              "#bd3786"
             ],
             [
              0.5555555555555556,
              "#d8576b"
             ],
             [
              0.6666666666666666,
              "#ed7953"
             ],
             [
              0.7777777777777778,
              "#fb9f3a"
             ],
             [
              0.8888888888888888,
              "#fdca26"
             ],
             [
              1,
              "#f0f921"
             ]
            ],
            "type": "heatmapgl"
           }
          ],
          "histogram": [
           {
            "marker": {
             "pattern": {
              "fillmode": "overlay",
              "size": 10,
              "solidity": 0.2
             }
            },
            "type": "histogram"
           }
          ],
          "histogram2d": [
           {
            "colorbar": {
             "outlinewidth": 0,
             "ticks": ""
            },
            "colorscale": [
             [
              0,
              "#0d0887"
             ],
             [
              0.1111111111111111,
              "#46039f"
             ],
             [
              0.2222222222222222,
              "#7201a8"
             ],
             [
              0.3333333333333333,
              "#9c179e"
             ],
             [
              0.4444444444444444,
              "#bd3786"
             ],
             [
              0.5555555555555556,
              "#d8576b"
             ],
             [
              0.6666666666666666,
              "#ed7953"
             ],
             [
              0.7777777777777778,
              "#fb9f3a"
             ],
             [
              0.8888888888888888,
              "#fdca26"
             ],
             [
              1,
              "#f0f921"
             ]
            ],
            "type": "histogram2d"
           }
          ],
          "histogram2dcontour": [
           {
            "colorbar": {
             "outlinewidth": 0,
             "ticks": ""
            },
            "colorscale": [
             [
              0,
              "#0d0887"
             ],
             [
              0.1111111111111111,
              "#46039f"
             ],
             [
              0.2222222222222222,
              "#7201a8"
             ],
             [
              0.3333333333333333,
              "#9c179e"
             ],
             [
              0.4444444444444444,
              "#bd3786"
             ],
             [
              0.5555555555555556,
              "#d8576b"
             ],
             [
              0.6666666666666666,
              "#ed7953"
             ],
             [
              0.7777777777777778,
              "#fb9f3a"
             ],
             [
              0.8888888888888888,
              "#fdca26"
             ],
             [
              1,
              "#f0f921"
             ]
            ],
            "type": "histogram2dcontour"
           }
          ],
          "mesh3d": [
           {
            "colorbar": {
             "outlinewidth": 0,
             "ticks": ""
            },
            "type": "mesh3d"
           }
          ],
          "parcoords": [
           {
            "line": {
             "colorbar": {
              "outlinewidth": 0,
              "ticks": ""
             }
            },
            "type": "parcoords"
           }
          ],
          "pie": [
           {
            "automargin": true,
            "type": "pie"
           }
          ],
          "scatter": [
           {
            "fillpattern": {
             "fillmode": "overlay",
             "size": 10,
             "solidity": 0.2
            },
            "type": "scatter"
           }
          ],
          "scatter3d": [
           {
            "line": {
             "colorbar": {
              "outlinewidth": 0,
              "ticks": ""
             }
            },
            "marker": {
             "colorbar": {
              "outlinewidth": 0,
              "ticks": ""
             }
            },
            "type": "scatter3d"
           }
          ],
          "scattercarpet": [
           {
            "marker": {
             "colorbar": {
              "outlinewidth": 0,
              "ticks": ""
             }
            },
            "type": "scattercarpet"
           }
          ],
          "scattergeo": [
           {
            "marker": {
             "colorbar": {
              "outlinewidth": 0,
              "ticks": ""
             }
            },
            "type": "scattergeo"
           }
          ],
          "scattergl": [
           {
            "marker": {
             "colorbar": {
              "outlinewidth": 0,
              "ticks": ""
             }
            },
            "type": "scattergl"
           }
          ],
          "scattermapbox": [
           {
            "marker": {
             "colorbar": {
              "outlinewidth": 0,
              "ticks": ""
             }
            },
            "type": "scattermapbox"
           }
          ],
          "scatterpolar": [
           {
            "marker": {
             "colorbar": {
              "outlinewidth": 0,
              "ticks": ""
             }
            },
            "type": "scatterpolar"
           }
          ],
          "scatterpolargl": [
           {
            "marker": {
             "colorbar": {
              "outlinewidth": 0,
              "ticks": ""
             }
            },
            "type": "scatterpolargl"
           }
          ],
          "scatterternary": [
           {
            "marker": {
             "colorbar": {
              "outlinewidth": 0,
              "ticks": ""
             }
            },
            "type": "scatterternary"
           }
          ],
          "surface": [
           {
            "colorbar": {
             "outlinewidth": 0,
             "ticks": ""
            },
            "colorscale": [
             [
              0,
              "#0d0887"
             ],
             [
              0.1111111111111111,
              "#46039f"
             ],
             [
              0.2222222222222222,
              "#7201a8"
             ],
             [
              0.3333333333333333,
              "#9c179e"
             ],
             [
              0.4444444444444444,
              "#bd3786"
             ],
             [
              0.5555555555555556,
              "#d8576b"
             ],
             [
              0.6666666666666666,
              "#ed7953"
             ],
             [
              0.7777777777777778,
              "#fb9f3a"
             ],
             [
              0.8888888888888888,
              "#fdca26"
             ],
             [
              1,
              "#f0f921"
             ]
            ],
            "type": "surface"
           }
          ],
          "table": [
           {
            "cells": {
             "fill": {
              "color": "#EBF0F8"
             },
             "line": {
              "color": "white"
             }
            },
            "header": {
             "fill": {
              "color": "#C8D4E3"
             },
             "line": {
              "color": "white"
             }
            },
            "type": "table"
           }
          ]
         },
         "layout": {
          "annotationdefaults": {
           "arrowcolor": "#2a3f5f",
           "arrowhead": 0,
           "arrowwidth": 1
          },
          "autotypenumbers": "strict",
          "coloraxis": {
           "colorbar": {
            "outlinewidth": 0,
            "ticks": ""
           }
          },
          "colorscale": {
           "diverging": [
            [
             0,
             "#8e0152"
            ],
            [
             0.1,
             "#c51b7d"
            ],
            [
             0.2,
             "#de77ae"
            ],
            [
             0.3,
             "#f1b6da"
            ],
            [
             0.4,
             "#fde0ef"
            ],
            [
             0.5,
             "#f7f7f7"
            ],
            [
             0.6,
             "#e6f5d0"
            ],
            [
             0.7,
             "#b8e186"
            ],
            [
             0.8,
             "#7fbc41"
            ],
            [
             0.9,
             "#4d9221"
            ],
            [
             1,
             "#276419"
            ]
           ],
           "sequential": [
            [
             0,
             "#0d0887"
            ],
            [
             0.1111111111111111,
             "#46039f"
            ],
            [
             0.2222222222222222,
             "#7201a8"
            ],
            [
             0.3333333333333333,
             "#9c179e"
            ],
            [
             0.4444444444444444,
             "#bd3786"
            ],
            [
             0.5555555555555556,
             "#d8576b"
            ],
            [
             0.6666666666666666,
             "#ed7953"
            ],
            [
             0.7777777777777778,
             "#fb9f3a"
            ],
            [
             0.8888888888888888,
             "#fdca26"
            ],
            [
             1,
             "#f0f921"
            ]
           ],
           "sequentialminus": [
            [
             0,
             "#0d0887"
            ],
            [
             0.1111111111111111,
             "#46039f"
            ],
            [
             0.2222222222222222,
             "#7201a8"
            ],
            [
             0.3333333333333333,
             "#9c179e"
            ],
            [
             0.4444444444444444,
             "#bd3786"
            ],
            [
             0.5555555555555556,
             "#d8576b"
            ],
            [
             0.6666666666666666,
             "#ed7953"
            ],
            [
             0.7777777777777778,
             "#fb9f3a"
            ],
            [
             0.8888888888888888,
             "#fdca26"
            ],
            [
             1,
             "#f0f921"
            ]
           ]
          },
          "colorway": [
           "#636efa",
           "#EF553B",
           "#00cc96",
           "#ab63fa",
           "#FFA15A",
           "#19d3f3",
           "#FF6692",
           "#B6E880",
           "#FF97FF",
           "#FECB52"
          ],
          "font": {
           "color": "#2a3f5f"
          },
          "geo": {
           "bgcolor": "white",
           "lakecolor": "white",
           "landcolor": "#E5ECF6",
           "showlakes": true,
           "showland": true,
           "subunitcolor": "white"
          },
          "hoverlabel": {
           "align": "left"
          },
          "hovermode": "closest",
          "mapbox": {
           "style": "light"
          },
          "paper_bgcolor": "white",
          "plot_bgcolor": "#E5ECF6",
          "polar": {
           "angularaxis": {
            "gridcolor": "white",
            "linecolor": "white",
            "ticks": ""
           },
           "bgcolor": "#E5ECF6",
           "radialaxis": {
            "gridcolor": "white",
            "linecolor": "white",
            "ticks": ""
           }
          },
          "scene": {
           "xaxis": {
            "backgroundcolor": "#E5ECF6",
            "gridcolor": "white",
            "gridwidth": 2,
            "linecolor": "white",
            "showbackground": true,
            "ticks": "",
            "zerolinecolor": "white"
           },
           "yaxis": {
            "backgroundcolor": "#E5ECF6",
            "gridcolor": "white",
            "gridwidth": 2,
            "linecolor": "white",
            "showbackground": true,
            "ticks": "",
            "zerolinecolor": "white"
           },
           "zaxis": {
            "backgroundcolor": "#E5ECF6",
            "gridcolor": "white",
            "gridwidth": 2,
            "linecolor": "white",
            "showbackground": true,
            "ticks": "",
            "zerolinecolor": "white"
           }
          },
          "shapedefaults": {
           "line": {
            "color": "#2a3f5f"
           }
          },
          "ternary": {
           "aaxis": {
            "gridcolor": "white",
            "linecolor": "white",
            "ticks": ""
           },
           "baxis": {
            "gridcolor": "white",
            "linecolor": "white",
            "ticks": ""
           },
           "bgcolor": "#E5ECF6",
           "caxis": {
            "gridcolor": "white",
            "linecolor": "white",
            "ticks": ""
           }
          },
          "title": {
           "x": 0.05
          },
          "xaxis": {
           "automargin": true,
           "gridcolor": "white",
           "linecolor": "white",
           "ticks": "",
           "title": {
            "standoff": 15
           },
           "zerolinecolor": "white",
           "zerolinewidth": 2
          },
          "yaxis": {
           "automargin": true,
           "gridcolor": "white",
           "linecolor": "white",
           "ticks": "",
           "title": {
            "standoff": 15
           },
           "zerolinecolor": "white",
           "zerolinewidth": 2
          }
         }
        },
        "title": {
         "text": "<b>Heart Rate and Steps Range per Hour | Three Days</b>",
         "x": 0.5
        },
        "xaxis": {
         "anchor": "y",
         "domain": [
          0,
          0.2888888888888889
         ]
        },
        "xaxis2": {
         "anchor": "y2",
         "domain": [
          0.35555555555555557,
          0.6444444444444445
         ]
        },
        "xaxis3": {
         "anchor": "y3",
         "domain": [
          0.7111111111111111,
          1
         ]
        },
        "xaxis4": {
         "anchor": "y4",
         "domain": [
          0,
          0.2888888888888889
         ]
        },
        "xaxis5": {
         "anchor": "y5",
         "domain": [
          0.35555555555555557,
          0.6444444444444445
         ],
         "title": {
          "text": "Time"
         }
        },
        "xaxis6": {
         "anchor": "y6",
         "domain": [
          0.7111111111111111,
          1
         ]
        },
        "yaxis": {
         "anchor": "x",
         "domain": [
          0.625,
          1
         ],
         "title": {
          "text": "Mean Heart Rate"
         }
        },
        "yaxis2": {
         "anchor": "x2",
         "domain": [
          0.625,
          1
         ]
        },
        "yaxis3": {
         "anchor": "x3",
         "domain": [
          0.625,
          1
         ]
        },
        "yaxis4": {
         "anchor": "x4",
         "domain": [
          0,
          0.375
         ],
         "title": {
          "text": "Mean Steps"
         }
        },
        "yaxis5": {
         "anchor": "x5",
         "domain": [
          0,
          0.375
         ]
        },
        "yaxis6": {
         "anchor": "x6",
         "domain": [
          0,
          0.375
         ]
        }
       }
      },
      "text/html": [
       "<div>                            <div id=\"605c3e59-2ff2-416d-bffd-664250980b73\" class=\"plotly-graph-div\" style=\"height:800px; width:100%;\"></div>            <script type=\"text/javascript\">                require([\"plotly\"], function(Plotly) {                    window.PLOTLYENV=window.PLOTLYENV || {};                                    if (document.getElementById(\"605c3e59-2ff2-416d-bffd-664250980b73\")) {                    Plotly.newPlot(                        \"605c3e59-2ff2-416d-bffd-664250980b73\",                        [{\"base\":[64.0,59.0,60.0,71.0,62.0,64.0,66.0,70.0,67.0,71.0,72.0,68.7317,60.0,60.0],\"customdata\":[77.0,72.0,92.0,87.0,105.0,83.0,77.0,86.0,99.0,98.0,84.0,71.0,74.0,76.0],\"hovertemplate\":\"\\u003cb\\u003eHour\\u003c\\u002fb\\u003e: %{x}\\u003cbr\\u003e\\u003cb\\u003eMin Heart Rate\\u003c\\u002fb\\u003e: %{base}\\u003cbr\\u003e\\u003cb\\u003eMax Heart Rate\\u003c\\u002fb\\u003e: %{customdata}\\u003cbr\\u003e\\u003cb\\u003eRange\\u003c\\u002fb\\u003e: %{y}\\u003cextra\\u003e\\u003c\\u002fextra\\u003e\",\"marker\":{\"color\":\"red\"},\"name\":\"2023-01-03\",\"x\":[\"10:00\",\"11:00\",\"12:00\",\"13:00\",\"14:00\",\"15:00\",\"16:00\",\"17:00\",\"18:00\",\"19:00\",\"20:00\",\"7:00\",\"8:00\",\"9:00\"],\"y\":[13.0,13.0,32.0,16.0,43.0,19.0,11.0,16.0,32.0,27.0,12.0,2.2682999999999964,14.0,16.0],\"type\":\"bar\",\"xaxis\":\"x\",\"yaxis\":\"y\"},{\"base\":[4,18,14,91,8,57,16,3,50,64,44,8,160,47],\"customdata\":[4,98,120,174,123,111,187,124,90,64,44,105,160,47],\"hovertemplate\":\"\\u003cb\\u003eHour\\u003c\\u002fb\\u003e: %{x}\\u003cbr\\u003e\\u003cb\\u003eMin Steps\\u003c\\u002fb\\u003e: %{base}\\u003cbr\\u003e\\u003cb\\u003eMax Steps\\u003c\\u002fb\\u003e: %{customdata}\\u003cbr\\u003e\\u003cb\\u003eRange\\u003c\\u002fb\\u003e: %{y}\\u003cextra\\u003e\\u003c\\u002fextra\\u003e\",\"marker\":{\"color\":\"red\"},\"name\":\"2023-01-03\",\"showlegend\":false,\"x\":[\"10:00\",\"11:00\",\"12:00\",\"14:00\",\"15:00\",\"16:00\",\"17:00\",\"18:00\",\"19:00\",\"20:00\",\"6:00\",\"7:00\",\"8:00\",\"9:00\"],\"y\":[0,80,106,83,115,54,171,121,40,0,0,97,0,0],\"type\":\"bar\",\"xaxis\":\"x4\",\"yaxis\":\"y4\"},{\"base\":[64.0,63.0,60.0,64.0,62.0,91.0,72.0,73.0,68.0,78.0,80.0,62.0,60.0,56.0],\"customdata\":[72.0,85.0,81.0,83.0,109.0,99.0,95.0,82.0,107.0,98.0,91.0,77.0,74.0,87.0],\"hovertemplate\":\"\\u003cb\\u003eHour\\u003c\\u002fb\\u003e: %{x}\\u003cbr\\u003e\\u003cb\\u003eMin Heart Rate\\u003c\\u002fb\\u003e: %{base}\\u003cbr\\u003e\\u003cb\\u003eMax Heart Rate\\u003c\\u002fb\\u003e: %{customdata}\\u003cbr\\u003e\\u003cb\\u003eRange\\u003c\\u002fb\\u003e: %{y}\\u003cextra\\u003e\\u003c\\u002fextra\\u003e\",\"marker\":{\"color\":\"blue\"},\"name\":\"2023-01-04\",\"x\":[\"10:00\",\"11:00\",\"12:00\",\"13:00\",\"14:00\",\"15:00\",\"16:00\",\"17:00\",\"18:00\",\"19:00\",\"20:00\",\"7:00\",\"8:00\",\"9:00\"],\"y\":[8.0,22.0,21.0,19.0,47.0,8.0,23.0,9.0,39.0,20.0,11.0,15.0,14.0,31.0],\"type\":\"bar\",\"xaxis\":\"x2\",\"yaxis\":\"y2\"},{\"base\":[46,94,114,10,11,6,10,25,26,8,60,13,4,64,16],\"customdata\":[46,145,173,66,292,71,45,120,297,46,84,174,94,187,16],\"hovertemplate\":\"\\u003cb\\u003eHour\\u003c\\u002fb\\u003e: %{x}\\u003cbr\\u003e\\u003cb\\u003eMin Steps\\u003c\\u002fb\\u003e: %{base}\\u003cbr\\u003e\\u003cb\\u003eMax Steps\\u003c\\u002fb\\u003e: %{customdata}\\u003cbr\\u003e\\u003cb\\u003eRange\\u003c\\u002fb\\u003e: %{y}\\u003cextra\\u003e\\u003c\\u002fextra\\u003e\",\"marker\":{\"color\":\"blue\"},\"name\":\"2023-01-04\",\"showlegend\":false,\"x\":[\"10:00\",\"11:00\",\"12:00\",\"13:00\",\"14:00\",\"15:00\",\"16:00\",\"17:00\",\"18:00\",\"19:00\",\"20:00\",\"6:00\",\"7:00\",\"8:00\",\"9:00\"],\"y\":[0,51,59,56,281,65,35,95,271,38,24,161,90,123,0],\"type\":\"bar\",\"xaxis\":\"x5\",\"yaxis\":\"y5\"},{\"base\":[59.0,63.0,57.0,66.0,59.0,69.0,64.0,63.0,64.0,72.0,68.0,60.0,55.0,59.0,65.0],\"customdata\":[74.0,73.0,86.0,75.0,118.0,84.0,87.0,90.0,92.0,102.0,100.0,128.0,71.0,90.0,80.0],\"hovertemplate\":\"\\u003cb\\u003eHour\\u003c\\u002fb\\u003e: %{x}\\u003cbr\\u003e\\u003cb\\u003eMin Heart Rate\\u003c\\u002fb\\u003e: %{base}\\u003cbr\\u003e\\u003cb\\u003eMax Heart Rate\\u003c\\u002fb\\u003e: %{customdata}\\u003cbr\\u003e\\u003cb\\u003eRange\\u003c\\u002fb\\u003e: %{y}\\u003cextra\\u003e\\u003c\\u002fextra\\u003e\",\"marker\":{\"color\":\"green\"},\"name\":\"2023-01-05\",\"x\":[\"10:00\",\"11:00\",\"12:00\",\"13:00\",\"14:00\",\"15:00\",\"16:00\",\"17:00\",\"18:00\",\"19:00\",\"20:00\",\"6:00\",\"7:00\",\"8:00\",\"9:00\"],\"y\":[15.0,10.0,29.0,9.0,59.0,15.0,23.0,27.0,28.0,30.0,32.0,68.0,16.0,31.0,15.0],\"type\":\"bar\",\"xaxis\":\"x3\",\"yaxis\":\"y3\"},{\"base\":[10,10,38,58,93,12,5,30,16,51,9,18],\"customdata\":[10,180,130,595,298,113,232,89,41,62,151,140],\"hovertemplate\":\"\\u003cb\\u003eHour\\u003c\\u002fb\\u003e: %{x}\\u003cbr\\u003e\\u003cb\\u003eMin Steps\\u003c\\u002fb\\u003e: %{base}\\u003cbr\\u003e\\u003cb\\u003eMax Steps\\u003c\\u002fb\\u003e: %{customdata}\\u003cbr\\u003e\\u003cb\\u003eRange\\u003c\\u002fb\\u003e: %{y}\\u003cextra\\u003e\\u003c\\u002fextra\\u003e\",\"marker\":{\"color\":\"green\"},\"name\":\"2023-01-05\",\"showlegend\":false,\"x\":[\"10:00\",\"11:00\",\"12:00\",\"14:00\",\"15:00\",\"16:00\",\"17:00\",\"18:00\",\"19:00\",\"20:00\",\"6:00\",\"8:00\"],\"y\":[0,170,92,537,205,101,227,59,25,11,142,122],\"type\":\"bar\",\"xaxis\":\"x6\",\"yaxis\":\"y6\"}],                        {\"template\":{\"data\":{\"histogram2dcontour\":[{\"type\":\"histogram2dcontour\",\"colorbar\":{\"outlinewidth\":0,\"ticks\":\"\"},\"colorscale\":[[0.0,\"#0d0887\"],[0.1111111111111111,\"#46039f\"],[0.2222222222222222,\"#7201a8\"],[0.3333333333333333,\"#9c179e\"],[0.4444444444444444,\"#bd3786\"],[0.5555555555555556,\"#d8576b\"],[0.6666666666666666,\"#ed7953\"],[0.7777777777777778,\"#fb9f3a\"],[0.8888888888888888,\"#fdca26\"],[1.0,\"#f0f921\"]]}],\"choropleth\":[{\"type\":\"choropleth\",\"colorbar\":{\"outlinewidth\":0,\"ticks\":\"\"}}],\"histogram2d\":[{\"type\":\"histogram2d\",\"colorbar\":{\"outlinewidth\":0,\"ticks\":\"\"},\"colorscale\":[[0.0,\"#0d0887\"],[0.1111111111111111,\"#46039f\"],[0.2222222222222222,\"#7201a8\"],[0.3333333333333333,\"#9c179e\"],[0.4444444444444444,\"#bd3786\"],[0.5555555555555556,\"#d8576b\"],[0.6666666666666666,\"#ed7953\"],[0.7777777777777778,\"#fb9f3a\"],[0.8888888888888888,\"#fdca26\"],[1.0,\"#f0f921\"]]}],\"heatmap\":[{\"type\":\"heatmap\",\"colorbar\":{\"outlinewidth\":0,\"ticks\":\"\"},\"colorscale\":[[0.0,\"#0d0887\"],[0.1111111111111111,\"#46039f\"],[0.2222222222222222,\"#7201a8\"],[0.3333333333333333,\"#9c179e\"],[0.4444444444444444,\"#bd3786\"],[0.5555555555555556,\"#d8576b\"],[0.6666666666666666,\"#ed7953\"],[0.7777777777777778,\"#fb9f3a\"],[0.8888888888888888,\"#fdca26\"],[1.0,\"#f0f921\"]]}],\"heatmapgl\":[{\"type\":\"heatmapgl\",\"colorbar\":{\"outlinewidth\":0,\"ticks\":\"\"},\"colorscale\":[[0.0,\"#0d0887\"],[0.1111111111111111,\"#46039f\"],[0.2222222222222222,\"#7201a8\"],[0.3333333333333333,\"#9c179e\"],[0.4444444444444444,\"#bd3786\"],[0.5555555555555556,\"#d8576b\"],[0.6666666666666666,\"#ed7953\"],[0.7777777777777778,\"#fb9f3a\"],[0.8888888888888888,\"#fdca26\"],[1.0,\"#f0f921\"]]}],\"contourcarpet\":[{\"type\":\"contourcarpet\",\"colorbar\":{\"outlinewidth\":0,\"ticks\":\"\"}}],\"contour\":[{\"type\":\"contour\",\"colorbar\":{\"outlinewidth\":0,\"ticks\":\"\"},\"colorscale\":[[0.0,\"#0d0887\"],[0.1111111111111111,\"#46039f\"],[0.2222222222222222,\"#7201a8\"],[0.3333333333333333,\"#9c179e\"],[0.4444444444444444,\"#bd3786\"],[0.5555555555555556,\"#d8576b\"],[0.6666666666666666,\"#ed7953\"],[0.7777777777777778,\"#fb9f3a\"],[0.8888888888888888,\"#fdca26\"],[1.0,\"#f0f921\"]]}],\"surface\":[{\"type\":\"surface\",\"colorbar\":{\"outlinewidth\":0,\"ticks\":\"\"},\"colorscale\":[[0.0,\"#0d0887\"],[0.1111111111111111,\"#46039f\"],[0.2222222222222222,\"#7201a8\"],[0.3333333333333333,\"#9c179e\"],[0.4444444444444444,\"#bd3786\"],[0.5555555555555556,\"#d8576b\"],[0.6666666666666666,\"#ed7953\"],[0.7777777777777778,\"#fb9f3a\"],[0.8888888888888888,\"#fdca26\"],[1.0,\"#f0f921\"]]}],\"mesh3d\":[{\"type\":\"mesh3d\",\"colorbar\":{\"outlinewidth\":0,\"ticks\":\"\"}}],\"scatter\":[{\"fillpattern\":{\"fillmode\":\"overlay\",\"size\":10,\"solidity\":0.2},\"type\":\"scatter\"}],\"parcoords\":[{\"type\":\"parcoords\",\"line\":{\"colorbar\":{\"outlinewidth\":0,\"ticks\":\"\"}}}],\"scatterpolargl\":[{\"type\":\"scatterpolargl\",\"marker\":{\"colorbar\":{\"outlinewidth\":0,\"ticks\":\"\"}}}],\"bar\":[{\"error_x\":{\"color\":\"#2a3f5f\"},\"error_y\":{\"color\":\"#2a3f5f\"},\"marker\":{\"line\":{\"color\":\"#E5ECF6\",\"width\":0.5},\"pattern\":{\"fillmode\":\"overlay\",\"size\":10,\"solidity\":0.2}},\"type\":\"bar\"}],\"scattergeo\":[{\"type\":\"scattergeo\",\"marker\":{\"colorbar\":{\"outlinewidth\":0,\"ticks\":\"\"}}}],\"scatterpolar\":[{\"type\":\"scatterpolar\",\"marker\":{\"colorbar\":{\"outlinewidth\":0,\"ticks\":\"\"}}}],\"histogram\":[{\"marker\":{\"pattern\":{\"fillmode\":\"overlay\",\"size\":10,\"solidity\":0.2}},\"type\":\"histogram\"}],\"scattergl\":[{\"type\":\"scattergl\",\"marker\":{\"colorbar\":{\"outlinewidth\":0,\"ticks\":\"\"}}}],\"scatter3d\":[{\"type\":\"scatter3d\",\"line\":{\"colorbar\":{\"outlinewidth\":0,\"ticks\":\"\"}},\"marker\":{\"colorbar\":{\"outlinewidth\":0,\"ticks\":\"\"}}}],\"scattermapbox\":[{\"type\":\"scattermapbox\",\"marker\":{\"colorbar\":{\"outlinewidth\":0,\"ticks\":\"\"}}}],\"scatterternary\":[{\"type\":\"scatterternary\",\"marker\":{\"colorbar\":{\"outlinewidth\":0,\"ticks\":\"\"}}}],\"scattercarpet\":[{\"type\":\"scattercarpet\",\"marker\":{\"colorbar\":{\"outlinewidth\":0,\"ticks\":\"\"}}}],\"carpet\":[{\"aaxis\":{\"endlinecolor\":\"#2a3f5f\",\"gridcolor\":\"white\",\"linecolor\":\"white\",\"minorgridcolor\":\"white\",\"startlinecolor\":\"#2a3f5f\"},\"baxis\":{\"endlinecolor\":\"#2a3f5f\",\"gridcolor\":\"white\",\"linecolor\":\"white\",\"minorgridcolor\":\"white\",\"startlinecolor\":\"#2a3f5f\"},\"type\":\"carpet\"}],\"table\":[{\"cells\":{\"fill\":{\"color\":\"#EBF0F8\"},\"line\":{\"color\":\"white\"}},\"header\":{\"fill\":{\"color\":\"#C8D4E3\"},\"line\":{\"color\":\"white\"}},\"type\":\"table\"}],\"barpolar\":[{\"marker\":{\"line\":{\"color\":\"#E5ECF6\",\"width\":0.5},\"pattern\":{\"fillmode\":\"overlay\",\"size\":10,\"solidity\":0.2}},\"type\":\"barpolar\"}],\"pie\":[{\"automargin\":true,\"type\":\"pie\"}]},\"layout\":{\"autotypenumbers\":\"strict\",\"colorway\":[\"#636efa\",\"#EF553B\",\"#00cc96\",\"#ab63fa\",\"#FFA15A\",\"#19d3f3\",\"#FF6692\",\"#B6E880\",\"#FF97FF\",\"#FECB52\"],\"font\":{\"color\":\"#2a3f5f\"},\"hovermode\":\"closest\",\"hoverlabel\":{\"align\":\"left\"},\"paper_bgcolor\":\"white\",\"plot_bgcolor\":\"#E5ECF6\",\"polar\":{\"bgcolor\":\"#E5ECF6\",\"angularaxis\":{\"gridcolor\":\"white\",\"linecolor\":\"white\",\"ticks\":\"\"},\"radialaxis\":{\"gridcolor\":\"white\",\"linecolor\":\"white\",\"ticks\":\"\"}},\"ternary\":{\"bgcolor\":\"#E5ECF6\",\"aaxis\":{\"gridcolor\":\"white\",\"linecolor\":\"white\",\"ticks\":\"\"},\"baxis\":{\"gridcolor\":\"white\",\"linecolor\":\"white\",\"ticks\":\"\"},\"caxis\":{\"gridcolor\":\"white\",\"linecolor\":\"white\",\"ticks\":\"\"}},\"coloraxis\":{\"colorbar\":{\"outlinewidth\":0,\"ticks\":\"\"}},\"colorscale\":{\"sequential\":[[0.0,\"#0d0887\"],[0.1111111111111111,\"#46039f\"],[0.2222222222222222,\"#7201a8\"],[0.3333333333333333,\"#9c179e\"],[0.4444444444444444,\"#bd3786\"],[0.5555555555555556,\"#d8576b\"],[0.6666666666666666,\"#ed7953\"],[0.7777777777777778,\"#fb9f3a\"],[0.8888888888888888,\"#fdca26\"],[1.0,\"#f0f921\"]],\"sequentialminus\":[[0.0,\"#0d0887\"],[0.1111111111111111,\"#46039f\"],[0.2222222222222222,\"#7201a8\"],[0.3333333333333333,\"#9c179e\"],[0.4444444444444444,\"#bd3786\"],[0.5555555555555556,\"#d8576b\"],[0.6666666666666666,\"#ed7953\"],[0.7777777777777778,\"#fb9f3a\"],[0.8888888888888888,\"#fdca26\"],[1.0,\"#f0f921\"]],\"diverging\":[[0,\"#8e0152\"],[0.1,\"#c51b7d\"],[0.2,\"#de77ae\"],[0.3,\"#f1b6da\"],[0.4,\"#fde0ef\"],[0.5,\"#f7f7f7\"],[0.6,\"#e6f5d0\"],[0.7,\"#b8e186\"],[0.8,\"#7fbc41\"],[0.9,\"#4d9221\"],[1,\"#276419\"]]},\"xaxis\":{\"gridcolor\":\"white\",\"linecolor\":\"white\",\"ticks\":\"\",\"title\":{\"standoff\":15},\"zerolinecolor\":\"white\",\"automargin\":true,\"zerolinewidth\":2},\"yaxis\":{\"gridcolor\":\"white\",\"linecolor\":\"white\",\"ticks\":\"\",\"title\":{\"standoff\":15},\"zerolinecolor\":\"white\",\"automargin\":true,\"zerolinewidth\":2},\"scene\":{\"xaxis\":{\"backgroundcolor\":\"#E5ECF6\",\"gridcolor\":\"white\",\"linecolor\":\"white\",\"showbackground\":true,\"ticks\":\"\",\"zerolinecolor\":\"white\",\"gridwidth\":2},\"yaxis\":{\"backgroundcolor\":\"#E5ECF6\",\"gridcolor\":\"white\",\"linecolor\":\"white\",\"showbackground\":true,\"ticks\":\"\",\"zerolinecolor\":\"white\",\"gridwidth\":2},\"zaxis\":{\"backgroundcolor\":\"#E5ECF6\",\"gridcolor\":\"white\",\"linecolor\":\"white\",\"showbackground\":true,\"ticks\":\"\",\"zerolinecolor\":\"white\",\"gridwidth\":2}},\"shapedefaults\":{\"line\":{\"color\":\"#2a3f5f\"}},\"annotationdefaults\":{\"arrowcolor\":\"#2a3f5f\",\"arrowhead\":0,\"arrowwidth\":1},\"geo\":{\"bgcolor\":\"white\",\"landcolor\":\"#E5ECF6\",\"subunitcolor\":\"white\",\"showland\":true,\"showlakes\":true,\"lakecolor\":\"white\"},\"title\":{\"x\":0.05},\"mapbox\":{\"style\":\"light\"}}},\"xaxis\":{\"anchor\":\"y\",\"domain\":[0.0,0.2888888888888889]},\"yaxis\":{\"anchor\":\"x\",\"domain\":[0.625,1.0],\"title\":{\"text\":\"Mean Heart Rate\"}},\"xaxis2\":{\"anchor\":\"y2\",\"domain\":[0.35555555555555557,0.6444444444444445]},\"yaxis2\":{\"anchor\":\"x2\",\"domain\":[0.625,1.0]},\"xaxis3\":{\"anchor\":\"y3\",\"domain\":[0.7111111111111111,1.0]},\"yaxis3\":{\"anchor\":\"x3\",\"domain\":[0.625,1.0]},\"xaxis4\":{\"anchor\":\"y4\",\"domain\":[0.0,0.2888888888888889]},\"yaxis4\":{\"anchor\":\"x4\",\"domain\":[0.0,0.375],\"title\":{\"text\":\"Mean Steps\"}},\"xaxis5\":{\"anchor\":\"y5\",\"domain\":[0.35555555555555557,0.6444444444444445],\"title\":{\"text\":\"Time\"}},\"yaxis5\":{\"anchor\":\"x5\",\"domain\":[0.0,0.375]},\"xaxis6\":{\"anchor\":\"y6\",\"domain\":[0.7111111111111111,1.0]},\"yaxis6\":{\"anchor\":\"x6\",\"domain\":[0.0,0.375]},\"annotations\":[{\"font\":{\"size\":16},\"showarrow\":false,\"text\":\"Heart Rate 2023-01-03\",\"x\":0.14444444444444446,\"xanchor\":\"center\",\"xref\":\"paper\",\"y\":1.0,\"yanchor\":\"bottom\",\"yref\":\"paper\"},{\"font\":{\"size\":16},\"showarrow\":false,\"text\":\"Heart Rate 2023-01-04\",\"x\":0.5,\"xanchor\":\"center\",\"xref\":\"paper\",\"y\":1.0,\"yanchor\":\"bottom\",\"yref\":\"paper\"},{\"font\":{\"size\":16},\"showarrow\":false,\"text\":\"Heart Rate 2023-01-05\",\"x\":0.8555555555555556,\"xanchor\":\"center\",\"xref\":\"paper\",\"y\":1.0,\"yanchor\":\"bottom\",\"yref\":\"paper\"},{\"font\":{\"size\":16},\"showarrow\":false,\"text\":\"Steps 2023-01-03\",\"x\":0.14444444444444446,\"xanchor\":\"center\",\"xref\":\"paper\",\"y\":0.375,\"yanchor\":\"bottom\",\"yref\":\"paper\"},{\"font\":{\"size\":16},\"showarrow\":false,\"text\":\"Steps 2023-01-04\",\"x\":0.5,\"xanchor\":\"center\",\"xref\":\"paper\",\"y\":0.375,\"yanchor\":\"bottom\",\"yref\":\"paper\"},{\"font\":{\"size\":16},\"showarrow\":false,\"text\":\"Steps 2023-01-05\",\"x\":0.8555555555555556,\"xanchor\":\"center\",\"xref\":\"paper\",\"y\":0.375,\"yanchor\":\"bottom\",\"yref\":\"paper\"}],\"title\":{\"text\":\"\\u003cb\\u003eHeart Rate and Steps Range per Hour | Three Days\\u003c\\u002fb\\u003e\",\"x\":0.5},\"height\":800},                        {\"responsive\": true}                    ).then(function(){\n",
       "                            \n",
       "var gd = document.getElementById('605c3e59-2ff2-416d-bffd-664250980b73');\n",
       "var x = new MutationObserver(function (mutations, observer) {{\n",
       "        var display = window.getComputedStyle(gd).display;\n",
       "        if (!display || display === 'none') {{\n",
       "            console.log([gd, 'removed!']);\n",
       "            Plotly.purge(gd);\n",
       "            observer.disconnect();\n",
       "        }}\n",
       "}});\n",
       "\n",
       "// Listen for the removal of the full notebook cells\n",
       "var notebookContainer = gd.closest('#notebook-container');\n",
       "if (notebookContainer) {{\n",
       "    x.observe(notebookContainer, {childList: true});\n",
       "}}\n",
       "\n",
       "// Listen for the clearing of the current output cell\n",
       "var outputEl = gd.closest('.output');\n",
       "if (outputEl) {{\n",
       "    x.observe(outputEl, {childList: true});\n",
       "}}\n",
       "\n",
       "                        })                };                });            </script>        </div>"
      ]
     },
     "metadata": {},
     "output_type": "display_data"
    }
   ],
   "source": [
    "import pandas as pd\n",
    "import plotly.graph_objects as go\n",
    "from plotly.subplots import make_subplots\n",
    "\n",
    "# Read the CSV files\n",
    "heartRateDF = pd.read_csv('../data/descriptive_statistics/mean_heart_rate_three_days.csv')\n",
    "stepsDF = pd.read_csv('../data/descriptive_statistics/mean_steps_three_days.csv')\n",
    "\n",
    "dates = sorted(heartRateDF['date'].unique())\n",
    "colors = ['red', 'blue', 'green']\n",
    "\n",
    "fig = make_subplots(rows=2, cols=len(dates), subplot_titles=[f'Heart Rate {date}' for date in dates] + [f'Steps {date}' for date in dates])\n",
    "# Loop over unique dates\n",
    "for i, date in enumerate(dates):\n",
    "    # Filter DataFrames for the current date\n",
    "    heartRateDFDate = heartRateDF[heartRateDF['date'] == date].sort_values('hour')\n",
    "    stepsDFDate = stepsDF[stepsDF['date'] == date].sort_values('hour')\n",
    "\n",
    "    # Convert 'hour' to string and append \":00\"\n",
    "    heartRateDFDate['hour'] = heartRateDFDate['hour'].astype(str) + \":00\"\n",
    "    stepsDFDate['hour'] = stepsDFDate['hour'].astype(str) + \":00\"\n",
    "    \n",
    "    # Calculate min and max heart rate and steps for each hour\n",
    "    heartRateDFDate = heartRateDFDate.groupby('hour')['heartRate'].agg(['min', 'max']).reset_index()\n",
    "    stepsDFDate = stepsDFDate.groupby('hour')['steps'].agg(['min', 'max']).reset_index()\n",
    "\n",
    "    # Calculate the range and max heart rate and steps\n",
    "    heartRateDFDate['range'] = heartRateDFDate['max'] - heartRateDFDate['min']\n",
    "    heartRateDFDate['maxHeartRate'] = heartRateDFDate['min'] + heartRateDFDate['range']\n",
    "    stepsDFDate['range'] = stepsDFDate['max'] - stepsDFDate['min']\n",
    "    stepsDFDate['maxSteps'] = stepsDFDate['min'] + stepsDFDate['range']\n",
    "\n",
    "    # Add trace for the range of heart rates for the current date\n",
    "    fig.add_trace(go.Bar(\n",
    "        x=heartRateDFDate['hour'],\n",
    "        y=heartRateDFDate['range'],\n",
    "        base=heartRateDFDate['min'],\n",
    "        name=date,\n",
    "        marker_color=colors[i % len(colors)],\n",
    "        hovertemplate=\n",
    "            '<b>Hour</b>: %{x}<br>' +\n",
    "            '<b>Min Heart Rate</b>: %{base}<br>' +\n",
    "            '<b>Max Heart Rate</b>: %{customdata}<br>' +\n",
    "            '<b>Range</b>: %{y}<extra></extra>',\n",
    "        customdata=heartRateDFDate['maxHeartRate']\n",
    "    ), row=1, col=i+1)  # Add this trace to the i-th subplot in the first row\n",
    "\n",
    "    # Add trace for range of steps for the current date\n",
    "    fig.add_trace(go.Bar(\n",
    "        x=stepsDFDate['hour'],\n",
    "        y=stepsDFDate['range'],\n",
    "        base=stepsDFDate['min'],\n",
    "        name=date,\n",
    "        marker_color=colors[i % len(colors)],\n",
    "        hovertemplate=\n",
    "            '<b>Hour</b>: %{x}<br>' +\n",
    "            '<b>Min Steps</b>: %{base}<br>' +\n",
    "            '<b>Max Steps</b>: %{customdata}<br>' +\n",
    "            '<b>Range</b>: %{y}<extra></extra>',\n",
    "        customdata=stepsDFDate['maxSteps'],\n",
    "        showlegend=False,\n",
    "    ), row=2, col=i+1)  # Add this trace to the i-th subplot in the second row\n",
    "\n",
    "# Update yaxis labels\n",
    "fig.update_yaxes(title_text='Mean Heart Rate', row=1, col=1)\n",
    "fig.update_yaxes(title_text='Mean Steps', row=2, col=1)\n",
    "fig.update_xaxes(title_text='Time', row=2, col=2)\n",
    "\n",
    "# Add title\n",
    "fig.update_layout(\n",
    "    title_text='<b>Heart Rate and Steps Range per Hour | Three Days</b>',\n",
    "    title_x=0.5,\n",
    "    height=800\n",
    ")\n",
    "\n",
    "fig.show()"
   ]
  },
  {
   "cell_type": "markdown",
   "metadata": {},
   "source": [
    "### Correlation scatter between Mean Heart Rate, Mean Steps and Mean SpO2 per Hour"
   ]
  },
  {
   "cell_type": "code",
   "execution_count": 13,
   "metadata": {},
   "outputs": [
    {
     "data": {
      "application/vnd.plotly.v1+json": {
       "config": {
        "plotlyServerURL": "https://plot.ly"
       },
       "data": [
        {
         "customdata": [
          [
           7,
           0.95
          ],
          [
           7,
           0.95
          ],
          [
           7,
           0.95
          ],
          [
           7,
           0.95
          ],
          [
           7,
           0.95
          ],
          [
           7,
           0.95
          ],
          [
           7,
           0.95
          ],
          [
           7,
           0.95
          ],
          [
           7,
           0.95
          ],
          [
           7,
           0.95
          ],
          [
           7,
           0.95
          ],
          [
           7,
           0.95
          ],
          [
           7,
           0.95
          ],
          [
           7,
           0.95
          ],
          [
           8,
           0.93
          ],
          [
           8,
           0.93
          ],
          [
           8,
           0.93
          ],
          [
           8,
           0.93
          ],
          [
           8,
           0.93
          ],
          [
           8,
           0.93
          ],
          [
           8,
           0.93
          ],
          [
           8,
           0.93
          ],
          [
           8,
           0.93
          ],
          [
           8,
           0.93
          ],
          [
           8,
           0.93
          ],
          [
           8,
           0.93
          ],
          [
           8,
           0.93
          ],
          [
           10,
           0.96
          ],
          [
           10,
           0.96
          ],
          [
           10,
           0.96
          ],
          [
           10,
           0.96
          ],
          [
           10,
           0.96
          ],
          [
           10,
           0.96
          ],
          [
           10,
           0.96
          ],
          [
           10,
           0.96
          ],
          [
           10,
           0.96
          ],
          [
           10,
           0.96
          ],
          [
           10,
           0.96
          ],
          [
           10,
           0.96
          ],
          [
           10,
           0.96
          ],
          [
           10,
           0.96
          ],
          [
           12,
           0.95
          ],
          [
           12,
           0.95
          ],
          [
           12,
           0.95
          ],
          [
           12,
           0.95
          ],
          [
           12,
           0.95
          ],
          [
           12,
           0.95
          ],
          [
           12,
           0.95
          ],
          [
           12,
           0.95
          ],
          [
           12,
           0.95
          ],
          [
           12,
           0.95
          ],
          [
           12,
           0.95
          ],
          [
           12,
           0.95
          ],
          [
           12,
           0.95
          ],
          [
           12,
           0.95
          ],
          [
           12,
           0.95
          ],
          [
           12,
           0.95
          ],
          [
           12,
           0.95
          ],
          [
           12,
           0.95
          ],
          [
           12,
           0.95
          ],
          [
           12,
           0.95
          ],
          [
           12,
           0.95
          ],
          [
           12,
           0.95
          ],
          [
           12,
           0.95
          ],
          [
           12,
           0.95
          ],
          [
           12,
           0.95
          ],
          [
           12,
           0.95
          ],
          [
           12,
           0.95
          ],
          [
           12,
           0.95
          ],
          [
           12,
           0.95
          ],
          [
           12,
           0.95
          ],
          [
           12,
           0.95
          ],
          [
           12,
           0.95
          ],
          [
           12,
           0.95
          ],
          [
           12,
           0.95
          ],
          [
           12,
           0.95
          ],
          [
           12,
           0.95
          ],
          [
           12,
           0.95
          ],
          [
           12,
           0.95
          ],
          [
           12,
           0.95
          ],
          [
           12,
           0.95
          ],
          [
           12,
           0.95
          ],
          [
           12,
           0.95
          ],
          [
           12,
           0.95
          ],
          [
           12,
           0.95
          ],
          [
           12,
           0.95
          ],
          [
           12,
           0.95
          ],
          [
           12,
           0.95
          ],
          [
           12,
           0.95
          ],
          [
           12,
           0.95
          ],
          [
           12,
           0.95
          ],
          [
           12,
           0.95
          ],
          [
           12,
           0.95
          ],
          [
           12,
           0.95
          ],
          [
           12,
           0.95
          ],
          [
           12,
           0.95
          ],
          [
           12,
           0.95
          ],
          [
           12,
           0.95
          ],
          [
           12,
           0.95
          ],
          [
           12,
           0.95
          ],
          [
           12,
           0.95
          ],
          [
           12,
           0.95
          ],
          [
           12,
           0.95
          ],
          [
           12,
           0.95
          ],
          [
           12,
           0.95
          ],
          [
           12,
           0.95
          ],
          [
           12,
           0.95
          ],
          [
           12,
           0.95
          ],
          [
           12,
           0.95
          ],
          [
           12,
           0.95
          ],
          [
           12,
           0.95
          ],
          [
           12,
           0.95
          ],
          [
           12,
           0.95
          ],
          [
           12,
           0.95
          ],
          [
           12,
           0.95
          ],
          [
           12,
           0.95
          ],
          [
           12,
           0.95
          ],
          [
           12,
           0.95
          ],
          [
           12,
           0.95
          ],
          [
           15,
           0.93
          ],
          [
           15,
           0.93
          ],
          [
           15,
           0.93
          ],
          [
           15,
           0.93
          ],
          [
           15,
           0.93
          ],
          [
           15,
           0.93
          ],
          [
           15,
           0.93
          ],
          [
           15,
           0.93
          ],
          [
           15,
           0.93
          ],
          [
           15,
           0.93
          ],
          [
           15,
           0.93
          ],
          [
           15,
           0.93
          ],
          [
           15,
           0.93
          ],
          [
           15,
           0.93
          ],
          [
           15,
           0.93
          ],
          [
           15,
           0.93
          ],
          [
           15,
           0.93
          ],
          [
           15,
           0.93
          ],
          [
           15,
           0.93
          ],
          [
           15,
           0.93
          ],
          [
           15,
           0.93
          ],
          [
           15,
           0.93
          ],
          [
           15,
           0.93
          ],
          [
           15,
           0.93
          ],
          [
           15,
           0.93
          ],
          [
           15,
           0.93
          ],
          [
           15,
           0.93
          ],
          [
           15,
           0.93
          ],
          [
           15,
           0.93
          ],
          [
           15,
           0.93
          ],
          [
           15,
           0.93
          ],
          [
           15,
           0.93
          ],
          [
           15,
           0.93
          ],
          [
           15,
           0.93
          ],
          [
           15,
           0.93
          ],
          [
           15,
           0.93
          ],
          [
           15,
           0.93
          ],
          [
           15,
           0.93
          ],
          [
           15,
           0.93
          ],
          [
           15,
           0.93
          ],
          [
           15,
           0.93
          ],
          [
           15,
           0.93
          ],
          [
           15,
           0.93
          ],
          [
           15,
           0.93
          ],
          [
           15,
           0.93
          ],
          [
           15,
           0.93
          ],
          [
           15,
           0.93
          ],
          [
           15,
           0.93
          ],
          [
           15,
           0.93
          ],
          [
           15,
           0.93
          ],
          [
           16,
           0.98
          ],
          [
           16,
           0.98
          ],
          [
           16,
           0.98
          ],
          [
           16,
           0.98
          ],
          [
           16,
           0.98
          ],
          [
           16,
           0.98
          ],
          [
           16,
           0.98
          ],
          [
           16,
           0.98
          ],
          [
           16,
           0.98
          ],
          [
           16,
           0.98
          ],
          [
           16,
           0.98
          ],
          [
           16,
           0.98
          ],
          [
           16,
           0.98
          ],
          [
           16,
           0.98
          ],
          [
           16,
           0.98
          ],
          [
           16,
           0.98
          ],
          [
           16,
           0.98
          ],
          [
           16,
           0.98
          ],
          [
           16,
           0.98
          ],
          [
           16,
           0.98
          ],
          [
           16,
           0.98
          ],
          [
           16,
           0.98
          ],
          [
           16,
           0.98
          ],
          [
           16,
           0.98
          ],
          [
           16,
           0.98
          ],
          [
           16,
           0.98
          ],
          [
           16,
           0.98
          ],
          [
           16,
           0.98
          ],
          [
           16,
           0.98
          ],
          [
           16,
           0.98
          ],
          [
           16,
           0.98
          ],
          [
           16,
           0.98
          ],
          [
           16,
           0.98
          ],
          [
           16,
           0.98
          ],
          [
           16,
           0.98
          ],
          [
           16,
           0.98
          ],
          [
           16,
           0.98
          ],
          [
           16,
           0.98
          ],
          [
           16,
           0.98
          ],
          [
           16,
           0.98
          ],
          [
           16,
           0.98
          ],
          [
           16,
           0.98
          ],
          [
           16,
           0.98
          ],
          [
           16,
           0.98
          ],
          [
           16,
           0.98
          ],
          [
           16,
           0.98
          ],
          [
           16,
           0.98
          ],
          [
           16,
           0.98
          ],
          [
           16,
           0.98
          ],
          [
           16,
           0.98
          ],
          [
           16,
           0.98
          ],
          [
           16,
           0.98
          ],
          [
           16,
           0.98
          ],
          [
           16,
           0.98
          ],
          [
           16,
           0.98
          ],
          [
           16,
           0.98
          ],
          [
           16,
           0.98
          ],
          [
           16,
           0.98
          ],
          [
           16,
           0.98
          ],
          [
           16,
           0.98
          ],
          [
           16,
           0.98
          ],
          [
           16,
           0.98
          ],
          [
           16,
           0.98
          ],
          [
           16,
           0.98
          ],
          [
           16,
           0.98
          ],
          [
           16,
           0.98
          ],
          [
           16,
           0.98
          ],
          [
           16,
           0.98
          ],
          [
           16,
           0.98
          ],
          [
           16,
           0.98
          ],
          [
           16,
           0.98
          ],
          [
           16,
           0.98
          ],
          [
           16,
           0.98
          ],
          [
           16,
           0.98
          ],
          [
           16,
           0.98
          ],
          [
           16,
           0.98
          ],
          [
           16,
           0.98
          ],
          [
           16,
           0.98
          ],
          [
           16,
           0.98
          ],
          [
           16,
           0.98
          ],
          [
           16,
           0.98
          ],
          [
           16,
           0.98
          ],
          [
           16,
           0.98
          ],
          [
           16,
           0.98
          ],
          [
           16,
           0.98
          ],
          [
           16,
           0.98
          ],
          [
           16,
           0.98
          ],
          [
           16,
           0.98
          ],
          [
           16,
           0.98
          ],
          [
           16,
           0.98
          ],
          [
           16,
           0.98
          ],
          [
           16,
           0.98
          ],
          [
           16,
           0.98
          ],
          [
           16,
           0.98
          ],
          [
           16,
           0.98
          ],
          [
           16,
           0.98
          ],
          [
           16,
           0.98
          ],
          [
           16,
           0.98
          ],
          [
           16,
           0.98
          ],
          [
           16,
           0.98
          ],
          [
           16,
           0.98
          ],
          [
           16,
           0.98
          ],
          [
           16,
           0.98
          ],
          [
           16,
           0.98
          ],
          [
           18,
           0.96
          ],
          [
           18,
           0.96
          ],
          [
           18,
           0.96
          ],
          [
           18,
           0.96
          ],
          [
           18,
           0.96
          ],
          [
           18,
           0.96
          ],
          [
           18,
           0.96
          ],
          [
           18,
           0.96
          ],
          [
           18,
           0.96
          ],
          [
           18,
           0.96
          ],
          [
           18,
           0.96
          ],
          [
           18,
           0.96
          ],
          [
           18,
           0.96
          ],
          [
           18,
           0.96
          ],
          [
           18,
           0.96
          ],
          [
           18,
           0.96
          ],
          [
           18,
           0.96
          ],
          [
           18,
           0.96
          ],
          [
           18,
           0.96
          ],
          [
           18,
           0.96
          ],
          [
           18,
           0.96
          ],
          [
           18,
           0.96
          ],
          [
           18,
           0.96
          ],
          [
           18,
           0.96
          ],
          [
           18,
           0.96
          ],
          [
           18,
           0.96
          ],
          [
           18,
           0.96
          ],
          [
           18,
           0.96
          ],
          [
           18,
           0.96
          ],
          [
           18,
           0.96
          ],
          [
           18,
           0.96
          ],
          [
           18,
           0.96
          ],
          [
           18,
           0.96
          ],
          [
           18,
           0.96
          ],
          [
           18,
           0.96
          ],
          [
           18,
           0.96
          ],
          [
           18,
           0.96
          ],
          [
           18,
           0.96
          ],
          [
           18,
           0.96
          ],
          [
           18,
           0.96
          ],
          [
           18,
           0.96
          ],
          [
           18,
           0.96
          ],
          [
           18,
           0.96
          ],
          [
           18,
           0.96
          ],
          [
           18,
           0.96
          ],
          [
           18,
           0.96
          ],
          [
           18,
           0.96
          ],
          [
           18,
           0.96
          ],
          [
           18,
           0.96
          ],
          [
           18,
           0.96
          ],
          [
           18,
           0.96
          ],
          [
           18,
           0.96
          ],
          [
           18,
           0.96
          ],
          [
           18,
           0.96
          ],
          [
           18,
           0.96
          ],
          [
           18,
           0.96
          ]
         ],
         "hovertemplate": "<b>Hour</b>: %{customdata[0]}<br><b>Steps</b>: %{y}<br><b>Heart Rate</b>: %{x}<br><b>SpO2</b>: %{customdata[1]}<extra></extra>",
         "marker": {
          "color": [
           0.95,
           0.95,
           0.95,
           0.95,
           0.95,
           0.95,
           0.95,
           0.95,
           0.95,
           0.95,
           0.95,
           0.95,
           0.95,
           0.95,
           0.93,
           0.93,
           0.93,
           0.93,
           0.93,
           0.93,
           0.93,
           0.93,
           0.93,
           0.93,
           0.93,
           0.93,
           0.93,
           0.96,
           0.96,
           0.96,
           0.96,
           0.96,
           0.96,
           0.96,
           0.96,
           0.96,
           0.96,
           0.96,
           0.96,
           0.96,
           0.96,
           0.95,
           0.95,
           0.95,
           0.95,
           0.95,
           0.95,
           0.95,
           0.95,
           0.95,
           0.95,
           0.95,
           0.95,
           0.95,
           0.95,
           0.95,
           0.95,
           0.95,
           0.95,
           0.95,
           0.95,
           0.95,
           0.95,
           0.95,
           0.95,
           0.95,
           0.95,
           0.95,
           0.95,
           0.95,
           0.95,
           0.95,
           0.95,
           0.95,
           0.95,
           0.95,
           0.95,
           0.95,
           0.95,
           0.95,
           0.95,
           0.95,
           0.95,
           0.95,
           0.95,
           0.95,
           0.95,
           0.95,
           0.95,
           0.95,
           0.95,
           0.95,
           0.95,
           0.95,
           0.95,
           0.95,
           0.95,
           0.95,
           0.95,
           0.95,
           0.95,
           0.95,
           0.95,
           0.95,
           0.95,
           0.95,
           0.95,
           0.95,
           0.95,
           0.95,
           0.95,
           0.95,
           0.95,
           0.95,
           0.95,
           0.95,
           0.95,
           0.95,
           0.95,
           0.93,
           0.93,
           0.93,
           0.93,
           0.93,
           0.93,
           0.93,
           0.93,
           0.93,
           0.93,
           0.93,
           0.93,
           0.93,
           0.93,
           0.93,
           0.93,
           0.93,
           0.93,
           0.93,
           0.93,
           0.93,
           0.93,
           0.93,
           0.93,
           0.93,
           0.93,
           0.93,
           0.93,
           0.93,
           0.93,
           0.93,
           0.93,
           0.93,
           0.93,
           0.93,
           0.93,
           0.93,
           0.93,
           0.93,
           0.93,
           0.93,
           0.93,
           0.93,
           0.93,
           0.93,
           0.93,
           0.93,
           0.93,
           0.93,
           0.93,
           0.98,
           0.98,
           0.98,
           0.98,
           0.98,
           0.98,
           0.98,
           0.98,
           0.98,
           0.98,
           0.98,
           0.98,
           0.98,
           0.98,
           0.98,
           0.98,
           0.98,
           0.98,
           0.98,
           0.98,
           0.98,
           0.98,
           0.98,
           0.98,
           0.98,
           0.98,
           0.98,
           0.98,
           0.98,
           0.98,
           0.98,
           0.98,
           0.98,
           0.98,
           0.98,
           0.98,
           0.98,
           0.98,
           0.98,
           0.98,
           0.98,
           0.98,
           0.98,
           0.98,
           0.98,
           0.98,
           0.98,
           0.98,
           0.98,
           0.98,
           0.98,
           0.98,
           0.98,
           0.98,
           0.98,
           0.98,
           0.98,
           0.98,
           0.98,
           0.98,
           0.98,
           0.98,
           0.98,
           0.98,
           0.98,
           0.98,
           0.98,
           0.98,
           0.98,
           0.98,
           0.98,
           0.98,
           0.98,
           0.98,
           0.98,
           0.98,
           0.98,
           0.98,
           0.98,
           0.98,
           0.98,
           0.98,
           0.98,
           0.98,
           0.98,
           0.98,
           0.98,
           0.98,
           0.98,
           0.98,
           0.98,
           0.98,
           0.98,
           0.98,
           0.98,
           0.98,
           0.98,
           0.98,
           0.98,
           0.98,
           0.98,
           0.98,
           0.98,
           0.98,
           0.96,
           0.96,
           0.96,
           0.96,
           0.96,
           0.96,
           0.96,
           0.96,
           0.96,
           0.96,
           0.96,
           0.96,
           0.96,
           0.96,
           0.96,
           0.96,
           0.96,
           0.96,
           0.96,
           0.96,
           0.96,
           0.96,
           0.96,
           0.96,
           0.96,
           0.96,
           0.96,
           0.96,
           0.96,
           0.96,
           0.96,
           0.96,
           0.96,
           0.96,
           0.96,
           0.96,
           0.96,
           0.96,
           0.96,
           0.96,
           0.96,
           0.96,
           0.96,
           0.96,
           0.96,
           0.96,
           0.96,
           0.96,
           0.96,
           0.96,
           0.96,
           0.96,
           0.96,
           0.96,
           0.96,
           0.96
          ],
          "colorbar": {
           "title": {
            "text": "Mean SpO2"
           }
          },
          "colorscale": [
           [
            0,
            "#440154"
           ],
           [
            0.1111111111111111,
            "#482878"
           ],
           [
            0.2222222222222222,
            "#3e4989"
           ],
           [
            0.3333333333333333,
            "#31688e"
           ],
           [
            0.4444444444444444,
            "#26828e"
           ],
           [
            0.5555555555555556,
            "#1f9e89"
           ],
           [
            0.6666666666666666,
            "#35b779"
           ],
           [
            0.7777777777777778,
            "#6ece58"
           ],
           [
            0.8888888888888888,
            "#b5de2b"
           ],
           [
            1,
            "#fde725"
           ]
          ],
          "showscale": true,
          "size": 10
         },
         "mode": "markers",
         "name": "2023-01-03",
         "type": "scatter",
         "x": [
          69.81881428571428,
          69.81881428571428,
          69.81881428571428,
          69.81881428571428,
          69.81881428571428,
          69.81881428571428,
          69.81881428571428,
          69.81881428571428,
          69.81881428571428,
          69.81881428571428,
          69.81881428571428,
          69.81881428571428,
          69.81881428571428,
          69.81881428571428,
          70.84615384615384,
          70.84615384615384,
          70.84615384615384,
          70.84615384615384,
          70.84615384615384,
          70.84615384615384,
          70.84615384615384,
          70.84615384615384,
          70.84615384615384,
          70.84615384615384,
          70.84615384615384,
          70.84615384615384,
          70.84615384615384,
          70,
          70,
          70,
          70,
          70,
          70,
          70,
          70,
          70,
          70,
          70,
          70,
          70,
          70,
          74.84615384615384,
          74.84615384615384,
          74.84615384615384,
          74.84615384615384,
          74.84615384615384,
          74.84615384615384,
          74.84615384615384,
          74.84615384615384,
          74.84615384615384,
          74.84615384615384,
          74.84615384615384,
          74.84615384615384,
          74.84615384615384,
          74.84615384615384,
          74.84615384615384,
          74.84615384615384,
          74.84615384615384,
          74.84615384615384,
          74.84615384615384,
          74.84615384615384,
          74.84615384615384,
          74.84615384615384,
          74.84615384615384,
          74.84615384615384,
          74.84615384615384,
          74.84615384615384,
          74.84615384615384,
          74.84615384615384,
          74.84615384615384,
          74.84615384615384,
          74.84615384615384,
          74.84615384615384,
          74.84615384615384,
          74.84615384615384,
          74.84615384615384,
          74.84615384615384,
          74.84615384615384,
          74.84615384615384,
          74.84615384615384,
          74.84615384615384,
          74.84615384615384,
          74.84615384615384,
          74.84615384615384,
          74.84615384615384,
          74.84615384615384,
          74.84615384615384,
          74.84615384615384,
          74.84615384615384,
          74.84615384615384,
          74.84615384615384,
          74.84615384615384,
          74.84615384615384,
          74.84615384615384,
          74.84615384615384,
          74.84615384615384,
          74.84615384615384,
          74.84615384615384,
          74.84615384615384,
          74.84615384615384,
          74.84615384615384,
          74.84615384615384,
          74.84615384615384,
          74.84615384615384,
          74.84615384615384,
          74.84615384615384,
          74.84615384615384,
          74.84615384615384,
          74.84615384615384,
          74.84615384615384,
          74.84615384615384,
          74.84615384615384,
          74.84615384615384,
          74.84615384615384,
          74.84615384615384,
          74.84615384615384,
          74.84615384615384,
          74.84615384615384,
          74.84615384615384,
          72.61681999999999,
          72.61681999999999,
          72.61681999999999,
          72.61681999999999,
          72.61681999999999,
          72.61681999999999,
          72.61681999999999,
          72.61681999999999,
          72.61681999999999,
          72.61681999999999,
          72.61681999999999,
          72.61681999999999,
          72.61681999999999,
          72.61681999999999,
          72.61681999999999,
          72.61681999999999,
          72.61681999999999,
          72.61681999999999,
          72.61681999999999,
          72.61681999999999,
          72.61681999999999,
          72.61681999999999,
          72.61681999999999,
          72.61681999999999,
          72.61681999999999,
          72.61681999999999,
          72.61681999999999,
          72.61681999999999,
          72.61681999999999,
          72.61681999999999,
          72.61681999999999,
          72.61681999999999,
          72.61681999999999,
          72.61681999999999,
          72.61681999999999,
          72.61681999999999,
          72.61681999999999,
          72.61681999999999,
          72.61681999999999,
          72.61681999999999,
          72.61681999999999,
          72.61681999999999,
          72.61681999999999,
          72.61681999999999,
          72.61681999999999,
          72.61681999999999,
          72.61681999999999,
          72.61681999999999,
          72.61681999999999,
          72.61681999999999,
          70.92307692307692,
          70.92307692307692,
          70.92307692307692,
          70.92307692307692,
          70.92307692307692,
          70.92307692307692,
          70.92307692307692,
          70.92307692307692,
          70.92307692307692,
          70.92307692307692,
          70.92307692307692,
          70.92307692307692,
          70.92307692307692,
          70.92307692307692,
          70.92307692307692,
          70.92307692307692,
          70.92307692307692,
          70.92307692307692,
          70.92307692307692,
          70.92307692307692,
          70.92307692307692,
          70.92307692307692,
          70.92307692307692,
          70.92307692307692,
          70.92307692307692,
          70.92307692307692,
          70.92307692307692,
          70.92307692307692,
          70.92307692307692,
          70.92307692307692,
          70.92307692307692,
          70.92307692307692,
          70.92307692307692,
          70.92307692307692,
          70.92307692307692,
          70.92307692307692,
          70.92307692307692,
          70.92307692307692,
          70.92307692307692,
          70.92307692307692,
          70.92307692307692,
          70.92307692307692,
          70.92307692307692,
          70.92307692307692,
          70.92307692307692,
          70.92307692307692,
          70.92307692307692,
          70.92307692307692,
          70.92307692307692,
          70.92307692307692,
          70.92307692307692,
          70.92307692307692,
          70.92307692307692,
          70.92307692307692,
          70.92307692307692,
          70.92307692307692,
          70.92307692307692,
          70.92307692307692,
          70.92307692307692,
          70.92307692307692,
          70.92307692307692,
          70.92307692307692,
          70.92307692307692,
          70.92307692307692,
          70.92307692307692,
          70.92307692307692,
          70.92307692307692,
          70.92307692307692,
          70.92307692307692,
          70.92307692307692,
          70.92307692307692,
          70.92307692307692,
          70.92307692307692,
          70.92307692307692,
          70.92307692307692,
          70.92307692307692,
          70.92307692307692,
          70.92307692307692,
          70.92307692307692,
          70.92307692307692,
          70.92307692307692,
          70.92307692307692,
          70.92307692307692,
          70.92307692307692,
          70.92307692307692,
          70.92307692307692,
          70.92307692307692,
          70.92307692307692,
          70.92307692307692,
          70.92307692307692,
          70.92307692307692,
          70.92307692307692,
          70.92307692307692,
          70.92307692307692,
          70.92307692307692,
          70.92307692307692,
          70.92307692307692,
          70.92307692307692,
          70.92307692307692,
          70.92307692307692,
          70.92307692307692,
          70.92307692307692,
          70.92307692307692,
          70.92307692307692,
          79.57142857142857,
          79.57142857142857,
          79.57142857142857,
          79.57142857142857,
          79.57142857142857,
          79.57142857142857,
          79.57142857142857,
          79.57142857142857,
          79.57142857142857,
          79.57142857142857,
          79.57142857142857,
          79.57142857142857,
          79.57142857142857,
          79.57142857142857,
          79.57142857142857,
          79.57142857142857,
          79.57142857142857,
          79.57142857142857,
          79.57142857142857,
          79.57142857142857,
          79.57142857142857,
          79.57142857142857,
          79.57142857142857,
          79.57142857142857,
          79.57142857142857,
          79.57142857142857,
          79.57142857142857,
          79.57142857142857,
          79.57142857142857,
          79.57142857142857,
          79.57142857142857,
          79.57142857142857,
          79.57142857142857,
          79.57142857142857,
          79.57142857142857,
          79.57142857142857,
          79.57142857142857,
          79.57142857142857,
          79.57142857142857,
          79.57142857142857,
          79.57142857142857,
          79.57142857142857,
          79.57142857142857,
          79.57142857142857,
          79.57142857142857,
          79.57142857142857,
          79.57142857142857,
          79.57142857142857,
          79.57142857142857,
          79.57142857142857,
          79.57142857142857,
          79.57142857142857,
          79.57142857142857,
          79.57142857142857,
          79.57142857142857,
          79.57142857142857
         ],
         "xaxis": "x",
         "y": [
          56.5,
          56.5,
          56.5,
          56.5,
          56.5,
          56.5,
          56.5,
          56.5,
          56.5,
          56.5,
          56.5,
          56.5,
          56.5,
          56.5,
          160,
          160,
          160,
          160,
          160,
          160,
          160,
          160,
          160,
          160,
          160,
          160,
          160,
          4,
          4,
          4,
          4,
          4,
          4,
          4,
          4,
          4,
          4,
          4,
          4,
          4,
          4,
          66.33333333333333,
          66.33333333333333,
          66.33333333333333,
          66.33333333333333,
          66.33333333333333,
          66.33333333333333,
          66.33333333333333,
          66.33333333333333,
          66.33333333333333,
          66.33333333333333,
          66.33333333333333,
          66.33333333333333,
          66.33333333333333,
          66.33333333333333,
          66.33333333333333,
          66.33333333333333,
          66.33333333333333,
          66.33333333333333,
          66.33333333333333,
          66.33333333333333,
          66.33333333333333,
          66.33333333333333,
          66.33333333333333,
          66.33333333333333,
          66.33333333333333,
          66.33333333333333,
          66.33333333333333,
          66.33333333333333,
          66.33333333333333,
          66.33333333333333,
          66.33333333333333,
          66.33333333333333,
          66.33333333333333,
          66.33333333333333,
          66.33333333333333,
          66.33333333333333,
          66.33333333333333,
          66.33333333333333,
          66.33333333333333,
          66.33333333333333,
          66.33333333333333,
          66.33333333333333,
          66.33333333333333,
          66.33333333333333,
          66.33333333333333,
          66.33333333333333,
          66.33333333333333,
          66.33333333333333,
          66.33333333333333,
          66.33333333333333,
          66.33333333333333,
          66.33333333333333,
          66.33333333333333,
          66.33333333333333,
          66.33333333333333,
          66.33333333333333,
          66.33333333333333,
          66.33333333333333,
          66.33333333333333,
          66.33333333333333,
          66.33333333333333,
          66.33333333333333,
          66.33333333333333,
          66.33333333333333,
          66.33333333333333,
          66.33333333333333,
          66.33333333333333,
          66.33333333333333,
          66.33333333333333,
          66.33333333333333,
          66.33333333333333,
          66.33333333333333,
          66.33333333333333,
          66.33333333333333,
          66.33333333333333,
          66.33333333333333,
          66.33333333333333,
          66.33333333333333,
          51.8,
          51.8,
          51.8,
          51.8,
          51.8,
          51.8,
          51.8,
          51.8,
          51.8,
          51.8,
          51.8,
          51.8,
          51.8,
          51.8,
          51.8,
          51.8,
          51.8,
          51.8,
          51.8,
          51.8,
          51.8,
          51.8,
          51.8,
          51.8,
          51.8,
          51.8,
          51.8,
          51.8,
          51.8,
          51.8,
          51.8,
          51.8,
          51.8,
          51.8,
          51.8,
          51.8,
          51.8,
          51.8,
          51.8,
          51.8,
          51.8,
          51.8,
          51.8,
          51.8,
          51.8,
          51.8,
          51.8,
          51.8,
          51.8,
          51.8,
          77.5,
          77.5,
          77.5,
          77.5,
          77.5,
          77.5,
          77.5,
          77.5,
          77.5,
          77.5,
          77.5,
          77.5,
          77.5,
          77.5,
          77.5,
          77.5,
          77.5,
          77.5,
          77.5,
          77.5,
          77.5,
          77.5,
          77.5,
          77.5,
          77.5,
          77.5,
          77.5,
          77.5,
          77.5,
          77.5,
          77.5,
          77.5,
          77.5,
          77.5,
          77.5,
          77.5,
          77.5,
          77.5,
          77.5,
          77.5,
          77.5,
          77.5,
          77.5,
          77.5,
          77.5,
          77.5,
          77.5,
          77.5,
          77.5,
          77.5,
          77.5,
          77.5,
          77.5,
          77.5,
          77.5,
          77.5,
          77.5,
          77.5,
          77.5,
          77.5,
          77.5,
          77.5,
          77.5,
          77.5,
          77.5,
          77.5,
          77.5,
          77.5,
          77.5,
          77.5,
          77.5,
          77.5,
          77.5,
          77.5,
          77.5,
          77.5,
          77.5,
          77.5,
          77.5,
          77.5,
          77.5,
          77.5,
          77.5,
          77.5,
          77.5,
          77.5,
          77.5,
          77.5,
          77.5,
          77.5,
          77.5,
          77.5,
          77.5,
          77.5,
          77.5,
          77.5,
          77.5,
          77.5,
          77.5,
          77.5,
          77.5,
          77.5,
          77.5,
          77.5,
          59.5,
          59.5,
          59.5,
          59.5,
          59.5,
          59.5,
          59.5,
          59.5,
          59.5,
          59.5,
          59.5,
          59.5,
          59.5,
          59.5,
          59.5,
          59.5,
          59.5,
          59.5,
          59.5,
          59.5,
          59.5,
          59.5,
          59.5,
          59.5,
          59.5,
          59.5,
          59.5,
          59.5,
          59.5,
          59.5,
          59.5,
          59.5,
          59.5,
          59.5,
          59.5,
          59.5,
          59.5,
          59.5,
          59.5,
          59.5,
          59.5,
          59.5,
          59.5,
          59.5,
          59.5,
          59.5,
          59.5,
          59.5,
          59.5,
          59.5,
          59.5,
          59.5,
          59.5,
          59.5,
          59.5,
          59.5
         ],
         "yaxis": "y"
        },
        {
         "customdata": [
          [
           7,
           0.86
          ],
          [
           7,
           0.86
          ],
          [
           7,
           0.86
          ],
          [
           7,
           0.86
          ],
          [
           7,
           0.86
          ],
          [
           7,
           0.86
          ],
          [
           7,
           0.86
          ],
          [
           7,
           0.86
          ],
          [
           7,
           0.86
          ],
          [
           7,
           0.86
          ],
          [
           7,
           0.86
          ],
          [
           7,
           0.86
          ],
          [
           7,
           0.86
          ],
          [
           7,
           0.86
          ],
          [
           7,
           0.86
          ],
          [
           7,
           0.86
          ],
          [
           7,
           0.86
          ],
          [
           7,
           0.86
          ],
          [
           7,
           0.86
          ],
          [
           7,
           0.86
          ],
          [
           7,
           0.86
          ],
          [
           7,
           0.86
          ],
          [
           7,
           0.86
          ],
          [
           7,
           0.86
          ],
          [
           7,
           0.86
          ],
          [
           7,
           0.86
          ],
          [
           7,
           0.86
          ],
          [
           7,
           0.86
          ],
          [
           7,
           0.86
          ],
          [
           7,
           0.86
          ],
          [
           7,
           0.86
          ],
          [
           7,
           0.86
          ],
          [
           7,
           0.86
          ],
          [
           7,
           0.86
          ],
          [
           7,
           0.86
          ],
          [
           8,
           0.95
          ],
          [
           8,
           0.95
          ],
          [
           8,
           0.95
          ],
          [
           8,
           0.95
          ],
          [
           8,
           0.95
          ],
          [
           8,
           0.95
          ],
          [
           8,
           0.95
          ],
          [
           8,
           0.95
          ],
          [
           8,
           0.95
          ],
          [
           8,
           0.95
          ],
          [
           8,
           0.95
          ],
          [
           8,
           0.95
          ],
          [
           8,
           0.95
          ],
          [
           8,
           0.95
          ],
          [
           8,
           0.95
          ],
          [
           8,
           0.95
          ],
          [
           8,
           0.95
          ],
          [
           8,
           0.95
          ],
          [
           8,
           0.95
          ],
          [
           8,
           0.95
          ],
          [
           8,
           0.95
          ],
          [
           8,
           0.95
          ],
          [
           8,
           0.95
          ],
          [
           8,
           0.95
          ],
          [
           9,
           0.95
          ],
          [
           9,
           0.95
          ],
          [
           9,
           0.95
          ],
          [
           9,
           0.95
          ],
          [
           9,
           0.95
          ],
          [
           9,
           0.95
          ],
          [
           9,
           0.95
          ],
          [
           9,
           0.95
          ],
          [
           9,
           0.95
          ],
          [
           9,
           0.95
          ],
          [
           9,
           0.95
          ],
          [
           9,
           0.95
          ],
          [
           9,
           0.95
          ],
          [
           12,
           0.97
          ],
          [
           12,
           0.97
          ],
          [
           12,
           0.97
          ],
          [
           12,
           0.97
          ],
          [
           12,
           0.97
          ],
          [
           12,
           0.97
          ],
          [
           12,
           0.97
          ],
          [
           12,
           0.97
          ],
          [
           12,
           0.97
          ],
          [
           12,
           0.97
          ],
          [
           12,
           0.97
          ],
          [
           12,
           0.97
          ],
          [
           12,
           0.97
          ],
          [
           12,
           0.97
          ],
          [
           12,
           0.97
          ],
          [
           12,
           0.97
          ],
          [
           12,
           0.97
          ],
          [
           12,
           0.97
          ],
          [
           12,
           0.97
          ],
          [
           12,
           0.97
          ],
          [
           12,
           0.97
          ],
          [
           12,
           0.97
          ],
          [
           12,
           0.97
          ],
          [
           12,
           0.97
          ],
          [
           12,
           0.97
          ],
          [
           12,
           0.97
          ],
          [
           15,
           0.96
          ],
          [
           15,
           0.96
          ],
          [
           15,
           0.96
          ],
          [
           15,
           0.96
          ],
          [
           15,
           0.96
          ],
          [
           15,
           0.96
          ],
          [
           15,
           0.96
          ],
          [
           15,
           0.96
          ],
          [
           15,
           0.96
          ],
          [
           15,
           0.96
          ],
          [
           15,
           0.96
          ],
          [
           15,
           0.96
          ],
          [
           15,
           0.96
          ],
          [
           15,
           0.96
          ],
          [
           15,
           0.96
          ],
          [
           15,
           0.96
          ],
          [
           15,
           0.96
          ],
          [
           15,
           0.96
          ],
          [
           15,
           0.96
          ],
          [
           15,
           0.96
          ],
          [
           15,
           0.96
          ],
          [
           15,
           0.96
          ],
          [
           15,
           0.96
          ],
          [
           15,
           0.96
          ],
          [
           15,
           0.96
          ],
          [
           15,
           0.96
          ],
          [
           15,
           0.96
          ],
          [
           15,
           0.96
          ],
          [
           15,
           0.96
          ],
          [
           15,
           0.96
          ],
          [
           15,
           0.96
          ],
          [
           15,
           0.96
          ],
          [
           15,
           0.96
          ],
          [
           15,
           0.96
          ],
          [
           15,
           0.96
          ],
          [
           15,
           0.96
          ],
          [
           15,
           0.96
          ],
          [
           15,
           0.96
          ],
          [
           15,
           0.96
          ],
          [
           15,
           0.96
          ],
          [
           16,
           0.985
          ],
          [
           16,
           0.985
          ],
          [
           16,
           0.985
          ],
          [
           16,
           0.985
          ],
          [
           16,
           0.985
          ],
          [
           16,
           0.985
          ],
          [
           16,
           0.985
          ],
          [
           16,
           0.985
          ],
          [
           16,
           0.985
          ],
          [
           16,
           0.985
          ],
          [
           16,
           0.985
          ],
          [
           16,
           0.985
          ],
          [
           16,
           0.985
          ],
          [
           16,
           0.985
          ],
          [
           16,
           0.985
          ],
          [
           16,
           0.985
          ],
          [
           16,
           0.985
          ],
          [
           16,
           0.985
          ],
          [
           16,
           0.985
          ],
          [
           16,
           0.985
          ],
          [
           16,
           0.985
          ],
          [
           16,
           0.985
          ],
          [
           16,
           0.985
          ],
          [
           16,
           0.985
          ],
          [
           16,
           0.985
          ],
          [
           16,
           0.985
          ],
          [
           16,
           0.985
          ],
          [
           16,
           0.985
          ],
          [
           16,
           0.985
          ],
          [
           16,
           0.985
          ],
          [
           16,
           0.985
          ],
          [
           16,
           0.985
          ],
          [
           16,
           0.985
          ],
          [
           16,
           0.985
          ],
          [
           16,
           0.985
          ],
          [
           16,
           0.985
          ],
          [
           16,
           0.985
          ],
          [
           16,
           0.985
          ],
          [
           16,
           0.985
          ],
          [
           16,
           0.985
          ],
          [
           16,
           0.985
          ],
          [
           16,
           0.985
          ],
          [
           16,
           0.985
          ],
          [
           16,
           0.985
          ],
          [
           16,
           0.985
          ],
          [
           16,
           0.985
          ],
          [
           16,
           0.985
          ],
          [
           16,
           0.985
          ],
          [
           16,
           0.985
          ],
          [
           16,
           0.985
          ],
          [
           16,
           0.985
          ],
          [
           16,
           0.985
          ],
          [
           16,
           0.985
          ],
          [
           16,
           0.985
          ],
          [
           16,
           0.985
          ],
          [
           16,
           0.985
          ],
          [
           16,
           0.985
          ],
          [
           16,
           0.985
          ],
          [
           16,
           0.985
          ],
          [
           16,
           0.985
          ],
          [
           16,
           0.985
          ],
          [
           16,
           0.985
          ],
          [
           16,
           0.985
          ],
          [
           16,
           0.985
          ],
          [
           16,
           0.985
          ],
          [
           16,
           0.985
          ],
          [
           16,
           0.985
          ],
          [
           16,
           0.985
          ],
          [
           16,
           0.985
          ],
          [
           16,
           0.985
          ],
          [
           16,
           0.985
          ],
          [
           16,
           0.985
          ],
          [
           16,
           0.985
          ],
          [
           16,
           0.985
          ],
          [
           16,
           0.985
          ],
          [
           16,
           0.985
          ],
          [
           16,
           0.985
          ],
          [
           16,
           0.985
          ],
          [
           16,
           0.985
          ],
          [
           16,
           0.985
          ],
          [
           16,
           0.985
          ],
          [
           16,
           0.985
          ],
          [
           16,
           0.985
          ],
          [
           16,
           0.985
          ],
          [
           16,
           0.985
          ],
          [
           16,
           0.985
          ],
          [
           16,
           0.985
          ],
          [
           16,
           0.985
          ],
          [
           19,
           0.97
          ],
          [
           19,
           0.97
          ],
          [
           19,
           0.97
          ],
          [
           19,
           0.97
          ],
          [
           19,
           0.97
          ],
          [
           19,
           0.97
          ],
          [
           19,
           0.97
          ],
          [
           19,
           0.97
          ],
          [
           19,
           0.97
          ],
          [
           19,
           0.97
          ],
          [
           19,
           0.97
          ],
          [
           19,
           0.97
          ],
          [
           19,
           0.97
          ],
          [
           19,
           0.97
          ],
          [
           19,
           0.97
          ],
          [
           19,
           0.97
          ],
          [
           19,
           0.97
          ],
          [
           19,
           0.97
          ],
          [
           19,
           0.97
          ],
          [
           19,
           0.97
          ],
          [
           19,
           0.97
          ],
          [
           19,
           0.97
          ],
          [
           19,
           0.97
          ],
          [
           19,
           0.97
          ],
          [
           19,
           0.97
          ],
          [
           19,
           0.97
          ],
          [
           20,
           0.95
          ],
          [
           20,
           0.95
          ],
          [
           20,
           0.95
          ],
          [
           20,
           0.95
          ],
          [
           20,
           0.95
          ],
          [
           20,
           0.95
          ],
          [
           20,
           0.95
          ],
          [
           20,
           0.95
          ],
          [
           20,
           0.95
          ],
          [
           20,
           0.95
          ],
          [
           20,
           0.95
          ],
          [
           20,
           0.95
          ],
          [
           20,
           0.95
          ],
          [
           20,
           0.95
          ],
          [
           20,
           0.95
          ]
         ],
         "hovertemplate": "<b>Hour</b>: %{customdata[0]}<br><b>Steps</b>: %{y}<br><b>Heart Rate</b>: %{x}<br><b>SpO2</b>: %{customdata[1]}<extra></extra>",
         "marker": {
          "color": [
           0.86,
           0.86,
           0.86,
           0.86,
           0.86,
           0.86,
           0.86,
           0.86,
           0.86,
           0.86,
           0.86,
           0.86,
           0.86,
           0.86,
           0.86,
           0.86,
           0.86,
           0.86,
           0.86,
           0.86,
           0.86,
           0.86,
           0.86,
           0.86,
           0.86,
           0.86,
           0.86,
           0.86,
           0.86,
           0.86,
           0.86,
           0.86,
           0.86,
           0.86,
           0.86,
           0.95,
           0.95,
           0.95,
           0.95,
           0.95,
           0.95,
           0.95,
           0.95,
           0.95,
           0.95,
           0.95,
           0.95,
           0.95,
           0.95,
           0.95,
           0.95,
           0.95,
           0.95,
           0.95,
           0.95,
           0.95,
           0.95,
           0.95,
           0.95,
           0.95,
           0.95,
           0.95,
           0.95,
           0.95,
           0.95,
           0.95,
           0.95,
           0.95,
           0.95,
           0.95,
           0.95,
           0.95,
           0.97,
           0.97,
           0.97,
           0.97,
           0.97,
           0.97,
           0.97,
           0.97,
           0.97,
           0.97,
           0.97,
           0.97,
           0.97,
           0.97,
           0.97,
           0.97,
           0.97,
           0.97,
           0.97,
           0.97,
           0.97,
           0.97,
           0.97,
           0.97,
           0.97,
           0.97,
           0.96,
           0.96,
           0.96,
           0.96,
           0.96,
           0.96,
           0.96,
           0.96,
           0.96,
           0.96,
           0.96,
           0.96,
           0.96,
           0.96,
           0.96,
           0.96,
           0.96,
           0.96,
           0.96,
           0.96,
           0.96,
           0.96,
           0.96,
           0.96,
           0.96,
           0.96,
           0.96,
           0.96,
           0.96,
           0.96,
           0.96,
           0.96,
           0.96,
           0.96,
           0.96,
           0.96,
           0.96,
           0.96,
           0.96,
           0.96,
           0.985,
           0.985,
           0.985,
           0.985,
           0.985,
           0.985,
           0.985,
           0.985,
           0.985,
           0.985,
           0.985,
           0.985,
           0.985,
           0.985,
           0.985,
           0.985,
           0.985,
           0.985,
           0.985,
           0.985,
           0.985,
           0.985,
           0.985,
           0.985,
           0.985,
           0.985,
           0.985,
           0.985,
           0.985,
           0.985,
           0.985,
           0.985,
           0.985,
           0.985,
           0.985,
           0.985,
           0.985,
           0.985,
           0.985,
           0.985,
           0.985,
           0.985,
           0.985,
           0.985,
           0.985,
           0.985,
           0.985,
           0.985,
           0.985,
           0.985,
           0.985,
           0.985,
           0.985,
           0.985,
           0.985,
           0.985,
           0.985,
           0.985,
           0.985,
           0.985,
           0.985,
           0.985,
           0.985,
           0.985,
           0.985,
           0.985,
           0.985,
           0.985,
           0.985,
           0.985,
           0.985,
           0.985,
           0.985,
           0.985,
           0.985,
           0.985,
           0.985,
           0.985,
           0.985,
           0.985,
           0.985,
           0.985,
           0.985,
           0.985,
           0.985,
           0.985,
           0.985,
           0.985,
           0.97,
           0.97,
           0.97,
           0.97,
           0.97,
           0.97,
           0.97,
           0.97,
           0.97,
           0.97,
           0.97,
           0.97,
           0.97,
           0.97,
           0.97,
           0.97,
           0.97,
           0.97,
           0.97,
           0.97,
           0.97,
           0.97,
           0.97,
           0.97,
           0.97,
           0.97,
           0.95,
           0.95,
           0.95,
           0.95,
           0.95,
           0.95,
           0.95,
           0.95,
           0.95,
           0.95,
           0.95,
           0.95,
           0.95,
           0.95,
           0.95
          ],
          "colorbar": {
           "title": {
            "text": "Mean SpO2"
           }
          },
          "colorscale": [
           [
            0,
            "#440154"
           ],
           [
            0.1111111111111111,
            "#482878"
           ],
           [
            0.2222222222222222,
            "#3e4989"
           ],
           [
            0.3333333333333333,
            "#31688e"
           ],
           [
            0.4444444444444444,
            "#26828e"
           ],
           [
            0.5555555555555556,
            "#1f9e89"
           ],
           [
            0.6666666666666666,
            "#35b779"
           ],
           [
            0.7777777777777778,
            "#6ece58"
           ],
           [
            0.8888888888888888,
            "#b5de2b"
           ],
           [
            1,
            "#fde725"
           ]
          ],
          "showscale": false,
          "size": 10
         },
         "mode": "markers",
         "name": "2023-01-04",
         "type": "scatter",
         "x": [
          69.71428571428571,
          69.71428571428571,
          69.71428571428571,
          69.71428571428571,
          69.71428571428571,
          69.71428571428571,
          69.71428571428571,
          69.71428571428571,
          69.71428571428571,
          69.71428571428571,
          69.71428571428571,
          69.71428571428571,
          69.71428571428571,
          69.71428571428571,
          69.71428571428571,
          69.71428571428571,
          69.71428571428571,
          69.71428571428571,
          69.71428571428571,
          69.71428571428571,
          69.71428571428571,
          69.71428571428571,
          69.71428571428571,
          69.71428571428571,
          69.71428571428571,
          69.71428571428571,
          69.71428571428571,
          69.71428571428571,
          69.71428571428571,
          69.71428571428571,
          69.71428571428571,
          69.71428571428571,
          69.71428571428571,
          69.71428571428571,
          69.71428571428571,
          67.25,
          67.25,
          67.25,
          67.25,
          67.25,
          67.25,
          67.25,
          67.25,
          67.25,
          67.25,
          67.25,
          67.25,
          67.25,
          67.25,
          67.25,
          67.25,
          67.25,
          67.25,
          67.25,
          67.25,
          67.25,
          67.25,
          67.25,
          67.25,
          66.76923076923077,
          66.76923076923077,
          66.76923076923077,
          66.76923076923077,
          66.76923076923077,
          66.76923076923077,
          66.76923076923077,
          66.76923076923077,
          66.76923076923077,
          66.76923076923077,
          66.76923076923077,
          66.76923076923077,
          66.76923076923077,
          67.76923076923077,
          67.76923076923077,
          67.76923076923077,
          67.76923076923077,
          67.76923076923077,
          67.76923076923077,
          67.76923076923077,
          67.76923076923077,
          67.76923076923077,
          67.76923076923077,
          67.76923076923077,
          67.76923076923077,
          67.76923076923077,
          67.76923076923077,
          67.76923076923077,
          67.76923076923077,
          67.76923076923077,
          67.76923076923077,
          67.76923076923077,
          67.76923076923077,
          67.76923076923077,
          67.76923076923077,
          67.76923076923077,
          67.76923076923077,
          67.76923076923077,
          67.76923076923077,
          94.125,
          94.125,
          94.125,
          94.125,
          94.125,
          94.125,
          94.125,
          94.125,
          94.125,
          94.125,
          94.125,
          94.125,
          94.125,
          94.125,
          94.125,
          94.125,
          94.125,
          94.125,
          94.125,
          94.125,
          94.125,
          94.125,
          94.125,
          94.125,
          94.125,
          94.125,
          94.125,
          94.125,
          94.125,
          94.125,
          94.125,
          94.125,
          94.125,
          94.125,
          94.125,
          94.125,
          94.125,
          94.125,
          94.125,
          94.125,
          77.72727272727273,
          77.72727272727273,
          77.72727272727273,
          77.72727272727273,
          77.72727272727273,
          77.72727272727273,
          77.72727272727273,
          77.72727272727273,
          77.72727272727273,
          77.72727272727273,
          77.72727272727273,
          77.72727272727273,
          77.72727272727273,
          77.72727272727273,
          77.72727272727273,
          77.72727272727273,
          77.72727272727273,
          77.72727272727273,
          77.72727272727273,
          77.72727272727273,
          77.72727272727273,
          77.72727272727273,
          77.72727272727273,
          77.72727272727273,
          77.72727272727273,
          77.72727272727273,
          77.72727272727273,
          77.72727272727273,
          77.72727272727273,
          77.72727272727273,
          77.72727272727273,
          77.72727272727273,
          77.72727272727273,
          77.72727272727273,
          77.72727272727273,
          77.72727272727273,
          77.72727272727273,
          77.72727272727273,
          77.72727272727273,
          77.72727272727273,
          77.72727272727273,
          77.72727272727273,
          77.72727272727273,
          77.72727272727273,
          77.72727272727273,
          77.72727272727273,
          77.72727272727273,
          77.72727272727273,
          77.72727272727273,
          77.72727272727273,
          77.72727272727273,
          77.72727272727273,
          77.72727272727273,
          77.72727272727273,
          77.72727272727273,
          77.72727272727273,
          77.72727272727273,
          77.72727272727273,
          77.72727272727273,
          77.72727272727273,
          77.72727272727273,
          77.72727272727273,
          77.72727272727273,
          77.72727272727273,
          77.72727272727273,
          77.72727272727273,
          77.72727272727273,
          77.72727272727273,
          77.72727272727273,
          77.72727272727273,
          77.72727272727273,
          77.72727272727273,
          77.72727272727273,
          77.72727272727273,
          77.72727272727273,
          77.72727272727273,
          77.72727272727273,
          77.72727272727273,
          77.72727272727273,
          77.72727272727273,
          77.72727272727273,
          77.72727272727273,
          77.72727272727273,
          77.72727272727273,
          77.72727272727273,
          77.72727272727273,
          77.72727272727273,
          77.72727272727273,
          87.53846153846153,
          87.53846153846153,
          87.53846153846153,
          87.53846153846153,
          87.53846153846153,
          87.53846153846153,
          87.53846153846153,
          87.53846153846153,
          87.53846153846153,
          87.53846153846153,
          87.53846153846153,
          87.53846153846153,
          87.53846153846153,
          87.53846153846153,
          87.53846153846153,
          87.53846153846153,
          87.53846153846153,
          87.53846153846153,
          87.53846153846153,
          87.53846153846153,
          87.53846153846153,
          87.53846153846153,
          87.53846153846153,
          87.53846153846153,
          87.53846153846153,
          87.53846153846153,
          87.2,
          87.2,
          87.2,
          87.2,
          87.2,
          87.2,
          87.2,
          87.2,
          87.2,
          87.2,
          87.2,
          87.2,
          87.2,
          87.2,
          87.2
         ],
         "xaxis": "x2",
         "y": [
          40.8,
          40.8,
          40.8,
          40.8,
          40.8,
          40.8,
          40.8,
          40.8,
          40.8,
          40.8,
          40.8,
          40.8,
          40.8,
          40.8,
          40.8,
          40.8,
          40.8,
          40.8,
          40.8,
          40.8,
          40.8,
          40.8,
          40.8,
          40.8,
          40.8,
          40.8,
          40.8,
          40.8,
          40.8,
          40.8,
          40.8,
          40.8,
          40.8,
          40.8,
          40.8,
          125.5,
          125.5,
          125.5,
          125.5,
          125.5,
          125.5,
          125.5,
          125.5,
          125.5,
          125.5,
          125.5,
          125.5,
          125.5,
          125.5,
          125.5,
          125.5,
          125.5,
          125.5,
          125.5,
          125.5,
          125.5,
          125.5,
          125.5,
          125.5,
          16,
          16,
          16,
          16,
          16,
          16,
          16,
          16,
          16,
          16,
          16,
          16,
          16,
          143.5,
          143.5,
          143.5,
          143.5,
          143.5,
          143.5,
          143.5,
          143.5,
          143.5,
          143.5,
          143.5,
          143.5,
          143.5,
          143.5,
          143.5,
          143.5,
          143.5,
          143.5,
          143.5,
          143.5,
          143.5,
          143.5,
          143.5,
          143.5,
          143.5,
          143.5,
          26.8,
          26.8,
          26.8,
          26.8,
          26.8,
          26.8,
          26.8,
          26.8,
          26.8,
          26.8,
          26.8,
          26.8,
          26.8,
          26.8,
          26.8,
          26.8,
          26.8,
          26.8,
          26.8,
          26.8,
          26.8,
          26.8,
          26.8,
          26.8,
          26.8,
          26.8,
          26.8,
          26.8,
          26.8,
          26.8,
          26.8,
          26.8,
          26.8,
          26.8,
          26.8,
          26.8,
          26.8,
          26.8,
          26.8,
          26.8,
          30.75,
          30.75,
          30.75,
          30.75,
          30.75,
          30.75,
          30.75,
          30.75,
          30.75,
          30.75,
          30.75,
          30.75,
          30.75,
          30.75,
          30.75,
          30.75,
          30.75,
          30.75,
          30.75,
          30.75,
          30.75,
          30.75,
          30.75,
          30.75,
          30.75,
          30.75,
          30.75,
          30.75,
          30.75,
          30.75,
          30.75,
          30.75,
          30.75,
          30.75,
          30.75,
          30.75,
          30.75,
          30.75,
          30.75,
          30.75,
          30.75,
          30.75,
          30.75,
          30.75,
          30.75,
          30.75,
          30.75,
          30.75,
          30.75,
          30.75,
          30.75,
          30.75,
          30.75,
          30.75,
          30.75,
          30.75,
          30.75,
          30.75,
          30.75,
          30.75,
          30.75,
          30.75,
          30.75,
          30.75,
          30.75,
          30.75,
          30.75,
          30.75,
          30.75,
          30.75,
          30.75,
          30.75,
          30.75,
          30.75,
          30.75,
          30.75,
          30.75,
          30.75,
          30.75,
          30.75,
          30.75,
          30.75,
          30.75,
          30.75,
          30.75,
          30.75,
          30.75,
          30.75,
          27,
          27,
          27,
          27,
          27,
          27,
          27,
          27,
          27,
          27,
          27,
          27,
          27,
          27,
          27,
          27,
          27,
          27,
          27,
          27,
          27,
          27,
          27,
          27,
          27,
          27,
          69.66666666666667,
          69.66666666666667,
          69.66666666666667,
          69.66666666666667,
          69.66666666666667,
          69.66666666666667,
          69.66666666666667,
          69.66666666666667,
          69.66666666666667,
          69.66666666666667,
          69.66666666666667,
          69.66666666666667,
          69.66666666666667,
          69.66666666666667,
          69.66666666666667
         ],
         "yaxis": "y2"
        },
        {
         "customdata": [
          [
           6,
           0.95
          ],
          [
           6,
           0.95
          ],
          [
           6,
           0.95
          ],
          [
           6,
           0.95
          ],
          [
           6,
           0.95
          ],
          [
           6,
           0.95
          ],
          [
           6,
           0.95
          ],
          [
           6,
           0.95
          ],
          [
           6,
           0.95
          ],
          [
           6,
           0.95
          ],
          [
           6,
           0.95
          ],
          [
           6,
           0.95
          ],
          [
           6,
           0.95
          ],
          [
           6,
           0.95
          ],
          [
           6,
           0.95
          ],
          [
           6,
           0.95
          ],
          [
           6,
           0.95
          ],
          [
           6,
           0.95
          ],
          [
           6,
           0.95
          ],
          [
           6,
           0.95
          ],
          [
           6,
           0.95
          ],
          [
           6,
           0.95
          ],
          [
           6,
           0.95
          ],
          [
           6,
           0.95
          ],
          [
           6,
           0.95
          ],
          [
           6,
           0.95
          ],
          [
           6,
           0.95
          ],
          [
           6,
           0.95
          ],
          [
           6,
           0.95
          ],
          [
           6,
           0.95
          ],
          [
           6,
           0.95
          ],
          [
           6,
           0.95
          ],
          [
           6,
           0.95
          ],
          [
           6,
           0.95
          ],
          [
           6,
           0.95
          ],
          [
           6,
           0.95
          ],
          [
           6,
           0.95
          ],
          [
           6,
           0.95
          ],
          [
           6,
           0.95
          ],
          [
           6,
           0.95
          ],
          [
           6,
           0.95
          ],
          [
           6,
           0.95
          ],
          [
           6,
           0.95
          ],
          [
           6,
           0.95
          ],
          [
           6,
           0.95
          ],
          [
           6,
           0.95
          ],
          [
           6,
           0.95
          ],
          [
           6,
           0.95
          ],
          [
           6,
           0.95
          ],
          [
           6,
           0.95
          ],
          [
           6,
           0.95
          ],
          [
           6,
           0.95
          ],
          [
           6,
           0.95
          ],
          [
           6,
           0.95
          ],
          [
           6,
           0.95
          ],
          [
           6,
           0.95
          ],
          [
           6,
           0.95
          ],
          [
           6,
           0.95
          ],
          [
           6,
           0.95
          ],
          [
           6,
           0.95
          ],
          [
           8,
           0.96
          ],
          [
           8,
           0.96
          ],
          [
           8,
           0.96
          ],
          [
           8,
           0.96
          ],
          [
           8,
           0.96
          ],
          [
           8,
           0.96
          ],
          [
           8,
           0.96
          ],
          [
           8,
           0.96
          ],
          [
           8,
           0.96
          ],
          [
           8,
           0.96
          ],
          [
           8,
           0.96
          ],
          [
           8,
           0.96
          ],
          [
           8,
           0.96
          ],
          [
           8,
           0.96
          ],
          [
           8,
           0.96
          ],
          [
           8,
           0.96
          ],
          [
           8,
           0.96
          ],
          [
           8,
           0.96
          ],
          [
           8,
           0.96
          ],
          [
           8,
           0.96
          ],
          [
           8,
           0.96
          ],
          [
           8,
           0.96
          ],
          [
           8,
           0.96
          ],
          [
           8,
           0.96
          ],
          [
           8,
           0.96
          ],
          [
           8,
           0.96
          ],
          [
           8,
           0.96
          ],
          [
           8,
           0.96
          ],
          [
           8,
           0.96
          ],
          [
           8,
           0.96
          ],
          [
           8,
           0.96
          ],
          [
           8,
           0.96
          ],
          [
           8,
           0.96
          ],
          [
           8,
           0.96
          ],
          [
           8,
           0.96
          ],
          [
           8,
           0.96
          ],
          [
           8,
           0.96
          ],
          [
           8,
           0.96
          ],
          [
           8,
           0.96
          ],
          [
           8,
           0.96
          ],
          [
           8,
           0.96
          ],
          [
           8,
           0.96
          ],
          [
           8,
           0.96
          ],
          [
           8,
           0.96
          ],
          [
           8,
           0.96
          ],
          [
           8,
           0.96
          ],
          [
           8,
           0.96
          ],
          [
           8,
           0.96
          ],
          [
           8,
           0.96
          ],
          [
           8,
           0.96
          ],
          [
           8,
           0.96
          ],
          [
           8,
           0.96
          ],
          [
           8,
           0.96
          ],
          [
           8,
           0.96
          ],
          [
           8,
           0.96
          ],
          [
           8,
           0.96
          ],
          [
           8,
           0.96
          ],
          [
           8,
           0.96
          ],
          [
           8,
           0.96
          ],
          [
           8,
           0.96
          ],
          [
           8,
           0.96
          ],
          [
           8,
           0.96
          ],
          [
           8,
           0.96
          ],
          [
           8,
           0.96
          ],
          [
           8,
           0.96
          ],
          [
           8,
           0.96
          ],
          [
           8,
           0.96
          ],
          [
           8,
           0.96
          ],
          [
           8,
           0.96
          ],
          [
           8,
           0.96
          ],
          [
           8,
           0.96
          ],
          [
           8,
           0.96
          ],
          [
           8,
           0.96
          ],
          [
           8,
           0.96
          ],
          [
           8,
           0.96
          ],
          [
           8,
           0.96
          ],
          [
           8,
           0.96
          ],
          [
           8,
           0.96
          ],
          [
           8,
           0.96
          ],
          [
           8,
           0.96
          ],
          [
           8,
           0.96
          ],
          [
           8,
           0.96
          ],
          [
           8,
           0.96
          ],
          [
           8,
           0.96
          ],
          [
           8,
           0.96
          ],
          [
           8,
           0.96
          ],
          [
           8,
           0.96
          ],
          [
           8,
           0.96
          ],
          [
           8,
           0.96
          ],
          [
           8,
           0.96
          ],
          [
           8,
           0.96
          ],
          [
           8,
           0.96
          ],
          [
           8,
           0.96
          ],
          [
           8,
           0.96
          ],
          [
           8,
           0.96
          ],
          [
           8,
           0.96
          ],
          [
           8,
           0.96
          ],
          [
           8,
           0.96
          ],
          [
           8,
           0.96
          ],
          [
           8,
           0.96
          ],
          [
           8,
           0.96
          ],
          [
           8,
           0.96
          ],
          [
           8,
           0.96
          ],
          [
           8,
           0.96
          ],
          [
           8,
           0.96
          ],
          [
           8,
           0.96
          ],
          [
           8,
           0.96
          ],
          [
           8,
           0.96
          ],
          [
           8,
           0.96
          ],
          [
           8,
           0.96
          ],
          [
           8,
           0.96
          ],
          [
           8,
           0.96
          ],
          [
           8,
           0.96
          ],
          [
           8,
           0.96
          ],
          [
           8,
           0.96
          ],
          [
           8,
           0.96
          ],
          [
           8,
           0.96
          ],
          [
           8,
           0.96
          ],
          [
           8,
           0.96
          ],
          [
           8,
           0.96
          ],
          [
           8,
           0.96
          ],
          [
           8,
           0.96
          ],
          [
           8,
           0.96
          ],
          [
           8,
           0.96
          ],
          [
           8,
           0.96
          ],
          [
           8,
           0.96
          ],
          [
           8,
           0.96
          ],
          [
           8,
           0.96
          ],
          [
           8,
           0.96
          ],
          [
           8,
           0.96
          ],
          [
           8,
           0.96
          ],
          [
           8,
           0.96
          ],
          [
           8,
           0.96
          ],
          [
           8,
           0.96
          ],
          [
           8,
           0.96
          ],
          [
           8,
           0.96
          ],
          [
           8,
           0.96
          ],
          [
           8,
           0.96
          ],
          [
           8,
           0.96
          ],
          [
           8,
           0.96
          ],
          [
           8,
           0.96
          ],
          [
           8,
           0.96
          ],
          [
           8,
           0.96
          ],
          [
           8,
           0.96
          ],
          [
           8,
           0.96
          ],
          [
           8,
           0.96
          ],
          [
           8,
           0.96
          ],
          [
           8,
           0.96
          ],
          [
           8,
           0.96
          ],
          [
           8,
           0.96
          ],
          [
           8,
           0.96
          ],
          [
           8,
           0.96
          ],
          [
           8,
           0.96
          ],
          [
           8,
           0.96
          ],
          [
           8,
           0.96
          ],
          [
           8,
           0.96
          ],
          [
           8,
           0.96
          ],
          [
           8,
           0.96
          ],
          [
           8,
           0.96
          ],
          [
           8,
           0.96
          ],
          [
           10,
           0.95
          ],
          [
           10,
           0.95
          ],
          [
           10,
           0.95
          ],
          [
           10,
           0.95
          ],
          [
           10,
           0.95
          ],
          [
           10,
           0.95
          ],
          [
           10,
           0.95
          ],
          [
           10,
           0.95
          ],
          [
           10,
           0.95
          ],
          [
           10,
           0.95
          ],
          [
           10,
           0.95
          ],
          [
           10,
           0.95
          ],
          [
           10,
           0.95
          ],
          [
           10,
           0.95
          ],
          [
           12,
           0.945
          ],
          [
           12,
           0.945
          ],
          [
           12,
           0.945
          ],
          [
           12,
           0.945
          ],
          [
           12,
           0.945
          ],
          [
           12,
           0.945
          ],
          [
           12,
           0.945
          ],
          [
           12,
           0.945
          ],
          [
           12,
           0.945
          ],
          [
           12,
           0.945
          ],
          [
           12,
           0.945
          ],
          [
           12,
           0.945
          ],
          [
           12,
           0.945
          ],
          [
           12,
           0.945
          ],
          [
           12,
           0.945
          ],
          [
           12,
           0.945
          ],
          [
           12,
           0.945
          ],
          [
           12,
           0.945
          ],
          [
           12,
           0.945
          ],
          [
           12,
           0.945
          ],
          [
           12,
           0.945
          ],
          [
           12,
           0.945
          ],
          [
           12,
           0.945
          ],
          [
           12,
           0.945
          ],
          [
           12,
           0.945
          ],
          [
           12,
           0.945
          ],
          [
           12,
           0.945
          ],
          [
           12,
           0.945
          ],
          [
           12,
           0.945
          ],
          [
           12,
           0.945
          ],
          [
           12,
           0.945
          ],
          [
           12,
           0.945
          ],
          [
           12,
           0.945
          ],
          [
           12,
           0.945
          ],
          [
           12,
           0.945
          ],
          [
           12,
           0.945
          ],
          [
           12,
           0.945
          ],
          [
           12,
           0.945
          ],
          [
           12,
           0.945
          ],
          [
           12,
           0.945
          ],
          [
           12,
           0.945
          ],
          [
           12,
           0.945
          ],
          [
           12,
           0.945
          ],
          [
           12,
           0.945
          ],
          [
           12,
           0.945
          ],
          [
           12,
           0.945
          ],
          [
           12,
           0.945
          ],
          [
           12,
           0.945
          ],
          [
           12,
           0.945
          ],
          [
           12,
           0.945
          ],
          [
           12,
           0.945
          ],
          [
           12,
           0.945
          ],
          [
           12,
           0.945
          ],
          [
           12,
           0.945
          ],
          [
           12,
           0.945
          ],
          [
           12,
           0.945
          ],
          [
           12,
           0.945
          ],
          [
           12,
           0.945
          ],
          [
           12,
           0.945
          ],
          [
           12,
           0.945
          ],
          [
           12,
           0.945
          ],
          [
           12,
           0.945
          ],
          [
           12,
           0.945
          ],
          [
           12,
           0.945
          ],
          [
           12,
           0.945
          ],
          [
           12,
           0.945
          ],
          [
           12,
           0.945
          ],
          [
           12,
           0.945
          ],
          [
           12,
           0.945
          ],
          [
           12,
           0.945
          ],
          [
           12,
           0.945
          ],
          [
           12,
           0.945
          ],
          [
           12,
           0.945
          ],
          [
           12,
           0.945
          ],
          [
           12,
           0.945
          ],
          [
           12,
           0.945
          ],
          [
           12,
           0.945
          ],
          [
           12,
           0.945
          ],
          [
           12,
           0.945
          ],
          [
           12,
           0.945
          ],
          [
           12,
           0.945
          ],
          [
           12,
           0.945
          ],
          [
           12,
           0.945
          ],
          [
           12,
           0.945
          ],
          [
           12,
           0.945
          ],
          [
           12,
           0.945
          ],
          [
           12,
           0.945
          ],
          [
           12,
           0.945
          ],
          [
           12,
           0.945
          ],
          [
           12,
           0.945
          ],
          [
           14,
           0.95
          ],
          [
           14,
           0.95
          ],
          [
           14,
           0.95
          ],
          [
           14,
           0.95
          ],
          [
           14,
           0.95
          ],
          [
           14,
           0.95
          ],
          [
           14,
           0.95
          ],
          [
           14,
           0.95
          ],
          [
           14,
           0.95
          ],
          [
           14,
           0.95
          ],
          [
           14,
           0.95
          ],
          [
           14,
           0.95
          ],
          [
           14,
           0.95
          ],
          [
           14,
           0.95
          ],
          [
           14,
           0.95
          ],
          [
           14,
           0.95
          ],
          [
           14,
           0.95
          ],
          [
           14,
           0.95
          ],
          [
           14,
           0.95
          ],
          [
           14,
           0.95
          ],
          [
           14,
           0.95
          ],
          [
           14,
           0.95
          ],
          [
           14,
           0.95
          ],
          [
           14,
           0.95
          ],
          [
           14,
           0.95
          ],
          [
           14,
           0.95
          ],
          [
           14,
           0.95
          ],
          [
           14,
           0.95
          ],
          [
           14,
           0.95
          ],
          [
           14,
           0.95
          ],
          [
           14,
           0.95
          ],
          [
           14,
           0.95
          ],
          [
           14,
           0.95
          ],
          [
           14,
           0.95
          ],
          [
           14,
           0.95
          ],
          [
           14,
           0.95
          ],
          [
           14,
           0.95
          ],
          [
           14,
           0.95
          ],
          [
           14,
           0.95
          ],
          [
           14,
           0.95
          ],
          [
           14,
           0.95
          ],
          [
           14,
           0.95
          ],
          [
           14,
           0.95
          ],
          [
           14,
           0.95
          ],
          [
           14,
           0.95
          ],
          [
           14,
           0.95
          ],
          [
           14,
           0.95
          ],
          [
           14,
           0.95
          ],
          [
           14,
           0.95
          ],
          [
           14,
           0.95
          ],
          [
           14,
           0.95
          ],
          [
           14,
           0.95
          ],
          [
           14,
           0.95
          ],
          [
           14,
           0.95
          ],
          [
           14,
           0.95
          ],
          [
           14,
           0.95
          ],
          [
           14,
           0.95
          ],
          [
           14,
           0.95
          ],
          [
           14,
           0.95
          ],
          [
           14,
           0.95
          ],
          [
           14,
           0.95
          ],
          [
           14,
           0.95
          ],
          [
           14,
           0.95
          ],
          [
           14,
           0.95
          ],
          [
           14,
           0.95
          ],
          [
           14,
           0.95
          ],
          [
           14,
           0.95
          ],
          [
           14,
           0.95
          ],
          [
           14,
           0.95
          ],
          [
           14,
           0.95
          ],
          [
           14,
           0.95
          ],
          [
           14,
           0.95
          ],
          [
           14,
           0.95
          ],
          [
           14,
           0.95
          ],
          [
           14,
           0.95
          ],
          [
           14,
           0.95
          ],
          [
           14,
           0.95
          ],
          [
           14,
           0.95
          ],
          [
           14,
           0.95
          ],
          [
           14,
           0.95
          ],
          [
           14,
           0.95
          ],
          [
           14,
           0.95
          ],
          [
           14,
           0.95
          ],
          [
           14,
           0.95
          ],
          [
           14,
           0.95
          ],
          [
           14,
           0.95
          ],
          [
           14,
           0.95
          ],
          [
           14,
           0.95
          ],
          [
           14,
           0.95
          ],
          [
           14,
           0.95
          ],
          [
           14,
           0.95
          ],
          [
           14,
           0.95
          ],
          [
           14,
           0.95
          ],
          [
           14,
           0.95
          ],
          [
           14,
           0.95
          ],
          [
           14,
           0.95
          ],
          [
           14,
           0.95
          ],
          [
           14,
           0.95
          ],
          [
           14,
           0.95
          ],
          [
           14,
           0.95
          ],
          [
           14,
           0.95
          ],
          [
           14,
           0.95
          ],
          [
           14,
           0.95
          ],
          [
           14,
           0.95
          ],
          [
           14,
           0.95
          ],
          [
           14,
           0.95
          ],
          [
           14,
           0.95
          ],
          [
           14,
           0.95
          ],
          [
           14,
           0.95
          ],
          [
           14,
           0.95
          ],
          [
           14,
           0.95
          ],
          [
           14,
           0.95
          ],
          [
           14,
           0.95
          ],
          [
           14,
           0.95
          ],
          [
           14,
           0.95
          ],
          [
           14,
           0.95
          ],
          [
           14,
           0.95
          ],
          [
           14,
           0.95
          ],
          [
           14,
           0.95
          ],
          [
           14,
           0.95
          ],
          [
           14,
           0.95
          ],
          [
           14,
           0.95
          ],
          [
           14,
           0.95
          ],
          [
           14,
           0.95
          ],
          [
           14,
           0.95
          ],
          [
           14,
           0.95
          ],
          [
           14,
           0.95
          ],
          [
           14,
           0.95
          ],
          [
           14,
           0.95
          ],
          [
           14,
           0.95
          ],
          [
           14,
           0.95
          ],
          [
           14,
           0.95
          ],
          [
           14,
           0.95
          ],
          [
           14,
           0.95
          ],
          [
           14,
           0.95
          ],
          [
           14,
           0.95
          ],
          [
           14,
           0.95
          ],
          [
           14,
           0.95
          ],
          [
           14,
           0.95
          ],
          [
           14,
           0.95
          ],
          [
           14,
           0.95
          ],
          [
           14,
           0.95
          ],
          [
           14,
           0.95
          ],
          [
           14,
           0.95
          ],
          [
           14,
           0.95
          ],
          [
           14,
           0.95
          ],
          [
           14,
           0.95
          ],
          [
           14,
           0.95
          ],
          [
           14,
           0.95
          ],
          [
           14,
           0.95
          ],
          [
           14,
           0.95
          ],
          [
           14,
           0.95
          ],
          [
           14,
           0.95
          ],
          [
           14,
           0.95
          ],
          [
           14,
           0.95
          ],
          [
           14,
           0.95
          ],
          [
           14,
           0.95
          ],
          [
           14,
           0.95
          ],
          [
           14,
           0.95
          ],
          [
           14,
           0.95
          ],
          [
           17,
           0.95
          ],
          [
           17,
           0.95
          ],
          [
           17,
           0.95
          ],
          [
           17,
           0.95
          ],
          [
           17,
           0.95
          ],
          [
           17,
           0.95
          ],
          [
           17,
           0.95
          ],
          [
           17,
           0.95
          ],
          [
           17,
           0.95
          ],
          [
           17,
           0.95
          ],
          [
           17,
           0.95
          ],
          [
           17,
           0.95
          ],
          [
           17,
           0.95
          ],
          [
           17,
           0.95
          ],
          [
           17,
           0.95
          ],
          [
           17,
           0.95
          ],
          [
           17,
           0.95
          ],
          [
           17,
           0.95
          ],
          [
           17,
           0.95
          ],
          [
           17,
           0.95
          ],
          [
           17,
           0.95
          ],
          [
           17,
           0.95
          ],
          [
           17,
           0.95
          ],
          [
           17,
           0.95
          ],
          [
           17,
           0.95
          ],
          [
           17,
           0.95
          ],
          [
           17,
           0.95
          ],
          [
           17,
           0.95
          ],
          [
           17,
           0.95
          ],
          [
           17,
           0.95
          ],
          [
           17,
           0.95
          ],
          [
           17,
           0.95
          ],
          [
           17,
           0.95
          ],
          [
           17,
           0.95
          ],
          [
           17,
           0.95
          ],
          [
           17,
           0.95
          ],
          [
           17,
           0.95
          ],
          [
           17,
           0.95
          ],
          [
           17,
           0.95
          ],
          [
           17,
           0.95
          ],
          [
           17,
           0.95
          ],
          [
           17,
           0.95
          ],
          [
           17,
           0.95
          ],
          [
           17,
           0.95
          ],
          [
           17,
           0.95
          ],
          [
           17,
           0.95
          ],
          [
           17,
           0.95
          ],
          [
           17,
           0.95
          ],
          [
           17,
           0.95
          ],
          [
           17,
           0.95
          ],
          [
           17,
           0.95
          ],
          [
           17,
           0.95
          ],
          [
           17,
           0.95
          ],
          [
           17,
           0.95
          ],
          [
           17,
           0.95
          ],
          [
           17,
           0.95
          ],
          [
           17,
           0.95
          ],
          [
           17,
           0.95
          ],
          [
           17,
           0.95
          ],
          [
           17,
           0.95
          ],
          [
           17,
           0.95
          ],
          [
           17,
           0.95
          ],
          [
           17,
           0.95
          ],
          [
           17,
           0.95
          ],
          [
           17,
           0.95
          ],
          [
           17,
           0.95
          ],
          [
           17,
           0.95
          ],
          [
           17,
           0.95
          ],
          [
           17,
           0.95
          ],
          [
           17,
           0.95
          ],
          [
           17,
           0.95
          ],
          [
           17,
           0.95
          ],
          [
           17,
           0.95
          ],
          [
           17,
           0.95
          ],
          [
           17,
           0.95
          ],
          [
           17,
           0.95
          ],
          [
           17,
           0.95
          ],
          [
           19,
           0.94
          ],
          [
           19,
           0.94
          ],
          [
           19,
           0.94
          ],
          [
           19,
           0.94
          ],
          [
           19,
           0.94
          ],
          [
           19,
           0.94
          ],
          [
           19,
           0.94
          ],
          [
           19,
           0.94
          ],
          [
           19,
           0.94
          ],
          [
           19,
           0.94
          ],
          [
           19,
           0.94
          ],
          [
           19,
           0.94
          ],
          [
           19,
           0.94
          ],
          [
           19,
           0.94
          ],
          [
           19,
           0.94
          ],
          [
           19,
           0.94
          ],
          [
           19,
           0.94
          ],
          [
           19,
           0.94
          ],
          [
           19,
           0.94
          ],
          [
           19,
           0.94
          ],
          [
           19,
           0.94
          ],
          [
           19,
           0.94
          ],
          [
           19,
           0.94
          ],
          [
           19,
           0.94
          ],
          [
           19,
           0.94
          ],
          [
           19,
           0.94
          ],
          [
           19,
           0.94
          ],
          [
           19,
           0.94
          ],
          [
           19,
           0.94
          ],
          [
           19,
           0.94
          ],
          [
           19,
           0.94
          ],
          [
           19,
           0.94
          ],
          [
           19,
           0.94
          ],
          [
           19,
           0.94
          ],
          [
           19,
           0.94
          ],
          [
           19,
           0.94
          ],
          [
           19,
           0.94
          ],
          [
           19,
           0.94
          ],
          [
           19,
           0.94
          ],
          [
           19,
           0.94
          ],
          [
           19,
           0.94
          ],
          [
           19,
           0.94
          ],
          [
           19,
           0.94
          ],
          [
           19,
           0.94
          ],
          [
           19,
           0.94
          ],
          [
           19,
           0.94
          ],
          [
           19,
           0.94
          ],
          [
           19,
           0.94
          ],
          [
           19,
           0.94
          ],
          [
           19,
           0.94
          ],
          [
           19,
           0.94
          ],
          [
           19,
           0.94
          ],
          [
           20,
           0.95
          ],
          [
           20,
           0.95
          ],
          [
           20,
           0.95
          ],
          [
           20,
           0.95
          ],
          [
           20,
           0.95
          ],
          [
           20,
           0.95
          ],
          [
           20,
           0.95
          ],
          [
           20,
           0.95
          ],
          [
           20,
           0.95
          ],
          [
           20,
           0.95
          ],
          [
           20,
           0.95
          ],
          [
           20,
           0.95
          ],
          [
           20,
           0.95
          ],
          [
           20,
           0.95
          ],
          [
           20,
           0.95
          ],
          [
           20,
           0.95
          ],
          [
           20,
           0.95
          ],
          [
           20,
           0.95
          ]
         ],
         "hovertemplate": "<b>Hour</b>: %{customdata[0]}<br><b>Steps</b>: %{y}<br><b>Heart Rate</b>: %{x}<br><b>SpO2</b>: %{customdata[1]}<extra></extra>",
         "marker": {
          "color": [
           0.95,
           0.95,
           0.95,
           0.95,
           0.95,
           0.95,
           0.95,
           0.95,
           0.95,
           0.95,
           0.95,
           0.95,
           0.95,
           0.95,
           0.95,
           0.95,
           0.95,
           0.95,
           0.95,
           0.95,
           0.95,
           0.95,
           0.95,
           0.95,
           0.95,
           0.95,
           0.95,
           0.95,
           0.95,
           0.95,
           0.95,
           0.95,
           0.95,
           0.95,
           0.95,
           0.95,
           0.95,
           0.95,
           0.95,
           0.95,
           0.95,
           0.95,
           0.95,
           0.95,
           0.95,
           0.95,
           0.95,
           0.95,
           0.95,
           0.95,
           0.95,
           0.95,
           0.95,
           0.95,
           0.95,
           0.95,
           0.95,
           0.95,
           0.95,
           0.95,
           0.96,
           0.96,
           0.96,
           0.96,
           0.96,
           0.96,
           0.96,
           0.96,
           0.96,
           0.96,
           0.96,
           0.96,
           0.96,
           0.96,
           0.96,
           0.96,
           0.96,
           0.96,
           0.96,
           0.96,
           0.96,
           0.96,
           0.96,
           0.96,
           0.96,
           0.96,
           0.96,
           0.96,
           0.96,
           0.96,
           0.96,
           0.96,
           0.96,
           0.96,
           0.96,
           0.96,
           0.96,
           0.96,
           0.96,
           0.96,
           0.96,
           0.96,
           0.96,
           0.96,
           0.96,
           0.96,
           0.96,
           0.96,
           0.96,
           0.96,
           0.96,
           0.96,
           0.96,
           0.96,
           0.96,
           0.96,
           0.96,
           0.96,
           0.96,
           0.96,
           0.96,
           0.96,
           0.96,
           0.96,
           0.96,
           0.96,
           0.96,
           0.96,
           0.96,
           0.96,
           0.96,
           0.96,
           0.96,
           0.96,
           0.96,
           0.96,
           0.96,
           0.96,
           0.96,
           0.96,
           0.96,
           0.96,
           0.96,
           0.96,
           0.96,
           0.96,
           0.96,
           0.96,
           0.96,
           0.96,
           0.96,
           0.96,
           0.96,
           0.96,
           0.96,
           0.96,
           0.96,
           0.96,
           0.96,
           0.96,
           0.96,
           0.96,
           0.96,
           0.96,
           0.96,
           0.96,
           0.96,
           0.96,
           0.96,
           0.96,
           0.96,
           0.96,
           0.96,
           0.96,
           0.96,
           0.96,
           0.96,
           0.96,
           0.96,
           0.96,
           0.96,
           0.96,
           0.96,
           0.96,
           0.96,
           0.96,
           0.96,
           0.96,
           0.96,
           0.96,
           0.96,
           0.96,
           0.96,
           0.96,
           0.96,
           0.96,
           0.96,
           0.96,
           0.96,
           0.96,
           0.96,
           0.96,
           0.96,
           0.96,
           0.96,
           0.96,
           0.96,
           0.96,
           0.96,
           0.96,
           0.96,
           0.96,
           0.96,
           0.96,
           0.96,
           0.96,
           0.96,
           0.96,
           0.96,
           0.96,
           0.95,
           0.95,
           0.95,
           0.95,
           0.95,
           0.95,
           0.95,
           0.95,
           0.95,
           0.95,
           0.95,
           0.95,
           0.95,
           0.95,
           0.945,
           0.945,
           0.945,
           0.945,
           0.945,
           0.945,
           0.945,
           0.945,
           0.945,
           0.945,
           0.945,
           0.945,
           0.945,
           0.945,
           0.945,
           0.945,
           0.945,
           0.945,
           0.945,
           0.945,
           0.945,
           0.945,
           0.945,
           0.945,
           0.945,
           0.945,
           0.945,
           0.945,
           0.945,
           0.945,
           0.945,
           0.945,
           0.945,
           0.945,
           0.945,
           0.945,
           0.945,
           0.945,
           0.945,
           0.945,
           0.945,
           0.945,
           0.945,
           0.945,
           0.945,
           0.945,
           0.945,
           0.945,
           0.945,
           0.945,
           0.945,
           0.945,
           0.945,
           0.945,
           0.945,
           0.945,
           0.945,
           0.945,
           0.945,
           0.945,
           0.945,
           0.945,
           0.945,
           0.945,
           0.945,
           0.945,
           0.945,
           0.945,
           0.945,
           0.945,
           0.945,
           0.945,
           0.945,
           0.945,
           0.945,
           0.945,
           0.945,
           0.945,
           0.945,
           0.945,
           0.945,
           0.945,
           0.945,
           0.945,
           0.945,
           0.945,
           0.945,
           0.945,
           0.945,
           0.945,
           0.95,
           0.95,
           0.95,
           0.95,
           0.95,
           0.95,
           0.95,
           0.95,
           0.95,
           0.95,
           0.95,
           0.95,
           0.95,
           0.95,
           0.95,
           0.95,
           0.95,
           0.95,
           0.95,
           0.95,
           0.95,
           0.95,
           0.95,
           0.95,
           0.95,
           0.95,
           0.95,
           0.95,
           0.95,
           0.95,
           0.95,
           0.95,
           0.95,
           0.95,
           0.95,
           0.95,
           0.95,
           0.95,
           0.95,
           0.95,
           0.95,
           0.95,
           0.95,
           0.95,
           0.95,
           0.95,
           0.95,
           0.95,
           0.95,
           0.95,
           0.95,
           0.95,
           0.95,
           0.95,
           0.95,
           0.95,
           0.95,
           0.95,
           0.95,
           0.95,
           0.95,
           0.95,
           0.95,
           0.95,
           0.95,
           0.95,
           0.95,
           0.95,
           0.95,
           0.95,
           0.95,
           0.95,
           0.95,
           0.95,
           0.95,
           0.95,
           0.95,
           0.95,
           0.95,
           0.95,
           0.95,
           0.95,
           0.95,
           0.95,
           0.95,
           0.95,
           0.95,
           0.95,
           0.95,
           0.95,
           0.95,
           0.95,
           0.95,
           0.95,
           0.95,
           0.95,
           0.95,
           0.95,
           0.95,
           0.95,
           0.95,
           0.95,
           0.95,
           0.95,
           0.95,
           0.95,
           0.95,
           0.95,
           0.95,
           0.95,
           0.95,
           0.95,
           0.95,
           0.95,
           0.95,
           0.95,
           0.95,
           0.95,
           0.95,
           0.95,
           0.95,
           0.95,
           0.95,
           0.95,
           0.95,
           0.95,
           0.95,
           0.95,
           0.95,
           0.95,
           0.95,
           0.95,
           0.95,
           0.95,
           0.95,
           0.95,
           0.95,
           0.95,
           0.95,
           0.95,
           0.95,
           0.95,
           0.95,
           0.95,
           0.95,
           0.95,
           0.95,
           0.95,
           0.95,
           0.95,
           0.95,
           0.95,
           0.95,
           0.95,
           0.95,
           0.95,
           0.95,
           0.95,
           0.95,
           0.95,
           0.95,
           0.95,
           0.95,
           0.95,
           0.95,
           0.95,
           0.95,
           0.95,
           0.95,
           0.95,
           0.95,
           0.95,
           0.95,
           0.95,
           0.95,
           0.95,
           0.95,
           0.95,
           0.95,
           0.95,
           0.95,
           0.95,
           0.95,
           0.95,
           0.95,
           0.95,
           0.95,
           0.95,
           0.95,
           0.95,
           0.95,
           0.95,
           0.95,
           0.95,
           0.95,
           0.95,
           0.95,
           0.95,
           0.95,
           0.95,
           0.95,
           0.95,
           0.95,
           0.95,
           0.95,
           0.95,
           0.95,
           0.95,
           0.95,
           0.95,
           0.95,
           0.95,
           0.95,
           0.95,
           0.95,
           0.95,
           0.95,
           0.95,
           0.95,
           0.95,
           0.95,
           0.95,
           0.95,
           0.95,
           0.95,
           0.95,
           0.95,
           0.95,
           0.95,
           0.95,
           0.95,
           0.95,
           0.95,
           0.95,
           0.95,
           0.95,
           0.95,
           0.94,
           0.94,
           0.94,
           0.94,
           0.94,
           0.94,
           0.94,
           0.94,
           0.94,
           0.94,
           0.94,
           0.94,
           0.94,
           0.94,
           0.94,
           0.94,
           0.94,
           0.94,
           0.94,
           0.94,
           0.94,
           0.94,
           0.94,
           0.94,
           0.94,
           0.94,
           0.94,
           0.94,
           0.94,
           0.94,
           0.94,
           0.94,
           0.94,
           0.94,
           0.94,
           0.94,
           0.94,
           0.94,
           0.94,
           0.94,
           0.94,
           0.94,
           0.94,
           0.94,
           0.94,
           0.94,
           0.94,
           0.94,
           0.94,
           0.94,
           0.94,
           0.94,
           0.95,
           0.95,
           0.95,
           0.95,
           0.95,
           0.95,
           0.95,
           0.95,
           0.95,
           0.95,
           0.95,
           0.95,
           0.95,
           0.95,
           0.95,
           0.95,
           0.95,
           0.95
          ],
          "colorbar": {
           "title": {
            "text": "Mean SpO2"
           }
          },
          "colorscale": [
           [
            0,
            "#440154"
           ],
           [
            0.1111111111111111,
            "#482878"
           ],
           [
            0.2222222222222222,
            "#3e4989"
           ],
           [
            0.3333333333333333,
            "#31688e"
           ],
           [
            0.4444444444444444,
            "#26828e"
           ],
           [
            0.5555555555555556,
            "#1f9e89"
           ],
           [
            0.6666666666666666,
            "#35b779"
           ],
           [
            0.7777777777777778,
            "#6ece58"
           ],
           [
            0.8888888888888888,
            "#b5de2b"
           ],
           [
            1,
            "#fde725"
           ]
          ],
          "showscale": false,
          "size": 10
         },
         "mode": "markers",
         "name": "2023-01-05",
         "type": "scatter",
         "x": [
          70.54138666666667,
          70.54138666666667,
          70.54138666666667,
          70.54138666666667,
          70.54138666666667,
          70.54138666666667,
          70.54138666666667,
          70.54138666666667,
          70.54138666666667,
          70.54138666666667,
          70.54138666666667,
          70.54138666666667,
          70.54138666666667,
          70.54138666666667,
          70.54138666666667,
          70.54138666666667,
          70.54138666666667,
          70.54138666666667,
          70.54138666666667,
          70.54138666666667,
          70.54138666666667,
          70.54138666666667,
          70.54138666666667,
          70.54138666666667,
          70.54138666666667,
          70.54138666666667,
          70.54138666666667,
          70.54138666666667,
          70.54138666666667,
          70.54138666666667,
          70.54138666666667,
          70.54138666666667,
          70.54138666666667,
          70.54138666666667,
          70.54138666666667,
          70.54138666666667,
          70.54138666666667,
          70.54138666666667,
          70.54138666666667,
          70.54138666666667,
          70.54138666666667,
          70.54138666666667,
          70.54138666666667,
          70.54138666666667,
          70.54138666666667,
          70.54138666666667,
          70.54138666666667,
          70.54138666666667,
          70.54138666666667,
          70.54138666666667,
          70.54138666666667,
          70.54138666666667,
          70.54138666666667,
          70.54138666666667,
          70.54138666666667,
          70.54138666666667,
          70.54138666666667,
          70.54138666666667,
          70.54138666666667,
          70.54138666666667,
          70,
          70,
          70,
          70,
          70,
          70,
          70,
          70,
          70,
          70,
          70,
          70,
          70,
          70,
          70,
          70,
          70,
          70,
          70,
          70,
          70,
          70,
          70,
          70,
          70,
          70,
          70,
          70,
          70,
          70,
          70,
          70,
          70,
          70,
          70,
          70,
          70,
          70,
          70,
          70,
          70,
          70,
          70,
          70,
          70,
          70,
          70,
          70,
          70,
          70,
          70,
          70,
          70,
          70,
          70,
          70,
          70,
          70,
          70,
          70,
          70,
          70,
          70,
          70,
          70,
          70,
          70,
          70,
          70,
          70,
          70,
          70,
          70,
          70,
          70,
          70,
          70,
          70,
          70,
          70,
          70,
          70,
          70,
          70,
          70,
          70,
          70,
          70,
          70,
          70,
          70,
          70,
          70,
          70,
          70,
          70,
          70,
          70,
          70,
          70,
          70,
          70,
          70,
          70,
          70,
          70,
          70,
          70,
          70,
          70,
          70,
          70,
          70,
          70,
          70,
          70,
          70,
          70,
          70,
          70,
          70,
          70,
          70,
          70,
          70,
          70,
          70,
          70,
          70,
          70,
          70,
          70,
          70,
          70,
          70,
          70,
          70,
          70,
          70,
          70,
          70,
          70,
          70,
          70,
          70,
          70,
          70,
          70,
          70,
          70,
          70,
          70,
          70,
          70,
          70,
          70,
          70,
          70,
          70,
          70,
          69.05574285714286,
          69.05574285714286,
          69.05574285714286,
          69.05574285714286,
          69.05574285714286,
          69.05574285714286,
          69.05574285714286,
          69.05574285714286,
          69.05574285714286,
          69.05574285714286,
          69.05574285714286,
          69.05574285714286,
          69.05574285714286,
          69.05574285714286,
          66.8,
          66.8,
          66.8,
          66.8,
          66.8,
          66.8,
          66.8,
          66.8,
          66.8,
          66.8,
          66.8,
          66.8,
          66.8,
          66.8,
          66.8,
          66.8,
          66.8,
          66.8,
          66.8,
          66.8,
          66.8,
          66.8,
          66.8,
          66.8,
          66.8,
          66.8,
          66.8,
          66.8,
          66.8,
          66.8,
          66.8,
          66.8,
          66.8,
          66.8,
          66.8,
          66.8,
          66.8,
          66.8,
          66.8,
          66.8,
          66.8,
          66.8,
          66.8,
          66.8,
          66.8,
          66.8,
          66.8,
          66.8,
          66.8,
          66.8,
          66.8,
          66.8,
          66.8,
          66.8,
          66.8,
          66.8,
          66.8,
          66.8,
          66.8,
          66.8,
          66.8,
          66.8,
          66.8,
          66.8,
          66.8,
          66.8,
          66.8,
          66.8,
          66.8,
          66.8,
          66.8,
          66.8,
          66.8,
          66.8,
          66.8,
          66.8,
          66.8,
          66.8,
          66.8,
          66.8,
          66.8,
          66.8,
          66.8,
          66.8,
          66.8,
          66.8,
          66.8,
          66.8,
          66.8,
          66.8,
          74.2,
          74.2,
          74.2,
          74.2,
          74.2,
          74.2,
          74.2,
          74.2,
          74.2,
          74.2,
          74.2,
          74.2,
          74.2,
          74.2,
          74.2,
          74.2,
          74.2,
          74.2,
          74.2,
          74.2,
          74.2,
          74.2,
          74.2,
          74.2,
          74.2,
          74.2,
          74.2,
          74.2,
          74.2,
          74.2,
          74.2,
          74.2,
          74.2,
          74.2,
          74.2,
          74.2,
          74.2,
          74.2,
          74.2,
          74.2,
          74.2,
          74.2,
          74.2,
          74.2,
          74.2,
          74.2,
          74.2,
          74.2,
          74.2,
          74.2,
          74.2,
          74.2,
          74.2,
          74.2,
          74.2,
          74.2,
          74.2,
          74.2,
          74.2,
          74.2,
          74.2,
          74.2,
          74.2,
          74.2,
          74.2,
          74.2,
          74.2,
          74.2,
          74.2,
          74.2,
          74.2,
          74.2,
          74.2,
          74.2,
          74.2,
          74.2,
          74.2,
          74.2,
          74.2,
          74.2,
          74.2,
          74.2,
          74.2,
          74.2,
          74.2,
          74.2,
          74.2,
          74.2,
          74.2,
          74.2,
          74.2,
          74.2,
          74.2,
          74.2,
          74.2,
          74.2,
          74.2,
          74.2,
          74.2,
          74.2,
          74.2,
          74.2,
          74.2,
          74.2,
          74.2,
          74.2,
          74.2,
          74.2,
          74.2,
          74.2,
          74.2,
          74.2,
          74.2,
          74.2,
          74.2,
          74.2,
          74.2,
          74.2,
          74.2,
          74.2,
          74.2,
          74.2,
          74.2,
          74.2,
          74.2,
          74.2,
          74.2,
          74.2,
          74.2,
          74.2,
          74.2,
          74.2,
          74.2,
          74.2,
          74.2,
          74.2,
          74.2,
          74.2,
          74.2,
          74.2,
          74.2,
          74.2,
          74.2,
          74.2,
          74.2,
          74.2,
          74.2,
          74.2,
          74.2,
          74.2,
          74.2,
          74.2,
          74.2,
          74.2,
          74.2,
          74.2,
          74.2,
          74.2,
          74.2,
          74.2,
          73.27272727272727,
          73.27272727272727,
          73.27272727272727,
          73.27272727272727,
          73.27272727272727,
          73.27272727272727,
          73.27272727272727,
          73.27272727272727,
          73.27272727272727,
          73.27272727272727,
          73.27272727272727,
          73.27272727272727,
          73.27272727272727,
          73.27272727272727,
          73.27272727272727,
          73.27272727272727,
          73.27272727272727,
          73.27272727272727,
          73.27272727272727,
          73.27272727272727,
          73.27272727272727,
          73.27272727272727,
          73.27272727272727,
          73.27272727272727,
          73.27272727272727,
          73.27272727272727,
          73.27272727272727,
          73.27272727272727,
          73.27272727272727,
          73.27272727272727,
          73.27272727272727,
          73.27272727272727,
          73.27272727272727,
          73.27272727272727,
          73.27272727272727,
          73.27272727272727,
          73.27272727272727,
          73.27272727272727,
          73.27272727272727,
          73.27272727272727,
          73.27272727272727,
          73.27272727272727,
          73.27272727272727,
          73.27272727272727,
          73.27272727272727,
          73.27272727272727,
          73.27272727272727,
          73.27272727272727,
          73.27272727272727,
          73.27272727272727,
          73.27272727272727,
          73.27272727272727,
          73.27272727272727,
          73.27272727272727,
          73.27272727272727,
          73.27272727272727,
          73.27272727272727,
          73.27272727272727,
          73.27272727272727,
          73.27272727272727,
          73.27272727272727,
          73.27272727272727,
          73.27272727272727,
          73.27272727272727,
          73.27272727272727,
          73.27272727272727,
          73.27272727272727,
          73.27272727272727,
          73.27272727272727,
          73.27272727272727,
          73.27272727272727,
          73.27272727272727,
          73.27272727272727,
          73.27272727272727,
          73.27272727272727,
          73.27272727272727,
          73.27272727272727,
          89.38461538461539,
          89.38461538461539,
          89.38461538461539,
          89.38461538461539,
          89.38461538461539,
          89.38461538461539,
          89.38461538461539,
          89.38461538461539,
          89.38461538461539,
          89.38461538461539,
          89.38461538461539,
          89.38461538461539,
          89.38461538461539,
          89.38461538461539,
          89.38461538461539,
          89.38461538461539,
          89.38461538461539,
          89.38461538461539,
          89.38461538461539,
          89.38461538461539,
          89.38461538461539,
          89.38461538461539,
          89.38461538461539,
          89.38461538461539,
          89.38461538461539,
          89.38461538461539,
          89.38461538461539,
          89.38461538461539,
          89.38461538461539,
          89.38461538461539,
          89.38461538461539,
          89.38461538461539,
          89.38461538461539,
          89.38461538461539,
          89.38461538461539,
          89.38461538461539,
          89.38461538461539,
          89.38461538461539,
          89.38461538461539,
          89.38461538461539,
          89.38461538461539,
          89.38461538461539,
          89.38461538461539,
          89.38461538461539,
          89.38461538461539,
          89.38461538461539,
          89.38461538461539,
          89.38461538461539,
          89.38461538461539,
          89.38461538461539,
          89.38461538461539,
          89.38461538461539,
          82.88888888888889,
          82.88888888888889,
          82.88888888888889,
          82.88888888888889,
          82.88888888888889,
          82.88888888888889,
          82.88888888888889,
          82.88888888888889,
          82.88888888888889,
          82.88888888888889,
          82.88888888888889,
          82.88888888888889,
          82.88888888888889,
          82.88888888888889,
          82.88888888888889,
          82.88888888888889,
          82.88888888888889,
          82.88888888888889
         ],
         "xaxis": "x3",
         "y": [
          77,
          77,
          77,
          77,
          77,
          77,
          77,
          77,
          77,
          77,
          77,
          77,
          77,
          77,
          77,
          77,
          77,
          77,
          77,
          77,
          77,
          77,
          77,
          77,
          77,
          77,
          77,
          77,
          77,
          77,
          77,
          77,
          77,
          77,
          77,
          77,
          77,
          77,
          77,
          77,
          77,
          77,
          77,
          77,
          77,
          77,
          77,
          77,
          77,
          77,
          77,
          77,
          77,
          77,
          77,
          77,
          77,
          77,
          77,
          77,
          102.2,
          102.2,
          102.2,
          102.2,
          102.2,
          102.2,
          102.2,
          102.2,
          102.2,
          102.2,
          102.2,
          102.2,
          102.2,
          102.2,
          102.2,
          102.2,
          102.2,
          102.2,
          102.2,
          102.2,
          102.2,
          102.2,
          102.2,
          102.2,
          102.2,
          102.2,
          102.2,
          102.2,
          102.2,
          102.2,
          102.2,
          102.2,
          102.2,
          102.2,
          102.2,
          102.2,
          102.2,
          102.2,
          102.2,
          102.2,
          102.2,
          102.2,
          102.2,
          102.2,
          102.2,
          102.2,
          102.2,
          102.2,
          102.2,
          102.2,
          102.2,
          102.2,
          102.2,
          102.2,
          102.2,
          102.2,
          102.2,
          102.2,
          102.2,
          102.2,
          102.2,
          102.2,
          102.2,
          102.2,
          102.2,
          102.2,
          102.2,
          102.2,
          102.2,
          102.2,
          102.2,
          102.2,
          102.2,
          102.2,
          102.2,
          102.2,
          102.2,
          102.2,
          102.2,
          102.2,
          102.2,
          102.2,
          102.2,
          102.2,
          102.2,
          102.2,
          102.2,
          102.2,
          102.2,
          102.2,
          102.2,
          102.2,
          102.2,
          102.2,
          102.2,
          102.2,
          102.2,
          102.2,
          102.2,
          102.2,
          102.2,
          102.2,
          102.2,
          102.2,
          102.2,
          102.2,
          102.2,
          102.2,
          102.2,
          102.2,
          102.2,
          102.2,
          102.2,
          102.2,
          102.2,
          102.2,
          102.2,
          102.2,
          102.2,
          102.2,
          102.2,
          102.2,
          102.2,
          102.2,
          102.2,
          102.2,
          102.2,
          102.2,
          102.2,
          102.2,
          102.2,
          102.2,
          102.2,
          102.2,
          102.2,
          102.2,
          102.2,
          102.2,
          102.2,
          102.2,
          102.2,
          102.2,
          102.2,
          102.2,
          102.2,
          102.2,
          102.2,
          102.2,
          102.2,
          102.2,
          102.2,
          102.2,
          102.2,
          102.2,
          102.2,
          102.2,
          102.2,
          102.2,
          102.2,
          102.2,
          10,
          10,
          10,
          10,
          10,
          10,
          10,
          10,
          10,
          10,
          10,
          10,
          10,
          10,
          97.33333333333331,
          97.33333333333331,
          97.33333333333331,
          97.33333333333331,
          97.33333333333331,
          97.33333333333331,
          97.33333333333331,
          97.33333333333331,
          97.33333333333331,
          97.33333333333331,
          97.33333333333331,
          97.33333333333331,
          97.33333333333331,
          97.33333333333331,
          97.33333333333331,
          97.33333333333331,
          97.33333333333331,
          97.33333333333331,
          97.33333333333331,
          97.33333333333331,
          97.33333333333331,
          97.33333333333331,
          97.33333333333331,
          97.33333333333331,
          97.33333333333331,
          97.33333333333331,
          97.33333333333331,
          97.33333333333331,
          97.33333333333331,
          97.33333333333331,
          97.33333333333331,
          97.33333333333331,
          97.33333333333331,
          97.33333333333331,
          97.33333333333331,
          97.33333333333331,
          97.33333333333331,
          97.33333333333331,
          97.33333333333331,
          97.33333333333331,
          97.33333333333331,
          97.33333333333331,
          97.33333333333331,
          97.33333333333331,
          97.33333333333331,
          97.33333333333331,
          97.33333333333331,
          97.33333333333331,
          97.33333333333331,
          97.33333333333331,
          97.33333333333331,
          97.33333333333331,
          97.33333333333331,
          97.33333333333331,
          97.33333333333331,
          97.33333333333331,
          97.33333333333331,
          97.33333333333331,
          97.33333333333331,
          97.33333333333331,
          97.33333333333331,
          97.33333333333331,
          97.33333333333331,
          97.33333333333331,
          97.33333333333331,
          97.33333333333331,
          97.33333333333331,
          97.33333333333331,
          97.33333333333331,
          97.33333333333331,
          97.33333333333331,
          97.33333333333331,
          97.33333333333331,
          97.33333333333331,
          97.33333333333331,
          97.33333333333331,
          97.33333333333331,
          97.33333333333331,
          97.33333333333331,
          97.33333333333331,
          97.33333333333331,
          97.33333333333331,
          97.33333333333331,
          97.33333333333331,
          97.33333333333331,
          97.33333333333331,
          97.33333333333331,
          97.33333333333331,
          97.33333333333331,
          97.33333333333331,
          236.5,
          236.5,
          236.5,
          236.5,
          236.5,
          236.5,
          236.5,
          236.5,
          236.5,
          236.5,
          236.5,
          236.5,
          236.5,
          236.5,
          236.5,
          236.5,
          236.5,
          236.5,
          236.5,
          236.5,
          236.5,
          236.5,
          236.5,
          236.5,
          236.5,
          236.5,
          236.5,
          236.5,
          236.5,
          236.5,
          236.5,
          236.5,
          236.5,
          236.5,
          236.5,
          236.5,
          236.5,
          236.5,
          236.5,
          236.5,
          236.5,
          236.5,
          236.5,
          236.5,
          236.5,
          236.5,
          236.5,
          236.5,
          236.5,
          236.5,
          236.5,
          236.5,
          236.5,
          236.5,
          236.5,
          236.5,
          236.5,
          236.5,
          236.5,
          236.5,
          236.5,
          236.5,
          236.5,
          236.5,
          236.5,
          236.5,
          236.5,
          236.5,
          236.5,
          236.5,
          236.5,
          236.5,
          236.5,
          236.5,
          236.5,
          236.5,
          236.5,
          236.5,
          236.5,
          236.5,
          236.5,
          236.5,
          236.5,
          236.5,
          236.5,
          236.5,
          236.5,
          236.5,
          236.5,
          236.5,
          236.5,
          236.5,
          236.5,
          236.5,
          236.5,
          236.5,
          236.5,
          236.5,
          236.5,
          236.5,
          236.5,
          236.5,
          236.5,
          236.5,
          236.5,
          236.5,
          236.5,
          236.5,
          236.5,
          236.5,
          236.5,
          236.5,
          236.5,
          236.5,
          236.5,
          236.5,
          236.5,
          236.5,
          236.5,
          236.5,
          236.5,
          236.5,
          236.5,
          236.5,
          236.5,
          236.5,
          236.5,
          236.5,
          236.5,
          236.5,
          236.5,
          236.5,
          236.5,
          236.5,
          236.5,
          236.5,
          236.5,
          236.5,
          236.5,
          236.5,
          236.5,
          236.5,
          236.5,
          236.5,
          236.5,
          236.5,
          236.5,
          236.5,
          236.5,
          236.5,
          236.5,
          236.5,
          236.5,
          236.5,
          236.5,
          236.5,
          236.5,
          236.5,
          236.5,
          236.5,
          132.28571428571428,
          132.28571428571428,
          132.28571428571428,
          132.28571428571428,
          132.28571428571428,
          132.28571428571428,
          132.28571428571428,
          132.28571428571428,
          132.28571428571428,
          132.28571428571428,
          132.28571428571428,
          132.28571428571428,
          132.28571428571428,
          132.28571428571428,
          132.28571428571428,
          132.28571428571428,
          132.28571428571428,
          132.28571428571428,
          132.28571428571428,
          132.28571428571428,
          132.28571428571428,
          132.28571428571428,
          132.28571428571428,
          132.28571428571428,
          132.28571428571428,
          132.28571428571428,
          132.28571428571428,
          132.28571428571428,
          132.28571428571428,
          132.28571428571428,
          132.28571428571428,
          132.28571428571428,
          132.28571428571428,
          132.28571428571428,
          132.28571428571428,
          132.28571428571428,
          132.28571428571428,
          132.28571428571428,
          132.28571428571428,
          132.28571428571428,
          132.28571428571428,
          132.28571428571428,
          132.28571428571428,
          132.28571428571428,
          132.28571428571428,
          132.28571428571428,
          132.28571428571428,
          132.28571428571428,
          132.28571428571428,
          132.28571428571428,
          132.28571428571428,
          132.28571428571428,
          132.28571428571428,
          132.28571428571428,
          132.28571428571428,
          132.28571428571428,
          132.28571428571428,
          132.28571428571428,
          132.28571428571428,
          132.28571428571428,
          132.28571428571428,
          132.28571428571428,
          132.28571428571428,
          132.28571428571428,
          132.28571428571428,
          132.28571428571428,
          132.28571428571428,
          132.28571428571428,
          132.28571428571428,
          132.28571428571428,
          132.28571428571428,
          132.28571428571428,
          132.28571428571428,
          132.28571428571428,
          132.28571428571428,
          132.28571428571428,
          132.28571428571428,
          24,
          24,
          24,
          24,
          24,
          24,
          24,
          24,
          24,
          24,
          24,
          24,
          24,
          24,
          24,
          24,
          24,
          24,
          24,
          24,
          24,
          24,
          24,
          24,
          24,
          24,
          24,
          24,
          24,
          24,
          24,
          24,
          24,
          24,
          24,
          24,
          24,
          24,
          24,
          24,
          24,
          24,
          24,
          24,
          24,
          24,
          24,
          24,
          24,
          24,
          24,
          24,
          56.5,
          56.5,
          56.5,
          56.5,
          56.5,
          56.5,
          56.5,
          56.5,
          56.5,
          56.5,
          56.5,
          56.5,
          56.5,
          56.5,
          56.5,
          56.5,
          56.5,
          56.5
         ],
         "yaxis": "y3"
        }
       ],
       "layout": {
        "annotations": [
         {
          "font": {
           "size": 16
          },
          "showarrow": false,
          "text": "2023-01-03",
          "x": 0.225,
          "xanchor": "center",
          "xref": "paper",
          "y": 1,
          "yanchor": "bottom",
          "yref": "paper"
         },
         {
          "font": {
           "size": 16
          },
          "showarrow": false,
          "text": "2023-01-04",
          "x": 0.775,
          "xanchor": "center",
          "xref": "paper",
          "y": 1,
          "yanchor": "bottom",
          "yref": "paper"
         },
         {
          "font": {
           "size": 16
          },
          "showarrow": false,
          "text": "2023-01-05",
          "x": 0.225,
          "xanchor": "center",
          "xref": "paper",
          "y": 0.375,
          "yanchor": "bottom",
          "yref": "paper"
         }
        ],
        "height": 800,
        "showlegend": false,
        "template": {
         "data": {
          "bar": [
           {
            "error_x": {
             "color": "#2a3f5f"
            },
            "error_y": {
             "color": "#2a3f5f"
            },
            "marker": {
             "line": {
              "color": "#E5ECF6",
              "width": 0.5
             },
             "pattern": {
              "fillmode": "overlay",
              "size": 10,
              "solidity": 0.2
             }
            },
            "type": "bar"
           }
          ],
          "barpolar": [
           {
            "marker": {
             "line": {
              "color": "#E5ECF6",
              "width": 0.5
             },
             "pattern": {
              "fillmode": "overlay",
              "size": 10,
              "solidity": 0.2
             }
            },
            "type": "barpolar"
           }
          ],
          "carpet": [
           {
            "aaxis": {
             "endlinecolor": "#2a3f5f",
             "gridcolor": "white",
             "linecolor": "white",
             "minorgridcolor": "white",
             "startlinecolor": "#2a3f5f"
            },
            "baxis": {
             "endlinecolor": "#2a3f5f",
             "gridcolor": "white",
             "linecolor": "white",
             "minorgridcolor": "white",
             "startlinecolor": "#2a3f5f"
            },
            "type": "carpet"
           }
          ],
          "choropleth": [
           {
            "colorbar": {
             "outlinewidth": 0,
             "ticks": ""
            },
            "type": "choropleth"
           }
          ],
          "contour": [
           {
            "colorbar": {
             "outlinewidth": 0,
             "ticks": ""
            },
            "colorscale": [
             [
              0,
              "#0d0887"
             ],
             [
              0.1111111111111111,
              "#46039f"
             ],
             [
              0.2222222222222222,
              "#7201a8"
             ],
             [
              0.3333333333333333,
              "#9c179e"
             ],
             [
              0.4444444444444444,
              "#bd3786"
             ],
             [
              0.5555555555555556,
              "#d8576b"
             ],
             [
              0.6666666666666666,
              "#ed7953"
             ],
             [
              0.7777777777777778,
              "#fb9f3a"
             ],
             [
              0.8888888888888888,
              "#fdca26"
             ],
             [
              1,
              "#f0f921"
             ]
            ],
            "type": "contour"
           }
          ],
          "contourcarpet": [
           {
            "colorbar": {
             "outlinewidth": 0,
             "ticks": ""
            },
            "type": "contourcarpet"
           }
          ],
          "heatmap": [
           {
            "colorbar": {
             "outlinewidth": 0,
             "ticks": ""
            },
            "colorscale": [
             [
              0,
              "#0d0887"
             ],
             [
              0.1111111111111111,
              "#46039f"
             ],
             [
              0.2222222222222222,
              "#7201a8"
             ],
             [
              0.3333333333333333,
              "#9c179e"
             ],
             [
              0.4444444444444444,
              "#bd3786"
             ],
             [
              0.5555555555555556,
              "#d8576b"
             ],
             [
              0.6666666666666666,
              "#ed7953"
             ],
             [
              0.7777777777777778,
              "#fb9f3a"
             ],
             [
              0.8888888888888888,
              "#fdca26"
             ],
             [
              1,
              "#f0f921"
             ]
            ],
            "type": "heatmap"
           }
          ],
          "heatmapgl": [
           {
            "colorbar": {
             "outlinewidth": 0,
             "ticks": ""
            },
            "colorscale": [
             [
              0,
              "#0d0887"
             ],
             [
              0.1111111111111111,
              "#46039f"
             ],
             [
              0.2222222222222222,
              "#7201a8"
             ],
             [
              0.3333333333333333,
              "#9c179e"
             ],
             [
              0.4444444444444444,
              "#bd3786"
             ],
             [
              0.5555555555555556,
              "#d8576b"
             ],
             [
              0.6666666666666666,
              "#ed7953"
             ],
             [
              0.7777777777777778,
              "#fb9f3a"
             ],
             [
              0.8888888888888888,
              "#fdca26"
             ],
             [
              1,
              "#f0f921"
             ]
            ],
            "type": "heatmapgl"
           }
          ],
          "histogram": [
           {
            "marker": {
             "pattern": {
              "fillmode": "overlay",
              "size": 10,
              "solidity": 0.2
             }
            },
            "type": "histogram"
           }
          ],
          "histogram2d": [
           {
            "colorbar": {
             "outlinewidth": 0,
             "ticks": ""
            },
            "colorscale": [
             [
              0,
              "#0d0887"
             ],
             [
              0.1111111111111111,
              "#46039f"
             ],
             [
              0.2222222222222222,
              "#7201a8"
             ],
             [
              0.3333333333333333,
              "#9c179e"
             ],
             [
              0.4444444444444444,
              "#bd3786"
             ],
             [
              0.5555555555555556,
              "#d8576b"
             ],
             [
              0.6666666666666666,
              "#ed7953"
             ],
             [
              0.7777777777777778,
              "#fb9f3a"
             ],
             [
              0.8888888888888888,
              "#fdca26"
             ],
             [
              1,
              "#f0f921"
             ]
            ],
            "type": "histogram2d"
           }
          ],
          "histogram2dcontour": [
           {
            "colorbar": {
             "outlinewidth": 0,
             "ticks": ""
            },
            "colorscale": [
             [
              0,
              "#0d0887"
             ],
             [
              0.1111111111111111,
              "#46039f"
             ],
             [
              0.2222222222222222,
              "#7201a8"
             ],
             [
              0.3333333333333333,
              "#9c179e"
             ],
             [
              0.4444444444444444,
              "#bd3786"
             ],
             [
              0.5555555555555556,
              "#d8576b"
             ],
             [
              0.6666666666666666,
              "#ed7953"
             ],
             [
              0.7777777777777778,
              "#fb9f3a"
             ],
             [
              0.8888888888888888,
              "#fdca26"
             ],
             [
              1,
              "#f0f921"
             ]
            ],
            "type": "histogram2dcontour"
           }
          ],
          "mesh3d": [
           {
            "colorbar": {
             "outlinewidth": 0,
             "ticks": ""
            },
            "type": "mesh3d"
           }
          ],
          "parcoords": [
           {
            "line": {
             "colorbar": {
              "outlinewidth": 0,
              "ticks": ""
             }
            },
            "type": "parcoords"
           }
          ],
          "pie": [
           {
            "automargin": true,
            "type": "pie"
           }
          ],
          "scatter": [
           {
            "fillpattern": {
             "fillmode": "overlay",
             "size": 10,
             "solidity": 0.2
            },
            "type": "scatter"
           }
          ],
          "scatter3d": [
           {
            "line": {
             "colorbar": {
              "outlinewidth": 0,
              "ticks": ""
             }
            },
            "marker": {
             "colorbar": {
              "outlinewidth": 0,
              "ticks": ""
             }
            },
            "type": "scatter3d"
           }
          ],
          "scattercarpet": [
           {
            "marker": {
             "colorbar": {
              "outlinewidth": 0,
              "ticks": ""
             }
            },
            "type": "scattercarpet"
           }
          ],
          "scattergeo": [
           {
            "marker": {
             "colorbar": {
              "outlinewidth": 0,
              "ticks": ""
             }
            },
            "type": "scattergeo"
           }
          ],
          "scattergl": [
           {
            "marker": {
             "colorbar": {
              "outlinewidth": 0,
              "ticks": ""
             }
            },
            "type": "scattergl"
           }
          ],
          "scattermapbox": [
           {
            "marker": {
             "colorbar": {
              "outlinewidth": 0,
              "ticks": ""
             }
            },
            "type": "scattermapbox"
           }
          ],
          "scatterpolar": [
           {
            "marker": {
             "colorbar": {
              "outlinewidth": 0,
              "ticks": ""
             }
            },
            "type": "scatterpolar"
           }
          ],
          "scatterpolargl": [
           {
            "marker": {
             "colorbar": {
              "outlinewidth": 0,
              "ticks": ""
             }
            },
            "type": "scatterpolargl"
           }
          ],
          "scatterternary": [
           {
            "marker": {
             "colorbar": {
              "outlinewidth": 0,
              "ticks": ""
             }
            },
            "type": "scatterternary"
           }
          ],
          "surface": [
           {
            "colorbar": {
             "outlinewidth": 0,
             "ticks": ""
            },
            "colorscale": [
             [
              0,
              "#0d0887"
             ],
             [
              0.1111111111111111,
              "#46039f"
             ],
             [
              0.2222222222222222,
              "#7201a8"
             ],
             [
              0.3333333333333333,
              "#9c179e"
             ],
             [
              0.4444444444444444,
              "#bd3786"
             ],
             [
              0.5555555555555556,
              "#d8576b"
             ],
             [
              0.6666666666666666,
              "#ed7953"
             ],
             [
              0.7777777777777778,
              "#fb9f3a"
             ],
             [
              0.8888888888888888,
              "#fdca26"
             ],
             [
              1,
              "#f0f921"
             ]
            ],
            "type": "surface"
           }
          ],
          "table": [
           {
            "cells": {
             "fill": {
              "color": "#EBF0F8"
             },
             "line": {
              "color": "white"
             }
            },
            "header": {
             "fill": {
              "color": "#C8D4E3"
             },
             "line": {
              "color": "white"
             }
            },
            "type": "table"
           }
          ]
         },
         "layout": {
          "annotationdefaults": {
           "arrowcolor": "#2a3f5f",
           "arrowhead": 0,
           "arrowwidth": 1
          },
          "autotypenumbers": "strict",
          "coloraxis": {
           "colorbar": {
            "outlinewidth": 0,
            "ticks": ""
           }
          },
          "colorscale": {
           "diverging": [
            [
             0,
             "#8e0152"
            ],
            [
             0.1,
             "#c51b7d"
            ],
            [
             0.2,
             "#de77ae"
            ],
            [
             0.3,
             "#f1b6da"
            ],
            [
             0.4,
             "#fde0ef"
            ],
            [
             0.5,
             "#f7f7f7"
            ],
            [
             0.6,
             "#e6f5d0"
            ],
            [
             0.7,
             "#b8e186"
            ],
            [
             0.8,
             "#7fbc41"
            ],
            [
             0.9,
             "#4d9221"
            ],
            [
             1,
             "#276419"
            ]
           ],
           "sequential": [
            [
             0,
             "#0d0887"
            ],
            [
             0.1111111111111111,
             "#46039f"
            ],
            [
             0.2222222222222222,
             "#7201a8"
            ],
            [
             0.3333333333333333,
             "#9c179e"
            ],
            [
             0.4444444444444444,
             "#bd3786"
            ],
            [
             0.5555555555555556,
             "#d8576b"
            ],
            [
             0.6666666666666666,
             "#ed7953"
            ],
            [
             0.7777777777777778,
             "#fb9f3a"
            ],
            [
             0.8888888888888888,
             "#fdca26"
            ],
            [
             1,
             "#f0f921"
            ]
           ],
           "sequentialminus": [
            [
             0,
             "#0d0887"
            ],
            [
             0.1111111111111111,
             "#46039f"
            ],
            [
             0.2222222222222222,
             "#7201a8"
            ],
            [
             0.3333333333333333,
             "#9c179e"
            ],
            [
             0.4444444444444444,
             "#bd3786"
            ],
            [
             0.5555555555555556,
             "#d8576b"
            ],
            [
             0.6666666666666666,
             "#ed7953"
            ],
            [
             0.7777777777777778,
             "#fb9f3a"
            ],
            [
             0.8888888888888888,
             "#fdca26"
            ],
            [
             1,
             "#f0f921"
            ]
           ]
          },
          "colorway": [
           "#636efa",
           "#EF553B",
           "#00cc96",
           "#ab63fa",
           "#FFA15A",
           "#19d3f3",
           "#FF6692",
           "#B6E880",
           "#FF97FF",
           "#FECB52"
          ],
          "font": {
           "color": "#2a3f5f"
          },
          "geo": {
           "bgcolor": "white",
           "lakecolor": "white",
           "landcolor": "#E5ECF6",
           "showlakes": true,
           "showland": true,
           "subunitcolor": "white"
          },
          "hoverlabel": {
           "align": "left"
          },
          "hovermode": "closest",
          "mapbox": {
           "style": "light"
          },
          "paper_bgcolor": "white",
          "plot_bgcolor": "#E5ECF6",
          "polar": {
           "angularaxis": {
            "gridcolor": "white",
            "linecolor": "white",
            "ticks": ""
           },
           "bgcolor": "#E5ECF6",
           "radialaxis": {
            "gridcolor": "white",
            "linecolor": "white",
            "ticks": ""
           }
          },
          "scene": {
           "xaxis": {
            "backgroundcolor": "#E5ECF6",
            "gridcolor": "white",
            "gridwidth": 2,
            "linecolor": "white",
            "showbackground": true,
            "ticks": "",
            "zerolinecolor": "white"
           },
           "yaxis": {
            "backgroundcolor": "#E5ECF6",
            "gridcolor": "white",
            "gridwidth": 2,
            "linecolor": "white",
            "showbackground": true,
            "ticks": "",
            "zerolinecolor": "white"
           },
           "zaxis": {
            "backgroundcolor": "#E5ECF6",
            "gridcolor": "white",
            "gridwidth": 2,
            "linecolor": "white",
            "showbackground": true,
            "ticks": "",
            "zerolinecolor": "white"
           }
          },
          "shapedefaults": {
           "line": {
            "color": "#2a3f5f"
           }
          },
          "ternary": {
           "aaxis": {
            "gridcolor": "white",
            "linecolor": "white",
            "ticks": ""
           },
           "baxis": {
            "gridcolor": "white",
            "linecolor": "white",
            "ticks": ""
           },
           "bgcolor": "#E5ECF6",
           "caxis": {
            "gridcolor": "white",
            "linecolor": "white",
            "ticks": ""
           }
          },
          "title": {
           "x": 0.05
          },
          "xaxis": {
           "automargin": true,
           "gridcolor": "white",
           "linecolor": "white",
           "ticks": "",
           "title": {
            "standoff": 15
           },
           "zerolinecolor": "white",
           "zerolinewidth": 2
          },
          "yaxis": {
           "automargin": true,
           "gridcolor": "white",
           "linecolor": "white",
           "ticks": "",
           "title": {
            "standoff": 15
           },
           "zerolinecolor": "white",
           "zerolinewidth": 2
          }
         }
        },
        "title": {
         "text": "<b>Correlation between Mean Heart Rate, Mean Steps and Mean SpO2 per Hour</b>",
         "x": 0.5
        },
        "xaxis": {
         "anchor": "y",
         "domain": [
          0,
          0.45
         ],
         "title": {
          "text": "Mean Heart Rate"
         }
        },
        "xaxis2": {
         "anchor": "y2",
         "domain": [
          0.55,
          1
         ],
         "title": {
          "text": "Mean Heart Rate"
         }
        },
        "xaxis3": {
         "anchor": "y3",
         "domain": [
          0,
          0.45
         ],
         "title": {
          "text": "Mean Heart Rate"
         }
        },
        "yaxis": {
         "anchor": "x",
         "domain": [
          0.625,
          1
         ],
         "title": {
          "text": "Mean Steps"
         }
        },
        "yaxis2": {
         "anchor": "x2",
         "domain": [
          0.625,
          1
         ],
         "title": {
          "text": "Mean Steps"
         }
        },
        "yaxis3": {
         "anchor": "x3",
         "domain": [
          0,
          0.375
         ],
         "title": {
          "text": "Mean Steps"
         }
        }
       }
      },
      "text/html": [
       "<div>                            <div id=\"8fd89e97-6eb4-4aad-9b0c-fb7b7ca182d8\" class=\"plotly-graph-div\" style=\"height:800px; width:100%;\"></div>            <script type=\"text/javascript\">                require([\"plotly\"], function(Plotly) {                    window.PLOTLYENV=window.PLOTLYENV || {};                                    if (document.getElementById(\"8fd89e97-6eb4-4aad-9b0c-fb7b7ca182d8\")) {                    Plotly.newPlot(                        \"8fd89e97-6eb4-4aad-9b0c-fb7b7ca182d8\",                        [{\"customdata\":[[7.0,0.95],[7.0,0.95],[7.0,0.95],[7.0,0.95],[7.0,0.95],[7.0,0.95],[7.0,0.95],[7.0,0.95],[7.0,0.95],[7.0,0.95],[7.0,0.95],[7.0,0.95],[7.0,0.95],[7.0,0.95],[8.0,0.93],[8.0,0.93],[8.0,0.93],[8.0,0.93],[8.0,0.93],[8.0,0.93],[8.0,0.93],[8.0,0.93],[8.0,0.93],[8.0,0.93],[8.0,0.93],[8.0,0.93],[8.0,0.93],[10.0,0.96],[10.0,0.96],[10.0,0.96],[10.0,0.96],[10.0,0.96],[10.0,0.96],[10.0,0.96],[10.0,0.96],[10.0,0.96],[10.0,0.96],[10.0,0.96],[10.0,0.96],[10.0,0.96],[10.0,0.96],[12.0,0.95],[12.0,0.95],[12.0,0.95],[12.0,0.95],[12.0,0.95],[12.0,0.95],[12.0,0.95],[12.0,0.95],[12.0,0.95],[12.0,0.95],[12.0,0.95],[12.0,0.95],[12.0,0.95],[12.0,0.95],[12.0,0.95],[12.0,0.95],[12.0,0.95],[12.0,0.95],[12.0,0.95],[12.0,0.95],[12.0,0.95],[12.0,0.95],[12.0,0.95],[12.0,0.95],[12.0,0.95],[12.0,0.95],[12.0,0.95],[12.0,0.95],[12.0,0.95],[12.0,0.95],[12.0,0.95],[12.0,0.95],[12.0,0.95],[12.0,0.95],[12.0,0.95],[12.0,0.95],[12.0,0.95],[12.0,0.95],[12.0,0.95],[12.0,0.95],[12.0,0.95],[12.0,0.95],[12.0,0.95],[12.0,0.95],[12.0,0.95],[12.0,0.95],[12.0,0.95],[12.0,0.95],[12.0,0.95],[12.0,0.95],[12.0,0.95],[12.0,0.95],[12.0,0.95],[12.0,0.95],[12.0,0.95],[12.0,0.95],[12.0,0.95],[12.0,0.95],[12.0,0.95],[12.0,0.95],[12.0,0.95],[12.0,0.95],[12.0,0.95],[12.0,0.95],[12.0,0.95],[12.0,0.95],[12.0,0.95],[12.0,0.95],[12.0,0.95],[12.0,0.95],[12.0,0.95],[12.0,0.95],[12.0,0.95],[12.0,0.95],[12.0,0.95],[12.0,0.95],[12.0,0.95],[12.0,0.95],[15.0,0.93],[15.0,0.93],[15.0,0.93],[15.0,0.93],[15.0,0.93],[15.0,0.93],[15.0,0.93],[15.0,0.93],[15.0,0.93],[15.0,0.93],[15.0,0.93],[15.0,0.93],[15.0,0.93],[15.0,0.93],[15.0,0.93],[15.0,0.93],[15.0,0.93],[15.0,0.93],[15.0,0.93],[15.0,0.93],[15.0,0.93],[15.0,0.93],[15.0,0.93],[15.0,0.93],[15.0,0.93],[15.0,0.93],[15.0,0.93],[15.0,0.93],[15.0,0.93],[15.0,0.93],[15.0,0.93],[15.0,0.93],[15.0,0.93],[15.0,0.93],[15.0,0.93],[15.0,0.93],[15.0,0.93],[15.0,0.93],[15.0,0.93],[15.0,0.93],[15.0,0.93],[15.0,0.93],[15.0,0.93],[15.0,0.93],[15.0,0.93],[15.0,0.93],[15.0,0.93],[15.0,0.93],[15.0,0.93],[15.0,0.93],[16.0,0.98],[16.0,0.98],[16.0,0.98],[16.0,0.98],[16.0,0.98],[16.0,0.98],[16.0,0.98],[16.0,0.98],[16.0,0.98],[16.0,0.98],[16.0,0.98],[16.0,0.98],[16.0,0.98],[16.0,0.98],[16.0,0.98],[16.0,0.98],[16.0,0.98],[16.0,0.98],[16.0,0.98],[16.0,0.98],[16.0,0.98],[16.0,0.98],[16.0,0.98],[16.0,0.98],[16.0,0.98],[16.0,0.98],[16.0,0.98],[16.0,0.98],[16.0,0.98],[16.0,0.98],[16.0,0.98],[16.0,0.98],[16.0,0.98],[16.0,0.98],[16.0,0.98],[16.0,0.98],[16.0,0.98],[16.0,0.98],[16.0,0.98],[16.0,0.98],[16.0,0.98],[16.0,0.98],[16.0,0.98],[16.0,0.98],[16.0,0.98],[16.0,0.98],[16.0,0.98],[16.0,0.98],[16.0,0.98],[16.0,0.98],[16.0,0.98],[16.0,0.98],[16.0,0.98],[16.0,0.98],[16.0,0.98],[16.0,0.98],[16.0,0.98],[16.0,0.98],[16.0,0.98],[16.0,0.98],[16.0,0.98],[16.0,0.98],[16.0,0.98],[16.0,0.98],[16.0,0.98],[16.0,0.98],[16.0,0.98],[16.0,0.98],[16.0,0.98],[16.0,0.98],[16.0,0.98],[16.0,0.98],[16.0,0.98],[16.0,0.98],[16.0,0.98],[16.0,0.98],[16.0,0.98],[16.0,0.98],[16.0,0.98],[16.0,0.98],[16.0,0.98],[16.0,0.98],[16.0,0.98],[16.0,0.98],[16.0,0.98],[16.0,0.98],[16.0,0.98],[16.0,0.98],[16.0,0.98],[16.0,0.98],[16.0,0.98],[16.0,0.98],[16.0,0.98],[16.0,0.98],[16.0,0.98],[16.0,0.98],[16.0,0.98],[16.0,0.98],[16.0,0.98],[16.0,0.98],[16.0,0.98],[16.0,0.98],[16.0,0.98],[16.0,0.98],[18.0,0.96],[18.0,0.96],[18.0,0.96],[18.0,0.96],[18.0,0.96],[18.0,0.96],[18.0,0.96],[18.0,0.96],[18.0,0.96],[18.0,0.96],[18.0,0.96],[18.0,0.96],[18.0,0.96],[18.0,0.96],[18.0,0.96],[18.0,0.96],[18.0,0.96],[18.0,0.96],[18.0,0.96],[18.0,0.96],[18.0,0.96],[18.0,0.96],[18.0,0.96],[18.0,0.96],[18.0,0.96],[18.0,0.96],[18.0,0.96],[18.0,0.96],[18.0,0.96],[18.0,0.96],[18.0,0.96],[18.0,0.96],[18.0,0.96],[18.0,0.96],[18.0,0.96],[18.0,0.96],[18.0,0.96],[18.0,0.96],[18.0,0.96],[18.0,0.96],[18.0,0.96],[18.0,0.96],[18.0,0.96],[18.0,0.96],[18.0,0.96],[18.0,0.96],[18.0,0.96],[18.0,0.96],[18.0,0.96],[18.0,0.96],[18.0,0.96],[18.0,0.96],[18.0,0.96],[18.0,0.96],[18.0,0.96],[18.0,0.96]],\"hovertemplate\":\"\\u003cb\\u003eHour\\u003c\\u002fb\\u003e: %{customdata[0]}\\u003cbr\\u003e\\u003cb\\u003eSteps\\u003c\\u002fb\\u003e: %{y}\\u003cbr\\u003e\\u003cb\\u003eHeart Rate\\u003c\\u002fb\\u003e: %{x}\\u003cbr\\u003e\\u003cb\\u003eSpO2\\u003c\\u002fb\\u003e: %{customdata[1]}\\u003cextra\\u003e\\u003c\\u002fextra\\u003e\",\"marker\":{\"color\":[0.95,0.95,0.95,0.95,0.95,0.95,0.95,0.95,0.95,0.95,0.95,0.95,0.95,0.95,0.93,0.93,0.93,0.93,0.93,0.93,0.93,0.93,0.93,0.93,0.93,0.93,0.93,0.96,0.96,0.96,0.96,0.96,0.96,0.96,0.96,0.96,0.96,0.96,0.96,0.96,0.96,0.95,0.95,0.95,0.95,0.95,0.95,0.95,0.95,0.95,0.95,0.95,0.95,0.95,0.95,0.95,0.95,0.95,0.95,0.95,0.95,0.95,0.95,0.95,0.95,0.95,0.95,0.95,0.95,0.95,0.95,0.95,0.95,0.95,0.95,0.95,0.95,0.95,0.95,0.95,0.95,0.95,0.95,0.95,0.95,0.95,0.95,0.95,0.95,0.95,0.95,0.95,0.95,0.95,0.95,0.95,0.95,0.95,0.95,0.95,0.95,0.95,0.95,0.95,0.95,0.95,0.95,0.95,0.95,0.95,0.95,0.95,0.95,0.95,0.95,0.95,0.95,0.95,0.95,0.93,0.93,0.93,0.93,0.93,0.93,0.93,0.93,0.93,0.93,0.93,0.93,0.93,0.93,0.93,0.93,0.93,0.93,0.93,0.93,0.93,0.93,0.93,0.93,0.93,0.93,0.93,0.93,0.93,0.93,0.93,0.93,0.93,0.93,0.93,0.93,0.93,0.93,0.93,0.93,0.93,0.93,0.93,0.93,0.93,0.93,0.93,0.93,0.93,0.93,0.98,0.98,0.98,0.98,0.98,0.98,0.98,0.98,0.98,0.98,0.98,0.98,0.98,0.98,0.98,0.98,0.98,0.98,0.98,0.98,0.98,0.98,0.98,0.98,0.98,0.98,0.98,0.98,0.98,0.98,0.98,0.98,0.98,0.98,0.98,0.98,0.98,0.98,0.98,0.98,0.98,0.98,0.98,0.98,0.98,0.98,0.98,0.98,0.98,0.98,0.98,0.98,0.98,0.98,0.98,0.98,0.98,0.98,0.98,0.98,0.98,0.98,0.98,0.98,0.98,0.98,0.98,0.98,0.98,0.98,0.98,0.98,0.98,0.98,0.98,0.98,0.98,0.98,0.98,0.98,0.98,0.98,0.98,0.98,0.98,0.98,0.98,0.98,0.98,0.98,0.98,0.98,0.98,0.98,0.98,0.98,0.98,0.98,0.98,0.98,0.98,0.98,0.98,0.98,0.96,0.96,0.96,0.96,0.96,0.96,0.96,0.96,0.96,0.96,0.96,0.96,0.96,0.96,0.96,0.96,0.96,0.96,0.96,0.96,0.96,0.96,0.96,0.96,0.96,0.96,0.96,0.96,0.96,0.96,0.96,0.96,0.96,0.96,0.96,0.96,0.96,0.96,0.96,0.96,0.96,0.96,0.96,0.96,0.96,0.96,0.96,0.96,0.96,0.96,0.96,0.96,0.96,0.96,0.96,0.96],\"colorbar\":{\"title\":{\"text\":\"Mean SpO2\"}},\"colorscale\":[[0.0,\"#440154\"],[0.1111111111111111,\"#482878\"],[0.2222222222222222,\"#3e4989\"],[0.3333333333333333,\"#31688e\"],[0.4444444444444444,\"#26828e\"],[0.5555555555555556,\"#1f9e89\"],[0.6666666666666666,\"#35b779\"],[0.7777777777777778,\"#6ece58\"],[0.8888888888888888,\"#b5de2b\"],[1.0,\"#fde725\"]],\"showscale\":true,\"size\":10},\"mode\":\"markers\",\"name\":\"2023-01-03\",\"x\":[69.81881428571428,69.81881428571428,69.81881428571428,69.81881428571428,69.81881428571428,69.81881428571428,69.81881428571428,69.81881428571428,69.81881428571428,69.81881428571428,69.81881428571428,69.81881428571428,69.81881428571428,69.81881428571428,70.84615384615384,70.84615384615384,70.84615384615384,70.84615384615384,70.84615384615384,70.84615384615384,70.84615384615384,70.84615384615384,70.84615384615384,70.84615384615384,70.84615384615384,70.84615384615384,70.84615384615384,70.0,70.0,70.0,70.0,70.0,70.0,70.0,70.0,70.0,70.0,70.0,70.0,70.0,70.0,74.84615384615384,74.84615384615384,74.84615384615384,74.84615384615384,74.84615384615384,74.84615384615384,74.84615384615384,74.84615384615384,74.84615384615384,74.84615384615384,74.84615384615384,74.84615384615384,74.84615384615384,74.84615384615384,74.84615384615384,74.84615384615384,74.84615384615384,74.84615384615384,74.84615384615384,74.84615384615384,74.84615384615384,74.84615384615384,74.84615384615384,74.84615384615384,74.84615384615384,74.84615384615384,74.84615384615384,74.84615384615384,74.84615384615384,74.84615384615384,74.84615384615384,74.84615384615384,74.84615384615384,74.84615384615384,74.84615384615384,74.84615384615384,74.84615384615384,74.84615384615384,74.84615384615384,74.84615384615384,74.84615384615384,74.84615384615384,74.84615384615384,74.84615384615384,74.84615384615384,74.84615384615384,74.84615384615384,74.84615384615384,74.84615384615384,74.84615384615384,74.84615384615384,74.84615384615384,74.84615384615384,74.84615384615384,74.84615384615384,74.84615384615384,74.84615384615384,74.84615384615384,74.84615384615384,74.84615384615384,74.84615384615384,74.84615384615384,74.84615384615384,74.84615384615384,74.84615384615384,74.84615384615384,74.84615384615384,74.84615384615384,74.84615384615384,74.84615384615384,74.84615384615384,74.84615384615384,74.84615384615384,74.84615384615384,74.84615384615384,74.84615384615384,74.84615384615384,74.84615384615384,72.61681999999999,72.61681999999999,72.61681999999999,72.61681999999999,72.61681999999999,72.61681999999999,72.61681999999999,72.61681999999999,72.61681999999999,72.61681999999999,72.61681999999999,72.61681999999999,72.61681999999999,72.61681999999999,72.61681999999999,72.61681999999999,72.61681999999999,72.61681999999999,72.61681999999999,72.61681999999999,72.61681999999999,72.61681999999999,72.61681999999999,72.61681999999999,72.61681999999999,72.61681999999999,72.61681999999999,72.61681999999999,72.61681999999999,72.61681999999999,72.61681999999999,72.61681999999999,72.61681999999999,72.61681999999999,72.61681999999999,72.61681999999999,72.61681999999999,72.61681999999999,72.61681999999999,72.61681999999999,72.61681999999999,72.61681999999999,72.61681999999999,72.61681999999999,72.61681999999999,72.61681999999999,72.61681999999999,72.61681999999999,72.61681999999999,72.61681999999999,70.92307692307692,70.92307692307692,70.92307692307692,70.92307692307692,70.92307692307692,70.92307692307692,70.92307692307692,70.92307692307692,70.92307692307692,70.92307692307692,70.92307692307692,70.92307692307692,70.92307692307692,70.92307692307692,70.92307692307692,70.92307692307692,70.92307692307692,70.92307692307692,70.92307692307692,70.92307692307692,70.92307692307692,70.92307692307692,70.92307692307692,70.92307692307692,70.92307692307692,70.92307692307692,70.92307692307692,70.92307692307692,70.92307692307692,70.92307692307692,70.92307692307692,70.92307692307692,70.92307692307692,70.92307692307692,70.92307692307692,70.92307692307692,70.92307692307692,70.92307692307692,70.92307692307692,70.92307692307692,70.92307692307692,70.92307692307692,70.92307692307692,70.92307692307692,70.92307692307692,70.92307692307692,70.92307692307692,70.92307692307692,70.92307692307692,70.92307692307692,70.92307692307692,70.92307692307692,70.92307692307692,70.92307692307692,70.92307692307692,70.92307692307692,70.92307692307692,70.92307692307692,70.92307692307692,70.92307692307692,70.92307692307692,70.92307692307692,70.92307692307692,70.92307692307692,70.92307692307692,70.92307692307692,70.92307692307692,70.92307692307692,70.92307692307692,70.92307692307692,70.92307692307692,70.92307692307692,70.92307692307692,70.92307692307692,70.92307692307692,70.92307692307692,70.92307692307692,70.92307692307692,70.92307692307692,70.92307692307692,70.92307692307692,70.92307692307692,70.92307692307692,70.92307692307692,70.92307692307692,70.92307692307692,70.92307692307692,70.92307692307692,70.92307692307692,70.92307692307692,70.92307692307692,70.92307692307692,70.92307692307692,70.92307692307692,70.92307692307692,70.92307692307692,70.92307692307692,70.92307692307692,70.92307692307692,70.92307692307692,70.92307692307692,70.92307692307692,70.92307692307692,70.92307692307692,79.57142857142857,79.57142857142857,79.57142857142857,79.57142857142857,79.57142857142857,79.57142857142857,79.57142857142857,79.57142857142857,79.57142857142857,79.57142857142857,79.57142857142857,79.57142857142857,79.57142857142857,79.57142857142857,79.57142857142857,79.57142857142857,79.57142857142857,79.57142857142857,79.57142857142857,79.57142857142857,79.57142857142857,79.57142857142857,79.57142857142857,79.57142857142857,79.57142857142857,79.57142857142857,79.57142857142857,79.57142857142857,79.57142857142857,79.57142857142857,79.57142857142857,79.57142857142857,79.57142857142857,79.57142857142857,79.57142857142857,79.57142857142857,79.57142857142857,79.57142857142857,79.57142857142857,79.57142857142857,79.57142857142857,79.57142857142857,79.57142857142857,79.57142857142857,79.57142857142857,79.57142857142857,79.57142857142857,79.57142857142857,79.57142857142857,79.57142857142857,79.57142857142857,79.57142857142857,79.57142857142857,79.57142857142857,79.57142857142857,79.57142857142857],\"y\":[56.5,56.5,56.5,56.5,56.5,56.5,56.5,56.5,56.5,56.5,56.5,56.5,56.5,56.5,160.0,160.0,160.0,160.0,160.0,160.0,160.0,160.0,160.0,160.0,160.0,160.0,160.0,4.0,4.0,4.0,4.0,4.0,4.0,4.0,4.0,4.0,4.0,4.0,4.0,4.0,4.0,66.33333333333333,66.33333333333333,66.33333333333333,66.33333333333333,66.33333333333333,66.33333333333333,66.33333333333333,66.33333333333333,66.33333333333333,66.33333333333333,66.33333333333333,66.33333333333333,66.33333333333333,66.33333333333333,66.33333333333333,66.33333333333333,66.33333333333333,66.33333333333333,66.33333333333333,66.33333333333333,66.33333333333333,66.33333333333333,66.33333333333333,66.33333333333333,66.33333333333333,66.33333333333333,66.33333333333333,66.33333333333333,66.33333333333333,66.33333333333333,66.33333333333333,66.33333333333333,66.33333333333333,66.33333333333333,66.33333333333333,66.33333333333333,66.33333333333333,66.33333333333333,66.33333333333333,66.33333333333333,66.33333333333333,66.33333333333333,66.33333333333333,66.33333333333333,66.33333333333333,66.33333333333333,66.33333333333333,66.33333333333333,66.33333333333333,66.33333333333333,66.33333333333333,66.33333333333333,66.33333333333333,66.33333333333333,66.33333333333333,66.33333333333333,66.33333333333333,66.33333333333333,66.33333333333333,66.33333333333333,66.33333333333333,66.33333333333333,66.33333333333333,66.33333333333333,66.33333333333333,66.33333333333333,66.33333333333333,66.33333333333333,66.33333333333333,66.33333333333333,66.33333333333333,66.33333333333333,66.33333333333333,66.33333333333333,66.33333333333333,66.33333333333333,66.33333333333333,66.33333333333333,51.8,51.8,51.8,51.8,51.8,51.8,51.8,51.8,51.8,51.8,51.8,51.8,51.8,51.8,51.8,51.8,51.8,51.8,51.8,51.8,51.8,51.8,51.8,51.8,51.8,51.8,51.8,51.8,51.8,51.8,51.8,51.8,51.8,51.8,51.8,51.8,51.8,51.8,51.8,51.8,51.8,51.8,51.8,51.8,51.8,51.8,51.8,51.8,51.8,51.8,77.5,77.5,77.5,77.5,77.5,77.5,77.5,77.5,77.5,77.5,77.5,77.5,77.5,77.5,77.5,77.5,77.5,77.5,77.5,77.5,77.5,77.5,77.5,77.5,77.5,77.5,77.5,77.5,77.5,77.5,77.5,77.5,77.5,77.5,77.5,77.5,77.5,77.5,77.5,77.5,77.5,77.5,77.5,77.5,77.5,77.5,77.5,77.5,77.5,77.5,77.5,77.5,77.5,77.5,77.5,77.5,77.5,77.5,77.5,77.5,77.5,77.5,77.5,77.5,77.5,77.5,77.5,77.5,77.5,77.5,77.5,77.5,77.5,77.5,77.5,77.5,77.5,77.5,77.5,77.5,77.5,77.5,77.5,77.5,77.5,77.5,77.5,77.5,77.5,77.5,77.5,77.5,77.5,77.5,77.5,77.5,77.5,77.5,77.5,77.5,77.5,77.5,77.5,77.5,59.5,59.5,59.5,59.5,59.5,59.5,59.5,59.5,59.5,59.5,59.5,59.5,59.5,59.5,59.5,59.5,59.5,59.5,59.5,59.5,59.5,59.5,59.5,59.5,59.5,59.5,59.5,59.5,59.5,59.5,59.5,59.5,59.5,59.5,59.5,59.5,59.5,59.5,59.5,59.5,59.5,59.5,59.5,59.5,59.5,59.5,59.5,59.5,59.5,59.5,59.5,59.5,59.5,59.5,59.5,59.5],\"type\":\"scatter\",\"xaxis\":\"x\",\"yaxis\":\"y\"},{\"customdata\":[[7.0,0.86],[7.0,0.86],[7.0,0.86],[7.0,0.86],[7.0,0.86],[7.0,0.86],[7.0,0.86],[7.0,0.86],[7.0,0.86],[7.0,0.86],[7.0,0.86],[7.0,0.86],[7.0,0.86],[7.0,0.86],[7.0,0.86],[7.0,0.86],[7.0,0.86],[7.0,0.86],[7.0,0.86],[7.0,0.86],[7.0,0.86],[7.0,0.86],[7.0,0.86],[7.0,0.86],[7.0,0.86],[7.0,0.86],[7.0,0.86],[7.0,0.86],[7.0,0.86],[7.0,0.86],[7.0,0.86],[7.0,0.86],[7.0,0.86],[7.0,0.86],[7.0,0.86],[8.0,0.95],[8.0,0.95],[8.0,0.95],[8.0,0.95],[8.0,0.95],[8.0,0.95],[8.0,0.95],[8.0,0.95],[8.0,0.95],[8.0,0.95],[8.0,0.95],[8.0,0.95],[8.0,0.95],[8.0,0.95],[8.0,0.95],[8.0,0.95],[8.0,0.95],[8.0,0.95],[8.0,0.95],[8.0,0.95],[8.0,0.95],[8.0,0.95],[8.0,0.95],[8.0,0.95],[9.0,0.95],[9.0,0.95],[9.0,0.95],[9.0,0.95],[9.0,0.95],[9.0,0.95],[9.0,0.95],[9.0,0.95],[9.0,0.95],[9.0,0.95],[9.0,0.95],[9.0,0.95],[9.0,0.95],[12.0,0.97],[12.0,0.97],[12.0,0.97],[12.0,0.97],[12.0,0.97],[12.0,0.97],[12.0,0.97],[12.0,0.97],[12.0,0.97],[12.0,0.97],[12.0,0.97],[12.0,0.97],[12.0,0.97],[12.0,0.97],[12.0,0.97],[12.0,0.97],[12.0,0.97],[12.0,0.97],[12.0,0.97],[12.0,0.97],[12.0,0.97],[12.0,0.97],[12.0,0.97],[12.0,0.97],[12.0,0.97],[12.0,0.97],[15.0,0.96],[15.0,0.96],[15.0,0.96],[15.0,0.96],[15.0,0.96],[15.0,0.96],[15.0,0.96],[15.0,0.96],[15.0,0.96],[15.0,0.96],[15.0,0.96],[15.0,0.96],[15.0,0.96],[15.0,0.96],[15.0,0.96],[15.0,0.96],[15.0,0.96],[15.0,0.96],[15.0,0.96],[15.0,0.96],[15.0,0.96],[15.0,0.96],[15.0,0.96],[15.0,0.96],[15.0,0.96],[15.0,0.96],[15.0,0.96],[15.0,0.96],[15.0,0.96],[15.0,0.96],[15.0,0.96],[15.0,0.96],[15.0,0.96],[15.0,0.96],[15.0,0.96],[15.0,0.96],[15.0,0.96],[15.0,0.96],[15.0,0.96],[15.0,0.96],[16.0,0.985],[16.0,0.985],[16.0,0.985],[16.0,0.985],[16.0,0.985],[16.0,0.985],[16.0,0.985],[16.0,0.985],[16.0,0.985],[16.0,0.985],[16.0,0.985],[16.0,0.985],[16.0,0.985],[16.0,0.985],[16.0,0.985],[16.0,0.985],[16.0,0.985],[16.0,0.985],[16.0,0.985],[16.0,0.985],[16.0,0.985],[16.0,0.985],[16.0,0.985],[16.0,0.985],[16.0,0.985],[16.0,0.985],[16.0,0.985],[16.0,0.985],[16.0,0.985],[16.0,0.985],[16.0,0.985],[16.0,0.985],[16.0,0.985],[16.0,0.985],[16.0,0.985],[16.0,0.985],[16.0,0.985],[16.0,0.985],[16.0,0.985],[16.0,0.985],[16.0,0.985],[16.0,0.985],[16.0,0.985],[16.0,0.985],[16.0,0.985],[16.0,0.985],[16.0,0.985],[16.0,0.985],[16.0,0.985],[16.0,0.985],[16.0,0.985],[16.0,0.985],[16.0,0.985],[16.0,0.985],[16.0,0.985],[16.0,0.985],[16.0,0.985],[16.0,0.985],[16.0,0.985],[16.0,0.985],[16.0,0.985],[16.0,0.985],[16.0,0.985],[16.0,0.985],[16.0,0.985],[16.0,0.985],[16.0,0.985],[16.0,0.985],[16.0,0.985],[16.0,0.985],[16.0,0.985],[16.0,0.985],[16.0,0.985],[16.0,0.985],[16.0,0.985],[16.0,0.985],[16.0,0.985],[16.0,0.985],[16.0,0.985],[16.0,0.985],[16.0,0.985],[16.0,0.985],[16.0,0.985],[16.0,0.985],[16.0,0.985],[16.0,0.985],[16.0,0.985],[16.0,0.985],[19.0,0.97],[19.0,0.97],[19.0,0.97],[19.0,0.97],[19.0,0.97],[19.0,0.97],[19.0,0.97],[19.0,0.97],[19.0,0.97],[19.0,0.97],[19.0,0.97],[19.0,0.97],[19.0,0.97],[19.0,0.97],[19.0,0.97],[19.0,0.97],[19.0,0.97],[19.0,0.97],[19.0,0.97],[19.0,0.97],[19.0,0.97],[19.0,0.97],[19.0,0.97],[19.0,0.97],[19.0,0.97],[19.0,0.97],[20.0,0.95],[20.0,0.95],[20.0,0.95],[20.0,0.95],[20.0,0.95],[20.0,0.95],[20.0,0.95],[20.0,0.95],[20.0,0.95],[20.0,0.95],[20.0,0.95],[20.0,0.95],[20.0,0.95],[20.0,0.95],[20.0,0.95]],\"hovertemplate\":\"\\u003cb\\u003eHour\\u003c\\u002fb\\u003e: %{customdata[0]}\\u003cbr\\u003e\\u003cb\\u003eSteps\\u003c\\u002fb\\u003e: %{y}\\u003cbr\\u003e\\u003cb\\u003eHeart Rate\\u003c\\u002fb\\u003e: %{x}\\u003cbr\\u003e\\u003cb\\u003eSpO2\\u003c\\u002fb\\u003e: %{customdata[1]}\\u003cextra\\u003e\\u003c\\u002fextra\\u003e\",\"marker\":{\"color\":[0.86,0.86,0.86,0.86,0.86,0.86,0.86,0.86,0.86,0.86,0.86,0.86,0.86,0.86,0.86,0.86,0.86,0.86,0.86,0.86,0.86,0.86,0.86,0.86,0.86,0.86,0.86,0.86,0.86,0.86,0.86,0.86,0.86,0.86,0.86,0.95,0.95,0.95,0.95,0.95,0.95,0.95,0.95,0.95,0.95,0.95,0.95,0.95,0.95,0.95,0.95,0.95,0.95,0.95,0.95,0.95,0.95,0.95,0.95,0.95,0.95,0.95,0.95,0.95,0.95,0.95,0.95,0.95,0.95,0.95,0.95,0.95,0.97,0.97,0.97,0.97,0.97,0.97,0.97,0.97,0.97,0.97,0.97,0.97,0.97,0.97,0.97,0.97,0.97,0.97,0.97,0.97,0.97,0.97,0.97,0.97,0.97,0.97,0.96,0.96,0.96,0.96,0.96,0.96,0.96,0.96,0.96,0.96,0.96,0.96,0.96,0.96,0.96,0.96,0.96,0.96,0.96,0.96,0.96,0.96,0.96,0.96,0.96,0.96,0.96,0.96,0.96,0.96,0.96,0.96,0.96,0.96,0.96,0.96,0.96,0.96,0.96,0.96,0.985,0.985,0.985,0.985,0.985,0.985,0.985,0.985,0.985,0.985,0.985,0.985,0.985,0.985,0.985,0.985,0.985,0.985,0.985,0.985,0.985,0.985,0.985,0.985,0.985,0.985,0.985,0.985,0.985,0.985,0.985,0.985,0.985,0.985,0.985,0.985,0.985,0.985,0.985,0.985,0.985,0.985,0.985,0.985,0.985,0.985,0.985,0.985,0.985,0.985,0.985,0.985,0.985,0.985,0.985,0.985,0.985,0.985,0.985,0.985,0.985,0.985,0.985,0.985,0.985,0.985,0.985,0.985,0.985,0.985,0.985,0.985,0.985,0.985,0.985,0.985,0.985,0.985,0.985,0.985,0.985,0.985,0.985,0.985,0.985,0.985,0.985,0.985,0.97,0.97,0.97,0.97,0.97,0.97,0.97,0.97,0.97,0.97,0.97,0.97,0.97,0.97,0.97,0.97,0.97,0.97,0.97,0.97,0.97,0.97,0.97,0.97,0.97,0.97,0.95,0.95,0.95,0.95,0.95,0.95,0.95,0.95,0.95,0.95,0.95,0.95,0.95,0.95,0.95],\"colorbar\":{\"title\":{\"text\":\"Mean SpO2\"}},\"colorscale\":[[0.0,\"#440154\"],[0.1111111111111111,\"#482878\"],[0.2222222222222222,\"#3e4989\"],[0.3333333333333333,\"#31688e\"],[0.4444444444444444,\"#26828e\"],[0.5555555555555556,\"#1f9e89\"],[0.6666666666666666,\"#35b779\"],[0.7777777777777778,\"#6ece58\"],[0.8888888888888888,\"#b5de2b\"],[1.0,\"#fde725\"]],\"showscale\":false,\"size\":10},\"mode\":\"markers\",\"name\":\"2023-01-04\",\"x\":[69.71428571428571,69.71428571428571,69.71428571428571,69.71428571428571,69.71428571428571,69.71428571428571,69.71428571428571,69.71428571428571,69.71428571428571,69.71428571428571,69.71428571428571,69.71428571428571,69.71428571428571,69.71428571428571,69.71428571428571,69.71428571428571,69.71428571428571,69.71428571428571,69.71428571428571,69.71428571428571,69.71428571428571,69.71428571428571,69.71428571428571,69.71428571428571,69.71428571428571,69.71428571428571,69.71428571428571,69.71428571428571,69.71428571428571,69.71428571428571,69.71428571428571,69.71428571428571,69.71428571428571,69.71428571428571,69.71428571428571,67.25,67.25,67.25,67.25,67.25,67.25,67.25,67.25,67.25,67.25,67.25,67.25,67.25,67.25,67.25,67.25,67.25,67.25,67.25,67.25,67.25,67.25,67.25,67.25,66.76923076923077,66.76923076923077,66.76923076923077,66.76923076923077,66.76923076923077,66.76923076923077,66.76923076923077,66.76923076923077,66.76923076923077,66.76923076923077,66.76923076923077,66.76923076923077,66.76923076923077,67.76923076923077,67.76923076923077,67.76923076923077,67.76923076923077,67.76923076923077,67.76923076923077,67.76923076923077,67.76923076923077,67.76923076923077,67.76923076923077,67.76923076923077,67.76923076923077,67.76923076923077,67.76923076923077,67.76923076923077,67.76923076923077,67.76923076923077,67.76923076923077,67.76923076923077,67.76923076923077,67.76923076923077,67.76923076923077,67.76923076923077,67.76923076923077,67.76923076923077,67.76923076923077,94.125,94.125,94.125,94.125,94.125,94.125,94.125,94.125,94.125,94.125,94.125,94.125,94.125,94.125,94.125,94.125,94.125,94.125,94.125,94.125,94.125,94.125,94.125,94.125,94.125,94.125,94.125,94.125,94.125,94.125,94.125,94.125,94.125,94.125,94.125,94.125,94.125,94.125,94.125,94.125,77.72727272727273,77.72727272727273,77.72727272727273,77.72727272727273,77.72727272727273,77.72727272727273,77.72727272727273,77.72727272727273,77.72727272727273,77.72727272727273,77.72727272727273,77.72727272727273,77.72727272727273,77.72727272727273,77.72727272727273,77.72727272727273,77.72727272727273,77.72727272727273,77.72727272727273,77.72727272727273,77.72727272727273,77.72727272727273,77.72727272727273,77.72727272727273,77.72727272727273,77.72727272727273,77.72727272727273,77.72727272727273,77.72727272727273,77.72727272727273,77.72727272727273,77.72727272727273,77.72727272727273,77.72727272727273,77.72727272727273,77.72727272727273,77.72727272727273,77.72727272727273,77.72727272727273,77.72727272727273,77.72727272727273,77.72727272727273,77.72727272727273,77.72727272727273,77.72727272727273,77.72727272727273,77.72727272727273,77.72727272727273,77.72727272727273,77.72727272727273,77.72727272727273,77.72727272727273,77.72727272727273,77.72727272727273,77.72727272727273,77.72727272727273,77.72727272727273,77.72727272727273,77.72727272727273,77.72727272727273,77.72727272727273,77.72727272727273,77.72727272727273,77.72727272727273,77.72727272727273,77.72727272727273,77.72727272727273,77.72727272727273,77.72727272727273,77.72727272727273,77.72727272727273,77.72727272727273,77.72727272727273,77.72727272727273,77.72727272727273,77.72727272727273,77.72727272727273,77.72727272727273,77.72727272727273,77.72727272727273,77.72727272727273,77.72727272727273,77.72727272727273,77.72727272727273,77.72727272727273,77.72727272727273,77.72727272727273,77.72727272727273,87.53846153846153,87.53846153846153,87.53846153846153,87.53846153846153,87.53846153846153,87.53846153846153,87.53846153846153,87.53846153846153,87.53846153846153,87.53846153846153,87.53846153846153,87.53846153846153,87.53846153846153,87.53846153846153,87.53846153846153,87.53846153846153,87.53846153846153,87.53846153846153,87.53846153846153,87.53846153846153,87.53846153846153,87.53846153846153,87.53846153846153,87.53846153846153,87.53846153846153,87.53846153846153,87.2,87.2,87.2,87.2,87.2,87.2,87.2,87.2,87.2,87.2,87.2,87.2,87.2,87.2,87.2],\"y\":[40.8,40.8,40.8,40.8,40.8,40.8,40.8,40.8,40.8,40.8,40.8,40.8,40.8,40.8,40.8,40.8,40.8,40.8,40.8,40.8,40.8,40.8,40.8,40.8,40.8,40.8,40.8,40.8,40.8,40.8,40.8,40.8,40.8,40.8,40.8,125.5,125.5,125.5,125.5,125.5,125.5,125.5,125.5,125.5,125.5,125.5,125.5,125.5,125.5,125.5,125.5,125.5,125.5,125.5,125.5,125.5,125.5,125.5,125.5,16.0,16.0,16.0,16.0,16.0,16.0,16.0,16.0,16.0,16.0,16.0,16.0,16.0,143.5,143.5,143.5,143.5,143.5,143.5,143.5,143.5,143.5,143.5,143.5,143.5,143.5,143.5,143.5,143.5,143.5,143.5,143.5,143.5,143.5,143.5,143.5,143.5,143.5,143.5,26.8,26.8,26.8,26.8,26.8,26.8,26.8,26.8,26.8,26.8,26.8,26.8,26.8,26.8,26.8,26.8,26.8,26.8,26.8,26.8,26.8,26.8,26.8,26.8,26.8,26.8,26.8,26.8,26.8,26.8,26.8,26.8,26.8,26.8,26.8,26.8,26.8,26.8,26.8,26.8,30.75,30.75,30.75,30.75,30.75,30.75,30.75,30.75,30.75,30.75,30.75,30.75,30.75,30.75,30.75,30.75,30.75,30.75,30.75,30.75,30.75,30.75,30.75,30.75,30.75,30.75,30.75,30.75,30.75,30.75,30.75,30.75,30.75,30.75,30.75,30.75,30.75,30.75,30.75,30.75,30.75,30.75,30.75,30.75,30.75,30.75,30.75,30.75,30.75,30.75,30.75,30.75,30.75,30.75,30.75,30.75,30.75,30.75,30.75,30.75,30.75,30.75,30.75,30.75,30.75,30.75,30.75,30.75,30.75,30.75,30.75,30.75,30.75,30.75,30.75,30.75,30.75,30.75,30.75,30.75,30.75,30.75,30.75,30.75,30.75,30.75,30.75,30.75,27.0,27.0,27.0,27.0,27.0,27.0,27.0,27.0,27.0,27.0,27.0,27.0,27.0,27.0,27.0,27.0,27.0,27.0,27.0,27.0,27.0,27.0,27.0,27.0,27.0,27.0,69.66666666666667,69.66666666666667,69.66666666666667,69.66666666666667,69.66666666666667,69.66666666666667,69.66666666666667,69.66666666666667,69.66666666666667,69.66666666666667,69.66666666666667,69.66666666666667,69.66666666666667,69.66666666666667,69.66666666666667],\"type\":\"scatter\",\"xaxis\":\"x2\",\"yaxis\":\"y2\"},{\"customdata\":[[6.0,0.95],[6.0,0.95],[6.0,0.95],[6.0,0.95],[6.0,0.95],[6.0,0.95],[6.0,0.95],[6.0,0.95],[6.0,0.95],[6.0,0.95],[6.0,0.95],[6.0,0.95],[6.0,0.95],[6.0,0.95],[6.0,0.95],[6.0,0.95],[6.0,0.95],[6.0,0.95],[6.0,0.95],[6.0,0.95],[6.0,0.95],[6.0,0.95],[6.0,0.95],[6.0,0.95],[6.0,0.95],[6.0,0.95],[6.0,0.95],[6.0,0.95],[6.0,0.95],[6.0,0.95],[6.0,0.95],[6.0,0.95],[6.0,0.95],[6.0,0.95],[6.0,0.95],[6.0,0.95],[6.0,0.95],[6.0,0.95],[6.0,0.95],[6.0,0.95],[6.0,0.95],[6.0,0.95],[6.0,0.95],[6.0,0.95],[6.0,0.95],[6.0,0.95],[6.0,0.95],[6.0,0.95],[6.0,0.95],[6.0,0.95],[6.0,0.95],[6.0,0.95],[6.0,0.95],[6.0,0.95],[6.0,0.95],[6.0,0.95],[6.0,0.95],[6.0,0.95],[6.0,0.95],[6.0,0.95],[8.0,0.96],[8.0,0.96],[8.0,0.96],[8.0,0.96],[8.0,0.96],[8.0,0.96],[8.0,0.96],[8.0,0.96],[8.0,0.96],[8.0,0.96],[8.0,0.96],[8.0,0.96],[8.0,0.96],[8.0,0.96],[8.0,0.96],[8.0,0.96],[8.0,0.96],[8.0,0.96],[8.0,0.96],[8.0,0.96],[8.0,0.96],[8.0,0.96],[8.0,0.96],[8.0,0.96],[8.0,0.96],[8.0,0.96],[8.0,0.96],[8.0,0.96],[8.0,0.96],[8.0,0.96],[8.0,0.96],[8.0,0.96],[8.0,0.96],[8.0,0.96],[8.0,0.96],[8.0,0.96],[8.0,0.96],[8.0,0.96],[8.0,0.96],[8.0,0.96],[8.0,0.96],[8.0,0.96],[8.0,0.96],[8.0,0.96],[8.0,0.96],[8.0,0.96],[8.0,0.96],[8.0,0.96],[8.0,0.96],[8.0,0.96],[8.0,0.96],[8.0,0.96],[8.0,0.96],[8.0,0.96],[8.0,0.96],[8.0,0.96],[8.0,0.96],[8.0,0.96],[8.0,0.96],[8.0,0.96],[8.0,0.96],[8.0,0.96],[8.0,0.96],[8.0,0.96],[8.0,0.96],[8.0,0.96],[8.0,0.96],[8.0,0.96],[8.0,0.96],[8.0,0.96],[8.0,0.96],[8.0,0.96],[8.0,0.96],[8.0,0.96],[8.0,0.96],[8.0,0.96],[8.0,0.96],[8.0,0.96],[8.0,0.96],[8.0,0.96],[8.0,0.96],[8.0,0.96],[8.0,0.96],[8.0,0.96],[8.0,0.96],[8.0,0.96],[8.0,0.96],[8.0,0.96],[8.0,0.96],[8.0,0.96],[8.0,0.96],[8.0,0.96],[8.0,0.96],[8.0,0.96],[8.0,0.96],[8.0,0.96],[8.0,0.96],[8.0,0.96],[8.0,0.96],[8.0,0.96],[8.0,0.96],[8.0,0.96],[8.0,0.96],[8.0,0.96],[8.0,0.96],[8.0,0.96],[8.0,0.96],[8.0,0.96],[8.0,0.96],[8.0,0.96],[8.0,0.96],[8.0,0.96],[8.0,0.96],[8.0,0.96],[8.0,0.96],[8.0,0.96],[8.0,0.96],[8.0,0.96],[8.0,0.96],[8.0,0.96],[8.0,0.96],[8.0,0.96],[8.0,0.96],[8.0,0.96],[8.0,0.96],[8.0,0.96],[8.0,0.96],[8.0,0.96],[8.0,0.96],[8.0,0.96],[8.0,0.96],[8.0,0.96],[8.0,0.96],[8.0,0.96],[8.0,0.96],[8.0,0.96],[8.0,0.96],[8.0,0.96],[8.0,0.96],[8.0,0.96],[8.0,0.96],[8.0,0.96],[8.0,0.96],[8.0,0.96],[8.0,0.96],[8.0,0.96],[8.0,0.96],[8.0,0.96],[8.0,0.96],[8.0,0.96],[8.0,0.96],[8.0,0.96],[8.0,0.96],[8.0,0.96],[8.0,0.96],[8.0,0.96],[8.0,0.96],[8.0,0.96],[8.0,0.96],[8.0,0.96],[10.0,0.95],[10.0,0.95],[10.0,0.95],[10.0,0.95],[10.0,0.95],[10.0,0.95],[10.0,0.95],[10.0,0.95],[10.0,0.95],[10.0,0.95],[10.0,0.95],[10.0,0.95],[10.0,0.95],[10.0,0.95],[12.0,0.945],[12.0,0.945],[12.0,0.945],[12.0,0.945],[12.0,0.945],[12.0,0.945],[12.0,0.945],[12.0,0.945],[12.0,0.945],[12.0,0.945],[12.0,0.945],[12.0,0.945],[12.0,0.945],[12.0,0.945],[12.0,0.945],[12.0,0.945],[12.0,0.945],[12.0,0.945],[12.0,0.945],[12.0,0.945],[12.0,0.945],[12.0,0.945],[12.0,0.945],[12.0,0.945],[12.0,0.945],[12.0,0.945],[12.0,0.945],[12.0,0.945],[12.0,0.945],[12.0,0.945],[12.0,0.945],[12.0,0.945],[12.0,0.945],[12.0,0.945],[12.0,0.945],[12.0,0.945],[12.0,0.945],[12.0,0.945],[12.0,0.945],[12.0,0.945],[12.0,0.945],[12.0,0.945],[12.0,0.945],[12.0,0.945],[12.0,0.945],[12.0,0.945],[12.0,0.945],[12.0,0.945],[12.0,0.945],[12.0,0.945],[12.0,0.945],[12.0,0.945],[12.0,0.945],[12.0,0.945],[12.0,0.945],[12.0,0.945],[12.0,0.945],[12.0,0.945],[12.0,0.945],[12.0,0.945],[12.0,0.945],[12.0,0.945],[12.0,0.945],[12.0,0.945],[12.0,0.945],[12.0,0.945],[12.0,0.945],[12.0,0.945],[12.0,0.945],[12.0,0.945],[12.0,0.945],[12.0,0.945],[12.0,0.945],[12.0,0.945],[12.0,0.945],[12.0,0.945],[12.0,0.945],[12.0,0.945],[12.0,0.945],[12.0,0.945],[12.0,0.945],[12.0,0.945],[12.0,0.945],[12.0,0.945],[12.0,0.945],[12.0,0.945],[12.0,0.945],[12.0,0.945],[12.0,0.945],[12.0,0.945],[14.0,0.95],[14.0,0.95],[14.0,0.95],[14.0,0.95],[14.0,0.95],[14.0,0.95],[14.0,0.95],[14.0,0.95],[14.0,0.95],[14.0,0.95],[14.0,0.95],[14.0,0.95],[14.0,0.95],[14.0,0.95],[14.0,0.95],[14.0,0.95],[14.0,0.95],[14.0,0.95],[14.0,0.95],[14.0,0.95],[14.0,0.95],[14.0,0.95],[14.0,0.95],[14.0,0.95],[14.0,0.95],[14.0,0.95],[14.0,0.95],[14.0,0.95],[14.0,0.95],[14.0,0.95],[14.0,0.95],[14.0,0.95],[14.0,0.95],[14.0,0.95],[14.0,0.95],[14.0,0.95],[14.0,0.95],[14.0,0.95],[14.0,0.95],[14.0,0.95],[14.0,0.95],[14.0,0.95],[14.0,0.95],[14.0,0.95],[14.0,0.95],[14.0,0.95],[14.0,0.95],[14.0,0.95],[14.0,0.95],[14.0,0.95],[14.0,0.95],[14.0,0.95],[14.0,0.95],[14.0,0.95],[14.0,0.95],[14.0,0.95],[14.0,0.95],[14.0,0.95],[14.0,0.95],[14.0,0.95],[14.0,0.95],[14.0,0.95],[14.0,0.95],[14.0,0.95],[14.0,0.95],[14.0,0.95],[14.0,0.95],[14.0,0.95],[14.0,0.95],[14.0,0.95],[14.0,0.95],[14.0,0.95],[14.0,0.95],[14.0,0.95],[14.0,0.95],[14.0,0.95],[14.0,0.95],[14.0,0.95],[14.0,0.95],[14.0,0.95],[14.0,0.95],[14.0,0.95],[14.0,0.95],[14.0,0.95],[14.0,0.95],[14.0,0.95],[14.0,0.95],[14.0,0.95],[14.0,0.95],[14.0,0.95],[14.0,0.95],[14.0,0.95],[14.0,0.95],[14.0,0.95],[14.0,0.95],[14.0,0.95],[14.0,0.95],[14.0,0.95],[14.0,0.95],[14.0,0.95],[14.0,0.95],[14.0,0.95],[14.0,0.95],[14.0,0.95],[14.0,0.95],[14.0,0.95],[14.0,0.95],[14.0,0.95],[14.0,0.95],[14.0,0.95],[14.0,0.95],[14.0,0.95],[14.0,0.95],[14.0,0.95],[14.0,0.95],[14.0,0.95],[14.0,0.95],[14.0,0.95],[14.0,0.95],[14.0,0.95],[14.0,0.95],[14.0,0.95],[14.0,0.95],[14.0,0.95],[14.0,0.95],[14.0,0.95],[14.0,0.95],[14.0,0.95],[14.0,0.95],[14.0,0.95],[14.0,0.95],[14.0,0.95],[14.0,0.95],[14.0,0.95],[14.0,0.95],[14.0,0.95],[14.0,0.95],[14.0,0.95],[14.0,0.95],[14.0,0.95],[14.0,0.95],[14.0,0.95],[14.0,0.95],[14.0,0.95],[14.0,0.95],[14.0,0.95],[14.0,0.95],[14.0,0.95],[14.0,0.95],[14.0,0.95],[14.0,0.95],[14.0,0.95],[14.0,0.95],[14.0,0.95],[14.0,0.95],[14.0,0.95],[14.0,0.95],[14.0,0.95],[14.0,0.95],[14.0,0.95],[17.0,0.95],[17.0,0.95],[17.0,0.95],[17.0,0.95],[17.0,0.95],[17.0,0.95],[17.0,0.95],[17.0,0.95],[17.0,0.95],[17.0,0.95],[17.0,0.95],[17.0,0.95],[17.0,0.95],[17.0,0.95],[17.0,0.95],[17.0,0.95],[17.0,0.95],[17.0,0.95],[17.0,0.95],[17.0,0.95],[17.0,0.95],[17.0,0.95],[17.0,0.95],[17.0,0.95],[17.0,0.95],[17.0,0.95],[17.0,0.95],[17.0,0.95],[17.0,0.95],[17.0,0.95],[17.0,0.95],[17.0,0.95],[17.0,0.95],[17.0,0.95],[17.0,0.95],[17.0,0.95],[17.0,0.95],[17.0,0.95],[17.0,0.95],[17.0,0.95],[17.0,0.95],[17.0,0.95],[17.0,0.95],[17.0,0.95],[17.0,0.95],[17.0,0.95],[17.0,0.95],[17.0,0.95],[17.0,0.95],[17.0,0.95],[17.0,0.95],[17.0,0.95],[17.0,0.95],[17.0,0.95],[17.0,0.95],[17.0,0.95],[17.0,0.95],[17.0,0.95],[17.0,0.95],[17.0,0.95],[17.0,0.95],[17.0,0.95],[17.0,0.95],[17.0,0.95],[17.0,0.95],[17.0,0.95],[17.0,0.95],[17.0,0.95],[17.0,0.95],[17.0,0.95],[17.0,0.95],[17.0,0.95],[17.0,0.95],[17.0,0.95],[17.0,0.95],[17.0,0.95],[17.0,0.95],[19.0,0.94],[19.0,0.94],[19.0,0.94],[19.0,0.94],[19.0,0.94],[19.0,0.94],[19.0,0.94],[19.0,0.94],[19.0,0.94],[19.0,0.94],[19.0,0.94],[19.0,0.94],[19.0,0.94],[19.0,0.94],[19.0,0.94],[19.0,0.94],[19.0,0.94],[19.0,0.94],[19.0,0.94],[19.0,0.94],[19.0,0.94],[19.0,0.94],[19.0,0.94],[19.0,0.94],[19.0,0.94],[19.0,0.94],[19.0,0.94],[19.0,0.94],[19.0,0.94],[19.0,0.94],[19.0,0.94],[19.0,0.94],[19.0,0.94],[19.0,0.94],[19.0,0.94],[19.0,0.94],[19.0,0.94],[19.0,0.94],[19.0,0.94],[19.0,0.94],[19.0,0.94],[19.0,0.94],[19.0,0.94],[19.0,0.94],[19.0,0.94],[19.0,0.94],[19.0,0.94],[19.0,0.94],[19.0,0.94],[19.0,0.94],[19.0,0.94],[19.0,0.94],[20.0,0.95],[20.0,0.95],[20.0,0.95],[20.0,0.95],[20.0,0.95],[20.0,0.95],[20.0,0.95],[20.0,0.95],[20.0,0.95],[20.0,0.95],[20.0,0.95],[20.0,0.95],[20.0,0.95],[20.0,0.95],[20.0,0.95],[20.0,0.95],[20.0,0.95],[20.0,0.95]],\"hovertemplate\":\"\\u003cb\\u003eHour\\u003c\\u002fb\\u003e: %{customdata[0]}\\u003cbr\\u003e\\u003cb\\u003eSteps\\u003c\\u002fb\\u003e: %{y}\\u003cbr\\u003e\\u003cb\\u003eHeart Rate\\u003c\\u002fb\\u003e: %{x}\\u003cbr\\u003e\\u003cb\\u003eSpO2\\u003c\\u002fb\\u003e: %{customdata[1]}\\u003cextra\\u003e\\u003c\\u002fextra\\u003e\",\"marker\":{\"color\":[0.95,0.95,0.95,0.95,0.95,0.95,0.95,0.95,0.95,0.95,0.95,0.95,0.95,0.95,0.95,0.95,0.95,0.95,0.95,0.95,0.95,0.95,0.95,0.95,0.95,0.95,0.95,0.95,0.95,0.95,0.95,0.95,0.95,0.95,0.95,0.95,0.95,0.95,0.95,0.95,0.95,0.95,0.95,0.95,0.95,0.95,0.95,0.95,0.95,0.95,0.95,0.95,0.95,0.95,0.95,0.95,0.95,0.95,0.95,0.95,0.96,0.96,0.96,0.96,0.96,0.96,0.96,0.96,0.96,0.96,0.96,0.96,0.96,0.96,0.96,0.96,0.96,0.96,0.96,0.96,0.96,0.96,0.96,0.96,0.96,0.96,0.96,0.96,0.96,0.96,0.96,0.96,0.96,0.96,0.96,0.96,0.96,0.96,0.96,0.96,0.96,0.96,0.96,0.96,0.96,0.96,0.96,0.96,0.96,0.96,0.96,0.96,0.96,0.96,0.96,0.96,0.96,0.96,0.96,0.96,0.96,0.96,0.96,0.96,0.96,0.96,0.96,0.96,0.96,0.96,0.96,0.96,0.96,0.96,0.96,0.96,0.96,0.96,0.96,0.96,0.96,0.96,0.96,0.96,0.96,0.96,0.96,0.96,0.96,0.96,0.96,0.96,0.96,0.96,0.96,0.96,0.96,0.96,0.96,0.96,0.96,0.96,0.96,0.96,0.96,0.96,0.96,0.96,0.96,0.96,0.96,0.96,0.96,0.96,0.96,0.96,0.96,0.96,0.96,0.96,0.96,0.96,0.96,0.96,0.96,0.96,0.96,0.96,0.96,0.96,0.96,0.96,0.96,0.96,0.96,0.96,0.96,0.96,0.96,0.96,0.96,0.96,0.96,0.96,0.96,0.96,0.96,0.96,0.96,0.96,0.96,0.96,0.96,0.96,0.96,0.96,0.96,0.96,0.96,0.96,0.95,0.95,0.95,0.95,0.95,0.95,0.95,0.95,0.95,0.95,0.95,0.95,0.95,0.95,0.945,0.945,0.945,0.945,0.945,0.945,0.945,0.945,0.945,0.945,0.945,0.945,0.945,0.945,0.945,0.945,0.945,0.945,0.945,0.945,0.945,0.945,0.945,0.945,0.945,0.945,0.945,0.945,0.945,0.945,0.945,0.945,0.945,0.945,0.945,0.945,0.945,0.945,0.945,0.945,0.945,0.945,0.945,0.945,0.945,0.945,0.945,0.945,0.945,0.945,0.945,0.945,0.945,0.945,0.945,0.945,0.945,0.945,0.945,0.945,0.945,0.945,0.945,0.945,0.945,0.945,0.945,0.945,0.945,0.945,0.945,0.945,0.945,0.945,0.945,0.945,0.945,0.945,0.945,0.945,0.945,0.945,0.945,0.945,0.945,0.945,0.945,0.945,0.945,0.945,0.95,0.95,0.95,0.95,0.95,0.95,0.95,0.95,0.95,0.95,0.95,0.95,0.95,0.95,0.95,0.95,0.95,0.95,0.95,0.95,0.95,0.95,0.95,0.95,0.95,0.95,0.95,0.95,0.95,0.95,0.95,0.95,0.95,0.95,0.95,0.95,0.95,0.95,0.95,0.95,0.95,0.95,0.95,0.95,0.95,0.95,0.95,0.95,0.95,0.95,0.95,0.95,0.95,0.95,0.95,0.95,0.95,0.95,0.95,0.95,0.95,0.95,0.95,0.95,0.95,0.95,0.95,0.95,0.95,0.95,0.95,0.95,0.95,0.95,0.95,0.95,0.95,0.95,0.95,0.95,0.95,0.95,0.95,0.95,0.95,0.95,0.95,0.95,0.95,0.95,0.95,0.95,0.95,0.95,0.95,0.95,0.95,0.95,0.95,0.95,0.95,0.95,0.95,0.95,0.95,0.95,0.95,0.95,0.95,0.95,0.95,0.95,0.95,0.95,0.95,0.95,0.95,0.95,0.95,0.95,0.95,0.95,0.95,0.95,0.95,0.95,0.95,0.95,0.95,0.95,0.95,0.95,0.95,0.95,0.95,0.95,0.95,0.95,0.95,0.95,0.95,0.95,0.95,0.95,0.95,0.95,0.95,0.95,0.95,0.95,0.95,0.95,0.95,0.95,0.95,0.95,0.95,0.95,0.95,0.95,0.95,0.95,0.95,0.95,0.95,0.95,0.95,0.95,0.95,0.95,0.95,0.95,0.95,0.95,0.95,0.95,0.95,0.95,0.95,0.95,0.95,0.95,0.95,0.95,0.95,0.95,0.95,0.95,0.95,0.95,0.95,0.95,0.95,0.95,0.95,0.95,0.95,0.95,0.95,0.95,0.95,0.95,0.95,0.95,0.95,0.95,0.95,0.95,0.95,0.95,0.95,0.95,0.95,0.95,0.95,0.95,0.95,0.95,0.95,0.95,0.95,0.95,0.95,0.95,0.95,0.95,0.95,0.95,0.95,0.95,0.95,0.95,0.95,0.95,0.95,0.95,0.95,0.94,0.94,0.94,0.94,0.94,0.94,0.94,0.94,0.94,0.94,0.94,0.94,0.94,0.94,0.94,0.94,0.94,0.94,0.94,0.94,0.94,0.94,0.94,0.94,0.94,0.94,0.94,0.94,0.94,0.94,0.94,0.94,0.94,0.94,0.94,0.94,0.94,0.94,0.94,0.94,0.94,0.94,0.94,0.94,0.94,0.94,0.94,0.94,0.94,0.94,0.94,0.94,0.95,0.95,0.95,0.95,0.95,0.95,0.95,0.95,0.95,0.95,0.95,0.95,0.95,0.95,0.95,0.95,0.95,0.95],\"colorbar\":{\"title\":{\"text\":\"Mean SpO2\"}},\"colorscale\":[[0.0,\"#440154\"],[0.1111111111111111,\"#482878\"],[0.2222222222222222,\"#3e4989\"],[0.3333333333333333,\"#31688e\"],[0.4444444444444444,\"#26828e\"],[0.5555555555555556,\"#1f9e89\"],[0.6666666666666666,\"#35b779\"],[0.7777777777777778,\"#6ece58\"],[0.8888888888888888,\"#b5de2b\"],[1.0,\"#fde725\"]],\"showscale\":false,\"size\":10},\"mode\":\"markers\",\"name\":\"2023-01-05\",\"x\":[70.54138666666667,70.54138666666667,70.54138666666667,70.54138666666667,70.54138666666667,70.54138666666667,70.54138666666667,70.54138666666667,70.54138666666667,70.54138666666667,70.54138666666667,70.54138666666667,70.54138666666667,70.54138666666667,70.54138666666667,70.54138666666667,70.54138666666667,70.54138666666667,70.54138666666667,70.54138666666667,70.54138666666667,70.54138666666667,70.54138666666667,70.54138666666667,70.54138666666667,70.54138666666667,70.54138666666667,70.54138666666667,70.54138666666667,70.54138666666667,70.54138666666667,70.54138666666667,70.54138666666667,70.54138666666667,70.54138666666667,70.54138666666667,70.54138666666667,70.54138666666667,70.54138666666667,70.54138666666667,70.54138666666667,70.54138666666667,70.54138666666667,70.54138666666667,70.54138666666667,70.54138666666667,70.54138666666667,70.54138666666667,70.54138666666667,70.54138666666667,70.54138666666667,70.54138666666667,70.54138666666667,70.54138666666667,70.54138666666667,70.54138666666667,70.54138666666667,70.54138666666667,70.54138666666667,70.54138666666667,70.0,70.0,70.0,70.0,70.0,70.0,70.0,70.0,70.0,70.0,70.0,70.0,70.0,70.0,70.0,70.0,70.0,70.0,70.0,70.0,70.0,70.0,70.0,70.0,70.0,70.0,70.0,70.0,70.0,70.0,70.0,70.0,70.0,70.0,70.0,70.0,70.0,70.0,70.0,70.0,70.0,70.0,70.0,70.0,70.0,70.0,70.0,70.0,70.0,70.0,70.0,70.0,70.0,70.0,70.0,70.0,70.0,70.0,70.0,70.0,70.0,70.0,70.0,70.0,70.0,70.0,70.0,70.0,70.0,70.0,70.0,70.0,70.0,70.0,70.0,70.0,70.0,70.0,70.0,70.0,70.0,70.0,70.0,70.0,70.0,70.0,70.0,70.0,70.0,70.0,70.0,70.0,70.0,70.0,70.0,70.0,70.0,70.0,70.0,70.0,70.0,70.0,70.0,70.0,70.0,70.0,70.0,70.0,70.0,70.0,70.0,70.0,70.0,70.0,70.0,70.0,70.0,70.0,70.0,70.0,70.0,70.0,70.0,70.0,70.0,70.0,70.0,70.0,70.0,70.0,70.0,70.0,70.0,70.0,70.0,70.0,70.0,70.0,70.0,70.0,70.0,70.0,70.0,70.0,70.0,70.0,70.0,70.0,70.0,70.0,70.0,70.0,70.0,70.0,70.0,70.0,70.0,70.0,70.0,70.0,69.05574285714286,69.05574285714286,69.05574285714286,69.05574285714286,69.05574285714286,69.05574285714286,69.05574285714286,69.05574285714286,69.05574285714286,69.05574285714286,69.05574285714286,69.05574285714286,69.05574285714286,69.05574285714286,66.8,66.8,66.8,66.8,66.8,66.8,66.8,66.8,66.8,66.8,66.8,66.8,66.8,66.8,66.8,66.8,66.8,66.8,66.8,66.8,66.8,66.8,66.8,66.8,66.8,66.8,66.8,66.8,66.8,66.8,66.8,66.8,66.8,66.8,66.8,66.8,66.8,66.8,66.8,66.8,66.8,66.8,66.8,66.8,66.8,66.8,66.8,66.8,66.8,66.8,66.8,66.8,66.8,66.8,66.8,66.8,66.8,66.8,66.8,66.8,66.8,66.8,66.8,66.8,66.8,66.8,66.8,66.8,66.8,66.8,66.8,66.8,66.8,66.8,66.8,66.8,66.8,66.8,66.8,66.8,66.8,66.8,66.8,66.8,66.8,66.8,66.8,66.8,66.8,66.8,74.2,74.2,74.2,74.2,74.2,74.2,74.2,74.2,74.2,74.2,74.2,74.2,74.2,74.2,74.2,74.2,74.2,74.2,74.2,74.2,74.2,74.2,74.2,74.2,74.2,74.2,74.2,74.2,74.2,74.2,74.2,74.2,74.2,74.2,74.2,74.2,74.2,74.2,74.2,74.2,74.2,74.2,74.2,74.2,74.2,74.2,74.2,74.2,74.2,74.2,74.2,74.2,74.2,74.2,74.2,74.2,74.2,74.2,74.2,74.2,74.2,74.2,74.2,74.2,74.2,74.2,74.2,74.2,74.2,74.2,74.2,74.2,74.2,74.2,74.2,74.2,74.2,74.2,74.2,74.2,74.2,74.2,74.2,74.2,74.2,74.2,74.2,74.2,74.2,74.2,74.2,74.2,74.2,74.2,74.2,74.2,74.2,74.2,74.2,74.2,74.2,74.2,74.2,74.2,74.2,74.2,74.2,74.2,74.2,74.2,74.2,74.2,74.2,74.2,74.2,74.2,74.2,74.2,74.2,74.2,74.2,74.2,74.2,74.2,74.2,74.2,74.2,74.2,74.2,74.2,74.2,74.2,74.2,74.2,74.2,74.2,74.2,74.2,74.2,74.2,74.2,74.2,74.2,74.2,74.2,74.2,74.2,74.2,74.2,74.2,74.2,74.2,74.2,74.2,74.2,74.2,74.2,74.2,74.2,74.2,73.27272727272727,73.27272727272727,73.27272727272727,73.27272727272727,73.27272727272727,73.27272727272727,73.27272727272727,73.27272727272727,73.27272727272727,73.27272727272727,73.27272727272727,73.27272727272727,73.27272727272727,73.27272727272727,73.27272727272727,73.27272727272727,73.27272727272727,73.27272727272727,73.27272727272727,73.27272727272727,73.27272727272727,73.27272727272727,73.27272727272727,73.27272727272727,73.27272727272727,73.27272727272727,73.27272727272727,73.27272727272727,73.27272727272727,73.27272727272727,73.27272727272727,73.27272727272727,73.27272727272727,73.27272727272727,73.27272727272727,73.27272727272727,73.27272727272727,73.27272727272727,73.27272727272727,73.27272727272727,73.27272727272727,73.27272727272727,73.27272727272727,73.27272727272727,73.27272727272727,73.27272727272727,73.27272727272727,73.27272727272727,73.27272727272727,73.27272727272727,73.27272727272727,73.27272727272727,73.27272727272727,73.27272727272727,73.27272727272727,73.27272727272727,73.27272727272727,73.27272727272727,73.27272727272727,73.27272727272727,73.27272727272727,73.27272727272727,73.27272727272727,73.27272727272727,73.27272727272727,73.27272727272727,73.27272727272727,73.27272727272727,73.27272727272727,73.27272727272727,73.27272727272727,73.27272727272727,73.27272727272727,73.27272727272727,73.27272727272727,73.27272727272727,73.27272727272727,89.38461538461539,89.38461538461539,89.38461538461539,89.38461538461539,89.38461538461539,89.38461538461539,89.38461538461539,89.38461538461539,89.38461538461539,89.38461538461539,89.38461538461539,89.38461538461539,89.38461538461539,89.38461538461539,89.38461538461539,89.38461538461539,89.38461538461539,89.38461538461539,89.38461538461539,89.38461538461539,89.38461538461539,89.38461538461539,89.38461538461539,89.38461538461539,89.38461538461539,89.38461538461539,89.38461538461539,89.38461538461539,89.38461538461539,89.38461538461539,89.38461538461539,89.38461538461539,89.38461538461539,89.38461538461539,89.38461538461539,89.38461538461539,89.38461538461539,89.38461538461539,89.38461538461539,89.38461538461539,89.38461538461539,89.38461538461539,89.38461538461539,89.38461538461539,89.38461538461539,89.38461538461539,89.38461538461539,89.38461538461539,89.38461538461539,89.38461538461539,89.38461538461539,89.38461538461539,82.88888888888889,82.88888888888889,82.88888888888889,82.88888888888889,82.88888888888889,82.88888888888889,82.88888888888889,82.88888888888889,82.88888888888889,82.88888888888889,82.88888888888889,82.88888888888889,82.88888888888889,82.88888888888889,82.88888888888889,82.88888888888889,82.88888888888889,82.88888888888889],\"y\":[77.0,77.0,77.0,77.0,77.0,77.0,77.0,77.0,77.0,77.0,77.0,77.0,77.0,77.0,77.0,77.0,77.0,77.0,77.0,77.0,77.0,77.0,77.0,77.0,77.0,77.0,77.0,77.0,77.0,77.0,77.0,77.0,77.0,77.0,77.0,77.0,77.0,77.0,77.0,77.0,77.0,77.0,77.0,77.0,77.0,77.0,77.0,77.0,77.0,77.0,77.0,77.0,77.0,77.0,77.0,77.0,77.0,77.0,77.0,77.0,102.2,102.2,102.2,102.2,102.2,102.2,102.2,102.2,102.2,102.2,102.2,102.2,102.2,102.2,102.2,102.2,102.2,102.2,102.2,102.2,102.2,102.2,102.2,102.2,102.2,102.2,102.2,102.2,102.2,102.2,102.2,102.2,102.2,102.2,102.2,102.2,102.2,102.2,102.2,102.2,102.2,102.2,102.2,102.2,102.2,102.2,102.2,102.2,102.2,102.2,102.2,102.2,102.2,102.2,102.2,102.2,102.2,102.2,102.2,102.2,102.2,102.2,102.2,102.2,102.2,102.2,102.2,102.2,102.2,102.2,102.2,102.2,102.2,102.2,102.2,102.2,102.2,102.2,102.2,102.2,102.2,102.2,102.2,102.2,102.2,102.2,102.2,102.2,102.2,102.2,102.2,102.2,102.2,102.2,102.2,102.2,102.2,102.2,102.2,102.2,102.2,102.2,102.2,102.2,102.2,102.2,102.2,102.2,102.2,102.2,102.2,102.2,102.2,102.2,102.2,102.2,102.2,102.2,102.2,102.2,102.2,102.2,102.2,102.2,102.2,102.2,102.2,102.2,102.2,102.2,102.2,102.2,102.2,102.2,102.2,102.2,102.2,102.2,102.2,102.2,102.2,102.2,102.2,102.2,102.2,102.2,102.2,102.2,102.2,102.2,102.2,102.2,102.2,102.2,102.2,102.2,102.2,102.2,102.2,102.2,10.0,10.0,10.0,10.0,10.0,10.0,10.0,10.0,10.0,10.0,10.0,10.0,10.0,10.0,97.33333333333331,97.33333333333331,97.33333333333331,97.33333333333331,97.33333333333331,97.33333333333331,97.33333333333331,97.33333333333331,97.33333333333331,97.33333333333331,97.33333333333331,97.33333333333331,97.33333333333331,97.33333333333331,97.33333333333331,97.33333333333331,97.33333333333331,97.33333333333331,97.33333333333331,97.33333333333331,97.33333333333331,97.33333333333331,97.33333333333331,97.33333333333331,97.33333333333331,97.33333333333331,97.33333333333331,97.33333333333331,97.33333333333331,97.33333333333331,97.33333333333331,97.33333333333331,97.33333333333331,97.33333333333331,97.33333333333331,97.33333333333331,97.33333333333331,97.33333333333331,97.33333333333331,97.33333333333331,97.33333333333331,97.33333333333331,97.33333333333331,97.33333333333331,97.33333333333331,97.33333333333331,97.33333333333331,97.33333333333331,97.33333333333331,97.33333333333331,97.33333333333331,97.33333333333331,97.33333333333331,97.33333333333331,97.33333333333331,97.33333333333331,97.33333333333331,97.33333333333331,97.33333333333331,97.33333333333331,97.33333333333331,97.33333333333331,97.33333333333331,97.33333333333331,97.33333333333331,97.33333333333331,97.33333333333331,97.33333333333331,97.33333333333331,97.33333333333331,97.33333333333331,97.33333333333331,97.33333333333331,97.33333333333331,97.33333333333331,97.33333333333331,97.33333333333331,97.33333333333331,97.33333333333331,97.33333333333331,97.33333333333331,97.33333333333331,97.33333333333331,97.33333333333331,97.33333333333331,97.33333333333331,97.33333333333331,97.33333333333331,97.33333333333331,97.33333333333331,236.5,236.5,236.5,236.5,236.5,236.5,236.5,236.5,236.5,236.5,236.5,236.5,236.5,236.5,236.5,236.5,236.5,236.5,236.5,236.5,236.5,236.5,236.5,236.5,236.5,236.5,236.5,236.5,236.5,236.5,236.5,236.5,236.5,236.5,236.5,236.5,236.5,236.5,236.5,236.5,236.5,236.5,236.5,236.5,236.5,236.5,236.5,236.5,236.5,236.5,236.5,236.5,236.5,236.5,236.5,236.5,236.5,236.5,236.5,236.5,236.5,236.5,236.5,236.5,236.5,236.5,236.5,236.5,236.5,236.5,236.5,236.5,236.5,236.5,236.5,236.5,236.5,236.5,236.5,236.5,236.5,236.5,236.5,236.5,236.5,236.5,236.5,236.5,236.5,236.5,236.5,236.5,236.5,236.5,236.5,236.5,236.5,236.5,236.5,236.5,236.5,236.5,236.5,236.5,236.5,236.5,236.5,236.5,236.5,236.5,236.5,236.5,236.5,236.5,236.5,236.5,236.5,236.5,236.5,236.5,236.5,236.5,236.5,236.5,236.5,236.5,236.5,236.5,236.5,236.5,236.5,236.5,236.5,236.5,236.5,236.5,236.5,236.5,236.5,236.5,236.5,236.5,236.5,236.5,236.5,236.5,236.5,236.5,236.5,236.5,236.5,236.5,236.5,236.5,236.5,236.5,236.5,236.5,236.5,236.5,132.28571428571428,132.28571428571428,132.28571428571428,132.28571428571428,132.28571428571428,132.28571428571428,132.28571428571428,132.28571428571428,132.28571428571428,132.28571428571428,132.28571428571428,132.28571428571428,132.28571428571428,132.28571428571428,132.28571428571428,132.28571428571428,132.28571428571428,132.28571428571428,132.28571428571428,132.28571428571428,132.28571428571428,132.28571428571428,132.28571428571428,132.28571428571428,132.28571428571428,132.28571428571428,132.28571428571428,132.28571428571428,132.28571428571428,132.28571428571428,132.28571428571428,132.28571428571428,132.28571428571428,132.28571428571428,132.28571428571428,132.28571428571428,132.28571428571428,132.28571428571428,132.28571428571428,132.28571428571428,132.28571428571428,132.28571428571428,132.28571428571428,132.28571428571428,132.28571428571428,132.28571428571428,132.28571428571428,132.28571428571428,132.28571428571428,132.28571428571428,132.28571428571428,132.28571428571428,132.28571428571428,132.28571428571428,132.28571428571428,132.28571428571428,132.28571428571428,132.28571428571428,132.28571428571428,132.28571428571428,132.28571428571428,132.28571428571428,132.28571428571428,132.28571428571428,132.28571428571428,132.28571428571428,132.28571428571428,132.28571428571428,132.28571428571428,132.28571428571428,132.28571428571428,132.28571428571428,132.28571428571428,132.28571428571428,132.28571428571428,132.28571428571428,132.28571428571428,24.0,24.0,24.0,24.0,24.0,24.0,24.0,24.0,24.0,24.0,24.0,24.0,24.0,24.0,24.0,24.0,24.0,24.0,24.0,24.0,24.0,24.0,24.0,24.0,24.0,24.0,24.0,24.0,24.0,24.0,24.0,24.0,24.0,24.0,24.0,24.0,24.0,24.0,24.0,24.0,24.0,24.0,24.0,24.0,24.0,24.0,24.0,24.0,24.0,24.0,24.0,24.0,56.5,56.5,56.5,56.5,56.5,56.5,56.5,56.5,56.5,56.5,56.5,56.5,56.5,56.5,56.5,56.5,56.5,56.5],\"type\":\"scatter\",\"xaxis\":\"x3\",\"yaxis\":\"y3\"}],                        {\"template\":{\"data\":{\"histogram2dcontour\":[{\"type\":\"histogram2dcontour\",\"colorbar\":{\"outlinewidth\":0,\"ticks\":\"\"},\"colorscale\":[[0.0,\"#0d0887\"],[0.1111111111111111,\"#46039f\"],[0.2222222222222222,\"#7201a8\"],[0.3333333333333333,\"#9c179e\"],[0.4444444444444444,\"#bd3786\"],[0.5555555555555556,\"#d8576b\"],[0.6666666666666666,\"#ed7953\"],[0.7777777777777778,\"#fb9f3a\"],[0.8888888888888888,\"#fdca26\"],[1.0,\"#f0f921\"]]}],\"choropleth\":[{\"type\":\"choropleth\",\"colorbar\":{\"outlinewidth\":0,\"ticks\":\"\"}}],\"histogram2d\":[{\"type\":\"histogram2d\",\"colorbar\":{\"outlinewidth\":0,\"ticks\":\"\"},\"colorscale\":[[0.0,\"#0d0887\"],[0.1111111111111111,\"#46039f\"],[0.2222222222222222,\"#7201a8\"],[0.3333333333333333,\"#9c179e\"],[0.4444444444444444,\"#bd3786\"],[0.5555555555555556,\"#d8576b\"],[0.6666666666666666,\"#ed7953\"],[0.7777777777777778,\"#fb9f3a\"],[0.8888888888888888,\"#fdca26\"],[1.0,\"#f0f921\"]]}],\"heatmap\":[{\"type\":\"heatmap\",\"colorbar\":{\"outlinewidth\":0,\"ticks\":\"\"},\"colorscale\":[[0.0,\"#0d0887\"],[0.1111111111111111,\"#46039f\"],[0.2222222222222222,\"#7201a8\"],[0.3333333333333333,\"#9c179e\"],[0.4444444444444444,\"#bd3786\"],[0.5555555555555556,\"#d8576b\"],[0.6666666666666666,\"#ed7953\"],[0.7777777777777778,\"#fb9f3a\"],[0.8888888888888888,\"#fdca26\"],[1.0,\"#f0f921\"]]}],\"heatmapgl\":[{\"type\":\"heatmapgl\",\"colorbar\":{\"outlinewidth\":0,\"ticks\":\"\"},\"colorscale\":[[0.0,\"#0d0887\"],[0.1111111111111111,\"#46039f\"],[0.2222222222222222,\"#7201a8\"],[0.3333333333333333,\"#9c179e\"],[0.4444444444444444,\"#bd3786\"],[0.5555555555555556,\"#d8576b\"],[0.6666666666666666,\"#ed7953\"],[0.7777777777777778,\"#fb9f3a\"],[0.8888888888888888,\"#fdca26\"],[1.0,\"#f0f921\"]]}],\"contourcarpet\":[{\"type\":\"contourcarpet\",\"colorbar\":{\"outlinewidth\":0,\"ticks\":\"\"}}],\"contour\":[{\"type\":\"contour\",\"colorbar\":{\"outlinewidth\":0,\"ticks\":\"\"},\"colorscale\":[[0.0,\"#0d0887\"],[0.1111111111111111,\"#46039f\"],[0.2222222222222222,\"#7201a8\"],[0.3333333333333333,\"#9c179e\"],[0.4444444444444444,\"#bd3786\"],[0.5555555555555556,\"#d8576b\"],[0.6666666666666666,\"#ed7953\"],[0.7777777777777778,\"#fb9f3a\"],[0.8888888888888888,\"#fdca26\"],[1.0,\"#f0f921\"]]}],\"surface\":[{\"type\":\"surface\",\"colorbar\":{\"outlinewidth\":0,\"ticks\":\"\"},\"colorscale\":[[0.0,\"#0d0887\"],[0.1111111111111111,\"#46039f\"],[0.2222222222222222,\"#7201a8\"],[0.3333333333333333,\"#9c179e\"],[0.4444444444444444,\"#bd3786\"],[0.5555555555555556,\"#d8576b\"],[0.6666666666666666,\"#ed7953\"],[0.7777777777777778,\"#fb9f3a\"],[0.8888888888888888,\"#fdca26\"],[1.0,\"#f0f921\"]]}],\"mesh3d\":[{\"type\":\"mesh3d\",\"colorbar\":{\"outlinewidth\":0,\"ticks\":\"\"}}],\"scatter\":[{\"fillpattern\":{\"fillmode\":\"overlay\",\"size\":10,\"solidity\":0.2},\"type\":\"scatter\"}],\"parcoords\":[{\"type\":\"parcoords\",\"line\":{\"colorbar\":{\"outlinewidth\":0,\"ticks\":\"\"}}}],\"scatterpolargl\":[{\"type\":\"scatterpolargl\",\"marker\":{\"colorbar\":{\"outlinewidth\":0,\"ticks\":\"\"}}}],\"bar\":[{\"error_x\":{\"color\":\"#2a3f5f\"},\"error_y\":{\"color\":\"#2a3f5f\"},\"marker\":{\"line\":{\"color\":\"#E5ECF6\",\"width\":0.5},\"pattern\":{\"fillmode\":\"overlay\",\"size\":10,\"solidity\":0.2}},\"type\":\"bar\"}],\"scattergeo\":[{\"type\":\"scattergeo\",\"marker\":{\"colorbar\":{\"outlinewidth\":0,\"ticks\":\"\"}}}],\"scatterpolar\":[{\"type\":\"scatterpolar\",\"marker\":{\"colorbar\":{\"outlinewidth\":0,\"ticks\":\"\"}}}],\"histogram\":[{\"marker\":{\"pattern\":{\"fillmode\":\"overlay\",\"size\":10,\"solidity\":0.2}},\"type\":\"histogram\"}],\"scattergl\":[{\"type\":\"scattergl\",\"marker\":{\"colorbar\":{\"outlinewidth\":0,\"ticks\":\"\"}}}],\"scatter3d\":[{\"type\":\"scatter3d\",\"line\":{\"colorbar\":{\"outlinewidth\":0,\"ticks\":\"\"}},\"marker\":{\"colorbar\":{\"outlinewidth\":0,\"ticks\":\"\"}}}],\"scattermapbox\":[{\"type\":\"scattermapbox\",\"marker\":{\"colorbar\":{\"outlinewidth\":0,\"ticks\":\"\"}}}],\"scatterternary\":[{\"type\":\"scatterternary\",\"marker\":{\"colorbar\":{\"outlinewidth\":0,\"ticks\":\"\"}}}],\"scattercarpet\":[{\"type\":\"scattercarpet\",\"marker\":{\"colorbar\":{\"outlinewidth\":0,\"ticks\":\"\"}}}],\"carpet\":[{\"aaxis\":{\"endlinecolor\":\"#2a3f5f\",\"gridcolor\":\"white\",\"linecolor\":\"white\",\"minorgridcolor\":\"white\",\"startlinecolor\":\"#2a3f5f\"},\"baxis\":{\"endlinecolor\":\"#2a3f5f\",\"gridcolor\":\"white\",\"linecolor\":\"white\",\"minorgridcolor\":\"white\",\"startlinecolor\":\"#2a3f5f\"},\"type\":\"carpet\"}],\"table\":[{\"cells\":{\"fill\":{\"color\":\"#EBF0F8\"},\"line\":{\"color\":\"white\"}},\"header\":{\"fill\":{\"color\":\"#C8D4E3\"},\"line\":{\"color\":\"white\"}},\"type\":\"table\"}],\"barpolar\":[{\"marker\":{\"line\":{\"color\":\"#E5ECF6\",\"width\":0.5},\"pattern\":{\"fillmode\":\"overlay\",\"size\":10,\"solidity\":0.2}},\"type\":\"barpolar\"}],\"pie\":[{\"automargin\":true,\"type\":\"pie\"}]},\"layout\":{\"autotypenumbers\":\"strict\",\"colorway\":[\"#636efa\",\"#EF553B\",\"#00cc96\",\"#ab63fa\",\"#FFA15A\",\"#19d3f3\",\"#FF6692\",\"#B6E880\",\"#FF97FF\",\"#FECB52\"],\"font\":{\"color\":\"#2a3f5f\"},\"hovermode\":\"closest\",\"hoverlabel\":{\"align\":\"left\"},\"paper_bgcolor\":\"white\",\"plot_bgcolor\":\"#E5ECF6\",\"polar\":{\"bgcolor\":\"#E5ECF6\",\"angularaxis\":{\"gridcolor\":\"white\",\"linecolor\":\"white\",\"ticks\":\"\"},\"radialaxis\":{\"gridcolor\":\"white\",\"linecolor\":\"white\",\"ticks\":\"\"}},\"ternary\":{\"bgcolor\":\"#E5ECF6\",\"aaxis\":{\"gridcolor\":\"white\",\"linecolor\":\"white\",\"ticks\":\"\"},\"baxis\":{\"gridcolor\":\"white\",\"linecolor\":\"white\",\"ticks\":\"\"},\"caxis\":{\"gridcolor\":\"white\",\"linecolor\":\"white\",\"ticks\":\"\"}},\"coloraxis\":{\"colorbar\":{\"outlinewidth\":0,\"ticks\":\"\"}},\"colorscale\":{\"sequential\":[[0.0,\"#0d0887\"],[0.1111111111111111,\"#46039f\"],[0.2222222222222222,\"#7201a8\"],[0.3333333333333333,\"#9c179e\"],[0.4444444444444444,\"#bd3786\"],[0.5555555555555556,\"#d8576b\"],[0.6666666666666666,\"#ed7953\"],[0.7777777777777778,\"#fb9f3a\"],[0.8888888888888888,\"#fdca26\"],[1.0,\"#f0f921\"]],\"sequentialminus\":[[0.0,\"#0d0887\"],[0.1111111111111111,\"#46039f\"],[0.2222222222222222,\"#7201a8\"],[0.3333333333333333,\"#9c179e\"],[0.4444444444444444,\"#bd3786\"],[0.5555555555555556,\"#d8576b\"],[0.6666666666666666,\"#ed7953\"],[0.7777777777777778,\"#fb9f3a\"],[0.8888888888888888,\"#fdca26\"],[1.0,\"#f0f921\"]],\"diverging\":[[0,\"#8e0152\"],[0.1,\"#c51b7d\"],[0.2,\"#de77ae\"],[0.3,\"#f1b6da\"],[0.4,\"#fde0ef\"],[0.5,\"#f7f7f7\"],[0.6,\"#e6f5d0\"],[0.7,\"#b8e186\"],[0.8,\"#7fbc41\"],[0.9,\"#4d9221\"],[1,\"#276419\"]]},\"xaxis\":{\"gridcolor\":\"white\",\"linecolor\":\"white\",\"ticks\":\"\",\"title\":{\"standoff\":15},\"zerolinecolor\":\"white\",\"automargin\":true,\"zerolinewidth\":2},\"yaxis\":{\"gridcolor\":\"white\",\"linecolor\":\"white\",\"ticks\":\"\",\"title\":{\"standoff\":15},\"zerolinecolor\":\"white\",\"automargin\":true,\"zerolinewidth\":2},\"scene\":{\"xaxis\":{\"backgroundcolor\":\"#E5ECF6\",\"gridcolor\":\"white\",\"linecolor\":\"white\",\"showbackground\":true,\"ticks\":\"\",\"zerolinecolor\":\"white\",\"gridwidth\":2},\"yaxis\":{\"backgroundcolor\":\"#E5ECF6\",\"gridcolor\":\"white\",\"linecolor\":\"white\",\"showbackground\":true,\"ticks\":\"\",\"zerolinecolor\":\"white\",\"gridwidth\":2},\"zaxis\":{\"backgroundcolor\":\"#E5ECF6\",\"gridcolor\":\"white\",\"linecolor\":\"white\",\"showbackground\":true,\"ticks\":\"\",\"zerolinecolor\":\"white\",\"gridwidth\":2}},\"shapedefaults\":{\"line\":{\"color\":\"#2a3f5f\"}},\"annotationdefaults\":{\"arrowcolor\":\"#2a3f5f\",\"arrowhead\":0,\"arrowwidth\":1},\"geo\":{\"bgcolor\":\"white\",\"landcolor\":\"#E5ECF6\",\"subunitcolor\":\"white\",\"showland\":true,\"showlakes\":true,\"lakecolor\":\"white\"},\"title\":{\"x\":0.05},\"mapbox\":{\"style\":\"light\"}}},\"xaxis\":{\"anchor\":\"y\",\"domain\":[0.0,0.45],\"title\":{\"text\":\"Mean Heart Rate\"}},\"yaxis\":{\"anchor\":\"x\",\"domain\":[0.625,1.0],\"title\":{\"text\":\"Mean Steps\"}},\"xaxis2\":{\"anchor\":\"y2\",\"domain\":[0.55,1.0],\"title\":{\"text\":\"Mean Heart Rate\"}},\"yaxis2\":{\"anchor\":\"x2\",\"domain\":[0.625,1.0],\"title\":{\"text\":\"Mean Steps\"}},\"xaxis3\":{\"anchor\":\"y3\",\"domain\":[0.0,0.45],\"title\":{\"text\":\"Mean Heart Rate\"}},\"yaxis3\":{\"anchor\":\"x3\",\"domain\":[0.0,0.375],\"title\":{\"text\":\"Mean Steps\"}},\"annotations\":[{\"font\":{\"size\":16},\"showarrow\":false,\"text\":\"2023-01-03\",\"x\":0.225,\"xanchor\":\"center\",\"xref\":\"paper\",\"y\":1.0,\"yanchor\":\"bottom\",\"yref\":\"paper\"},{\"font\":{\"size\":16},\"showarrow\":false,\"text\":\"2023-01-04\",\"x\":0.775,\"xanchor\":\"center\",\"xref\":\"paper\",\"y\":1.0,\"yanchor\":\"bottom\",\"yref\":\"paper\"},{\"font\":{\"size\":16},\"showarrow\":false,\"text\":\"2023-01-05\",\"x\":0.225,\"xanchor\":\"center\",\"xref\":\"paper\",\"y\":0.375,\"yanchor\":\"bottom\",\"yref\":\"paper\"}],\"title\":{\"text\":\"\\u003cb\\u003eCorrelation between Mean Heart Rate, Mean Steps and Mean SpO2 per Hour\\u003c\\u002fb\\u003e\",\"x\":0.5},\"height\":800,\"showlegend\":false},                        {\"responsive\": true}                    ).then(function(){\n",
       "                            \n",
       "var gd = document.getElementById('8fd89e97-6eb4-4aad-9b0c-fb7b7ca182d8');\n",
       "var x = new MutationObserver(function (mutations, observer) {{\n",
       "        var display = window.getComputedStyle(gd).display;\n",
       "        if (!display || display === 'none') {{\n",
       "            console.log([gd, 'removed!']);\n",
       "            Plotly.purge(gd);\n",
       "            observer.disconnect();\n",
       "        }}\n",
       "}});\n",
       "\n",
       "// Listen for the removal of the full notebook cells\n",
       "var notebookContainer = gd.closest('#notebook-container');\n",
       "if (notebookContainer) {{\n",
       "    x.observe(notebookContainer, {childList: true});\n",
       "}}\n",
       "\n",
       "// Listen for the clearing of the current output cell\n",
       "var outputEl = gd.closest('.output');\n",
       "if (outputEl) {{\n",
       "    x.observe(outputEl, {childList: true});\n",
       "}}\n",
       "\n",
       "                        })                };                });            </script>        </div>"
      ]
     },
     "metadata": {},
     "output_type": "display_data"
    }
   ],
   "source": [
    "import pandas as pd\n",
    "import plotly.graph_objects as go\n",
    "from plotly.subplots import make_subplots\n",
    "\n",
    "# Read the CSV files\n",
    "heartRateDF = pd.read_csv('../data/descriptive_statistics/mean_heart_rate_three_days.csv')\n",
    "stepsDF = pd.read_csv('../data/descriptive_statistics/mean_steps_three_days.csv')\n",
    "spo2DF = pd.read_csv('../data/descriptive_statistics/mean_spo2_three_days.csv')\n",
    "\n",
    "# Merge the three dataframes on 'date' and 'hour'\n",
    "mergedDF = pd.merge(heartRateDF, stepsDF, on=['date', 'hour'])\n",
    "mergedDF = pd.merge(mergedDF, spo2DF, on=['date', 'hour'])\n",
    "\n",
    "# Convert 'heartRate', 'steps', and 'meanSpo2' to numeric\n",
    "mergedDF['heartRate'] = pd.to_numeric(mergedDF['meanHeartRate'], errors='coerce')\n",
    "mergedDF['steps'] = pd.to_numeric(mergedDF['meanSteps'], errors='coerce')\n",
    "mergedDF['SpO2'] = pd.to_numeric(mergedDF['meanSpo2'], errors='coerce')\n",
    "\n",
    "mergedDF = mergedDF.drop(['time', 'SD', 'meanHeartRate', 'startTime_x','endTime_x','totalTime_x','source_x','meanSteps','startTime_y', 'endTime_y', 'totalTime_y','source_y', 'unit', 'meanSpo2' ], axis=1)\n",
    "\n",
    "# Convert 'date' to datetime\n",
    "mergedDF['date'] = pd.to_datetime(mergedDF['date'])\n",
    "\n",
    "# Get the unique dates and convert them to strings\n",
    "dates = [date.strftime('%Y-%m-%d') for date in mergedDF['date'].unique()]\n",
    "\n",
    "# Create subplots\n",
    "fig = make_subplots(rows=2, cols=2, subplot_titles=dates, specs=[[{}, {}], [{\"colspan\": 1}, None]])\n",
    "\n",
    "# Create a plot for each date\n",
    "for i, date in enumerate(dates):\n",
    "    # Filter the data for the current date\n",
    "    df = mergedDF[mergedDF['date'] == pd.to_datetime(date)]\n",
    "\n",
    "    # Create a single trace with color set by 'meanSpo2'\n",
    "    fig.add_trace(go.Scatter(\n",
    "        x=df['heartRate'],\n",
    "        y=df['steps'],\n",
    "        customdata=df[['hour', 'SpO2']],\n",
    "        mode='markers',\n",
    "        marker=dict(\n",
    "            size=10,\n",
    "            color=df['SpO2'], # set color to 'meanSpo2'\n",
    "            colorscale='Viridis', # choose a colorscale\n",
    "            colorbar=dict(title=\"Mean SpO2\"), # add a colorbar\n",
    "            showscale=(i == 0) # show color scale only for the first subplot\n",
    "        ),\n",
    "        hovertemplate=\n",
    "            '<b>Hour</b>: %{customdata[0]}<br>' +\n",
    "            '<b>Steps</b>: %{y}<br>' +\n",
    "            '<b>Heart Rate</b>: %{x}<br>' +\n",
    "            '<b>SpO2</b>: %{customdata[1]}<extra></extra>',\n",
    "        name=str(date)\n",
    "    ), row=i//2+1, col=i%2+1)\n",
    "    fig.update_yaxes(title_text='Mean Steps')\n",
    "    fig.update_xaxes(title_text='Mean Heart Rate')\n",
    "\n",
    "# Add labels\n",
    "fig.update_layout(\n",
    "    title='<b>Correlation between Mean Heart Rate, Mean Steps and Mean SpO2 per Hour</b>',\n",
    "    xaxis_title='Mean Heart Rate',\n",
    "    yaxis_title='Mean Steps',\n",
    "    title_x=0.5,\n",
    "    height=800,\n",
    "    showlegend=False\n",
    ")\n",
    "\n",
    "fig.show()"
   ]
  },
  {
   "cell_type": "markdown",
   "metadata": {},
   "source": [
    "### Heart Rate, Steps, and SpO2 3 Days"
   ]
  },
  {
   "cell_type": "code",
   "execution_count": 14,
   "metadata": {},
   "outputs": [
    {
     "data": {
      "application/vnd.plotly.v1+json": {
       "config": {
        "plotlyServerURL": "https://plot.ly"
       },
       "data": [
        {
         "base": [
          68.7317,
          60,
          60,
          64,
          59,
          60,
          71,
          62,
          64,
          66,
          70,
          67,
          71,
          72
         ],
         "customdata": [
          71,
          74,
          76,
          77,
          72,
          92,
          87,
          105,
          83,
          77,
          86,
          99,
          98,
          84
         ],
         "hovertemplate": "<b>Hour</b>: %{x}<br><b>Min Heart Rate</b>: %{base}<br><b>Max Heart Rate</b>: %{customdata}<br><b>Range</b>: %{y}<extra></extra>",
         "marker": {
          "color": "red"
         },
         "name": "2023-01-03",
         "type": "bar",
         "x": [
          "07:00",
          "08:00",
          "09:00",
          "10:00",
          "11:00",
          "12:00",
          "13:00",
          "14:00",
          "15:00",
          "16:00",
          "17:00",
          "18:00",
          "19:00",
          "20:00"
         ],
         "xaxis": "x",
         "y": [
          2.2682999999999964,
          14,
          16,
          13,
          13,
          32,
          16,
          43,
          19,
          11,
          16,
          32,
          27,
          12
         ],
         "yaxis": "y"
        },
        {
         "base": [
          44,
          8,
          160,
          47,
          4,
          18,
          14,
          91,
          8,
          57,
          16,
          3,
          50,
          64
         ],
         "customdata": [
          44,
          105,
          160,
          47,
          4,
          98,
          120,
          174,
          123,
          111,
          187,
          124,
          90,
          64
         ],
         "hovertemplate": "<b>Hour</b>: %{x}<br><b>Min Steps</b>: %{base}<br><b>Max Steps</b>: %{customdata}<br><b>Range</b>: %{y}<extra></extra>",
         "marker": {
          "color": "red"
         },
         "name": "2023-01-03",
         "showlegend": false,
         "type": "bar",
         "x": [
          "06:00",
          "07:00",
          "08:00",
          "09:00",
          "10:00",
          "11:00",
          "12:00",
          "14:00",
          "15:00",
          "16:00",
          "17:00",
          "18:00",
          "19:00",
          "20:00"
         ],
         "xaxis": "x4",
         "y": [
          0,
          97,
          0,
          0,
          0,
          80,
          106,
          83,
          115,
          54,
          171,
          121,
          40,
          0
         ],
         "yaxis": "y4"
        },
        {
         "line": {
          "color": "red"
         },
         "mode": "lines+markers",
         "name": "2023-01-03",
         "showlegend": false,
         "type": "scatter",
         "x": [
          "07:00",
          "08:00",
          "10:00",
          "12:00",
          "15:00",
          "16:00",
          "16:00",
          "18:00"
         ],
         "xaxis": "x7",
         "y": [
          0.95,
          0.93,
          0.96,
          0.95,
          0.93,
          0.98,
          0.98,
          0.96
         ],
         "yaxis": "y7"
        },
        {
         "base": [
          62,
          60,
          56,
          64,
          63,
          60,
          64,
          62,
          91,
          72,
          73,
          68,
          78,
          80
         ],
         "customdata": [
          77,
          74,
          87,
          72,
          85,
          81,
          83,
          109,
          99,
          95,
          82,
          107,
          98,
          91
         ],
         "hovertemplate": "<b>Hour</b>: %{x}<br><b>Min Heart Rate</b>: %{base}<br><b>Max Heart Rate</b>: %{customdata}<br><b>Range</b>: %{y}<extra></extra>",
         "marker": {
          "color": "blue"
         },
         "name": "2023-01-04",
         "type": "bar",
         "x": [
          "07:00",
          "08:00",
          "09:00",
          "10:00",
          "11:00",
          "12:00",
          "13:00",
          "14:00",
          "15:00",
          "16:00",
          "17:00",
          "18:00",
          "19:00",
          "20:00"
         ],
         "xaxis": "x2",
         "y": [
          15,
          14,
          31,
          8,
          22,
          21,
          19,
          47,
          8,
          23,
          9,
          39,
          20,
          11
         ],
         "yaxis": "y2"
        },
        {
         "base": [
          13,
          4,
          64,
          16,
          46,
          94,
          114,
          10,
          11,
          6,
          10,
          25,
          26,
          8,
          60
         ],
         "customdata": [
          174,
          94,
          187,
          16,
          46,
          145,
          173,
          66,
          292,
          71,
          45,
          120,
          297,
          46,
          84
         ],
         "hovertemplate": "<b>Hour</b>: %{x}<br><b>Min Steps</b>: %{base}<br><b>Max Steps</b>: %{customdata}<br><b>Range</b>: %{y}<extra></extra>",
         "marker": {
          "color": "blue"
         },
         "name": "2023-01-04",
         "showlegend": false,
         "type": "bar",
         "x": [
          "06:00",
          "07:00",
          "08:00",
          "09:00",
          "10:00",
          "11:00",
          "12:00",
          "13:00",
          "14:00",
          "15:00",
          "16:00",
          "17:00",
          "18:00",
          "19:00",
          "20:00"
         ],
         "xaxis": "x5",
         "y": [
          161,
          90,
          123,
          0,
          0,
          51,
          59,
          56,
          281,
          65,
          35,
          95,
          271,
          38,
          24
         ],
         "yaxis": "y5"
        },
        {
         "line": {
          "color": "blue"
         },
         "mode": "lines+markers",
         "name": "2023-01-04",
         "showlegend": false,
         "type": "scatter",
         "x": [
          "07:00",
          "08:00",
          "09:00",
          "12:00",
          "15:00",
          "16:00",
          "16:00",
          "19:00",
          "20:00"
         ],
         "xaxis": "x8",
         "y": [
          0.86,
          0.95,
          0.95,
          0.97,
          0.96,
          0.985,
          0.985,
          0.97,
          0.95
         ],
         "yaxis": "y8"
        },
        {
         "base": [
          60,
          55,
          59,
          65,
          59,
          63,
          57,
          66,
          59,
          69,
          64,
          63,
          64,
          72,
          68
         ],
         "customdata": [
          128,
          71,
          90,
          80,
          74,
          73,
          86,
          75,
          118,
          84,
          87,
          90,
          92,
          102,
          100
         ],
         "hovertemplate": "<b>Hour</b>: %{x}<br><b>Min Heart Rate</b>: %{base}<br><b>Max Heart Rate</b>: %{customdata}<br><b>Range</b>: %{y}<extra></extra>",
         "marker": {
          "color": "green"
         },
         "name": "2023-01-05",
         "type": "bar",
         "x": [
          "06:00",
          "07:00",
          "08:00",
          "09:00",
          "10:00",
          "11:00",
          "12:00",
          "13:00",
          "14:00",
          "15:00",
          "16:00",
          "17:00",
          "18:00",
          "19:00",
          "20:00"
         ],
         "xaxis": "x3",
         "y": [
          68,
          16,
          31,
          15,
          15,
          10,
          29,
          9,
          59,
          15,
          23,
          27,
          28,
          30,
          32
         ],
         "yaxis": "y3"
        },
        {
         "base": [
          9,
          18,
          10,
          10,
          38,
          58,
          93,
          12,
          5,
          30,
          16,
          51
         ],
         "customdata": [
          151,
          140,
          10,
          180,
          130,
          595,
          298,
          113,
          232,
          89,
          41,
          62
         ],
         "hovertemplate": "<b>Hour</b>: %{x}<br><b>Min Steps</b>: %{base}<br><b>Max Steps</b>: %{customdata}<br><b>Range</b>: %{y}<extra></extra>",
         "marker": {
          "color": "green"
         },
         "name": "2023-01-05",
         "showlegend": false,
         "type": "bar",
         "x": [
          "06:00",
          "08:00",
          "10:00",
          "11:00",
          "12:00",
          "14:00",
          "15:00",
          "16:00",
          "17:00",
          "18:00",
          "19:00",
          "20:00"
         ],
         "xaxis": "x6",
         "y": [
          142,
          122,
          0,
          170,
          92,
          537,
          205,
          101,
          227,
          59,
          25,
          11
         ],
         "yaxis": "y6"
        },
        {
         "line": {
          "color": "green"
         },
         "mode": "lines+markers",
         "name": "2023-01-05",
         "showlegend": false,
         "type": "scatter",
         "x": [
          "06:00",
          "08:00",
          "08:00",
          "10:00",
          "12:00",
          "12:00",
          "13:00",
          "14:00",
          "17:00",
          "19:00",
          "20:00"
         ],
         "xaxis": "x9",
         "y": [
          0.95,
          0.96,
          0.96,
          0.95,
          0.945,
          0.945,
          0.96,
          0.95,
          0.95,
          0.94,
          0.95
         ],
         "yaxis": "y9"
        }
       ],
       "layout": {
        "annotations": [
         {
          "font": {
           "size": 16
          },
          "showarrow": false,
          "text": "Heart Rate 2023-01-03",
          "x": -0.9,
          "xanchor": "center",
          "xref": "paper",
          "y": -0.8,
          "yanchor": "bottom",
          "yref": "paper"
         },
         {
          "font": {
           "size": 16
          },
          "showarrow": false,
          "text": "Heart Rate 2023-01-04",
          "x": -0.9,
          "xanchor": "center",
          "xref": "paper",
          "y": -0.8,
          "yanchor": "bottom",
          "yref": "paper"
         },
         {
          "font": {
           "size": 16
          },
          "showarrow": false,
          "text": "Heart Rate 2023-01-05",
          "x": -0.9,
          "xanchor": "center",
          "xref": "paper",
          "y": -0.8,
          "yanchor": "bottom",
          "yref": "paper"
         },
         {
          "font": {
           "size": 16
          },
          "showarrow": false,
          "text": "Steps 2023-01-03",
          "x": -0.9,
          "xanchor": "center",
          "xref": "paper",
          "y": -0.8,
          "yanchor": "bottom",
          "yref": "paper"
         },
         {
          "font": {
           "size": 16
          },
          "showarrow": false,
          "text": "Steps 2023-01-04",
          "x": -0.9,
          "xanchor": "center",
          "xref": "paper",
          "y": -0.8,
          "yanchor": "bottom",
          "yref": "paper"
         },
         {
          "font": {
           "size": 16
          },
          "showarrow": false,
          "text": "Steps 2023-01-05",
          "x": -0.9,
          "xanchor": "center",
          "xref": "paper",
          "y": -0.8,
          "yanchor": "bottom",
          "yref": "paper"
         },
         {
          "font": {
           "size": 16
          },
          "showarrow": false,
          "text": "SpO2 2023-01-03",
          "x": -0.9,
          "xanchor": "center",
          "xref": "paper",
          "y": -0.8,
          "yanchor": "bottom",
          "yref": "paper"
         },
         {
          "font": {
           "size": 16
          },
          "showarrow": false,
          "text": "SpO2 2023-01-04",
          "x": -0.9,
          "xanchor": "center",
          "xref": "paper",
          "y": -0.8,
          "yanchor": "bottom",
          "yref": "paper"
         },
         {
          "font": {
           "size": 16
          },
          "showarrow": false,
          "text": "SpO2 2023-01-05",
          "x": -0.9,
          "xanchor": "center",
          "xref": "paper",
          "y": -0.8,
          "yanchor": "bottom",
          "yref": "paper"
         }
        ],
        "autosize": false,
        "font": {
         "size": 16
        },
        "height": 720,
        "template": {
         "data": {
          "bar": [
           {
            "error_x": {
             "color": "#2a3f5f"
            },
            "error_y": {
             "color": "#2a3f5f"
            },
            "marker": {
             "line": {
              "color": "#E5ECF6",
              "width": 0.5
             },
             "pattern": {
              "fillmode": "overlay",
              "size": 10,
              "solidity": 0.2
             }
            },
            "type": "bar"
           }
          ],
          "barpolar": [
           {
            "marker": {
             "line": {
              "color": "#E5ECF6",
              "width": 0.5
             },
             "pattern": {
              "fillmode": "overlay",
              "size": 10,
              "solidity": 0.2
             }
            },
            "type": "barpolar"
           }
          ],
          "carpet": [
           {
            "aaxis": {
             "endlinecolor": "#2a3f5f",
             "gridcolor": "white",
             "linecolor": "white",
             "minorgridcolor": "white",
             "startlinecolor": "#2a3f5f"
            },
            "baxis": {
             "endlinecolor": "#2a3f5f",
             "gridcolor": "white",
             "linecolor": "white",
             "minorgridcolor": "white",
             "startlinecolor": "#2a3f5f"
            },
            "type": "carpet"
           }
          ],
          "choropleth": [
           {
            "colorbar": {
             "outlinewidth": 0,
             "ticks": ""
            },
            "type": "choropleth"
           }
          ],
          "contour": [
           {
            "colorbar": {
             "outlinewidth": 0,
             "ticks": ""
            },
            "colorscale": [
             [
              0,
              "#0d0887"
             ],
             [
              0.1111111111111111,
              "#46039f"
             ],
             [
              0.2222222222222222,
              "#7201a8"
             ],
             [
              0.3333333333333333,
              "#9c179e"
             ],
             [
              0.4444444444444444,
              "#bd3786"
             ],
             [
              0.5555555555555556,
              "#d8576b"
             ],
             [
              0.6666666666666666,
              "#ed7953"
             ],
             [
              0.7777777777777778,
              "#fb9f3a"
             ],
             [
              0.8888888888888888,
              "#fdca26"
             ],
             [
              1,
              "#f0f921"
             ]
            ],
            "type": "contour"
           }
          ],
          "contourcarpet": [
           {
            "colorbar": {
             "outlinewidth": 0,
             "ticks": ""
            },
            "type": "contourcarpet"
           }
          ],
          "heatmap": [
           {
            "colorbar": {
             "outlinewidth": 0,
             "ticks": ""
            },
            "colorscale": [
             [
              0,
              "#0d0887"
             ],
             [
              0.1111111111111111,
              "#46039f"
             ],
             [
              0.2222222222222222,
              "#7201a8"
             ],
             [
              0.3333333333333333,
              "#9c179e"
             ],
             [
              0.4444444444444444,
              "#bd3786"
             ],
             [
              0.5555555555555556,
              "#d8576b"
             ],
             [
              0.6666666666666666,
              "#ed7953"
             ],
             [
              0.7777777777777778,
              "#fb9f3a"
             ],
             [
              0.8888888888888888,
              "#fdca26"
             ],
             [
              1,
              "#f0f921"
             ]
            ],
            "type": "heatmap"
           }
          ],
          "heatmapgl": [
           {
            "colorbar": {
             "outlinewidth": 0,
             "ticks": ""
            },
            "colorscale": [
             [
              0,
              "#0d0887"
             ],
             [
              0.1111111111111111,
              "#46039f"
             ],
             [
              0.2222222222222222,
              "#7201a8"
             ],
             [
              0.3333333333333333,
              "#9c179e"
             ],
             [
              0.4444444444444444,
              "#bd3786"
             ],
             [
              0.5555555555555556,
              "#d8576b"
             ],
             [
              0.6666666666666666,
              "#ed7953"
             ],
             [
              0.7777777777777778,
              "#fb9f3a"
             ],
             [
              0.8888888888888888,
              "#fdca26"
             ],
             [
              1,
              "#f0f921"
             ]
            ],
            "type": "heatmapgl"
           }
          ],
          "histogram": [
           {
            "marker": {
             "pattern": {
              "fillmode": "overlay",
              "size": 10,
              "solidity": 0.2
             }
            },
            "type": "histogram"
           }
          ],
          "histogram2d": [
           {
            "colorbar": {
             "outlinewidth": 0,
             "ticks": ""
            },
            "colorscale": [
             [
              0,
              "#0d0887"
             ],
             [
              0.1111111111111111,
              "#46039f"
             ],
             [
              0.2222222222222222,
              "#7201a8"
             ],
             [
              0.3333333333333333,
              "#9c179e"
             ],
             [
              0.4444444444444444,
              "#bd3786"
             ],
             [
              0.5555555555555556,
              "#d8576b"
             ],
             [
              0.6666666666666666,
              "#ed7953"
             ],
             [
              0.7777777777777778,
              "#fb9f3a"
             ],
             [
              0.8888888888888888,
              "#fdca26"
             ],
             [
              1,
              "#f0f921"
             ]
            ],
            "type": "histogram2d"
           }
          ],
          "histogram2dcontour": [
           {
            "colorbar": {
             "outlinewidth": 0,
             "ticks": ""
            },
            "colorscale": [
             [
              0,
              "#0d0887"
             ],
             [
              0.1111111111111111,
              "#46039f"
             ],
             [
              0.2222222222222222,
              "#7201a8"
             ],
             [
              0.3333333333333333,
              "#9c179e"
             ],
             [
              0.4444444444444444,
              "#bd3786"
             ],
             [
              0.5555555555555556,
              "#d8576b"
             ],
             [
              0.6666666666666666,
              "#ed7953"
             ],
             [
              0.7777777777777778,
              "#fb9f3a"
             ],
             [
              0.8888888888888888,
              "#fdca26"
             ],
             [
              1,
              "#f0f921"
             ]
            ],
            "type": "histogram2dcontour"
           }
          ],
          "mesh3d": [
           {
            "colorbar": {
             "outlinewidth": 0,
             "ticks": ""
            },
            "type": "mesh3d"
           }
          ],
          "parcoords": [
           {
            "line": {
             "colorbar": {
              "outlinewidth": 0,
              "ticks": ""
             }
            },
            "type": "parcoords"
           }
          ],
          "pie": [
           {
            "automargin": true,
            "type": "pie"
           }
          ],
          "scatter": [
           {
            "fillpattern": {
             "fillmode": "overlay",
             "size": 10,
             "solidity": 0.2
            },
            "type": "scatter"
           }
          ],
          "scatter3d": [
           {
            "line": {
             "colorbar": {
              "outlinewidth": 0,
              "ticks": ""
             }
            },
            "marker": {
             "colorbar": {
              "outlinewidth": 0,
              "ticks": ""
             }
            },
            "type": "scatter3d"
           }
          ],
          "scattercarpet": [
           {
            "marker": {
             "colorbar": {
              "outlinewidth": 0,
              "ticks": ""
             }
            },
            "type": "scattercarpet"
           }
          ],
          "scattergeo": [
           {
            "marker": {
             "colorbar": {
              "outlinewidth": 0,
              "ticks": ""
             }
            },
            "type": "scattergeo"
           }
          ],
          "scattergl": [
           {
            "marker": {
             "colorbar": {
              "outlinewidth": 0,
              "ticks": ""
             }
            },
            "type": "scattergl"
           }
          ],
          "scattermapbox": [
           {
            "marker": {
             "colorbar": {
              "outlinewidth": 0,
              "ticks": ""
             }
            },
            "type": "scattermapbox"
           }
          ],
          "scatterpolar": [
           {
            "marker": {
             "colorbar": {
              "outlinewidth": 0,
              "ticks": ""
             }
            },
            "type": "scatterpolar"
           }
          ],
          "scatterpolargl": [
           {
            "marker": {
             "colorbar": {
              "outlinewidth": 0,
              "ticks": ""
             }
            },
            "type": "scatterpolargl"
           }
          ],
          "scatterternary": [
           {
            "marker": {
             "colorbar": {
              "outlinewidth": 0,
              "ticks": ""
             }
            },
            "type": "scatterternary"
           }
          ],
          "surface": [
           {
            "colorbar": {
             "outlinewidth": 0,
             "ticks": ""
            },
            "colorscale": [
             [
              0,
              "#0d0887"
             ],
             [
              0.1111111111111111,
              "#46039f"
             ],
             [
              0.2222222222222222,
              "#7201a8"
             ],
             [
              0.3333333333333333,
              "#9c179e"
             ],
             [
              0.4444444444444444,
              "#bd3786"
             ],
             [
              0.5555555555555556,
              "#d8576b"
             ],
             [
              0.6666666666666666,
              "#ed7953"
             ],
             [
              0.7777777777777778,
              "#fb9f3a"
             ],
             [
              0.8888888888888888,
              "#fdca26"
             ],
             [
              1,
              "#f0f921"
             ]
            ],
            "type": "surface"
           }
          ],
          "table": [
           {
            "cells": {
             "fill": {
              "color": "#EBF0F8"
             },
             "line": {
              "color": "white"
             }
            },
            "header": {
             "fill": {
              "color": "#C8D4E3"
             },
             "line": {
              "color": "white"
             }
            },
            "type": "table"
           }
          ]
         },
         "layout": {
          "annotationdefaults": {
           "arrowcolor": "#2a3f5f",
           "arrowhead": 0,
           "arrowwidth": 1
          },
          "autotypenumbers": "strict",
          "coloraxis": {
           "colorbar": {
            "outlinewidth": 0,
            "ticks": ""
           }
          },
          "colorscale": {
           "diverging": [
            [
             0,
             "#8e0152"
            ],
            [
             0.1,
             "#c51b7d"
            ],
            [
             0.2,
             "#de77ae"
            ],
            [
             0.3,
             "#f1b6da"
            ],
            [
             0.4,
             "#fde0ef"
            ],
            [
             0.5,
             "#f7f7f7"
            ],
            [
             0.6,
             "#e6f5d0"
            ],
            [
             0.7,
             "#b8e186"
            ],
            [
             0.8,
             "#7fbc41"
            ],
            [
             0.9,
             "#4d9221"
            ],
            [
             1,
             "#276419"
            ]
           ],
           "sequential": [
            [
             0,
             "#0d0887"
            ],
            [
             0.1111111111111111,
             "#46039f"
            ],
            [
             0.2222222222222222,
             "#7201a8"
            ],
            [
             0.3333333333333333,
             "#9c179e"
            ],
            [
             0.4444444444444444,
             "#bd3786"
            ],
            [
             0.5555555555555556,
             "#d8576b"
            ],
            [
             0.6666666666666666,
             "#ed7953"
            ],
            [
             0.7777777777777778,
             "#fb9f3a"
            ],
            [
             0.8888888888888888,
             "#fdca26"
            ],
            [
             1,
             "#f0f921"
            ]
           ],
           "sequentialminus": [
            [
             0,
             "#0d0887"
            ],
            [
             0.1111111111111111,
             "#46039f"
            ],
            [
             0.2222222222222222,
             "#7201a8"
            ],
            [
             0.3333333333333333,
             "#9c179e"
            ],
            [
             0.4444444444444444,
             "#bd3786"
            ],
            [
             0.5555555555555556,
             "#d8576b"
            ],
            [
             0.6666666666666666,
             "#ed7953"
            ],
            [
             0.7777777777777778,
             "#fb9f3a"
            ],
            [
             0.8888888888888888,
             "#fdca26"
            ],
            [
             1,
             "#f0f921"
            ]
           ]
          },
          "colorway": [
           "#636efa",
           "#EF553B",
           "#00cc96",
           "#ab63fa",
           "#FFA15A",
           "#19d3f3",
           "#FF6692",
           "#B6E880",
           "#FF97FF",
           "#FECB52"
          ],
          "font": {
           "color": "#2a3f5f"
          },
          "geo": {
           "bgcolor": "white",
           "lakecolor": "white",
           "landcolor": "#E5ECF6",
           "showlakes": true,
           "showland": true,
           "subunitcolor": "white"
          },
          "hoverlabel": {
           "align": "left"
          },
          "hovermode": "closest",
          "mapbox": {
           "style": "light"
          },
          "paper_bgcolor": "white",
          "plot_bgcolor": "#E5ECF6",
          "polar": {
           "angularaxis": {
            "gridcolor": "white",
            "linecolor": "white",
            "ticks": ""
           },
           "bgcolor": "#E5ECF6",
           "radialaxis": {
            "gridcolor": "white",
            "linecolor": "white",
            "ticks": ""
           }
          },
          "scene": {
           "xaxis": {
            "backgroundcolor": "#E5ECF6",
            "gridcolor": "white",
            "gridwidth": 2,
            "linecolor": "white",
            "showbackground": true,
            "ticks": "",
            "zerolinecolor": "white"
           },
           "yaxis": {
            "backgroundcolor": "#E5ECF6",
            "gridcolor": "white",
            "gridwidth": 2,
            "linecolor": "white",
            "showbackground": true,
            "ticks": "",
            "zerolinecolor": "white"
           },
           "zaxis": {
            "backgroundcolor": "#E5ECF6",
            "gridcolor": "white",
            "gridwidth": 2,
            "linecolor": "white",
            "showbackground": true,
            "ticks": "",
            "zerolinecolor": "white"
           }
          },
          "shapedefaults": {
           "line": {
            "color": "#2a3f5f"
           }
          },
          "ternary": {
           "aaxis": {
            "gridcolor": "white",
            "linecolor": "white",
            "ticks": ""
           },
           "baxis": {
            "gridcolor": "white",
            "linecolor": "white",
            "ticks": ""
           },
           "bgcolor": "#E5ECF6",
           "caxis": {
            "gridcolor": "white",
            "linecolor": "white",
            "ticks": ""
           }
          },
          "title": {
           "x": 0.05
          },
          "xaxis": {
           "automargin": true,
           "gridcolor": "white",
           "linecolor": "white",
           "ticks": "",
           "title": {
            "standoff": 15
           },
           "zerolinecolor": "white",
           "zerolinewidth": 2
          },
          "yaxis": {
           "automargin": true,
           "gridcolor": "white",
           "linecolor": "white",
           "ticks": "",
           "title": {
            "standoff": 15
           },
           "zerolinecolor": "white",
           "zerolinewidth": 2
          }
         }
        },
        "title": {
         "text": "<b>Heart Rate, Steps Range, and SpO2 per Hour | Three Days</b>",
         "x": 0.5
        },
        "width": 1280,
        "xaxis": {
         "anchor": "y",
         "domain": [
          0,
          0.2888888888888889
         ],
         "nticks": 7,
         "tickangle": -45
        },
        "xaxis2": {
         "anchor": "y2",
         "domain": [
          0.35555555555555557,
          0.6444444444444445
         ],
         "nticks": 7,
         "tickangle": -45
        },
        "xaxis3": {
         "anchor": "y3",
         "domain": [
          0.7111111111111111,
          1
         ],
         "nticks": 7,
         "tickangle": -45
        },
        "xaxis4": {
         "anchor": "y4",
         "domain": [
          0,
          0.2888888888888889
         ],
         "nticks": 7,
         "tickangle": -45
        },
        "xaxis5": {
         "anchor": "y5",
         "domain": [
          0.35555555555555557,
          0.6444444444444445
         ],
         "nticks": 7,
         "tickangle": -45
        },
        "xaxis6": {
         "anchor": "y6",
         "domain": [
          0.7111111111111111,
          1
         ],
         "nticks": 6,
         "tickangle": -45
        },
        "xaxis7": {
         "anchor": "y7",
         "domain": [
          0,
          0.2888888888888889
         ],
         "tickangle": -45
        },
        "xaxis8": {
         "anchor": "y8",
         "domain": [
          0.35555555555555557,
          0.6444444444444445
         ],
         "tickangle": -45,
         "title": {
          "text": "Time"
         }
        },
        "xaxis9": {
         "anchor": "y9",
         "domain": [
          0.7111111111111111,
          1
         ],
         "tickangle": -45
        },
        "yaxis": {
         "anchor": "x",
         "domain": [
          0.7777777777777778,
          1
         ],
         "range": [
          55,
          128
         ],
         "tickvals": [
          55,
          73.2,
          91.5,
          109.8,
          128
         ],
         "title": {
          "text": "Mean Heart Rate"
         }
        },
        "yaxis2": {
         "anchor": "x2",
         "domain": [
          0.7777777777777778,
          1
         ],
         "range": [
          55,
          128
         ],
         "tickvals": [
          55,
          73.2,
          91.5,
          109.8,
          128
         ]
        },
        "yaxis3": {
         "anchor": "x3",
         "domain": [
          0.7777777777777778,
          1
         ],
         "range": [
          55,
          128
         ],
         "tickvals": [
          55,
          73.2,
          91.5,
          109.8,
          128
         ]
        },
        "yaxis4": {
         "anchor": "x4",
         "domain": [
          0.3888888888888889,
          0.6111111111111112
         ],
         "range": [
          3,
          595
         ],
         "tickvals": [
          3,
          151,
          299,
          447,
          595
         ],
         "title": {
          "text": "Mean Steps"
         }
        },
        "yaxis5": {
         "anchor": "x5",
         "domain": [
          0.3888888888888889,
          0.6111111111111112
         ],
         "range": [
          3,
          595
         ],
         "tickvals": [
          3,
          151,
          299,
          447,
          595
         ]
        },
        "yaxis6": {
         "anchor": "x6",
         "domain": [
          0.3888888888888889,
          0.6111111111111112
         ],
         "range": [
          3,
          595
         ],
         "tickvals": [
          3,
          151,
          299,
          447,
          595
         ]
        },
        "yaxis7": {
         "anchor": "x7",
         "domain": [
          0,
          0.22222222222222224
         ],
         "range": [
          0.86,
          0.985
         ],
         "tickvals": [
          0.86,
          0.89,
          0.92,
          0.95,
          0.98
         ],
         "title": {
          "text": "Mean SpO2"
         }
        },
        "yaxis8": {
         "anchor": "x8",
         "domain": [
          0,
          0.22222222222222224
         ],
         "range": [
          0.86,
          0.985
         ],
         "tickvals": [
          0.86,
          0.89,
          0.92,
          0.95,
          0.98
         ]
        },
        "yaxis9": {
         "anchor": "x9",
         "domain": [
          0,
          0.22222222222222224
         ],
         "range": [
          0.86,
          0.985
         ],
         "tickvals": [
          0.86,
          0.89,
          0.92,
          0.95,
          0.98
         ]
        }
       }
      },
      "text/html": [
       "<div>                            <div id=\"25863d8e-7ac4-473d-be7e-bd809b9490ab\" class=\"plotly-graph-div\" style=\"height:720px; width:1280px;\"></div>            <script type=\"text/javascript\">                require([\"plotly\"], function(Plotly) {                    window.PLOTLYENV=window.PLOTLYENV || {};                                    if (document.getElementById(\"25863d8e-7ac4-473d-be7e-bd809b9490ab\")) {                    Plotly.newPlot(                        \"25863d8e-7ac4-473d-be7e-bd809b9490ab\",                        [{\"base\":[68.7317,60.0,60.0,64.0,59.0,60.0,71.0,62.0,64.0,66.0,70.0,67.0,71.0,72.0],\"customdata\":[71.0,74.0,76.0,77.0,72.0,92.0,87.0,105.0,83.0,77.0,86.0,99.0,98.0,84.0],\"hovertemplate\":\"\\u003cb\\u003eHour\\u003c\\u002fb\\u003e: %{x}\\u003cbr\\u003e\\u003cb\\u003eMin Heart Rate\\u003c\\u002fb\\u003e: %{base}\\u003cbr\\u003e\\u003cb\\u003eMax Heart Rate\\u003c\\u002fb\\u003e: %{customdata}\\u003cbr\\u003e\\u003cb\\u003eRange\\u003c\\u002fb\\u003e: %{y}\\u003cextra\\u003e\\u003c\\u002fextra\\u003e\",\"marker\":{\"color\":\"red\"},\"name\":\"2023-01-03\",\"x\":[\"07:00\",\"08:00\",\"09:00\",\"10:00\",\"11:00\",\"12:00\",\"13:00\",\"14:00\",\"15:00\",\"16:00\",\"17:00\",\"18:00\",\"19:00\",\"20:00\"],\"y\":[2.2682999999999964,14.0,16.0,13.0,13.0,32.0,16.0,43.0,19.0,11.0,16.0,32.0,27.0,12.0],\"type\":\"bar\",\"xaxis\":\"x\",\"yaxis\":\"y\"},{\"base\":[44,8,160,47,4,18,14,91,8,57,16,3,50,64],\"customdata\":[44,105,160,47,4,98,120,174,123,111,187,124,90,64],\"hovertemplate\":\"\\u003cb\\u003eHour\\u003c\\u002fb\\u003e: %{x}\\u003cbr\\u003e\\u003cb\\u003eMin Steps\\u003c\\u002fb\\u003e: %{base}\\u003cbr\\u003e\\u003cb\\u003eMax Steps\\u003c\\u002fb\\u003e: %{customdata}\\u003cbr\\u003e\\u003cb\\u003eRange\\u003c\\u002fb\\u003e: %{y}\\u003cextra\\u003e\\u003c\\u002fextra\\u003e\",\"marker\":{\"color\":\"red\"},\"name\":\"2023-01-03\",\"showlegend\":false,\"x\":[\"06:00\",\"07:00\",\"08:00\",\"09:00\",\"10:00\",\"11:00\",\"12:00\",\"14:00\",\"15:00\",\"16:00\",\"17:00\",\"18:00\",\"19:00\",\"20:00\"],\"y\":[0,97,0,0,0,80,106,83,115,54,171,121,40,0],\"type\":\"bar\",\"xaxis\":\"x4\",\"yaxis\":\"y4\"},{\"line\":{\"color\":\"red\"},\"mode\":\"lines+markers\",\"name\":\"2023-01-03\",\"showlegend\":false,\"x\":[\"07:00\",\"08:00\",\"10:00\",\"12:00\",\"15:00\",\"16:00\",\"16:00\",\"18:00\"],\"y\":[0.95,0.93,0.96,0.95,0.93,0.98,0.98,0.96],\"type\":\"scatter\",\"xaxis\":\"x7\",\"yaxis\":\"y7\"},{\"base\":[62.0,60.0,56.0,64.0,63.0,60.0,64.0,62.0,91.0,72.0,73.0,68.0,78.0,80.0],\"customdata\":[77.0,74.0,87.0,72.0,85.0,81.0,83.0,109.0,99.0,95.0,82.0,107.0,98.0,91.0],\"hovertemplate\":\"\\u003cb\\u003eHour\\u003c\\u002fb\\u003e: %{x}\\u003cbr\\u003e\\u003cb\\u003eMin Heart Rate\\u003c\\u002fb\\u003e: %{base}\\u003cbr\\u003e\\u003cb\\u003eMax Heart Rate\\u003c\\u002fb\\u003e: %{customdata}\\u003cbr\\u003e\\u003cb\\u003eRange\\u003c\\u002fb\\u003e: %{y}\\u003cextra\\u003e\\u003c\\u002fextra\\u003e\",\"marker\":{\"color\":\"blue\"},\"name\":\"2023-01-04\",\"x\":[\"07:00\",\"08:00\",\"09:00\",\"10:00\",\"11:00\",\"12:00\",\"13:00\",\"14:00\",\"15:00\",\"16:00\",\"17:00\",\"18:00\",\"19:00\",\"20:00\"],\"y\":[15.0,14.0,31.0,8.0,22.0,21.0,19.0,47.0,8.0,23.0,9.0,39.0,20.0,11.0],\"type\":\"bar\",\"xaxis\":\"x2\",\"yaxis\":\"y2\"},{\"base\":[13,4,64,16,46,94,114,10,11,6,10,25,26,8,60],\"customdata\":[174,94,187,16,46,145,173,66,292,71,45,120,297,46,84],\"hovertemplate\":\"\\u003cb\\u003eHour\\u003c\\u002fb\\u003e: %{x}\\u003cbr\\u003e\\u003cb\\u003eMin Steps\\u003c\\u002fb\\u003e: %{base}\\u003cbr\\u003e\\u003cb\\u003eMax Steps\\u003c\\u002fb\\u003e: %{customdata}\\u003cbr\\u003e\\u003cb\\u003eRange\\u003c\\u002fb\\u003e: %{y}\\u003cextra\\u003e\\u003c\\u002fextra\\u003e\",\"marker\":{\"color\":\"blue\"},\"name\":\"2023-01-04\",\"showlegend\":false,\"x\":[\"06:00\",\"07:00\",\"08:00\",\"09:00\",\"10:00\",\"11:00\",\"12:00\",\"13:00\",\"14:00\",\"15:00\",\"16:00\",\"17:00\",\"18:00\",\"19:00\",\"20:00\"],\"y\":[161,90,123,0,0,51,59,56,281,65,35,95,271,38,24],\"type\":\"bar\",\"xaxis\":\"x5\",\"yaxis\":\"y5\"},{\"line\":{\"color\":\"blue\"},\"mode\":\"lines+markers\",\"name\":\"2023-01-04\",\"showlegend\":false,\"x\":[\"07:00\",\"08:00\",\"09:00\",\"12:00\",\"15:00\",\"16:00\",\"16:00\",\"19:00\",\"20:00\"],\"y\":[0.86,0.95,0.95,0.97,0.96,0.985,0.985,0.97,0.95],\"type\":\"scatter\",\"xaxis\":\"x8\",\"yaxis\":\"y8\"},{\"base\":[60.0,55.0,59.0,65.0,59.0,63.0,57.0,66.0,59.0,69.0,64.0,63.0,64.0,72.0,68.0],\"customdata\":[128.0,71.0,90.0,80.0,74.0,73.0,86.0,75.0,118.0,84.0,87.0,90.0,92.0,102.0,100.0],\"hovertemplate\":\"\\u003cb\\u003eHour\\u003c\\u002fb\\u003e: %{x}\\u003cbr\\u003e\\u003cb\\u003eMin Heart Rate\\u003c\\u002fb\\u003e: %{base}\\u003cbr\\u003e\\u003cb\\u003eMax Heart Rate\\u003c\\u002fb\\u003e: %{customdata}\\u003cbr\\u003e\\u003cb\\u003eRange\\u003c\\u002fb\\u003e: %{y}\\u003cextra\\u003e\\u003c\\u002fextra\\u003e\",\"marker\":{\"color\":\"green\"},\"name\":\"2023-01-05\",\"x\":[\"06:00\",\"07:00\",\"08:00\",\"09:00\",\"10:00\",\"11:00\",\"12:00\",\"13:00\",\"14:00\",\"15:00\",\"16:00\",\"17:00\",\"18:00\",\"19:00\",\"20:00\"],\"y\":[68.0,16.0,31.0,15.0,15.0,10.0,29.0,9.0,59.0,15.0,23.0,27.0,28.0,30.0,32.0],\"type\":\"bar\",\"xaxis\":\"x3\",\"yaxis\":\"y3\"},{\"base\":[9,18,10,10,38,58,93,12,5,30,16,51],\"customdata\":[151,140,10,180,130,595,298,113,232,89,41,62],\"hovertemplate\":\"\\u003cb\\u003eHour\\u003c\\u002fb\\u003e: %{x}\\u003cbr\\u003e\\u003cb\\u003eMin Steps\\u003c\\u002fb\\u003e: %{base}\\u003cbr\\u003e\\u003cb\\u003eMax Steps\\u003c\\u002fb\\u003e: %{customdata}\\u003cbr\\u003e\\u003cb\\u003eRange\\u003c\\u002fb\\u003e: %{y}\\u003cextra\\u003e\\u003c\\u002fextra\\u003e\",\"marker\":{\"color\":\"green\"},\"name\":\"2023-01-05\",\"showlegend\":false,\"x\":[\"06:00\",\"08:00\",\"10:00\",\"11:00\",\"12:00\",\"14:00\",\"15:00\",\"16:00\",\"17:00\",\"18:00\",\"19:00\",\"20:00\"],\"y\":[142,122,0,170,92,537,205,101,227,59,25,11],\"type\":\"bar\",\"xaxis\":\"x6\",\"yaxis\":\"y6\"},{\"line\":{\"color\":\"green\"},\"mode\":\"lines+markers\",\"name\":\"2023-01-05\",\"showlegend\":false,\"x\":[\"06:00\",\"08:00\",\"08:00\",\"10:00\",\"12:00\",\"12:00\",\"13:00\",\"14:00\",\"17:00\",\"19:00\",\"20:00\"],\"y\":[0.95,0.96,0.96,0.95,0.945,0.945,0.96,0.95,0.95,0.94,0.95],\"type\":\"scatter\",\"xaxis\":\"x9\",\"yaxis\":\"y9\"}],                        {\"template\":{\"data\":{\"histogram2dcontour\":[{\"type\":\"histogram2dcontour\",\"colorbar\":{\"outlinewidth\":0,\"ticks\":\"\"},\"colorscale\":[[0.0,\"#0d0887\"],[0.1111111111111111,\"#46039f\"],[0.2222222222222222,\"#7201a8\"],[0.3333333333333333,\"#9c179e\"],[0.4444444444444444,\"#bd3786\"],[0.5555555555555556,\"#d8576b\"],[0.6666666666666666,\"#ed7953\"],[0.7777777777777778,\"#fb9f3a\"],[0.8888888888888888,\"#fdca26\"],[1.0,\"#f0f921\"]]}],\"choropleth\":[{\"type\":\"choropleth\",\"colorbar\":{\"outlinewidth\":0,\"ticks\":\"\"}}],\"histogram2d\":[{\"type\":\"histogram2d\",\"colorbar\":{\"outlinewidth\":0,\"ticks\":\"\"},\"colorscale\":[[0.0,\"#0d0887\"],[0.1111111111111111,\"#46039f\"],[0.2222222222222222,\"#7201a8\"],[0.3333333333333333,\"#9c179e\"],[0.4444444444444444,\"#bd3786\"],[0.5555555555555556,\"#d8576b\"],[0.6666666666666666,\"#ed7953\"],[0.7777777777777778,\"#fb9f3a\"],[0.8888888888888888,\"#fdca26\"],[1.0,\"#f0f921\"]]}],\"heatmap\":[{\"type\":\"heatmap\",\"colorbar\":{\"outlinewidth\":0,\"ticks\":\"\"},\"colorscale\":[[0.0,\"#0d0887\"],[0.1111111111111111,\"#46039f\"],[0.2222222222222222,\"#7201a8\"],[0.3333333333333333,\"#9c179e\"],[0.4444444444444444,\"#bd3786\"],[0.5555555555555556,\"#d8576b\"],[0.6666666666666666,\"#ed7953\"],[0.7777777777777778,\"#fb9f3a\"],[0.8888888888888888,\"#fdca26\"],[1.0,\"#f0f921\"]]}],\"heatmapgl\":[{\"type\":\"heatmapgl\",\"colorbar\":{\"outlinewidth\":0,\"ticks\":\"\"},\"colorscale\":[[0.0,\"#0d0887\"],[0.1111111111111111,\"#46039f\"],[0.2222222222222222,\"#7201a8\"],[0.3333333333333333,\"#9c179e\"],[0.4444444444444444,\"#bd3786\"],[0.5555555555555556,\"#d8576b\"],[0.6666666666666666,\"#ed7953\"],[0.7777777777777778,\"#fb9f3a\"],[0.8888888888888888,\"#fdca26\"],[1.0,\"#f0f921\"]]}],\"contourcarpet\":[{\"type\":\"contourcarpet\",\"colorbar\":{\"outlinewidth\":0,\"ticks\":\"\"}}],\"contour\":[{\"type\":\"contour\",\"colorbar\":{\"outlinewidth\":0,\"ticks\":\"\"},\"colorscale\":[[0.0,\"#0d0887\"],[0.1111111111111111,\"#46039f\"],[0.2222222222222222,\"#7201a8\"],[0.3333333333333333,\"#9c179e\"],[0.4444444444444444,\"#bd3786\"],[0.5555555555555556,\"#d8576b\"],[0.6666666666666666,\"#ed7953\"],[0.7777777777777778,\"#fb9f3a\"],[0.8888888888888888,\"#fdca26\"],[1.0,\"#f0f921\"]]}],\"surface\":[{\"type\":\"surface\",\"colorbar\":{\"outlinewidth\":0,\"ticks\":\"\"},\"colorscale\":[[0.0,\"#0d0887\"],[0.1111111111111111,\"#46039f\"],[0.2222222222222222,\"#7201a8\"],[0.3333333333333333,\"#9c179e\"],[0.4444444444444444,\"#bd3786\"],[0.5555555555555556,\"#d8576b\"],[0.6666666666666666,\"#ed7953\"],[0.7777777777777778,\"#fb9f3a\"],[0.8888888888888888,\"#fdca26\"],[1.0,\"#f0f921\"]]}],\"mesh3d\":[{\"type\":\"mesh3d\",\"colorbar\":{\"outlinewidth\":0,\"ticks\":\"\"}}],\"scatter\":[{\"fillpattern\":{\"fillmode\":\"overlay\",\"size\":10,\"solidity\":0.2},\"type\":\"scatter\"}],\"parcoords\":[{\"type\":\"parcoords\",\"line\":{\"colorbar\":{\"outlinewidth\":0,\"ticks\":\"\"}}}],\"scatterpolargl\":[{\"type\":\"scatterpolargl\",\"marker\":{\"colorbar\":{\"outlinewidth\":0,\"ticks\":\"\"}}}],\"bar\":[{\"error_x\":{\"color\":\"#2a3f5f\"},\"error_y\":{\"color\":\"#2a3f5f\"},\"marker\":{\"line\":{\"color\":\"#E5ECF6\",\"width\":0.5},\"pattern\":{\"fillmode\":\"overlay\",\"size\":10,\"solidity\":0.2}},\"type\":\"bar\"}],\"scattergeo\":[{\"type\":\"scattergeo\",\"marker\":{\"colorbar\":{\"outlinewidth\":0,\"ticks\":\"\"}}}],\"scatterpolar\":[{\"type\":\"scatterpolar\",\"marker\":{\"colorbar\":{\"outlinewidth\":0,\"ticks\":\"\"}}}],\"histogram\":[{\"marker\":{\"pattern\":{\"fillmode\":\"overlay\",\"size\":10,\"solidity\":0.2}},\"type\":\"histogram\"}],\"scattergl\":[{\"type\":\"scattergl\",\"marker\":{\"colorbar\":{\"outlinewidth\":0,\"ticks\":\"\"}}}],\"scatter3d\":[{\"type\":\"scatter3d\",\"line\":{\"colorbar\":{\"outlinewidth\":0,\"ticks\":\"\"}},\"marker\":{\"colorbar\":{\"outlinewidth\":0,\"ticks\":\"\"}}}],\"scattermapbox\":[{\"type\":\"scattermapbox\",\"marker\":{\"colorbar\":{\"outlinewidth\":0,\"ticks\":\"\"}}}],\"scatterternary\":[{\"type\":\"scatterternary\",\"marker\":{\"colorbar\":{\"outlinewidth\":0,\"ticks\":\"\"}}}],\"scattercarpet\":[{\"type\":\"scattercarpet\",\"marker\":{\"colorbar\":{\"outlinewidth\":0,\"ticks\":\"\"}}}],\"carpet\":[{\"aaxis\":{\"endlinecolor\":\"#2a3f5f\",\"gridcolor\":\"white\",\"linecolor\":\"white\",\"minorgridcolor\":\"white\",\"startlinecolor\":\"#2a3f5f\"},\"baxis\":{\"endlinecolor\":\"#2a3f5f\",\"gridcolor\":\"white\",\"linecolor\":\"white\",\"minorgridcolor\":\"white\",\"startlinecolor\":\"#2a3f5f\"},\"type\":\"carpet\"}],\"table\":[{\"cells\":{\"fill\":{\"color\":\"#EBF0F8\"},\"line\":{\"color\":\"white\"}},\"header\":{\"fill\":{\"color\":\"#C8D4E3\"},\"line\":{\"color\":\"white\"}},\"type\":\"table\"}],\"barpolar\":[{\"marker\":{\"line\":{\"color\":\"#E5ECF6\",\"width\":0.5},\"pattern\":{\"fillmode\":\"overlay\",\"size\":10,\"solidity\":0.2}},\"type\":\"barpolar\"}],\"pie\":[{\"automargin\":true,\"type\":\"pie\"}]},\"layout\":{\"autotypenumbers\":\"strict\",\"colorway\":[\"#636efa\",\"#EF553B\",\"#00cc96\",\"#ab63fa\",\"#FFA15A\",\"#19d3f3\",\"#FF6692\",\"#B6E880\",\"#FF97FF\",\"#FECB52\"],\"font\":{\"color\":\"#2a3f5f\"},\"hovermode\":\"closest\",\"hoverlabel\":{\"align\":\"left\"},\"paper_bgcolor\":\"white\",\"plot_bgcolor\":\"#E5ECF6\",\"polar\":{\"bgcolor\":\"#E5ECF6\",\"angularaxis\":{\"gridcolor\":\"white\",\"linecolor\":\"white\",\"ticks\":\"\"},\"radialaxis\":{\"gridcolor\":\"white\",\"linecolor\":\"white\",\"ticks\":\"\"}},\"ternary\":{\"bgcolor\":\"#E5ECF6\",\"aaxis\":{\"gridcolor\":\"white\",\"linecolor\":\"white\",\"ticks\":\"\"},\"baxis\":{\"gridcolor\":\"white\",\"linecolor\":\"white\",\"ticks\":\"\"},\"caxis\":{\"gridcolor\":\"white\",\"linecolor\":\"white\",\"ticks\":\"\"}},\"coloraxis\":{\"colorbar\":{\"outlinewidth\":0,\"ticks\":\"\"}},\"colorscale\":{\"sequential\":[[0.0,\"#0d0887\"],[0.1111111111111111,\"#46039f\"],[0.2222222222222222,\"#7201a8\"],[0.3333333333333333,\"#9c179e\"],[0.4444444444444444,\"#bd3786\"],[0.5555555555555556,\"#d8576b\"],[0.6666666666666666,\"#ed7953\"],[0.7777777777777778,\"#fb9f3a\"],[0.8888888888888888,\"#fdca26\"],[1.0,\"#f0f921\"]],\"sequentialminus\":[[0.0,\"#0d0887\"],[0.1111111111111111,\"#46039f\"],[0.2222222222222222,\"#7201a8\"],[0.3333333333333333,\"#9c179e\"],[0.4444444444444444,\"#bd3786\"],[0.5555555555555556,\"#d8576b\"],[0.6666666666666666,\"#ed7953\"],[0.7777777777777778,\"#fb9f3a\"],[0.8888888888888888,\"#fdca26\"],[1.0,\"#f0f921\"]],\"diverging\":[[0,\"#8e0152\"],[0.1,\"#c51b7d\"],[0.2,\"#de77ae\"],[0.3,\"#f1b6da\"],[0.4,\"#fde0ef\"],[0.5,\"#f7f7f7\"],[0.6,\"#e6f5d0\"],[0.7,\"#b8e186\"],[0.8,\"#7fbc41\"],[0.9,\"#4d9221\"],[1,\"#276419\"]]},\"xaxis\":{\"gridcolor\":\"white\",\"linecolor\":\"white\",\"ticks\":\"\",\"title\":{\"standoff\":15},\"zerolinecolor\":\"white\",\"automargin\":true,\"zerolinewidth\":2},\"yaxis\":{\"gridcolor\":\"white\",\"linecolor\":\"white\",\"ticks\":\"\",\"title\":{\"standoff\":15},\"zerolinecolor\":\"white\",\"automargin\":true,\"zerolinewidth\":2},\"scene\":{\"xaxis\":{\"backgroundcolor\":\"#E5ECF6\",\"gridcolor\":\"white\",\"linecolor\":\"white\",\"showbackground\":true,\"ticks\":\"\",\"zerolinecolor\":\"white\",\"gridwidth\":2},\"yaxis\":{\"backgroundcolor\":\"#E5ECF6\",\"gridcolor\":\"white\",\"linecolor\":\"white\",\"showbackground\":true,\"ticks\":\"\",\"zerolinecolor\":\"white\",\"gridwidth\":2},\"zaxis\":{\"backgroundcolor\":\"#E5ECF6\",\"gridcolor\":\"white\",\"linecolor\":\"white\",\"showbackground\":true,\"ticks\":\"\",\"zerolinecolor\":\"white\",\"gridwidth\":2}},\"shapedefaults\":{\"line\":{\"color\":\"#2a3f5f\"}},\"annotationdefaults\":{\"arrowcolor\":\"#2a3f5f\",\"arrowhead\":0,\"arrowwidth\":1},\"geo\":{\"bgcolor\":\"white\",\"landcolor\":\"#E5ECF6\",\"subunitcolor\":\"white\",\"showland\":true,\"showlakes\":true,\"lakecolor\":\"white\"},\"title\":{\"x\":0.05},\"mapbox\":{\"style\":\"light\"}}},\"xaxis\":{\"anchor\":\"y\",\"domain\":[0.0,0.2888888888888889],\"tickangle\":-45,\"nticks\":7},\"yaxis\":{\"anchor\":\"x\",\"domain\":[0.7777777777777778,1.0],\"range\":[55.0,128.0],\"tickvals\":[55.0,73.2,91.5,109.8,128.0],\"title\":{\"text\":\"Mean Heart Rate\"}},\"xaxis2\":{\"anchor\":\"y2\",\"domain\":[0.35555555555555557,0.6444444444444445],\"tickangle\":-45,\"nticks\":7},\"yaxis2\":{\"anchor\":\"x2\",\"domain\":[0.7777777777777778,1.0],\"range\":[55.0,128.0],\"tickvals\":[55.0,73.2,91.5,109.8,128.0]},\"xaxis3\":{\"anchor\":\"y3\",\"domain\":[0.7111111111111111,1.0],\"tickangle\":-45,\"nticks\":7},\"yaxis3\":{\"anchor\":\"x3\",\"domain\":[0.7777777777777778,1.0],\"range\":[55.0,128.0],\"tickvals\":[55.0,73.2,91.5,109.8,128.0]},\"xaxis4\":{\"anchor\":\"y4\",\"domain\":[0.0,0.2888888888888889],\"tickangle\":-45,\"nticks\":7},\"yaxis4\":{\"anchor\":\"x4\",\"domain\":[0.3888888888888889,0.6111111111111112],\"range\":[3,595],\"tickvals\":[3.0,151.0,299.0,447.0,595.0],\"title\":{\"text\":\"Mean Steps\"}},\"xaxis5\":{\"anchor\":\"y5\",\"domain\":[0.35555555555555557,0.6444444444444445],\"tickangle\":-45,\"nticks\":7},\"yaxis5\":{\"anchor\":\"x5\",\"domain\":[0.3888888888888889,0.6111111111111112],\"range\":[3,595],\"tickvals\":[3.0,151.0,299.0,447.0,595.0]},\"xaxis6\":{\"anchor\":\"y6\",\"domain\":[0.7111111111111111,1.0],\"tickangle\":-45,\"nticks\":6},\"yaxis6\":{\"anchor\":\"x6\",\"domain\":[0.3888888888888889,0.6111111111111112],\"range\":[3,595],\"tickvals\":[3.0,151.0,299.0,447.0,595.0]},\"xaxis7\":{\"anchor\":\"y7\",\"domain\":[0.0,0.2888888888888889],\"tickangle\":-45},\"yaxis7\":{\"anchor\":\"x7\",\"domain\":[0.0,0.22222222222222224],\"range\":[0.86,0.985],\"tickvals\":[0.86,0.89,0.92,0.95,0.98],\"title\":{\"text\":\"Mean SpO2\"}},\"xaxis8\":{\"anchor\":\"y8\",\"domain\":[0.35555555555555557,0.6444444444444445],\"tickangle\":-45,\"title\":{\"text\":\"Time\"}},\"yaxis8\":{\"anchor\":\"x8\",\"domain\":[0.0,0.22222222222222224],\"range\":[0.86,0.985],\"tickvals\":[0.86,0.89,0.92,0.95,0.98]},\"xaxis9\":{\"anchor\":\"y9\",\"domain\":[0.7111111111111111,1.0],\"tickangle\":-45},\"yaxis9\":{\"anchor\":\"x9\",\"domain\":[0.0,0.22222222222222224],\"range\":[0.86,0.985],\"tickvals\":[0.86,0.89,0.92,0.95,0.98]},\"annotations\":[{\"font\":{\"size\":16},\"showarrow\":false,\"text\":\"Heart Rate 2023-01-03\",\"x\":-0.9,\"xanchor\":\"center\",\"xref\":\"paper\",\"y\":-0.8,\"yanchor\":\"bottom\",\"yref\":\"paper\"},{\"font\":{\"size\":16},\"showarrow\":false,\"text\":\"Heart Rate 2023-01-04\",\"x\":-0.9,\"xanchor\":\"center\",\"xref\":\"paper\",\"y\":-0.8,\"yanchor\":\"bottom\",\"yref\":\"paper\"},{\"font\":{\"size\":16},\"showarrow\":false,\"text\":\"Heart Rate 2023-01-05\",\"x\":-0.9,\"xanchor\":\"center\",\"xref\":\"paper\",\"y\":-0.8,\"yanchor\":\"bottom\",\"yref\":\"paper\"},{\"font\":{\"size\":16},\"showarrow\":false,\"text\":\"Steps 2023-01-03\",\"x\":-0.9,\"xanchor\":\"center\",\"xref\":\"paper\",\"y\":-0.8,\"yanchor\":\"bottom\",\"yref\":\"paper\"},{\"font\":{\"size\":16},\"showarrow\":false,\"text\":\"Steps 2023-01-04\",\"x\":-0.9,\"xanchor\":\"center\",\"xref\":\"paper\",\"y\":-0.8,\"yanchor\":\"bottom\",\"yref\":\"paper\"},{\"font\":{\"size\":16},\"showarrow\":false,\"text\":\"Steps 2023-01-05\",\"x\":-0.9,\"xanchor\":\"center\",\"xref\":\"paper\",\"y\":-0.8,\"yanchor\":\"bottom\",\"yref\":\"paper\"},{\"font\":{\"size\":16},\"showarrow\":false,\"text\":\"SpO2 2023-01-03\",\"x\":-0.9,\"xanchor\":\"center\",\"xref\":\"paper\",\"y\":-0.8,\"yanchor\":\"bottom\",\"yref\":\"paper\"},{\"font\":{\"size\":16},\"showarrow\":false,\"text\":\"SpO2 2023-01-04\",\"x\":-0.9,\"xanchor\":\"center\",\"xref\":\"paper\",\"y\":-0.8,\"yanchor\":\"bottom\",\"yref\":\"paper\"},{\"font\":{\"size\":16},\"showarrow\":false,\"text\":\"SpO2 2023-01-05\",\"x\":-0.9,\"xanchor\":\"center\",\"xref\":\"paper\",\"y\":-0.8,\"yanchor\":\"bottom\",\"yref\":\"paper\"}],\"title\":{\"text\":\"\\u003cb\\u003eHeart Rate, Steps Range, and SpO2 per Hour | Three Days\\u003c\\u002fb\\u003e\",\"x\":0.5},\"font\":{\"size\":16},\"autosize\":false,\"width\":1280,\"height\":720},                        {\"responsive\": true}                    ).then(function(){\n",
       "                            \n",
       "var gd = document.getElementById('25863d8e-7ac4-473d-be7e-bd809b9490ab');\n",
       "var x = new MutationObserver(function (mutations, observer) {{\n",
       "        var display = window.getComputedStyle(gd).display;\n",
       "        if (!display || display === 'none') {{\n",
       "            console.log([gd, 'removed!']);\n",
       "            Plotly.purge(gd);\n",
       "            observer.disconnect();\n",
       "        }}\n",
       "}});\n",
       "\n",
       "// Listen for the removal of the full notebook cells\n",
       "var notebookContainer = gd.closest('#notebook-container');\n",
       "if (notebookContainer) {{\n",
       "    x.observe(notebookContainer, {childList: true});\n",
       "}}\n",
       "\n",
       "// Listen for the clearing of the current output cell\n",
       "var outputEl = gd.closest('.output');\n",
       "if (outputEl) {{\n",
       "    x.observe(outputEl, {childList: true});\n",
       "}}\n",
       "\n",
       "                        })                };                });            </script>        </div>"
      ]
     },
     "metadata": {},
     "output_type": "display_data"
    }
   ],
   "source": [
    "import pandas as pd\n",
    "import numpy as np\n",
    "import plotly.graph_objects as go\n",
    "from plotly.subplots import make_subplots\n",
    "\n",
    "# Read the CSV files\n",
    "heartRateDF = pd.read_csv('../data/descriptive_statistics/mean_heart_rate_three_days.csv')\n",
    "stepsDF = pd.read_csv('../data/descriptive_statistics/mean_steps_three_days.csv')\n",
    "spo2DF = pd.read_csv('../data/descriptive_statistics/mean_spo2_three_days.csv')\n",
    "\n",
    "dates = heartRateDF['date'].unique()\n",
    "colors = ['red', 'blue', 'green']\n",
    "\n",
    "# Create subplots: two rows, three columns\n",
    "fig = make_subplots(rows=3, cols=3, subplot_titles=[f'Heart Rate {date}' for date in dates] + [f'Steps {date}' for date in dates] + [f'SpO2 {date}' for date in dates])\n",
    "\n",
    "min_heart_rate = heartRateDF['heartRate'].min()\n",
    "max_heart_rate = heartRateDF['heartRate'].max()\n",
    "min_steps = stepsDF['steps'].min()\n",
    "max_steps = stepsDF['steps'].max()\n",
    "min_spo2 = spo2DF['meanSpo2'].min()\n",
    "max_spo2 = spo2DF['meanSpo2'].max()\n",
    "\n",
    "# Generate tick values for each plot type and round to the second decimal place\n",
    "heart_rate_ticks = np.around(np.linspace(min_heart_rate, max_heart_rate, num=5), 1)\n",
    "steps_ticks = np.around(np.linspace(min_steps, max_steps, num=5), 1)\n",
    "spo2_ticks = np.around(np.linspace(min_spo2, max_spo2, num=5), 2)\n",
    "\n",
    "\n",
    "\n",
    "# Loop over unique dates\n",
    "for i, date in enumerate(dates):\n",
    "    # Filter DataFrames for the current date\n",
    "    heartRateDFDate = heartRateDF[heartRateDF['date'] == date].sort_values('hour')\n",
    "    stepsDFDate = stepsDF[stepsDF['date'] == date].sort_values('hour')\n",
    "    spo2DFDate = spo2DF[spo2DF['date'] == date].sort_values('hour')\n",
    "\n",
    "    # Convert 'hour' to string and append \":00\"\n",
    "    heartRateDFDate['hour'] = heartRateDFDate['hour'].astype(str).str.zfill(2) + \":00\"\n",
    "    stepsDFDate['hour'] = stepsDFDate['hour'].astype(str).str.zfill(2) + \":00\"\n",
    "    spo2DFDate['hour'] = spo2DFDate['hour'].astype(str).str.zfill(2) + \":00\"\n",
    "    \n",
    "    # Calculate min and max heart rate and steps for each hour\n",
    "    heartRateDFDate = heartRateDFDate.groupby('hour')['heartRate'].agg(['min', 'max']).reset_index()\n",
    "    stepsDFDate = stepsDFDate.groupby('hour')['steps'].agg(['min', 'max']).reset_index()\n",
    "\n",
    "    # Calculate the range and max heart rate and steps\n",
    "    heartRateDFDate['range'] = heartRateDFDate['max'] - heartRateDFDate['min']\n",
    "    heartRateDFDate['maxHeartRate'] = heartRateDFDate['min'] + heartRateDFDate['range']\n",
    "    stepsDFDate['range'] = stepsDFDate['max'] - stepsDFDate['min']\n",
    "    stepsDFDate['maxSteps'] = stepsDFDate['min'] + stepsDFDate['range']\n",
    "\n",
    "    # Add trace for heart rate data\n",
    "    fig.add_trace(go.Bar(\n",
    "        x=heartRateDFDate['hour'],\n",
    "        y=heartRateDFDate['range'],\n",
    "        base=heartRateDFDate['min'],\n",
    "        name=date,\n",
    "        marker_color=colors[i % len(colors)],\n",
    "        hovertemplate=\n",
    "            '<b>Hour</b>: %{x}<br>' +\n",
    "            '<b>Min Heart Rate</b>: %{base}<br>' +\n",
    "            '<b>Max Heart Rate</b>: %{customdata}<br>' +\n",
    "            '<b>Range</b>: %{y}<extra></extra>',\n",
    "        customdata=heartRateDFDate['maxHeartRate']\n",
    "    ), row=1, col=i+1)  # Add this trace to the i-th subplot in the first row\n",
    "\n",
    "    # Add trace for steps data\n",
    "    fig.add_trace(go.Bar(\n",
    "        x=stepsDFDate['hour'],\n",
    "        y=stepsDFDate['range'],\n",
    "        base=stepsDFDate['min'],\n",
    "        name=date,\n",
    "        marker_color=colors[i % len(colors)],\n",
    "        hovertemplate=\n",
    "            '<b>Hour</b>: %{x}<br>' +\n",
    "            '<b>Min Steps</b>: %{base}<br>' +\n",
    "            '<b>Max Steps</b>: %{customdata}<br>' +\n",
    "            '<b>Range</b>: %{y}<extra></extra>',\n",
    "        customdata=stepsDFDate['maxSteps'],\n",
    "        showlegend=False,\n",
    "    ), row=2, col=i+1)  # Add this trace to the i-th subplot in the second row\n",
    "\n",
    "    # Add a trace for SpO2 data\n",
    "    fig.add_trace(go.Scatter(\n",
    "        x=spo2DFDate['hour'],\n",
    "        y=spo2DFDate['meanSpo2'],\n",
    "        mode='lines+markers',\n",
    "        name=date,\n",
    "        line=dict(color=colors[i % len(colors)]),  # Cycle through colors\n",
    "        showlegend=False\n",
    "    ), row=3, col=i+1)\n",
    "    # Update xaxes - setting to 45 deg\n",
    "    fig.update_xaxes(tickangle=-45, nticks=len(heartRateDFDate) // 2, row=1, col=i+1)\n",
    "    fig.update_xaxes(tickangle=-45, nticks=len(stepsDFDate) // 2, row=2, col=i+1)\n",
    "    fig.update_xaxes(tickangle=-45, row=3, col=i+1)\n",
    "\n",
    "    # Update yaxes with the same range for each plot type and manually set tick values\n",
    "    fig.update_yaxes(range=[min_heart_rate, max_heart_rate], tickvals=heart_rate_ticks, row=1, col=i+1)\n",
    "    fig.update_yaxes(range=[min_steps, max_steps], tickvals=steps_ticks, row=2, col=i+1)\n",
    "    fig.update_yaxes(range=[min_spo2, max_spo2], tickvals=spo2_ticks, row=3, col=i+1)\n",
    "\n",
    "\n",
    "\n",
    "# Update yaxis labels\n",
    "fig.update_yaxes(title_text='Mean Heart Rate', row=1, col=1)\n",
    "fig.update_yaxes(title_text='Mean Steps', row=2, col=1)\n",
    "fig.update_yaxes(title_text='Mean SpO2', row=3, col=1)\n",
    "fig.update_xaxes(title_text='Time', row=3, col=2)\n",
    "\n",
    "# Add title\n",
    "fig.update_layout(\n",
    "    title_text='<b>Heart Rate, Steps Range, and SpO2 per Hour | Three Days</b>',\n",
    "    title_x=0.5,\n",
    "    autosize=False,  # disable automatic sizing\n",
    "    width=1280,  # width of the plot in pixels\n",
    "    height=720,  # height of the plot in pixels (16:9 aspect ratio with width=1280)\n",
    "    font=dict(size=16),\n",
    "    annotations=[\n",
    "        dict(\n",
    "            x=-0.9,\n",
    "            y=-0.8,\n",
    "            showarrow=False,\n",
    "        )\n",
    "    ]\n",
    ")\n",
    "\n",
    "fig.show()"
   ]
  },
  {
   "cell_type": "markdown",
   "metadata": {},
   "source": [
    "### Mean HR/ Steps averaged over 3 days"
   ]
  },
  {
   "cell_type": "code",
   "execution_count": 15,
   "metadata": {},
   "outputs": [
    {
     "data": {
      "application/vnd.plotly.v1+json": {
       "config": {
        "plotlyServerURL": "https://plot.ly"
       },
       "data": [
        {
         "line": {
          "color": "blue"
         },
         "name": "Mean Steps",
         "type": "scatter",
         "x": [
          6,
          7,
          8,
          9,
          10,
          11,
          12,
          13,
          14,
          15,
          16,
          17,
          18,
          19,
          20
         ],
         "y": [
          78.88888888888889,
          45.285714285714285,
          115.25,
          31.5,
          20,
          103.22222222222223,
          88.81818181818181,
          38,
          153.47826086956522,
          91.6,
          60.76923076923077,
          83,
          89.66666666666667,
          36.25,
          64.33333333333333
         ]
        },
        {
         "line": {
          "color": "red"
         },
         "name": "Mean Heart Rate",
         "type": "scatter",
         "x": [
          6,
          7,
          8,
          9,
          10,
          11,
          12,
          13,
          14,
          15,
          16,
          17,
          18,
          19,
          20
         ],
         "y": [
          70.54138666666667,
          67.309268,
          69.46341463414635,
          69.10810810810811,
          69.1604219512195,
          67.32488648648649,
          69.65853658536585,
          74.4054054054054,
          74.33400816326531,
          80.16672799999999,
          74.06458888888889,
          75.32352941176471,
          78.5363822580645,
          86.364,
          82.05
         ],
         "yaxis": "y2"
        }
       ],
       "layout": {
        "font": {
         "size": 16
        },
        "legend": {
         "bgcolor": "White",
         "bordercolor": "Black",
         "borderwidth": 2,
         "font": {
          "color": "black",
          "family": "sans-serif",
          "size": 12
         },
         "traceorder": "normal",
         "x": 1.05,
         "y": 1.25
        },
        "template": {
         "data": {
          "bar": [
           {
            "error_x": {
             "color": "#2a3f5f"
            },
            "error_y": {
             "color": "#2a3f5f"
            },
            "marker": {
             "line": {
              "color": "#E5ECF6",
              "width": 0.5
             },
             "pattern": {
              "fillmode": "overlay",
              "size": 10,
              "solidity": 0.2
             }
            },
            "type": "bar"
           }
          ],
          "barpolar": [
           {
            "marker": {
             "line": {
              "color": "#E5ECF6",
              "width": 0.5
             },
             "pattern": {
              "fillmode": "overlay",
              "size": 10,
              "solidity": 0.2
             }
            },
            "type": "barpolar"
           }
          ],
          "carpet": [
           {
            "aaxis": {
             "endlinecolor": "#2a3f5f",
             "gridcolor": "white",
             "linecolor": "white",
             "minorgridcolor": "white",
             "startlinecolor": "#2a3f5f"
            },
            "baxis": {
             "endlinecolor": "#2a3f5f",
             "gridcolor": "white",
             "linecolor": "white",
             "minorgridcolor": "white",
             "startlinecolor": "#2a3f5f"
            },
            "type": "carpet"
           }
          ],
          "choropleth": [
           {
            "colorbar": {
             "outlinewidth": 0,
             "ticks": ""
            },
            "type": "choropleth"
           }
          ],
          "contour": [
           {
            "colorbar": {
             "outlinewidth": 0,
             "ticks": ""
            },
            "colorscale": [
             [
              0,
              "#0d0887"
             ],
             [
              0.1111111111111111,
              "#46039f"
             ],
             [
              0.2222222222222222,
              "#7201a8"
             ],
             [
              0.3333333333333333,
              "#9c179e"
             ],
             [
              0.4444444444444444,
              "#bd3786"
             ],
             [
              0.5555555555555556,
              "#d8576b"
             ],
             [
              0.6666666666666666,
              "#ed7953"
             ],
             [
              0.7777777777777778,
              "#fb9f3a"
             ],
             [
              0.8888888888888888,
              "#fdca26"
             ],
             [
              1,
              "#f0f921"
             ]
            ],
            "type": "contour"
           }
          ],
          "contourcarpet": [
           {
            "colorbar": {
             "outlinewidth": 0,
             "ticks": ""
            },
            "type": "contourcarpet"
           }
          ],
          "heatmap": [
           {
            "colorbar": {
             "outlinewidth": 0,
             "ticks": ""
            },
            "colorscale": [
             [
              0,
              "#0d0887"
             ],
             [
              0.1111111111111111,
              "#46039f"
             ],
             [
              0.2222222222222222,
              "#7201a8"
             ],
             [
              0.3333333333333333,
              "#9c179e"
             ],
             [
              0.4444444444444444,
              "#bd3786"
             ],
             [
              0.5555555555555556,
              "#d8576b"
             ],
             [
              0.6666666666666666,
              "#ed7953"
             ],
             [
              0.7777777777777778,
              "#fb9f3a"
             ],
             [
              0.8888888888888888,
              "#fdca26"
             ],
             [
              1,
              "#f0f921"
             ]
            ],
            "type": "heatmap"
           }
          ],
          "heatmapgl": [
           {
            "colorbar": {
             "outlinewidth": 0,
             "ticks": ""
            },
            "colorscale": [
             [
              0,
              "#0d0887"
             ],
             [
              0.1111111111111111,
              "#46039f"
             ],
             [
              0.2222222222222222,
              "#7201a8"
             ],
             [
              0.3333333333333333,
              "#9c179e"
             ],
             [
              0.4444444444444444,
              "#bd3786"
             ],
             [
              0.5555555555555556,
              "#d8576b"
             ],
             [
              0.6666666666666666,
              "#ed7953"
             ],
             [
              0.7777777777777778,
              "#fb9f3a"
             ],
             [
              0.8888888888888888,
              "#fdca26"
             ],
             [
              1,
              "#f0f921"
             ]
            ],
            "type": "heatmapgl"
           }
          ],
          "histogram": [
           {
            "marker": {
             "pattern": {
              "fillmode": "overlay",
              "size": 10,
              "solidity": 0.2
             }
            },
            "type": "histogram"
           }
          ],
          "histogram2d": [
           {
            "colorbar": {
             "outlinewidth": 0,
             "ticks": ""
            },
            "colorscale": [
             [
              0,
              "#0d0887"
             ],
             [
              0.1111111111111111,
              "#46039f"
             ],
             [
              0.2222222222222222,
              "#7201a8"
             ],
             [
              0.3333333333333333,
              "#9c179e"
             ],
             [
              0.4444444444444444,
              "#bd3786"
             ],
             [
              0.5555555555555556,
              "#d8576b"
             ],
             [
              0.6666666666666666,
              "#ed7953"
             ],
             [
              0.7777777777777778,
              "#fb9f3a"
             ],
             [
              0.8888888888888888,
              "#fdca26"
             ],
             [
              1,
              "#f0f921"
             ]
            ],
            "type": "histogram2d"
           }
          ],
          "histogram2dcontour": [
           {
            "colorbar": {
             "outlinewidth": 0,
             "ticks": ""
            },
            "colorscale": [
             [
              0,
              "#0d0887"
             ],
             [
              0.1111111111111111,
              "#46039f"
             ],
             [
              0.2222222222222222,
              "#7201a8"
             ],
             [
              0.3333333333333333,
              "#9c179e"
             ],
             [
              0.4444444444444444,
              "#bd3786"
             ],
             [
              0.5555555555555556,
              "#d8576b"
             ],
             [
              0.6666666666666666,
              "#ed7953"
             ],
             [
              0.7777777777777778,
              "#fb9f3a"
             ],
             [
              0.8888888888888888,
              "#fdca26"
             ],
             [
              1,
              "#f0f921"
             ]
            ],
            "type": "histogram2dcontour"
           }
          ],
          "mesh3d": [
           {
            "colorbar": {
             "outlinewidth": 0,
             "ticks": ""
            },
            "type": "mesh3d"
           }
          ],
          "parcoords": [
           {
            "line": {
             "colorbar": {
              "outlinewidth": 0,
              "ticks": ""
             }
            },
            "type": "parcoords"
           }
          ],
          "pie": [
           {
            "automargin": true,
            "type": "pie"
           }
          ],
          "scatter": [
           {
            "fillpattern": {
             "fillmode": "overlay",
             "size": 10,
             "solidity": 0.2
            },
            "type": "scatter"
           }
          ],
          "scatter3d": [
           {
            "line": {
             "colorbar": {
              "outlinewidth": 0,
              "ticks": ""
             }
            },
            "marker": {
             "colorbar": {
              "outlinewidth": 0,
              "ticks": ""
             }
            },
            "type": "scatter3d"
           }
          ],
          "scattercarpet": [
           {
            "marker": {
             "colorbar": {
              "outlinewidth": 0,
              "ticks": ""
             }
            },
            "type": "scattercarpet"
           }
          ],
          "scattergeo": [
           {
            "marker": {
             "colorbar": {
              "outlinewidth": 0,
              "ticks": ""
             }
            },
            "type": "scattergeo"
           }
          ],
          "scattergl": [
           {
            "marker": {
             "colorbar": {
              "outlinewidth": 0,
              "ticks": ""
             }
            },
            "type": "scattergl"
           }
          ],
          "scattermapbox": [
           {
            "marker": {
             "colorbar": {
              "outlinewidth": 0,
              "ticks": ""
             }
            },
            "type": "scattermapbox"
           }
          ],
          "scatterpolar": [
           {
            "marker": {
             "colorbar": {
              "outlinewidth": 0,
              "ticks": ""
             }
            },
            "type": "scatterpolar"
           }
          ],
          "scatterpolargl": [
           {
            "marker": {
             "colorbar": {
              "outlinewidth": 0,
              "ticks": ""
             }
            },
            "type": "scatterpolargl"
           }
          ],
          "scatterternary": [
           {
            "marker": {
             "colorbar": {
              "outlinewidth": 0,
              "ticks": ""
             }
            },
            "type": "scatterternary"
           }
          ],
          "surface": [
           {
            "colorbar": {
             "outlinewidth": 0,
             "ticks": ""
            },
            "colorscale": [
             [
              0,
              "#0d0887"
             ],
             [
              0.1111111111111111,
              "#46039f"
             ],
             [
              0.2222222222222222,
              "#7201a8"
             ],
             [
              0.3333333333333333,
              "#9c179e"
             ],
             [
              0.4444444444444444,
              "#bd3786"
             ],
             [
              0.5555555555555556,
              "#d8576b"
             ],
             [
              0.6666666666666666,
              "#ed7953"
             ],
             [
              0.7777777777777778,
              "#fb9f3a"
             ],
             [
              0.8888888888888888,
              "#fdca26"
             ],
             [
              1,
              "#f0f921"
             ]
            ],
            "type": "surface"
           }
          ],
          "table": [
           {
            "cells": {
             "fill": {
              "color": "#EBF0F8"
             },
             "line": {
              "color": "white"
             }
            },
            "header": {
             "fill": {
              "color": "#C8D4E3"
             },
             "line": {
              "color": "white"
             }
            },
            "type": "table"
           }
          ]
         },
         "layout": {
          "annotationdefaults": {
           "arrowcolor": "#2a3f5f",
           "arrowhead": 0,
           "arrowwidth": 1
          },
          "autotypenumbers": "strict",
          "coloraxis": {
           "colorbar": {
            "outlinewidth": 0,
            "ticks": ""
           }
          },
          "colorscale": {
           "diverging": [
            [
             0,
             "#8e0152"
            ],
            [
             0.1,
             "#c51b7d"
            ],
            [
             0.2,
             "#de77ae"
            ],
            [
             0.3,
             "#f1b6da"
            ],
            [
             0.4,
             "#fde0ef"
            ],
            [
             0.5,
             "#f7f7f7"
            ],
            [
             0.6,
             "#e6f5d0"
            ],
            [
             0.7,
             "#b8e186"
            ],
            [
             0.8,
             "#7fbc41"
            ],
            [
             0.9,
             "#4d9221"
            ],
            [
             1,
             "#276419"
            ]
           ],
           "sequential": [
            [
             0,
             "#0d0887"
            ],
            [
             0.1111111111111111,
             "#46039f"
            ],
            [
             0.2222222222222222,
             "#7201a8"
            ],
            [
             0.3333333333333333,
             "#9c179e"
            ],
            [
             0.4444444444444444,
             "#bd3786"
            ],
            [
             0.5555555555555556,
             "#d8576b"
            ],
            [
             0.6666666666666666,
             "#ed7953"
            ],
            [
             0.7777777777777778,
             "#fb9f3a"
            ],
            [
             0.8888888888888888,
             "#fdca26"
            ],
            [
             1,
             "#f0f921"
            ]
           ],
           "sequentialminus": [
            [
             0,
             "#0d0887"
            ],
            [
             0.1111111111111111,
             "#46039f"
            ],
            [
             0.2222222222222222,
             "#7201a8"
            ],
            [
             0.3333333333333333,
             "#9c179e"
            ],
            [
             0.4444444444444444,
             "#bd3786"
            ],
            [
             0.5555555555555556,
             "#d8576b"
            ],
            [
             0.6666666666666666,
             "#ed7953"
            ],
            [
             0.7777777777777778,
             "#fb9f3a"
            ],
            [
             0.8888888888888888,
             "#fdca26"
            ],
            [
             1,
             "#f0f921"
            ]
           ]
          },
          "colorway": [
           "#636efa",
           "#EF553B",
           "#00cc96",
           "#ab63fa",
           "#FFA15A",
           "#19d3f3",
           "#FF6692",
           "#B6E880",
           "#FF97FF",
           "#FECB52"
          ],
          "font": {
           "color": "#2a3f5f"
          },
          "geo": {
           "bgcolor": "white",
           "lakecolor": "white",
           "landcolor": "#E5ECF6",
           "showlakes": true,
           "showland": true,
           "subunitcolor": "white"
          },
          "hoverlabel": {
           "align": "left"
          },
          "hovermode": "closest",
          "mapbox": {
           "style": "light"
          },
          "paper_bgcolor": "white",
          "plot_bgcolor": "#E5ECF6",
          "polar": {
           "angularaxis": {
            "gridcolor": "white",
            "linecolor": "white",
            "ticks": ""
           },
           "bgcolor": "#E5ECF6",
           "radialaxis": {
            "gridcolor": "white",
            "linecolor": "white",
            "ticks": ""
           }
          },
          "scene": {
           "xaxis": {
            "backgroundcolor": "#E5ECF6",
            "gridcolor": "white",
            "gridwidth": 2,
            "linecolor": "white",
            "showbackground": true,
            "ticks": "",
            "zerolinecolor": "white"
           },
           "yaxis": {
            "backgroundcolor": "#E5ECF6",
            "gridcolor": "white",
            "gridwidth": 2,
            "linecolor": "white",
            "showbackground": true,
            "ticks": "",
            "zerolinecolor": "white"
           },
           "zaxis": {
            "backgroundcolor": "#E5ECF6",
            "gridcolor": "white",
            "gridwidth": 2,
            "linecolor": "white",
            "showbackground": true,
            "ticks": "",
            "zerolinecolor": "white"
           }
          },
          "shapedefaults": {
           "line": {
            "color": "#2a3f5f"
           }
          },
          "ternary": {
           "aaxis": {
            "gridcolor": "white",
            "linecolor": "white",
            "ticks": ""
           },
           "baxis": {
            "gridcolor": "white",
            "linecolor": "white",
            "ticks": ""
           },
           "bgcolor": "#E5ECF6",
           "caxis": {
            "gridcolor": "white",
            "linecolor": "white",
            "ticks": ""
           }
          },
          "title": {
           "x": 0.05
          },
          "xaxis": {
           "automargin": true,
           "gridcolor": "white",
           "linecolor": "white",
           "ticks": "",
           "title": {
            "standoff": 15
           },
           "zerolinecolor": "white",
           "zerolinewidth": 2
          },
          "yaxis": {
           "automargin": true,
           "gridcolor": "white",
           "linecolor": "white",
           "ticks": "",
           "title": {
            "standoff": 15
           },
           "zerolinecolor": "white",
           "zerolinewidth": 2
          }
         }
        },
        "title": {
         "text": "Mean Heart Rate/Step Averaged over 3 Days"
        },
        "xaxis": {
         "title": {
          "text": "Hour"
         }
        },
        "yaxis": {
         "title": {
          "text": "Mean Steps"
         }
        },
        "yaxis2": {
         "overlaying": "y",
         "side": "right",
         "title": {
          "text": "Mean Heart Rate"
         }
        }
       }
      },
      "text/html": [
       "<div>                            <div id=\"ad1f2627-b7d6-45f7-8dc2-8d1374e35e14\" class=\"plotly-graph-div\" style=\"height:525px; width:100%;\"></div>            <script type=\"text/javascript\">                require([\"plotly\"], function(Plotly) {                    window.PLOTLYENV=window.PLOTLYENV || {};                                    if (document.getElementById(\"ad1f2627-b7d6-45f7-8dc2-8d1374e35e14\")) {                    Plotly.newPlot(                        \"ad1f2627-b7d6-45f7-8dc2-8d1374e35e14\",                        [{\"line\":{\"color\":\"blue\"},\"name\":\"Mean Steps\",\"x\":[6,7,8,9,10,11,12,13,14,15,16,17,18,19,20],\"y\":[78.88888888888889,45.285714285714285,115.25,31.5,20.0,103.22222222222223,88.81818181818181,38.0,153.47826086956522,91.6,60.76923076923077,83.0,89.66666666666667,36.25,64.33333333333333],\"type\":\"scatter\"},{\"line\":{\"color\":\"red\"},\"name\":\"Mean Heart Rate\",\"x\":[6,7,8,9,10,11,12,13,14,15,16,17,18,19,20],\"y\":[70.54138666666667,67.309268,69.46341463414635,69.10810810810811,69.1604219512195,67.32488648648649,69.65853658536585,74.4054054054054,74.33400816326531,80.16672799999999,74.06458888888889,75.32352941176471,78.5363822580645,86.364,82.05],\"yaxis\":\"y2\",\"type\":\"scatter\"}],                        {\"font\":{\"size\":16},\"legend\":{\"bgcolor\":\"White\",\"bordercolor\":\"Black\",\"borderwidth\":2,\"font\":{\"color\":\"black\",\"family\":\"sans-serif\",\"size\":12},\"traceorder\":\"normal\",\"x\":1.05,\"y\":1.25},\"title\":{\"text\":\"Mean Heart Rate\\u002fStep Averaged over 3 Days\"},\"xaxis\":{\"title\":{\"text\":\"Hour\"}},\"yaxis\":{\"title\":{\"text\":\"Mean Steps\"}},\"yaxis2\":{\"overlaying\":\"y\",\"side\":\"right\",\"title\":{\"text\":\"Mean Heart Rate\"}},\"template\":{\"data\":{\"histogram2dcontour\":[{\"type\":\"histogram2dcontour\",\"colorbar\":{\"outlinewidth\":0,\"ticks\":\"\"},\"colorscale\":[[0.0,\"#0d0887\"],[0.1111111111111111,\"#46039f\"],[0.2222222222222222,\"#7201a8\"],[0.3333333333333333,\"#9c179e\"],[0.4444444444444444,\"#bd3786\"],[0.5555555555555556,\"#d8576b\"],[0.6666666666666666,\"#ed7953\"],[0.7777777777777778,\"#fb9f3a\"],[0.8888888888888888,\"#fdca26\"],[1.0,\"#f0f921\"]]}],\"choropleth\":[{\"type\":\"choropleth\",\"colorbar\":{\"outlinewidth\":0,\"ticks\":\"\"}}],\"histogram2d\":[{\"type\":\"histogram2d\",\"colorbar\":{\"outlinewidth\":0,\"ticks\":\"\"},\"colorscale\":[[0.0,\"#0d0887\"],[0.1111111111111111,\"#46039f\"],[0.2222222222222222,\"#7201a8\"],[0.3333333333333333,\"#9c179e\"],[0.4444444444444444,\"#bd3786\"],[0.5555555555555556,\"#d8576b\"],[0.6666666666666666,\"#ed7953\"],[0.7777777777777778,\"#fb9f3a\"],[0.8888888888888888,\"#fdca26\"],[1.0,\"#f0f921\"]]}],\"heatmap\":[{\"type\":\"heatmap\",\"colorbar\":{\"outlinewidth\":0,\"ticks\":\"\"},\"colorscale\":[[0.0,\"#0d0887\"],[0.1111111111111111,\"#46039f\"],[0.2222222222222222,\"#7201a8\"],[0.3333333333333333,\"#9c179e\"],[0.4444444444444444,\"#bd3786\"],[0.5555555555555556,\"#d8576b\"],[0.6666666666666666,\"#ed7953\"],[0.7777777777777778,\"#fb9f3a\"],[0.8888888888888888,\"#fdca26\"],[1.0,\"#f0f921\"]]}],\"heatmapgl\":[{\"type\":\"heatmapgl\",\"colorbar\":{\"outlinewidth\":0,\"ticks\":\"\"},\"colorscale\":[[0.0,\"#0d0887\"],[0.1111111111111111,\"#46039f\"],[0.2222222222222222,\"#7201a8\"],[0.3333333333333333,\"#9c179e\"],[0.4444444444444444,\"#bd3786\"],[0.5555555555555556,\"#d8576b\"],[0.6666666666666666,\"#ed7953\"],[0.7777777777777778,\"#fb9f3a\"],[0.8888888888888888,\"#fdca26\"],[1.0,\"#f0f921\"]]}],\"contourcarpet\":[{\"type\":\"contourcarpet\",\"colorbar\":{\"outlinewidth\":0,\"ticks\":\"\"}}],\"contour\":[{\"type\":\"contour\",\"colorbar\":{\"outlinewidth\":0,\"ticks\":\"\"},\"colorscale\":[[0.0,\"#0d0887\"],[0.1111111111111111,\"#46039f\"],[0.2222222222222222,\"#7201a8\"],[0.3333333333333333,\"#9c179e\"],[0.4444444444444444,\"#bd3786\"],[0.5555555555555556,\"#d8576b\"],[0.6666666666666666,\"#ed7953\"],[0.7777777777777778,\"#fb9f3a\"],[0.8888888888888888,\"#fdca26\"],[1.0,\"#f0f921\"]]}],\"surface\":[{\"type\":\"surface\",\"colorbar\":{\"outlinewidth\":0,\"ticks\":\"\"},\"colorscale\":[[0.0,\"#0d0887\"],[0.1111111111111111,\"#46039f\"],[0.2222222222222222,\"#7201a8\"],[0.3333333333333333,\"#9c179e\"],[0.4444444444444444,\"#bd3786\"],[0.5555555555555556,\"#d8576b\"],[0.6666666666666666,\"#ed7953\"],[0.7777777777777778,\"#fb9f3a\"],[0.8888888888888888,\"#fdca26\"],[1.0,\"#f0f921\"]]}],\"mesh3d\":[{\"type\":\"mesh3d\",\"colorbar\":{\"outlinewidth\":0,\"ticks\":\"\"}}],\"scatter\":[{\"fillpattern\":{\"fillmode\":\"overlay\",\"size\":10,\"solidity\":0.2},\"type\":\"scatter\"}],\"parcoords\":[{\"type\":\"parcoords\",\"line\":{\"colorbar\":{\"outlinewidth\":0,\"ticks\":\"\"}}}],\"scatterpolargl\":[{\"type\":\"scatterpolargl\",\"marker\":{\"colorbar\":{\"outlinewidth\":0,\"ticks\":\"\"}}}],\"bar\":[{\"error_x\":{\"color\":\"#2a3f5f\"},\"error_y\":{\"color\":\"#2a3f5f\"},\"marker\":{\"line\":{\"color\":\"#E5ECF6\",\"width\":0.5},\"pattern\":{\"fillmode\":\"overlay\",\"size\":10,\"solidity\":0.2}},\"type\":\"bar\"}],\"scattergeo\":[{\"type\":\"scattergeo\",\"marker\":{\"colorbar\":{\"outlinewidth\":0,\"ticks\":\"\"}}}],\"scatterpolar\":[{\"type\":\"scatterpolar\",\"marker\":{\"colorbar\":{\"outlinewidth\":0,\"ticks\":\"\"}}}],\"histogram\":[{\"marker\":{\"pattern\":{\"fillmode\":\"overlay\",\"size\":10,\"solidity\":0.2}},\"type\":\"histogram\"}],\"scattergl\":[{\"type\":\"scattergl\",\"marker\":{\"colorbar\":{\"outlinewidth\":0,\"ticks\":\"\"}}}],\"scatter3d\":[{\"type\":\"scatter3d\",\"line\":{\"colorbar\":{\"outlinewidth\":0,\"ticks\":\"\"}},\"marker\":{\"colorbar\":{\"outlinewidth\":0,\"ticks\":\"\"}}}],\"scattermapbox\":[{\"type\":\"scattermapbox\",\"marker\":{\"colorbar\":{\"outlinewidth\":0,\"ticks\":\"\"}}}],\"scatterternary\":[{\"type\":\"scatterternary\",\"marker\":{\"colorbar\":{\"outlinewidth\":0,\"ticks\":\"\"}}}],\"scattercarpet\":[{\"type\":\"scattercarpet\",\"marker\":{\"colorbar\":{\"outlinewidth\":0,\"ticks\":\"\"}}}],\"carpet\":[{\"aaxis\":{\"endlinecolor\":\"#2a3f5f\",\"gridcolor\":\"white\",\"linecolor\":\"white\",\"minorgridcolor\":\"white\",\"startlinecolor\":\"#2a3f5f\"},\"baxis\":{\"endlinecolor\":\"#2a3f5f\",\"gridcolor\":\"white\",\"linecolor\":\"white\",\"minorgridcolor\":\"white\",\"startlinecolor\":\"#2a3f5f\"},\"type\":\"carpet\"}],\"table\":[{\"cells\":{\"fill\":{\"color\":\"#EBF0F8\"},\"line\":{\"color\":\"white\"}},\"header\":{\"fill\":{\"color\":\"#C8D4E3\"},\"line\":{\"color\":\"white\"}},\"type\":\"table\"}],\"barpolar\":[{\"marker\":{\"line\":{\"color\":\"#E5ECF6\",\"width\":0.5},\"pattern\":{\"fillmode\":\"overlay\",\"size\":10,\"solidity\":0.2}},\"type\":\"barpolar\"}],\"pie\":[{\"automargin\":true,\"type\":\"pie\"}]},\"layout\":{\"autotypenumbers\":\"strict\",\"colorway\":[\"#636efa\",\"#EF553B\",\"#00cc96\",\"#ab63fa\",\"#FFA15A\",\"#19d3f3\",\"#FF6692\",\"#B6E880\",\"#FF97FF\",\"#FECB52\"],\"font\":{\"color\":\"#2a3f5f\"},\"hovermode\":\"closest\",\"hoverlabel\":{\"align\":\"left\"},\"paper_bgcolor\":\"white\",\"plot_bgcolor\":\"#E5ECF6\",\"polar\":{\"bgcolor\":\"#E5ECF6\",\"angularaxis\":{\"gridcolor\":\"white\",\"linecolor\":\"white\",\"ticks\":\"\"},\"radialaxis\":{\"gridcolor\":\"white\",\"linecolor\":\"white\",\"ticks\":\"\"}},\"ternary\":{\"bgcolor\":\"#E5ECF6\",\"aaxis\":{\"gridcolor\":\"white\",\"linecolor\":\"white\",\"ticks\":\"\"},\"baxis\":{\"gridcolor\":\"white\",\"linecolor\":\"white\",\"ticks\":\"\"},\"caxis\":{\"gridcolor\":\"white\",\"linecolor\":\"white\",\"ticks\":\"\"}},\"coloraxis\":{\"colorbar\":{\"outlinewidth\":0,\"ticks\":\"\"}},\"colorscale\":{\"sequential\":[[0.0,\"#0d0887\"],[0.1111111111111111,\"#46039f\"],[0.2222222222222222,\"#7201a8\"],[0.3333333333333333,\"#9c179e\"],[0.4444444444444444,\"#bd3786\"],[0.5555555555555556,\"#d8576b\"],[0.6666666666666666,\"#ed7953\"],[0.7777777777777778,\"#fb9f3a\"],[0.8888888888888888,\"#fdca26\"],[1.0,\"#f0f921\"]],\"sequentialminus\":[[0.0,\"#0d0887\"],[0.1111111111111111,\"#46039f\"],[0.2222222222222222,\"#7201a8\"],[0.3333333333333333,\"#9c179e\"],[0.4444444444444444,\"#bd3786\"],[0.5555555555555556,\"#d8576b\"],[0.6666666666666666,\"#ed7953\"],[0.7777777777777778,\"#fb9f3a\"],[0.8888888888888888,\"#fdca26\"],[1.0,\"#f0f921\"]],\"diverging\":[[0,\"#8e0152\"],[0.1,\"#c51b7d\"],[0.2,\"#de77ae\"],[0.3,\"#f1b6da\"],[0.4,\"#fde0ef\"],[0.5,\"#f7f7f7\"],[0.6,\"#e6f5d0\"],[0.7,\"#b8e186\"],[0.8,\"#7fbc41\"],[0.9,\"#4d9221\"],[1,\"#276419\"]]},\"xaxis\":{\"gridcolor\":\"white\",\"linecolor\":\"white\",\"ticks\":\"\",\"title\":{\"standoff\":15},\"zerolinecolor\":\"white\",\"automargin\":true,\"zerolinewidth\":2},\"yaxis\":{\"gridcolor\":\"white\",\"linecolor\":\"white\",\"ticks\":\"\",\"title\":{\"standoff\":15},\"zerolinecolor\":\"white\",\"automargin\":true,\"zerolinewidth\":2},\"scene\":{\"xaxis\":{\"backgroundcolor\":\"#E5ECF6\",\"gridcolor\":\"white\",\"linecolor\":\"white\",\"showbackground\":true,\"ticks\":\"\",\"zerolinecolor\":\"white\",\"gridwidth\":2},\"yaxis\":{\"backgroundcolor\":\"#E5ECF6\",\"gridcolor\":\"white\",\"linecolor\":\"white\",\"showbackground\":true,\"ticks\":\"\",\"zerolinecolor\":\"white\",\"gridwidth\":2},\"zaxis\":{\"backgroundcolor\":\"#E5ECF6\",\"gridcolor\":\"white\",\"linecolor\":\"white\",\"showbackground\":true,\"ticks\":\"\",\"zerolinecolor\":\"white\",\"gridwidth\":2}},\"shapedefaults\":{\"line\":{\"color\":\"#2a3f5f\"}},\"annotationdefaults\":{\"arrowcolor\":\"#2a3f5f\",\"arrowhead\":0,\"arrowwidth\":1},\"geo\":{\"bgcolor\":\"white\",\"landcolor\":\"#E5ECF6\",\"subunitcolor\":\"white\",\"showland\":true,\"showlakes\":true,\"lakecolor\":\"white\"},\"title\":{\"x\":0.05},\"mapbox\":{\"style\":\"light\"}}}},                        {\"responsive\": true}                    ).then(function(){\n",
       "                            \n",
       "var gd = document.getElementById('ad1f2627-b7d6-45f7-8dc2-8d1374e35e14');\n",
       "var x = new MutationObserver(function (mutations, observer) {{\n",
       "        var display = window.getComputedStyle(gd).display;\n",
       "        if (!display || display === 'none') {{\n",
       "            console.log([gd, 'removed!']);\n",
       "            Plotly.purge(gd);\n",
       "            observer.disconnect();\n",
       "        }}\n",
       "}});\n",
       "\n",
       "// Listen for the removal of the full notebook cells\n",
       "var notebookContainer = gd.closest('#notebook-container');\n",
       "if (notebookContainer) {{\n",
       "    x.observe(notebookContainer, {childList: true});\n",
       "}}\n",
       "\n",
       "// Listen for the clearing of the current output cell\n",
       "var outputEl = gd.closest('.output');\n",
       "if (outputEl) {{\n",
       "    x.observe(outputEl, {childList: true});\n",
       "}}\n",
       "\n",
       "                        })                };                });            </script>        </div>"
      ]
     },
     "metadata": {},
     "output_type": "display_data"
    }
   ],
   "source": [
    "import pandas as pd\n",
    "import plotly.graph_objects as go\n",
    "from plotly.subplots import make_subplots\n",
    "\n",
    "heartRateDF = pd.read_csv('../data/descriptive_statistics/mean_heart_rate_three_days.csv')\n",
    "stepsDF = pd.read_csv('../data/descriptive_statistics/mean_steps_three_days.csv')\n",
    "\n",
    "groupedDF1 = stepsDF.groupby('hour')['meanSteps'].mean().reset_index()\n",
    "groupedDF2 = heartRateDF.groupby('hour')['meanHeartRate'].mean().reset_index()\n",
    "mergedDf = pd.merge(groupedDF1, groupedDF2, on='hour', how='inner')\n",
    "\n",
    "\n",
    "# Create a trace for 'meanSteps'\n",
    "trace1 = go.Scatter(\n",
    "    x=mergedDf['hour'],\n",
    "    y=mergedDf['meanSteps'],\n",
    "    name='Mean Steps',\n",
    "    line=dict(color='blue')\n",
    ")\n",
    "\n",
    "# Create a trace for 'meanHeartRate'\n",
    "trace2 = go.Scatter(\n",
    "    x=mergedDf['hour'],\n",
    "    y=mergedDf['meanHeartRate'],\n",
    "    name='Mean Heart Rate',\n",
    "    line=dict(color='red'),\n",
    "    yaxis='y2'\n",
    ")\n",
    "\n",
    "# Create a layout with two y-axes\n",
    "layout = go.Layout(\n",
    "    yaxis=dict(title='Mean Steps'),\n",
    "    yaxis2=dict(title='Mean Heart Rate', overlaying='y', side='right'),\n",
    "    xaxis=dict(title='Hour'),\n",
    "    title=\"Mean Heart Rate/Step Averaged over 3 Days\",\n",
    "    font=dict(size=16),\n",
    "    legend=dict(\n",
    "        x=1.05,\n",
    "        y=1.25,\n",
    "        traceorder=\"normal\",\n",
    "        font=dict(\n",
    "            family=\"sans-serif\",\n",
    "            size=12,\n",
    "            color=\"black\"\n",
    "        ),\n",
    "        bgcolor=\"White\",\n",
    "        bordercolor=\"Black\",\n",
    "        borderwidth=2\n",
    "    )\n",
    ")\n",
    "\n",
    "# Create a figure and add the traces\n",
    "fig = go.Figure(data=[trace1, trace2], layout=layout)\n",
    "\n",
    "fig.show()"
   ]
  },
  {
   "cell_type": "markdown",
   "metadata": {},
   "source": [
    "### Mean Heart Rate/SpO2 Averaged over 3 Days"
   ]
  },
  {
   "cell_type": "code",
   "execution_count": 16,
   "metadata": {},
   "outputs": [
    {
     "name": "stdout",
     "output_type": "stream",
     "text": [
      "    hour  meanSpo2  meanHeartRate\n",
      "0      6    0.9500      70.541387\n",
      "1      7    0.9050      67.309268\n",
      "2      8    0.9500      69.463415\n",
      "3      9    0.9500      69.108108\n",
      "4     10    0.9550      69.160422\n",
      "5     12    0.9525      69.658537\n",
      "6     13    0.9600      74.405405\n",
      "7     14    0.9500      74.334008\n",
      "8     15    0.9450      80.166728\n",
      "9     16    0.9825      74.064589\n",
      "10    17    0.9500      75.323529\n",
      "11    18    0.9600      78.536382\n",
      "12    19    0.9550      86.364000\n",
      "13    20    0.9500      82.050000\n"
     ]
    },
    {
     "data": {
      "application/vnd.plotly.v1+json": {
       "config": {
        "plotlyServerURL": "https://plot.ly"
       },
       "data": [
        {
         "line": {
          "color": "blue"
         },
         "name": "Mean SpO2",
         "type": "scatter",
         "x": [
          6,
          7,
          8,
          9,
          10,
          12,
          13,
          14,
          15,
          16,
          17,
          18,
          19,
          20
         ],
         "y": [
          0.95,
          0.905,
          0.95,
          0.95,
          0.955,
          0.9524999999999999,
          0.96,
          0.95,
          0.9450000000000001,
          0.9824999999999999,
          0.95,
          0.96,
          0.955,
          0.95
         ]
        },
        {
         "line": {
          "color": "red"
         },
         "name": "Mean Heart Rate",
         "type": "scatter",
         "x": [
          6,
          7,
          8,
          9,
          10,
          12,
          13,
          14,
          15,
          16,
          17,
          18,
          19,
          20
         ],
         "y": [
          70.54138666666667,
          67.309268,
          69.46341463414635,
          69.10810810810811,
          69.1604219512195,
          69.65853658536585,
          74.4054054054054,
          74.33400816326531,
          80.16672799999999,
          74.06458888888889,
          75.32352941176471,
          78.5363822580645,
          86.364,
          82.05
         ],
         "yaxis": "y2"
        }
       ],
       "layout": {
        "font": {
         "size": 16
        },
        "legend": {
         "bgcolor": "White",
         "bordercolor": "Black",
         "borderwidth": 2,
         "font": {
          "color": "black",
          "family": "sans-serif",
          "size": 12
         },
         "traceorder": "normal",
         "x": 1.05,
         "y": 1.25
        },
        "template": {
         "data": {
          "bar": [
           {
            "error_x": {
             "color": "#2a3f5f"
            },
            "error_y": {
             "color": "#2a3f5f"
            },
            "marker": {
             "line": {
              "color": "#E5ECF6",
              "width": 0.5
             },
             "pattern": {
              "fillmode": "overlay",
              "size": 10,
              "solidity": 0.2
             }
            },
            "type": "bar"
           }
          ],
          "barpolar": [
           {
            "marker": {
             "line": {
              "color": "#E5ECF6",
              "width": 0.5
             },
             "pattern": {
              "fillmode": "overlay",
              "size": 10,
              "solidity": 0.2
             }
            },
            "type": "barpolar"
           }
          ],
          "carpet": [
           {
            "aaxis": {
             "endlinecolor": "#2a3f5f",
             "gridcolor": "white",
             "linecolor": "white",
             "minorgridcolor": "white",
             "startlinecolor": "#2a3f5f"
            },
            "baxis": {
             "endlinecolor": "#2a3f5f",
             "gridcolor": "white",
             "linecolor": "white",
             "minorgridcolor": "white",
             "startlinecolor": "#2a3f5f"
            },
            "type": "carpet"
           }
          ],
          "choropleth": [
           {
            "colorbar": {
             "outlinewidth": 0,
             "ticks": ""
            },
            "type": "choropleth"
           }
          ],
          "contour": [
           {
            "colorbar": {
             "outlinewidth": 0,
             "ticks": ""
            },
            "colorscale": [
             [
              0,
              "#0d0887"
             ],
             [
              0.1111111111111111,
              "#46039f"
             ],
             [
              0.2222222222222222,
              "#7201a8"
             ],
             [
              0.3333333333333333,
              "#9c179e"
             ],
             [
              0.4444444444444444,
              "#bd3786"
             ],
             [
              0.5555555555555556,
              "#d8576b"
             ],
             [
              0.6666666666666666,
              "#ed7953"
             ],
             [
              0.7777777777777778,
              "#fb9f3a"
             ],
             [
              0.8888888888888888,
              "#fdca26"
             ],
             [
              1,
              "#f0f921"
             ]
            ],
            "type": "contour"
           }
          ],
          "contourcarpet": [
           {
            "colorbar": {
             "outlinewidth": 0,
             "ticks": ""
            },
            "type": "contourcarpet"
           }
          ],
          "heatmap": [
           {
            "colorbar": {
             "outlinewidth": 0,
             "ticks": ""
            },
            "colorscale": [
             [
              0,
              "#0d0887"
             ],
             [
              0.1111111111111111,
              "#46039f"
             ],
             [
              0.2222222222222222,
              "#7201a8"
             ],
             [
              0.3333333333333333,
              "#9c179e"
             ],
             [
              0.4444444444444444,
              "#bd3786"
             ],
             [
              0.5555555555555556,
              "#d8576b"
             ],
             [
              0.6666666666666666,
              "#ed7953"
             ],
             [
              0.7777777777777778,
              "#fb9f3a"
             ],
             [
              0.8888888888888888,
              "#fdca26"
             ],
             [
              1,
              "#f0f921"
             ]
            ],
            "type": "heatmap"
           }
          ],
          "heatmapgl": [
           {
            "colorbar": {
             "outlinewidth": 0,
             "ticks": ""
            },
            "colorscale": [
             [
              0,
              "#0d0887"
             ],
             [
              0.1111111111111111,
              "#46039f"
             ],
             [
              0.2222222222222222,
              "#7201a8"
             ],
             [
              0.3333333333333333,
              "#9c179e"
             ],
             [
              0.4444444444444444,
              "#bd3786"
             ],
             [
              0.5555555555555556,
              "#d8576b"
             ],
             [
              0.6666666666666666,
              "#ed7953"
             ],
             [
              0.7777777777777778,
              "#fb9f3a"
             ],
             [
              0.8888888888888888,
              "#fdca26"
             ],
             [
              1,
              "#f0f921"
             ]
            ],
            "type": "heatmapgl"
           }
          ],
          "histogram": [
           {
            "marker": {
             "pattern": {
              "fillmode": "overlay",
              "size": 10,
              "solidity": 0.2
             }
            },
            "type": "histogram"
           }
          ],
          "histogram2d": [
           {
            "colorbar": {
             "outlinewidth": 0,
             "ticks": ""
            },
            "colorscale": [
             [
              0,
              "#0d0887"
             ],
             [
              0.1111111111111111,
              "#46039f"
             ],
             [
              0.2222222222222222,
              "#7201a8"
             ],
             [
              0.3333333333333333,
              "#9c179e"
             ],
             [
              0.4444444444444444,
              "#bd3786"
             ],
             [
              0.5555555555555556,
              "#d8576b"
             ],
             [
              0.6666666666666666,
              "#ed7953"
             ],
             [
              0.7777777777777778,
              "#fb9f3a"
             ],
             [
              0.8888888888888888,
              "#fdca26"
             ],
             [
              1,
              "#f0f921"
             ]
            ],
            "type": "histogram2d"
           }
          ],
          "histogram2dcontour": [
           {
            "colorbar": {
             "outlinewidth": 0,
             "ticks": ""
            },
            "colorscale": [
             [
              0,
              "#0d0887"
             ],
             [
              0.1111111111111111,
              "#46039f"
             ],
             [
              0.2222222222222222,
              "#7201a8"
             ],
             [
              0.3333333333333333,
              "#9c179e"
             ],
             [
              0.4444444444444444,
              "#bd3786"
             ],
             [
              0.5555555555555556,
              "#d8576b"
             ],
             [
              0.6666666666666666,
              "#ed7953"
             ],
             [
              0.7777777777777778,
              "#fb9f3a"
             ],
             [
              0.8888888888888888,
              "#fdca26"
             ],
             [
              1,
              "#f0f921"
             ]
            ],
            "type": "histogram2dcontour"
           }
          ],
          "mesh3d": [
           {
            "colorbar": {
             "outlinewidth": 0,
             "ticks": ""
            },
            "type": "mesh3d"
           }
          ],
          "parcoords": [
           {
            "line": {
             "colorbar": {
              "outlinewidth": 0,
              "ticks": ""
             }
            },
            "type": "parcoords"
           }
          ],
          "pie": [
           {
            "automargin": true,
            "type": "pie"
           }
          ],
          "scatter": [
           {
            "fillpattern": {
             "fillmode": "overlay",
             "size": 10,
             "solidity": 0.2
            },
            "type": "scatter"
           }
          ],
          "scatter3d": [
           {
            "line": {
             "colorbar": {
              "outlinewidth": 0,
              "ticks": ""
             }
            },
            "marker": {
             "colorbar": {
              "outlinewidth": 0,
              "ticks": ""
             }
            },
            "type": "scatter3d"
           }
          ],
          "scattercarpet": [
           {
            "marker": {
             "colorbar": {
              "outlinewidth": 0,
              "ticks": ""
             }
            },
            "type": "scattercarpet"
           }
          ],
          "scattergeo": [
           {
            "marker": {
             "colorbar": {
              "outlinewidth": 0,
              "ticks": ""
             }
            },
            "type": "scattergeo"
           }
          ],
          "scattergl": [
           {
            "marker": {
             "colorbar": {
              "outlinewidth": 0,
              "ticks": ""
             }
            },
            "type": "scattergl"
           }
          ],
          "scattermapbox": [
           {
            "marker": {
             "colorbar": {
              "outlinewidth": 0,
              "ticks": ""
             }
            },
            "type": "scattermapbox"
           }
          ],
          "scatterpolar": [
           {
            "marker": {
             "colorbar": {
              "outlinewidth": 0,
              "ticks": ""
             }
            },
            "type": "scatterpolar"
           }
          ],
          "scatterpolargl": [
           {
            "marker": {
             "colorbar": {
              "outlinewidth": 0,
              "ticks": ""
             }
            },
            "type": "scatterpolargl"
           }
          ],
          "scatterternary": [
           {
            "marker": {
             "colorbar": {
              "outlinewidth": 0,
              "ticks": ""
             }
            },
            "type": "scatterternary"
           }
          ],
          "surface": [
           {
            "colorbar": {
             "outlinewidth": 0,
             "ticks": ""
            },
            "colorscale": [
             [
              0,
              "#0d0887"
             ],
             [
              0.1111111111111111,
              "#46039f"
             ],
             [
              0.2222222222222222,
              "#7201a8"
             ],
             [
              0.3333333333333333,
              "#9c179e"
             ],
             [
              0.4444444444444444,
              "#bd3786"
             ],
             [
              0.5555555555555556,
              "#d8576b"
             ],
             [
              0.6666666666666666,
              "#ed7953"
             ],
             [
              0.7777777777777778,
              "#fb9f3a"
             ],
             [
              0.8888888888888888,
              "#fdca26"
             ],
             [
              1,
              "#f0f921"
             ]
            ],
            "type": "surface"
           }
          ],
          "table": [
           {
            "cells": {
             "fill": {
              "color": "#EBF0F8"
             },
             "line": {
              "color": "white"
             }
            },
            "header": {
             "fill": {
              "color": "#C8D4E3"
             },
             "line": {
              "color": "white"
             }
            },
            "type": "table"
           }
          ]
         },
         "layout": {
          "annotationdefaults": {
           "arrowcolor": "#2a3f5f",
           "arrowhead": 0,
           "arrowwidth": 1
          },
          "autotypenumbers": "strict",
          "coloraxis": {
           "colorbar": {
            "outlinewidth": 0,
            "ticks": ""
           }
          },
          "colorscale": {
           "diverging": [
            [
             0,
             "#8e0152"
            ],
            [
             0.1,
             "#c51b7d"
            ],
            [
             0.2,
             "#de77ae"
            ],
            [
             0.3,
             "#f1b6da"
            ],
            [
             0.4,
             "#fde0ef"
            ],
            [
             0.5,
             "#f7f7f7"
            ],
            [
             0.6,
             "#e6f5d0"
            ],
            [
             0.7,
             "#b8e186"
            ],
            [
             0.8,
             "#7fbc41"
            ],
            [
             0.9,
             "#4d9221"
            ],
            [
             1,
             "#276419"
            ]
           ],
           "sequential": [
            [
             0,
             "#0d0887"
            ],
            [
             0.1111111111111111,
             "#46039f"
            ],
            [
             0.2222222222222222,
             "#7201a8"
            ],
            [
             0.3333333333333333,
             "#9c179e"
            ],
            [
             0.4444444444444444,
             "#bd3786"
            ],
            [
             0.5555555555555556,
             "#d8576b"
            ],
            [
             0.6666666666666666,
             "#ed7953"
            ],
            [
             0.7777777777777778,
             "#fb9f3a"
            ],
            [
             0.8888888888888888,
             "#fdca26"
            ],
            [
             1,
             "#f0f921"
            ]
           ],
           "sequentialminus": [
            [
             0,
             "#0d0887"
            ],
            [
             0.1111111111111111,
             "#46039f"
            ],
            [
             0.2222222222222222,
             "#7201a8"
            ],
            [
             0.3333333333333333,
             "#9c179e"
            ],
            [
             0.4444444444444444,
             "#bd3786"
            ],
            [
             0.5555555555555556,
             "#d8576b"
            ],
            [
             0.6666666666666666,
             "#ed7953"
            ],
            [
             0.7777777777777778,
             "#fb9f3a"
            ],
            [
             0.8888888888888888,
             "#fdca26"
            ],
            [
             1,
             "#f0f921"
            ]
           ]
          },
          "colorway": [
           "#636efa",
           "#EF553B",
           "#00cc96",
           "#ab63fa",
           "#FFA15A",
           "#19d3f3",
           "#FF6692",
           "#B6E880",
           "#FF97FF",
           "#FECB52"
          ],
          "font": {
           "color": "#2a3f5f"
          },
          "geo": {
           "bgcolor": "white",
           "lakecolor": "white",
           "landcolor": "#E5ECF6",
           "showlakes": true,
           "showland": true,
           "subunitcolor": "white"
          },
          "hoverlabel": {
           "align": "left"
          },
          "hovermode": "closest",
          "mapbox": {
           "style": "light"
          },
          "paper_bgcolor": "white",
          "plot_bgcolor": "#E5ECF6",
          "polar": {
           "angularaxis": {
            "gridcolor": "white",
            "linecolor": "white",
            "ticks": ""
           },
           "bgcolor": "#E5ECF6",
           "radialaxis": {
            "gridcolor": "white",
            "linecolor": "white",
            "ticks": ""
           }
          },
          "scene": {
           "xaxis": {
            "backgroundcolor": "#E5ECF6",
            "gridcolor": "white",
            "gridwidth": 2,
            "linecolor": "white",
            "showbackground": true,
            "ticks": "",
            "zerolinecolor": "white"
           },
           "yaxis": {
            "backgroundcolor": "#E5ECF6",
            "gridcolor": "white",
            "gridwidth": 2,
            "linecolor": "white",
            "showbackground": true,
            "ticks": "",
            "zerolinecolor": "white"
           },
           "zaxis": {
            "backgroundcolor": "#E5ECF6",
            "gridcolor": "white",
            "gridwidth": 2,
            "linecolor": "white",
            "showbackground": true,
            "ticks": "",
            "zerolinecolor": "white"
           }
          },
          "shapedefaults": {
           "line": {
            "color": "#2a3f5f"
           }
          },
          "ternary": {
           "aaxis": {
            "gridcolor": "white",
            "linecolor": "white",
            "ticks": ""
           },
           "baxis": {
            "gridcolor": "white",
            "linecolor": "white",
            "ticks": ""
           },
           "bgcolor": "#E5ECF6",
           "caxis": {
            "gridcolor": "white",
            "linecolor": "white",
            "ticks": ""
           }
          },
          "title": {
           "x": 0.05
          },
          "xaxis": {
           "automargin": true,
           "gridcolor": "white",
           "linecolor": "white",
           "ticks": "",
           "title": {
            "standoff": 15
           },
           "zerolinecolor": "white",
           "zerolinewidth": 2
          },
          "yaxis": {
           "automargin": true,
           "gridcolor": "white",
           "linecolor": "white",
           "ticks": "",
           "title": {
            "standoff": 15
           },
           "zerolinecolor": "white",
           "zerolinewidth": 2
          }
         }
        },
        "title": {
         "text": "Mean Heart Rate/SpO2 Averaged over 3 Days"
        },
        "xaxis": {
         "title": {
          "text": "Hour"
         }
        },
        "yaxis": {
         "title": {
          "text": "Mean SpO2"
         }
        },
        "yaxis2": {
         "overlaying": "y",
         "side": "right",
         "title": {
          "text": "Mean Heart Rate"
         }
        }
       }
      },
      "text/html": [
       "<div>                            <div id=\"90487c3d-8037-46d4-9420-8ec2a6d03911\" class=\"plotly-graph-div\" style=\"height:525px; width:100%;\"></div>            <script type=\"text/javascript\">                require([\"plotly\"], function(Plotly) {                    window.PLOTLYENV=window.PLOTLYENV || {};                                    if (document.getElementById(\"90487c3d-8037-46d4-9420-8ec2a6d03911\")) {                    Plotly.newPlot(                        \"90487c3d-8037-46d4-9420-8ec2a6d03911\",                        [{\"line\":{\"color\":\"blue\"},\"name\":\"Mean SpO2\",\"x\":[6,7,8,9,10,12,13,14,15,16,17,18,19,20],\"y\":[0.95,0.905,0.95,0.95,0.955,0.9524999999999999,0.96,0.95,0.9450000000000001,0.9824999999999999,0.95,0.96,0.955,0.95],\"type\":\"scatter\"},{\"line\":{\"color\":\"red\"},\"name\":\"Mean Heart Rate\",\"x\":[6,7,8,9,10,12,13,14,15,16,17,18,19,20],\"y\":[70.54138666666667,67.309268,69.46341463414635,69.10810810810811,69.1604219512195,69.65853658536585,74.4054054054054,74.33400816326531,80.16672799999999,74.06458888888889,75.32352941176471,78.5363822580645,86.364,82.05],\"yaxis\":\"y2\",\"type\":\"scatter\"}],                        {\"font\":{\"size\":16},\"legend\":{\"bgcolor\":\"White\",\"bordercolor\":\"Black\",\"borderwidth\":2,\"font\":{\"color\":\"black\",\"family\":\"sans-serif\",\"size\":12},\"traceorder\":\"normal\",\"x\":1.05,\"y\":1.25},\"title\":{\"text\":\"Mean Heart Rate\\u002fSpO2 Averaged over 3 Days\"},\"xaxis\":{\"title\":{\"text\":\"Hour\"}},\"yaxis\":{\"title\":{\"text\":\"Mean SpO2\"}},\"yaxis2\":{\"overlaying\":\"y\",\"side\":\"right\",\"title\":{\"text\":\"Mean Heart Rate\"}},\"template\":{\"data\":{\"histogram2dcontour\":[{\"type\":\"histogram2dcontour\",\"colorbar\":{\"outlinewidth\":0,\"ticks\":\"\"},\"colorscale\":[[0.0,\"#0d0887\"],[0.1111111111111111,\"#46039f\"],[0.2222222222222222,\"#7201a8\"],[0.3333333333333333,\"#9c179e\"],[0.4444444444444444,\"#bd3786\"],[0.5555555555555556,\"#d8576b\"],[0.6666666666666666,\"#ed7953\"],[0.7777777777777778,\"#fb9f3a\"],[0.8888888888888888,\"#fdca26\"],[1.0,\"#f0f921\"]]}],\"choropleth\":[{\"type\":\"choropleth\",\"colorbar\":{\"outlinewidth\":0,\"ticks\":\"\"}}],\"histogram2d\":[{\"type\":\"histogram2d\",\"colorbar\":{\"outlinewidth\":0,\"ticks\":\"\"},\"colorscale\":[[0.0,\"#0d0887\"],[0.1111111111111111,\"#46039f\"],[0.2222222222222222,\"#7201a8\"],[0.3333333333333333,\"#9c179e\"],[0.4444444444444444,\"#bd3786\"],[0.5555555555555556,\"#d8576b\"],[0.6666666666666666,\"#ed7953\"],[0.7777777777777778,\"#fb9f3a\"],[0.8888888888888888,\"#fdca26\"],[1.0,\"#f0f921\"]]}],\"heatmap\":[{\"type\":\"heatmap\",\"colorbar\":{\"outlinewidth\":0,\"ticks\":\"\"},\"colorscale\":[[0.0,\"#0d0887\"],[0.1111111111111111,\"#46039f\"],[0.2222222222222222,\"#7201a8\"],[0.3333333333333333,\"#9c179e\"],[0.4444444444444444,\"#bd3786\"],[0.5555555555555556,\"#d8576b\"],[0.6666666666666666,\"#ed7953\"],[0.7777777777777778,\"#fb9f3a\"],[0.8888888888888888,\"#fdca26\"],[1.0,\"#f0f921\"]]}],\"heatmapgl\":[{\"type\":\"heatmapgl\",\"colorbar\":{\"outlinewidth\":0,\"ticks\":\"\"},\"colorscale\":[[0.0,\"#0d0887\"],[0.1111111111111111,\"#46039f\"],[0.2222222222222222,\"#7201a8\"],[0.3333333333333333,\"#9c179e\"],[0.4444444444444444,\"#bd3786\"],[0.5555555555555556,\"#d8576b\"],[0.6666666666666666,\"#ed7953\"],[0.7777777777777778,\"#fb9f3a\"],[0.8888888888888888,\"#fdca26\"],[1.0,\"#f0f921\"]]}],\"contourcarpet\":[{\"type\":\"contourcarpet\",\"colorbar\":{\"outlinewidth\":0,\"ticks\":\"\"}}],\"contour\":[{\"type\":\"contour\",\"colorbar\":{\"outlinewidth\":0,\"ticks\":\"\"},\"colorscale\":[[0.0,\"#0d0887\"],[0.1111111111111111,\"#46039f\"],[0.2222222222222222,\"#7201a8\"],[0.3333333333333333,\"#9c179e\"],[0.4444444444444444,\"#bd3786\"],[0.5555555555555556,\"#d8576b\"],[0.6666666666666666,\"#ed7953\"],[0.7777777777777778,\"#fb9f3a\"],[0.8888888888888888,\"#fdca26\"],[1.0,\"#f0f921\"]]}],\"surface\":[{\"type\":\"surface\",\"colorbar\":{\"outlinewidth\":0,\"ticks\":\"\"},\"colorscale\":[[0.0,\"#0d0887\"],[0.1111111111111111,\"#46039f\"],[0.2222222222222222,\"#7201a8\"],[0.3333333333333333,\"#9c179e\"],[0.4444444444444444,\"#bd3786\"],[0.5555555555555556,\"#d8576b\"],[0.6666666666666666,\"#ed7953\"],[0.7777777777777778,\"#fb9f3a\"],[0.8888888888888888,\"#fdca26\"],[1.0,\"#f0f921\"]]}],\"mesh3d\":[{\"type\":\"mesh3d\",\"colorbar\":{\"outlinewidth\":0,\"ticks\":\"\"}}],\"scatter\":[{\"fillpattern\":{\"fillmode\":\"overlay\",\"size\":10,\"solidity\":0.2},\"type\":\"scatter\"}],\"parcoords\":[{\"type\":\"parcoords\",\"line\":{\"colorbar\":{\"outlinewidth\":0,\"ticks\":\"\"}}}],\"scatterpolargl\":[{\"type\":\"scatterpolargl\",\"marker\":{\"colorbar\":{\"outlinewidth\":0,\"ticks\":\"\"}}}],\"bar\":[{\"error_x\":{\"color\":\"#2a3f5f\"},\"error_y\":{\"color\":\"#2a3f5f\"},\"marker\":{\"line\":{\"color\":\"#E5ECF6\",\"width\":0.5},\"pattern\":{\"fillmode\":\"overlay\",\"size\":10,\"solidity\":0.2}},\"type\":\"bar\"}],\"scattergeo\":[{\"type\":\"scattergeo\",\"marker\":{\"colorbar\":{\"outlinewidth\":0,\"ticks\":\"\"}}}],\"scatterpolar\":[{\"type\":\"scatterpolar\",\"marker\":{\"colorbar\":{\"outlinewidth\":0,\"ticks\":\"\"}}}],\"histogram\":[{\"marker\":{\"pattern\":{\"fillmode\":\"overlay\",\"size\":10,\"solidity\":0.2}},\"type\":\"histogram\"}],\"scattergl\":[{\"type\":\"scattergl\",\"marker\":{\"colorbar\":{\"outlinewidth\":0,\"ticks\":\"\"}}}],\"scatter3d\":[{\"type\":\"scatter3d\",\"line\":{\"colorbar\":{\"outlinewidth\":0,\"ticks\":\"\"}},\"marker\":{\"colorbar\":{\"outlinewidth\":0,\"ticks\":\"\"}}}],\"scattermapbox\":[{\"type\":\"scattermapbox\",\"marker\":{\"colorbar\":{\"outlinewidth\":0,\"ticks\":\"\"}}}],\"scatterternary\":[{\"type\":\"scatterternary\",\"marker\":{\"colorbar\":{\"outlinewidth\":0,\"ticks\":\"\"}}}],\"scattercarpet\":[{\"type\":\"scattercarpet\",\"marker\":{\"colorbar\":{\"outlinewidth\":0,\"ticks\":\"\"}}}],\"carpet\":[{\"aaxis\":{\"endlinecolor\":\"#2a3f5f\",\"gridcolor\":\"white\",\"linecolor\":\"white\",\"minorgridcolor\":\"white\",\"startlinecolor\":\"#2a3f5f\"},\"baxis\":{\"endlinecolor\":\"#2a3f5f\",\"gridcolor\":\"white\",\"linecolor\":\"white\",\"minorgridcolor\":\"white\",\"startlinecolor\":\"#2a3f5f\"},\"type\":\"carpet\"}],\"table\":[{\"cells\":{\"fill\":{\"color\":\"#EBF0F8\"},\"line\":{\"color\":\"white\"}},\"header\":{\"fill\":{\"color\":\"#C8D4E3\"},\"line\":{\"color\":\"white\"}},\"type\":\"table\"}],\"barpolar\":[{\"marker\":{\"line\":{\"color\":\"#E5ECF6\",\"width\":0.5},\"pattern\":{\"fillmode\":\"overlay\",\"size\":10,\"solidity\":0.2}},\"type\":\"barpolar\"}],\"pie\":[{\"automargin\":true,\"type\":\"pie\"}]},\"layout\":{\"autotypenumbers\":\"strict\",\"colorway\":[\"#636efa\",\"#EF553B\",\"#00cc96\",\"#ab63fa\",\"#FFA15A\",\"#19d3f3\",\"#FF6692\",\"#B6E880\",\"#FF97FF\",\"#FECB52\"],\"font\":{\"color\":\"#2a3f5f\"},\"hovermode\":\"closest\",\"hoverlabel\":{\"align\":\"left\"},\"paper_bgcolor\":\"white\",\"plot_bgcolor\":\"#E5ECF6\",\"polar\":{\"bgcolor\":\"#E5ECF6\",\"angularaxis\":{\"gridcolor\":\"white\",\"linecolor\":\"white\",\"ticks\":\"\"},\"radialaxis\":{\"gridcolor\":\"white\",\"linecolor\":\"white\",\"ticks\":\"\"}},\"ternary\":{\"bgcolor\":\"#E5ECF6\",\"aaxis\":{\"gridcolor\":\"white\",\"linecolor\":\"white\",\"ticks\":\"\"},\"baxis\":{\"gridcolor\":\"white\",\"linecolor\":\"white\",\"ticks\":\"\"},\"caxis\":{\"gridcolor\":\"white\",\"linecolor\":\"white\",\"ticks\":\"\"}},\"coloraxis\":{\"colorbar\":{\"outlinewidth\":0,\"ticks\":\"\"}},\"colorscale\":{\"sequential\":[[0.0,\"#0d0887\"],[0.1111111111111111,\"#46039f\"],[0.2222222222222222,\"#7201a8\"],[0.3333333333333333,\"#9c179e\"],[0.4444444444444444,\"#bd3786\"],[0.5555555555555556,\"#d8576b\"],[0.6666666666666666,\"#ed7953\"],[0.7777777777777778,\"#fb9f3a\"],[0.8888888888888888,\"#fdca26\"],[1.0,\"#f0f921\"]],\"sequentialminus\":[[0.0,\"#0d0887\"],[0.1111111111111111,\"#46039f\"],[0.2222222222222222,\"#7201a8\"],[0.3333333333333333,\"#9c179e\"],[0.4444444444444444,\"#bd3786\"],[0.5555555555555556,\"#d8576b\"],[0.6666666666666666,\"#ed7953\"],[0.7777777777777778,\"#fb9f3a\"],[0.8888888888888888,\"#fdca26\"],[1.0,\"#f0f921\"]],\"diverging\":[[0,\"#8e0152\"],[0.1,\"#c51b7d\"],[0.2,\"#de77ae\"],[0.3,\"#f1b6da\"],[0.4,\"#fde0ef\"],[0.5,\"#f7f7f7\"],[0.6,\"#e6f5d0\"],[0.7,\"#b8e186\"],[0.8,\"#7fbc41\"],[0.9,\"#4d9221\"],[1,\"#276419\"]]},\"xaxis\":{\"gridcolor\":\"white\",\"linecolor\":\"white\",\"ticks\":\"\",\"title\":{\"standoff\":15},\"zerolinecolor\":\"white\",\"automargin\":true,\"zerolinewidth\":2},\"yaxis\":{\"gridcolor\":\"white\",\"linecolor\":\"white\",\"ticks\":\"\",\"title\":{\"standoff\":15},\"zerolinecolor\":\"white\",\"automargin\":true,\"zerolinewidth\":2},\"scene\":{\"xaxis\":{\"backgroundcolor\":\"#E5ECF6\",\"gridcolor\":\"white\",\"linecolor\":\"white\",\"showbackground\":true,\"ticks\":\"\",\"zerolinecolor\":\"white\",\"gridwidth\":2},\"yaxis\":{\"backgroundcolor\":\"#E5ECF6\",\"gridcolor\":\"white\",\"linecolor\":\"white\",\"showbackground\":true,\"ticks\":\"\",\"zerolinecolor\":\"white\",\"gridwidth\":2},\"zaxis\":{\"backgroundcolor\":\"#E5ECF6\",\"gridcolor\":\"white\",\"linecolor\":\"white\",\"showbackground\":true,\"ticks\":\"\",\"zerolinecolor\":\"white\",\"gridwidth\":2}},\"shapedefaults\":{\"line\":{\"color\":\"#2a3f5f\"}},\"annotationdefaults\":{\"arrowcolor\":\"#2a3f5f\",\"arrowhead\":0,\"arrowwidth\":1},\"geo\":{\"bgcolor\":\"white\",\"landcolor\":\"#E5ECF6\",\"subunitcolor\":\"white\",\"showland\":true,\"showlakes\":true,\"lakecolor\":\"white\"},\"title\":{\"x\":0.05},\"mapbox\":{\"style\":\"light\"}}}},                        {\"responsive\": true}                    ).then(function(){\n",
       "                            \n",
       "var gd = document.getElementById('90487c3d-8037-46d4-9420-8ec2a6d03911');\n",
       "var x = new MutationObserver(function (mutations, observer) {{\n",
       "        var display = window.getComputedStyle(gd).display;\n",
       "        if (!display || display === 'none') {{\n",
       "            console.log([gd, 'removed!']);\n",
       "            Plotly.purge(gd);\n",
       "            observer.disconnect();\n",
       "        }}\n",
       "}});\n",
       "\n",
       "// Listen for the removal of the full notebook cells\n",
       "var notebookContainer = gd.closest('#notebook-container');\n",
       "if (notebookContainer) {{\n",
       "    x.observe(notebookContainer, {childList: true});\n",
       "}}\n",
       "\n",
       "// Listen for the clearing of the current output cell\n",
       "var outputEl = gd.closest('.output');\n",
       "if (outputEl) {{\n",
       "    x.observe(outputEl, {childList: true});\n",
       "}}\n",
       "\n",
       "                        })                };                });            </script>        </div>"
      ]
     },
     "metadata": {},
     "output_type": "display_data"
    }
   ],
   "source": [
    "import pandas as pd\n",
    "import plotly.graph_objects as go\n",
    "from plotly.subplots import make_subplots\n",
    "\n",
    "heartRateDF = pd.read_csv('../data/descriptive_statistics/mean_heart_rate_three_days.csv')\n",
    "spo2DF = pd.read_csv('../data/descriptive_statistics/mean_spo2_three_days.csv')\n",
    "\n",
    "groupedDF1 = spo2DF.groupby('hour')['meanSpo2'].mean().reset_index()\n",
    "groupedDF2 = heartRateDF.groupby('hour')['meanHeartRate'].mean().reset_index()\n",
    "mergedDf = pd.merge(groupedDF1, groupedDF2, on='hour', how='inner')\n",
    "\n",
    "print(mergedDf)\n",
    "# Create a trace for 'meanSteps'\n",
    "trace1 = go.Scatter(\n",
    "    x=mergedDf['hour'],\n",
    "    y=mergedDf['meanSpo2'],\n",
    "    name='Mean SpO2',\n",
    "    line=dict(color='blue')\n",
    ")\n",
    "\n",
    "# Create a trace for 'meanHeartRate'\n",
    "trace2 = go.Scatter(\n",
    "    x=mergedDf['hour'],\n",
    "    y=mergedDf['meanHeartRate'],\n",
    "    name='Mean Heart Rate',\n",
    "    line=dict(color='red'),\n",
    "    yaxis='y2'\n",
    ")\n",
    "\n",
    "# Create a layout with two y-axes\n",
    "layout = go.Layout(\n",
    "    yaxis=dict(title='Mean SpO2'),\n",
    "    xaxis=dict(title='Hour'),\n",
    "    yaxis2=dict(title='Mean Heart Rate', overlaying='y', side='right'),\n",
    "    title=\"Mean Heart Rate/SpO2 Averaged over 3 Days\",\n",
    "    font=dict(size=16),\n",
    "    legend=dict(\n",
    "        x=1.05,\n",
    "        y=1.25,\n",
    "        traceorder=\"normal\",\n",
    "        font=dict(\n",
    "            family=\"sans-serif\",\n",
    "            size=12,\n",
    "            color=\"black\"\n",
    "        ),\n",
    "        bgcolor=\"White\",\n",
    "        bordercolor=\"Black\",\n",
    "        borderwidth=2\n",
    "    )\n",
    "\n",
    ")\n",
    "\n",
    "# Create a figure and add the traces\n",
    "fig = go.Figure(data=[trace1, trace2], layout=layout)\n",
    "\n",
    "fig.show()"
   ]
  },
  {
   "cell_type": "markdown",
   "metadata": {},
   "source": [
    "### Mean SpO2/Steps Averaged over 3 Days"
   ]
  },
  {
   "cell_type": "code",
   "execution_count": 17,
   "metadata": {},
   "outputs": [
    {
     "data": {
      "application/vnd.plotly.v1+json": {
       "config": {
        "plotlyServerURL": "https://plot.ly"
       },
       "data": [
        {
         "line": {
          "color": "blue"
         },
         "name": "Mean SpO2",
         "type": "scatter",
         "x": [
          6,
          7,
          8,
          9,
          10,
          12,
          13,
          14,
          15,
          16,
          17,
          18,
          19,
          20
         ],
         "y": [
          0.95,
          0.905,
          0.95,
          0.95,
          0.955,
          0.9524999999999999,
          0.96,
          0.95,
          0.9450000000000001,
          0.9824999999999999,
          0.95,
          0.96,
          0.955,
          0.95
         ]
        },
        {
         "line": {
          "color": "red"
         },
         "name": "Mean Steps",
         "type": "scatter",
         "x": [
          6,
          7,
          8,
          9,
          10,
          12,
          13,
          14,
          15,
          16,
          17,
          18,
          19,
          20
         ],
         "y": [
          78.88888888888889,
          45.285714285714285,
          115.25,
          31.5,
          20,
          88.81818181818181,
          38,
          153.47826086956522,
          91.6,
          60.76923076923077,
          83,
          89.66666666666667,
          36.25,
          64.33333333333333
         ],
         "yaxis": "y2"
        }
       ],
       "layout": {
        "font": {
         "size": 16
        },
        "legend": {
         "bgcolor": "White",
         "bordercolor": "Black",
         "borderwidth": 2,
         "font": {
          "color": "black",
          "family": "sans-serif",
          "size": 12
         },
         "traceorder": "normal",
         "x": 1.05,
         "y": 1.25
        },
        "template": {
         "data": {
          "bar": [
           {
            "error_x": {
             "color": "#2a3f5f"
            },
            "error_y": {
             "color": "#2a3f5f"
            },
            "marker": {
             "line": {
              "color": "#E5ECF6",
              "width": 0.5
             },
             "pattern": {
              "fillmode": "overlay",
              "size": 10,
              "solidity": 0.2
             }
            },
            "type": "bar"
           }
          ],
          "barpolar": [
           {
            "marker": {
             "line": {
              "color": "#E5ECF6",
              "width": 0.5
             },
             "pattern": {
              "fillmode": "overlay",
              "size": 10,
              "solidity": 0.2
             }
            },
            "type": "barpolar"
           }
          ],
          "carpet": [
           {
            "aaxis": {
             "endlinecolor": "#2a3f5f",
             "gridcolor": "white",
             "linecolor": "white",
             "minorgridcolor": "white",
             "startlinecolor": "#2a3f5f"
            },
            "baxis": {
             "endlinecolor": "#2a3f5f",
             "gridcolor": "white",
             "linecolor": "white",
             "minorgridcolor": "white",
             "startlinecolor": "#2a3f5f"
            },
            "type": "carpet"
           }
          ],
          "choropleth": [
           {
            "colorbar": {
             "outlinewidth": 0,
             "ticks": ""
            },
            "type": "choropleth"
           }
          ],
          "contour": [
           {
            "colorbar": {
             "outlinewidth": 0,
             "ticks": ""
            },
            "colorscale": [
             [
              0,
              "#0d0887"
             ],
             [
              0.1111111111111111,
              "#46039f"
             ],
             [
              0.2222222222222222,
              "#7201a8"
             ],
             [
              0.3333333333333333,
              "#9c179e"
             ],
             [
              0.4444444444444444,
              "#bd3786"
             ],
             [
              0.5555555555555556,
              "#d8576b"
             ],
             [
              0.6666666666666666,
              "#ed7953"
             ],
             [
              0.7777777777777778,
              "#fb9f3a"
             ],
             [
              0.8888888888888888,
              "#fdca26"
             ],
             [
              1,
              "#f0f921"
             ]
            ],
            "type": "contour"
           }
          ],
          "contourcarpet": [
           {
            "colorbar": {
             "outlinewidth": 0,
             "ticks": ""
            },
            "type": "contourcarpet"
           }
          ],
          "heatmap": [
           {
            "colorbar": {
             "outlinewidth": 0,
             "ticks": ""
            },
            "colorscale": [
             [
              0,
              "#0d0887"
             ],
             [
              0.1111111111111111,
              "#46039f"
             ],
             [
              0.2222222222222222,
              "#7201a8"
             ],
             [
              0.3333333333333333,
              "#9c179e"
             ],
             [
              0.4444444444444444,
              "#bd3786"
             ],
             [
              0.5555555555555556,
              "#d8576b"
             ],
             [
              0.6666666666666666,
              "#ed7953"
             ],
             [
              0.7777777777777778,
              "#fb9f3a"
             ],
             [
              0.8888888888888888,
              "#fdca26"
             ],
             [
              1,
              "#f0f921"
             ]
            ],
            "type": "heatmap"
           }
          ],
          "heatmapgl": [
           {
            "colorbar": {
             "outlinewidth": 0,
             "ticks": ""
            },
            "colorscale": [
             [
              0,
              "#0d0887"
             ],
             [
              0.1111111111111111,
              "#46039f"
             ],
             [
              0.2222222222222222,
              "#7201a8"
             ],
             [
              0.3333333333333333,
              "#9c179e"
             ],
             [
              0.4444444444444444,
              "#bd3786"
             ],
             [
              0.5555555555555556,
              "#d8576b"
             ],
             [
              0.6666666666666666,
              "#ed7953"
             ],
             [
              0.7777777777777778,
              "#fb9f3a"
             ],
             [
              0.8888888888888888,
              "#fdca26"
             ],
             [
              1,
              "#f0f921"
             ]
            ],
            "type": "heatmapgl"
           }
          ],
          "histogram": [
           {
            "marker": {
             "pattern": {
              "fillmode": "overlay",
              "size": 10,
              "solidity": 0.2
             }
            },
            "type": "histogram"
           }
          ],
          "histogram2d": [
           {
            "colorbar": {
             "outlinewidth": 0,
             "ticks": ""
            },
            "colorscale": [
             [
              0,
              "#0d0887"
             ],
             [
              0.1111111111111111,
              "#46039f"
             ],
             [
              0.2222222222222222,
              "#7201a8"
             ],
             [
              0.3333333333333333,
              "#9c179e"
             ],
             [
              0.4444444444444444,
              "#bd3786"
             ],
             [
              0.5555555555555556,
              "#d8576b"
             ],
             [
              0.6666666666666666,
              "#ed7953"
             ],
             [
              0.7777777777777778,
              "#fb9f3a"
             ],
             [
              0.8888888888888888,
              "#fdca26"
             ],
             [
              1,
              "#f0f921"
             ]
            ],
            "type": "histogram2d"
           }
          ],
          "histogram2dcontour": [
           {
            "colorbar": {
             "outlinewidth": 0,
             "ticks": ""
            },
            "colorscale": [
             [
              0,
              "#0d0887"
             ],
             [
              0.1111111111111111,
              "#46039f"
             ],
             [
              0.2222222222222222,
              "#7201a8"
             ],
             [
              0.3333333333333333,
              "#9c179e"
             ],
             [
              0.4444444444444444,
              "#bd3786"
             ],
             [
              0.5555555555555556,
              "#d8576b"
             ],
             [
              0.6666666666666666,
              "#ed7953"
             ],
             [
              0.7777777777777778,
              "#fb9f3a"
             ],
             [
              0.8888888888888888,
              "#fdca26"
             ],
             [
              1,
              "#f0f921"
             ]
            ],
            "type": "histogram2dcontour"
           }
          ],
          "mesh3d": [
           {
            "colorbar": {
             "outlinewidth": 0,
             "ticks": ""
            },
            "type": "mesh3d"
           }
          ],
          "parcoords": [
           {
            "line": {
             "colorbar": {
              "outlinewidth": 0,
              "ticks": ""
             }
            },
            "type": "parcoords"
           }
          ],
          "pie": [
           {
            "automargin": true,
            "type": "pie"
           }
          ],
          "scatter": [
           {
            "fillpattern": {
             "fillmode": "overlay",
             "size": 10,
             "solidity": 0.2
            },
            "type": "scatter"
           }
          ],
          "scatter3d": [
           {
            "line": {
             "colorbar": {
              "outlinewidth": 0,
              "ticks": ""
             }
            },
            "marker": {
             "colorbar": {
              "outlinewidth": 0,
              "ticks": ""
             }
            },
            "type": "scatter3d"
           }
          ],
          "scattercarpet": [
           {
            "marker": {
             "colorbar": {
              "outlinewidth": 0,
              "ticks": ""
             }
            },
            "type": "scattercarpet"
           }
          ],
          "scattergeo": [
           {
            "marker": {
             "colorbar": {
              "outlinewidth": 0,
              "ticks": ""
             }
            },
            "type": "scattergeo"
           }
          ],
          "scattergl": [
           {
            "marker": {
             "colorbar": {
              "outlinewidth": 0,
              "ticks": ""
             }
            },
            "type": "scattergl"
           }
          ],
          "scattermapbox": [
           {
            "marker": {
             "colorbar": {
              "outlinewidth": 0,
              "ticks": ""
             }
            },
            "type": "scattermapbox"
           }
          ],
          "scatterpolar": [
           {
            "marker": {
             "colorbar": {
              "outlinewidth": 0,
              "ticks": ""
             }
            },
            "type": "scatterpolar"
           }
          ],
          "scatterpolargl": [
           {
            "marker": {
             "colorbar": {
              "outlinewidth": 0,
              "ticks": ""
             }
            },
            "type": "scatterpolargl"
           }
          ],
          "scatterternary": [
           {
            "marker": {
             "colorbar": {
              "outlinewidth": 0,
              "ticks": ""
             }
            },
            "type": "scatterternary"
           }
          ],
          "surface": [
           {
            "colorbar": {
             "outlinewidth": 0,
             "ticks": ""
            },
            "colorscale": [
             [
              0,
              "#0d0887"
             ],
             [
              0.1111111111111111,
              "#46039f"
             ],
             [
              0.2222222222222222,
              "#7201a8"
             ],
             [
              0.3333333333333333,
              "#9c179e"
             ],
             [
              0.4444444444444444,
              "#bd3786"
             ],
             [
              0.5555555555555556,
              "#d8576b"
             ],
             [
              0.6666666666666666,
              "#ed7953"
             ],
             [
              0.7777777777777778,
              "#fb9f3a"
             ],
             [
              0.8888888888888888,
              "#fdca26"
             ],
             [
              1,
              "#f0f921"
             ]
            ],
            "type": "surface"
           }
          ],
          "table": [
           {
            "cells": {
             "fill": {
              "color": "#EBF0F8"
             },
             "line": {
              "color": "white"
             }
            },
            "header": {
             "fill": {
              "color": "#C8D4E3"
             },
             "line": {
              "color": "white"
             }
            },
            "type": "table"
           }
          ]
         },
         "layout": {
          "annotationdefaults": {
           "arrowcolor": "#2a3f5f",
           "arrowhead": 0,
           "arrowwidth": 1
          },
          "autotypenumbers": "strict",
          "coloraxis": {
           "colorbar": {
            "outlinewidth": 0,
            "ticks": ""
           }
          },
          "colorscale": {
           "diverging": [
            [
             0,
             "#8e0152"
            ],
            [
             0.1,
             "#c51b7d"
            ],
            [
             0.2,
             "#de77ae"
            ],
            [
             0.3,
             "#f1b6da"
            ],
            [
             0.4,
             "#fde0ef"
            ],
            [
             0.5,
             "#f7f7f7"
            ],
            [
             0.6,
             "#e6f5d0"
            ],
            [
             0.7,
             "#b8e186"
            ],
            [
             0.8,
             "#7fbc41"
            ],
            [
             0.9,
             "#4d9221"
            ],
            [
             1,
             "#276419"
            ]
           ],
           "sequential": [
            [
             0,
             "#0d0887"
            ],
            [
             0.1111111111111111,
             "#46039f"
            ],
            [
             0.2222222222222222,
             "#7201a8"
            ],
            [
             0.3333333333333333,
             "#9c179e"
            ],
            [
             0.4444444444444444,
             "#bd3786"
            ],
            [
             0.5555555555555556,
             "#d8576b"
            ],
            [
             0.6666666666666666,
             "#ed7953"
            ],
            [
             0.7777777777777778,
             "#fb9f3a"
            ],
            [
             0.8888888888888888,
             "#fdca26"
            ],
            [
             1,
             "#f0f921"
            ]
           ],
           "sequentialminus": [
            [
             0,
             "#0d0887"
            ],
            [
             0.1111111111111111,
             "#46039f"
            ],
            [
             0.2222222222222222,
             "#7201a8"
            ],
            [
             0.3333333333333333,
             "#9c179e"
            ],
            [
             0.4444444444444444,
             "#bd3786"
            ],
            [
             0.5555555555555556,
             "#d8576b"
            ],
            [
             0.6666666666666666,
             "#ed7953"
            ],
            [
             0.7777777777777778,
             "#fb9f3a"
            ],
            [
             0.8888888888888888,
             "#fdca26"
            ],
            [
             1,
             "#f0f921"
            ]
           ]
          },
          "colorway": [
           "#636efa",
           "#EF553B",
           "#00cc96",
           "#ab63fa",
           "#FFA15A",
           "#19d3f3",
           "#FF6692",
           "#B6E880",
           "#FF97FF",
           "#FECB52"
          ],
          "font": {
           "color": "#2a3f5f"
          },
          "geo": {
           "bgcolor": "white",
           "lakecolor": "white",
           "landcolor": "#E5ECF6",
           "showlakes": true,
           "showland": true,
           "subunitcolor": "white"
          },
          "hoverlabel": {
           "align": "left"
          },
          "hovermode": "closest",
          "mapbox": {
           "style": "light"
          },
          "paper_bgcolor": "white",
          "plot_bgcolor": "#E5ECF6",
          "polar": {
           "angularaxis": {
            "gridcolor": "white",
            "linecolor": "white",
            "ticks": ""
           },
           "bgcolor": "#E5ECF6",
           "radialaxis": {
            "gridcolor": "white",
            "linecolor": "white",
            "ticks": ""
           }
          },
          "scene": {
           "xaxis": {
            "backgroundcolor": "#E5ECF6",
            "gridcolor": "white",
            "gridwidth": 2,
            "linecolor": "white",
            "showbackground": true,
            "ticks": "",
            "zerolinecolor": "white"
           },
           "yaxis": {
            "backgroundcolor": "#E5ECF6",
            "gridcolor": "white",
            "gridwidth": 2,
            "linecolor": "white",
            "showbackground": true,
            "ticks": "",
            "zerolinecolor": "white"
           },
           "zaxis": {
            "backgroundcolor": "#E5ECF6",
            "gridcolor": "white",
            "gridwidth": 2,
            "linecolor": "white",
            "showbackground": true,
            "ticks": "",
            "zerolinecolor": "white"
           }
          },
          "shapedefaults": {
           "line": {
            "color": "#2a3f5f"
           }
          },
          "ternary": {
           "aaxis": {
            "gridcolor": "white",
            "linecolor": "white",
            "ticks": ""
           },
           "baxis": {
            "gridcolor": "white",
            "linecolor": "white",
            "ticks": ""
           },
           "bgcolor": "#E5ECF6",
           "caxis": {
            "gridcolor": "white",
            "linecolor": "white",
            "ticks": ""
           }
          },
          "title": {
           "x": 0.05
          },
          "xaxis": {
           "automargin": true,
           "gridcolor": "white",
           "linecolor": "white",
           "ticks": "",
           "title": {
            "standoff": 15
           },
           "zerolinecolor": "white",
           "zerolinewidth": 2
          },
          "yaxis": {
           "automargin": true,
           "gridcolor": "white",
           "linecolor": "white",
           "ticks": "",
           "title": {
            "standoff": 15
           },
           "zerolinecolor": "white",
           "zerolinewidth": 2
          }
         }
        },
        "title": {
         "text": "Mean SpO2/Steps Averaged over 3 Days"
        },
        "xaxis": {
         "title": {
          "text": "Hour"
         }
        },
        "yaxis": {
         "title": {
          "text": "Mean SpO2"
         }
        },
        "yaxis2": {
         "overlaying": "y",
         "side": "right",
         "title": {
          "text": "Mean Steps"
         }
        }
       }
      },
      "text/html": [
       "<div>                            <div id=\"d1f0bd7e-16ef-4823-a637-62875adbe741\" class=\"plotly-graph-div\" style=\"height:525px; width:100%;\"></div>            <script type=\"text/javascript\">                require([\"plotly\"], function(Plotly) {                    window.PLOTLYENV=window.PLOTLYENV || {};                                    if (document.getElementById(\"d1f0bd7e-16ef-4823-a637-62875adbe741\")) {                    Plotly.newPlot(                        \"d1f0bd7e-16ef-4823-a637-62875adbe741\",                        [{\"line\":{\"color\":\"blue\"},\"name\":\"Mean SpO2\",\"x\":[6,7,8,9,10,12,13,14,15,16,17,18,19,20],\"y\":[0.95,0.905,0.95,0.95,0.955,0.9524999999999999,0.96,0.95,0.9450000000000001,0.9824999999999999,0.95,0.96,0.955,0.95],\"type\":\"scatter\"},{\"line\":{\"color\":\"red\"},\"name\":\"Mean Steps\",\"x\":[6,7,8,9,10,12,13,14,15,16,17,18,19,20],\"y\":[78.88888888888889,45.285714285714285,115.25,31.5,20.0,88.81818181818181,38.0,153.47826086956522,91.6,60.76923076923077,83.0,89.66666666666667,36.25,64.33333333333333],\"yaxis\":\"y2\",\"type\":\"scatter\"}],                        {\"font\":{\"size\":16},\"legend\":{\"bgcolor\":\"White\",\"bordercolor\":\"Black\",\"borderwidth\":2,\"font\":{\"color\":\"black\",\"family\":\"sans-serif\",\"size\":12},\"traceorder\":\"normal\",\"x\":1.05,\"y\":1.25},\"title\":{\"text\":\"Mean SpO2\\u002fSteps Averaged over 3 Days\"},\"xaxis\":{\"title\":{\"text\":\"Hour\"}},\"yaxis\":{\"title\":{\"text\":\"Mean SpO2\"}},\"yaxis2\":{\"overlaying\":\"y\",\"side\":\"right\",\"title\":{\"text\":\"Mean Steps\"}},\"template\":{\"data\":{\"histogram2dcontour\":[{\"type\":\"histogram2dcontour\",\"colorbar\":{\"outlinewidth\":0,\"ticks\":\"\"},\"colorscale\":[[0.0,\"#0d0887\"],[0.1111111111111111,\"#46039f\"],[0.2222222222222222,\"#7201a8\"],[0.3333333333333333,\"#9c179e\"],[0.4444444444444444,\"#bd3786\"],[0.5555555555555556,\"#d8576b\"],[0.6666666666666666,\"#ed7953\"],[0.7777777777777778,\"#fb9f3a\"],[0.8888888888888888,\"#fdca26\"],[1.0,\"#f0f921\"]]}],\"choropleth\":[{\"type\":\"choropleth\",\"colorbar\":{\"outlinewidth\":0,\"ticks\":\"\"}}],\"histogram2d\":[{\"type\":\"histogram2d\",\"colorbar\":{\"outlinewidth\":0,\"ticks\":\"\"},\"colorscale\":[[0.0,\"#0d0887\"],[0.1111111111111111,\"#46039f\"],[0.2222222222222222,\"#7201a8\"],[0.3333333333333333,\"#9c179e\"],[0.4444444444444444,\"#bd3786\"],[0.5555555555555556,\"#d8576b\"],[0.6666666666666666,\"#ed7953\"],[0.7777777777777778,\"#fb9f3a\"],[0.8888888888888888,\"#fdca26\"],[1.0,\"#f0f921\"]]}],\"heatmap\":[{\"type\":\"heatmap\",\"colorbar\":{\"outlinewidth\":0,\"ticks\":\"\"},\"colorscale\":[[0.0,\"#0d0887\"],[0.1111111111111111,\"#46039f\"],[0.2222222222222222,\"#7201a8\"],[0.3333333333333333,\"#9c179e\"],[0.4444444444444444,\"#bd3786\"],[0.5555555555555556,\"#d8576b\"],[0.6666666666666666,\"#ed7953\"],[0.7777777777777778,\"#fb9f3a\"],[0.8888888888888888,\"#fdca26\"],[1.0,\"#f0f921\"]]}],\"heatmapgl\":[{\"type\":\"heatmapgl\",\"colorbar\":{\"outlinewidth\":0,\"ticks\":\"\"},\"colorscale\":[[0.0,\"#0d0887\"],[0.1111111111111111,\"#46039f\"],[0.2222222222222222,\"#7201a8\"],[0.3333333333333333,\"#9c179e\"],[0.4444444444444444,\"#bd3786\"],[0.5555555555555556,\"#d8576b\"],[0.6666666666666666,\"#ed7953\"],[0.7777777777777778,\"#fb9f3a\"],[0.8888888888888888,\"#fdca26\"],[1.0,\"#f0f921\"]]}],\"contourcarpet\":[{\"type\":\"contourcarpet\",\"colorbar\":{\"outlinewidth\":0,\"ticks\":\"\"}}],\"contour\":[{\"type\":\"contour\",\"colorbar\":{\"outlinewidth\":0,\"ticks\":\"\"},\"colorscale\":[[0.0,\"#0d0887\"],[0.1111111111111111,\"#46039f\"],[0.2222222222222222,\"#7201a8\"],[0.3333333333333333,\"#9c179e\"],[0.4444444444444444,\"#bd3786\"],[0.5555555555555556,\"#d8576b\"],[0.6666666666666666,\"#ed7953\"],[0.7777777777777778,\"#fb9f3a\"],[0.8888888888888888,\"#fdca26\"],[1.0,\"#f0f921\"]]}],\"surface\":[{\"type\":\"surface\",\"colorbar\":{\"outlinewidth\":0,\"ticks\":\"\"},\"colorscale\":[[0.0,\"#0d0887\"],[0.1111111111111111,\"#46039f\"],[0.2222222222222222,\"#7201a8\"],[0.3333333333333333,\"#9c179e\"],[0.4444444444444444,\"#bd3786\"],[0.5555555555555556,\"#d8576b\"],[0.6666666666666666,\"#ed7953\"],[0.7777777777777778,\"#fb9f3a\"],[0.8888888888888888,\"#fdca26\"],[1.0,\"#f0f921\"]]}],\"mesh3d\":[{\"type\":\"mesh3d\",\"colorbar\":{\"outlinewidth\":0,\"ticks\":\"\"}}],\"scatter\":[{\"fillpattern\":{\"fillmode\":\"overlay\",\"size\":10,\"solidity\":0.2},\"type\":\"scatter\"}],\"parcoords\":[{\"type\":\"parcoords\",\"line\":{\"colorbar\":{\"outlinewidth\":0,\"ticks\":\"\"}}}],\"scatterpolargl\":[{\"type\":\"scatterpolargl\",\"marker\":{\"colorbar\":{\"outlinewidth\":0,\"ticks\":\"\"}}}],\"bar\":[{\"error_x\":{\"color\":\"#2a3f5f\"},\"error_y\":{\"color\":\"#2a3f5f\"},\"marker\":{\"line\":{\"color\":\"#E5ECF6\",\"width\":0.5},\"pattern\":{\"fillmode\":\"overlay\",\"size\":10,\"solidity\":0.2}},\"type\":\"bar\"}],\"scattergeo\":[{\"type\":\"scattergeo\",\"marker\":{\"colorbar\":{\"outlinewidth\":0,\"ticks\":\"\"}}}],\"scatterpolar\":[{\"type\":\"scatterpolar\",\"marker\":{\"colorbar\":{\"outlinewidth\":0,\"ticks\":\"\"}}}],\"histogram\":[{\"marker\":{\"pattern\":{\"fillmode\":\"overlay\",\"size\":10,\"solidity\":0.2}},\"type\":\"histogram\"}],\"scattergl\":[{\"type\":\"scattergl\",\"marker\":{\"colorbar\":{\"outlinewidth\":0,\"ticks\":\"\"}}}],\"scatter3d\":[{\"type\":\"scatter3d\",\"line\":{\"colorbar\":{\"outlinewidth\":0,\"ticks\":\"\"}},\"marker\":{\"colorbar\":{\"outlinewidth\":0,\"ticks\":\"\"}}}],\"scattermapbox\":[{\"type\":\"scattermapbox\",\"marker\":{\"colorbar\":{\"outlinewidth\":0,\"ticks\":\"\"}}}],\"scatterternary\":[{\"type\":\"scatterternary\",\"marker\":{\"colorbar\":{\"outlinewidth\":0,\"ticks\":\"\"}}}],\"scattercarpet\":[{\"type\":\"scattercarpet\",\"marker\":{\"colorbar\":{\"outlinewidth\":0,\"ticks\":\"\"}}}],\"carpet\":[{\"aaxis\":{\"endlinecolor\":\"#2a3f5f\",\"gridcolor\":\"white\",\"linecolor\":\"white\",\"minorgridcolor\":\"white\",\"startlinecolor\":\"#2a3f5f\"},\"baxis\":{\"endlinecolor\":\"#2a3f5f\",\"gridcolor\":\"white\",\"linecolor\":\"white\",\"minorgridcolor\":\"white\",\"startlinecolor\":\"#2a3f5f\"},\"type\":\"carpet\"}],\"table\":[{\"cells\":{\"fill\":{\"color\":\"#EBF0F8\"},\"line\":{\"color\":\"white\"}},\"header\":{\"fill\":{\"color\":\"#C8D4E3\"},\"line\":{\"color\":\"white\"}},\"type\":\"table\"}],\"barpolar\":[{\"marker\":{\"line\":{\"color\":\"#E5ECF6\",\"width\":0.5},\"pattern\":{\"fillmode\":\"overlay\",\"size\":10,\"solidity\":0.2}},\"type\":\"barpolar\"}],\"pie\":[{\"automargin\":true,\"type\":\"pie\"}]},\"layout\":{\"autotypenumbers\":\"strict\",\"colorway\":[\"#636efa\",\"#EF553B\",\"#00cc96\",\"#ab63fa\",\"#FFA15A\",\"#19d3f3\",\"#FF6692\",\"#B6E880\",\"#FF97FF\",\"#FECB52\"],\"font\":{\"color\":\"#2a3f5f\"},\"hovermode\":\"closest\",\"hoverlabel\":{\"align\":\"left\"},\"paper_bgcolor\":\"white\",\"plot_bgcolor\":\"#E5ECF6\",\"polar\":{\"bgcolor\":\"#E5ECF6\",\"angularaxis\":{\"gridcolor\":\"white\",\"linecolor\":\"white\",\"ticks\":\"\"},\"radialaxis\":{\"gridcolor\":\"white\",\"linecolor\":\"white\",\"ticks\":\"\"}},\"ternary\":{\"bgcolor\":\"#E5ECF6\",\"aaxis\":{\"gridcolor\":\"white\",\"linecolor\":\"white\",\"ticks\":\"\"},\"baxis\":{\"gridcolor\":\"white\",\"linecolor\":\"white\",\"ticks\":\"\"},\"caxis\":{\"gridcolor\":\"white\",\"linecolor\":\"white\",\"ticks\":\"\"}},\"coloraxis\":{\"colorbar\":{\"outlinewidth\":0,\"ticks\":\"\"}},\"colorscale\":{\"sequential\":[[0.0,\"#0d0887\"],[0.1111111111111111,\"#46039f\"],[0.2222222222222222,\"#7201a8\"],[0.3333333333333333,\"#9c179e\"],[0.4444444444444444,\"#bd3786\"],[0.5555555555555556,\"#d8576b\"],[0.6666666666666666,\"#ed7953\"],[0.7777777777777778,\"#fb9f3a\"],[0.8888888888888888,\"#fdca26\"],[1.0,\"#f0f921\"]],\"sequentialminus\":[[0.0,\"#0d0887\"],[0.1111111111111111,\"#46039f\"],[0.2222222222222222,\"#7201a8\"],[0.3333333333333333,\"#9c179e\"],[0.4444444444444444,\"#bd3786\"],[0.5555555555555556,\"#d8576b\"],[0.6666666666666666,\"#ed7953\"],[0.7777777777777778,\"#fb9f3a\"],[0.8888888888888888,\"#fdca26\"],[1.0,\"#f0f921\"]],\"diverging\":[[0,\"#8e0152\"],[0.1,\"#c51b7d\"],[0.2,\"#de77ae\"],[0.3,\"#f1b6da\"],[0.4,\"#fde0ef\"],[0.5,\"#f7f7f7\"],[0.6,\"#e6f5d0\"],[0.7,\"#b8e186\"],[0.8,\"#7fbc41\"],[0.9,\"#4d9221\"],[1,\"#276419\"]]},\"xaxis\":{\"gridcolor\":\"white\",\"linecolor\":\"white\",\"ticks\":\"\",\"title\":{\"standoff\":15},\"zerolinecolor\":\"white\",\"automargin\":true,\"zerolinewidth\":2},\"yaxis\":{\"gridcolor\":\"white\",\"linecolor\":\"white\",\"ticks\":\"\",\"title\":{\"standoff\":15},\"zerolinecolor\":\"white\",\"automargin\":true,\"zerolinewidth\":2},\"scene\":{\"xaxis\":{\"backgroundcolor\":\"#E5ECF6\",\"gridcolor\":\"white\",\"linecolor\":\"white\",\"showbackground\":true,\"ticks\":\"\",\"zerolinecolor\":\"white\",\"gridwidth\":2},\"yaxis\":{\"backgroundcolor\":\"#E5ECF6\",\"gridcolor\":\"white\",\"linecolor\":\"white\",\"showbackground\":true,\"ticks\":\"\",\"zerolinecolor\":\"white\",\"gridwidth\":2},\"zaxis\":{\"backgroundcolor\":\"#E5ECF6\",\"gridcolor\":\"white\",\"linecolor\":\"white\",\"showbackground\":true,\"ticks\":\"\",\"zerolinecolor\":\"white\",\"gridwidth\":2}},\"shapedefaults\":{\"line\":{\"color\":\"#2a3f5f\"}},\"annotationdefaults\":{\"arrowcolor\":\"#2a3f5f\",\"arrowhead\":0,\"arrowwidth\":1},\"geo\":{\"bgcolor\":\"white\",\"landcolor\":\"#E5ECF6\",\"subunitcolor\":\"white\",\"showland\":true,\"showlakes\":true,\"lakecolor\":\"white\"},\"title\":{\"x\":0.05},\"mapbox\":{\"style\":\"light\"}}}},                        {\"responsive\": true}                    ).then(function(){\n",
       "                            \n",
       "var gd = document.getElementById('d1f0bd7e-16ef-4823-a637-62875adbe741');\n",
       "var x = new MutationObserver(function (mutations, observer) {{\n",
       "        var display = window.getComputedStyle(gd).display;\n",
       "        if (!display || display === 'none') {{\n",
       "            console.log([gd, 'removed!']);\n",
       "            Plotly.purge(gd);\n",
       "            observer.disconnect();\n",
       "        }}\n",
       "}});\n",
       "\n",
       "// Listen for the removal of the full notebook cells\n",
       "var notebookContainer = gd.closest('#notebook-container');\n",
       "if (notebookContainer) {{\n",
       "    x.observe(notebookContainer, {childList: true});\n",
       "}}\n",
       "\n",
       "// Listen for the clearing of the current output cell\n",
       "var outputEl = gd.closest('.output');\n",
       "if (outputEl) {{\n",
       "    x.observe(outputEl, {childList: true});\n",
       "}}\n",
       "\n",
       "                        })                };                });            </script>        </div>"
      ]
     },
     "metadata": {},
     "output_type": "display_data"
    }
   ],
   "source": [
    "import pandas as pd\n",
    "import plotly.graph_objects as go\n",
    "from plotly.subplots import make_subplots\n",
    "\n",
    "heartRateDF = pd.read_csv('../data/descriptive_statistics/mean_steps_three_days.csv')\n",
    "spo2DF = pd.read_csv('../data/descriptive_statistics/mean_spo2_three_days.csv')\n",
    "\n",
    "groupedDF1 = spo2DF.groupby('hour')['meanSpo2'].mean().reset_index()\n",
    "groupedDF2 = heartRateDF.groupby('hour')['meanSteps'].mean().reset_index()\n",
    "mergedDf = pd.merge(groupedDF1, groupedDF2, on='hour', how='inner')\n",
    "\n",
    "# Create a trace for 'meanSteps'\n",
    "trace1 = go.Scatter(\n",
    "    x=mergedDf['hour'],\n",
    "    y=mergedDf['meanSpo2'],\n",
    "    name='Mean SpO2',\n",
    "    line=dict(color='blue')\n",
    ")\n",
    "\n",
    "# Create a trace for 'meanHeartRate'\n",
    "trace2 = go.Scatter(\n",
    "    x=mergedDf['hour'],\n",
    "    y=mergedDf['meanSteps'],\n",
    "    name='Mean Steps',\n",
    "    line=dict(color='red'),\n",
    "    yaxis='y2'\n",
    ")\n",
    "\n",
    "# Create a layout with two y-axes\n",
    "layout = go.Layout(\n",
    "    yaxis=dict(title='Mean SpO2'),\n",
    "    xaxis=dict(title='Hour'),\n",
    "    yaxis2=dict(title='Mean Steps', overlaying='y', side='right'),\n",
    "    title=\"Mean SpO2/Steps Averaged over 3 Days\",\n",
    "    font=dict(size=16),\n",
    "    legend=dict(\n",
    "        x=1.05,\n",
    "        y=1.25,\n",
    "        traceorder=\"normal\",\n",
    "        font=dict(\n",
    "            family=\"sans-serif\",\n",
    "            size=12,\n",
    "            color=\"black\"\n",
    "        ),\n",
    "        bgcolor=\"White\",\n",
    "        bordercolor=\"Black\",\n",
    "        borderwidth=2\n",
    "    )\n",
    ")\n",
    "\n",
    "# Create a figure and add the traces\n",
    "fig = go.Figure(data=[trace1, trace2], layout=layout)\n",
    "\n",
    "fig.show()"
   ]
  }
 ],
 "metadata": {
  "kernelspec": {
   "display_name": "Python 3",
   "language": "python",
   "name": "python3"
  },
  "language_info": {
   "codemirror_mode": {
    "name": "ipython",
    "version": 3
   },
   "file_extension": ".py",
   "mimetype": "text/x-python",
   "name": "python",
   "nbconvert_exporter": "python",
   "pygments_lexer": "ipython3",
   "version": "3.12.2"
  }
 },
 "nbformat": 4,
 "nbformat_minor": 2
}
